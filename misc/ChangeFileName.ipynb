{
 "cells": [
  {
   "cell_type": "code",
   "execution_count": 3,
   "id": "73683046",
   "metadata": {},
   "outputs": [],
   "source": [
    "import os\n",
    "counter = 0\n",
    "path = \"E:/Projects/SEACAR_WQ_Pilot/GIS_data/covariates/Rainfall_Prism_Data/bil\"\n",
    "for file in os.listdir(path):\n",
    "    if file.startswith(\"PRISM_ppt_stable_4kmM3_\"):\n",
    "        if file.find(\"PRISM_ppt_stable_4kmM3_\") > -1:\n",
    "            counter = counter + 1\n",
    "            os.rename(os.path.join(path, file), os.path.join(path, file.replace(\"PRISM_ppt_stable_4kmM3_\", \"\")))\n",
    "if counter == 0:\n",
    "    print(\"No file has been found\")"
   ]
  },
  {
   "cell_type": "code",
   "execution_count": null,
   "id": "74b56b6d",
   "metadata": {},
   "outputs": [],
   "source": [
    "# Driver Code\n",
    "if __name__ == '__main__':\n",
    "     \n",
    "    # Calling main() function\n",
    "    main()"
   ]
  }
 ],
 "metadata": {
  "kernelspec": {
   "display_name": "Python 3 (ipykernel)",
   "language": "python",
   "name": "python3"
  },
  "language_info": {
   "codemirror_mode": {
    "name": "ipython",
    "version": 3
   },
   "file_extension": ".py",
   "mimetype": "text/x-python",
   "name": "python",
   "nbconvert_exporter": "python",
   "pygments_lexer": "ipython3",
   "version": "3.9.11"
  }
 },
 "nbformat": 4,
 "nbformat_minor": 5
}
