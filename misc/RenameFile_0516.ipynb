{
 "cells": [
  {
   "cell_type": "code",
   "execution_count": 1,
   "id": "2603febb",
   "metadata": {},
   "outputs": [],
   "source": [
    "import glob\n",
    "import os"
   ]
  },
  {
   "cell_type": "markdown",
   "id": "cf168fd5",
   "metadata": {},
   "source": [
    "# 1. Rename files in output_raster\n",
    "\n",
    "Define path and abbreviation dictionary."
   ]
  },
  {
   "cell_type": "code",
   "execution_count": 2,
   "id": "eb968457",
   "metadata": {},
   "outputs": [],
   "source": [
    "# path = r\"D:\\Water_Quailty\\GIS_data\\standard_error_prediction\\test2\"\n",
    "\n",
    "path = r\"E:\\Projects\\SEACAR_WQ_Pilot\\GIS_data\\output_raster/\"\n",
    "\n",
    "all_folders = glob.glob(os.path.join(str(path) , \"*\"))\n",
    "dictArea = {\n",
    "    'Charlotte Harbor':\"ch\",\n",
    "    'Big Bend':\"bb\",\n",
    "    'GTM Reserve':\"gtm\",\n",
    "    'Estero Bay':\"eb\",\n",
    "    'Biscayne Bay':\"bbay\"\n",
    "}"
   ]
  },
  {
   "cell_type": "markdown",
   "id": "80e10508",
   "metadata": {},
   "source": [
    "Rename files in output_raster"
   ]
  },
  {
   "cell_type": "code",
   "execution_count": 13,
   "id": "86f0ccce",
   "metadata": {},
   "outputs": [],
   "source": [
    "for i in range(len(all_folders)):\n",
    "    Fullname = all_folders[i].split(\"\\\\\")[-1]\n",
    "    newPath = path + \"\\\\\" + Fullname\n",
    "    abName = dictArea[Fullname]\n",
    "    all_files = glob.glob(os.path.join(str(newPath) , \"*\"))\n",
    "    for j in range(len(all_files)):\n",
    "        name = all_files[j].split(\"\\\\\",-1)\n",
    "        name1 = name[0:-1]\n",
    "        name1 = \"\\\\\".join(name1)\n",
    "        name2 = name[-1]\n",
    "        nameSplit = name2.split(\".\",1)\n",
    "        oriName = nameSplit[0]\n",
    "        attri   = nameSplit[1]\n",
    "        newName = abName + \"_\" + oriName + \".\" + attri\n",
    "        oldFile = newPath +\"\\\\\"+ name2\n",
    "        newFile = newPath +\"\\\\\"+ newName\n",
    "        os.rename(oldFile, newFile)"
   ]
  },
  {
   "cell_type": "markdown",
   "id": "3aa82150",
   "metadata": {},
   "source": [
    "# 1. Rename files in standard_error_prediction\n",
    "\n",
    "Define path and get all folders"
   ]
  },
  {
   "cell_type": "code",
   "execution_count": 3,
   "id": "1d46cf6d",
   "metadata": {},
   "outputs": [],
   "source": [
    "# path_2 = r\"D:\\Water_Quailty\\GIS_data\\standard_error_prediction\"\n",
    "path_2 = r'E:\\Projects\\SEACAR_WQ_Pilot\\GIS_data\\standard_error_prediction'+'\\\\'\n",
    "\n",
    "all_folders_2 = []\n",
    "for fname in ['Big Bend','Biscayne Bay','Charlotte Harbor','Estero Bay','GTM Reserve']:\n",
    "    all_folders_2.append(path_2+fname)\n",
    "    \n",
    "\n",
    "    \n",
    "#all_folders_2 = glob.glob(os.path.join(str(path_2) , \"*\"))"
   ]
  },
  {
   "cell_type": "code",
   "execution_count": 4,
   "id": "e5c6a19a",
   "metadata": {},
   "outputs": [
    {
     "data": {
      "text/plain": [
       "['E:\\\\Projects\\\\SEACAR_WQ_Pilot\\\\GIS_data\\\\standard_error_prediction\\\\Big Bend',\n",
       " 'E:\\\\Projects\\\\SEACAR_WQ_Pilot\\\\GIS_data\\\\standard_error_prediction\\\\Biscayne Bay',\n",
       " 'E:\\\\Projects\\\\SEACAR_WQ_Pilot\\\\GIS_data\\\\standard_error_prediction\\\\Charlotte Harbor',\n",
       " 'E:\\\\Projects\\\\SEACAR_WQ_Pilot\\\\GIS_data\\\\standard_error_prediction\\\\Estero Bay',\n",
       " 'E:\\\\Projects\\\\SEACAR_WQ_Pilot\\\\GIS_data\\\\standard_error_prediction\\\\GTM Reserve']"
      ]
     },
     "execution_count": 4,
     "metadata": {},
     "output_type": "execute_result"
    }
   ],
   "source": [
    "all_folders_2"
   ]
  },
  {
   "cell_type": "code",
   "execution_count": 5,
   "id": "f2c5f153",
   "metadata": {},
   "outputs": [],
   "source": [
    "# It's for standard_error_prediction\n",
    "for i in range(len(all_folders_2)):\n",
    "    Fullname = all_folders_2[i].split(\"\\\\\")[-1]\n",
    "    newPath = path_2 + \"\\\\\" + Fullname\n",
    "    abName = dictArea[Fullname]\n",
    "    all_files = glob.glob(os.path.join(str(newPath) , \"*\"))\n",
    "    for j in range(len(all_files)):\n",
    "        name = all_files[j].split(\"\\\\\",-1)\n",
    "        name1 = name[0:-1]\n",
    "        name1 = \"\\\\\".join(name1)\n",
    "        name2 = name[-1]\n",
    "        nameSplit = name2.split(\".\",1)\n",
    "        oriName = nameSplit[0]\n",
    "        attri   = nameSplit[1]\n",
    "        newName = abName + \"_\" + oriName + \"_sep.\" + attri\n",
    "        oldFile = newPath +\"\\\\\"+ name2\n",
    "        newFile = newPath +\"\\\\\"+ newName\n",
    "        os.rename(oldFile, newFile)"
   ]
  }
 ],
 "metadata": {
  "kernelspec": {
   "display_name": "Python 3 (ipykernel)",
   "language": "python",
   "name": "python3"
  },
  "language_info": {
   "codemirror_mode": {
    "name": "ipython",
    "version": 3
   },
   "file_extension": ".py",
   "mimetype": "text/x-python",
   "name": "python",
   "nbconvert_exporter": "python",
   "pygments_lexer": "ipython3",
   "version": "3.9.11"
  }
 },
 "nbformat": 4,
 "nbformat_minor": 5
}
