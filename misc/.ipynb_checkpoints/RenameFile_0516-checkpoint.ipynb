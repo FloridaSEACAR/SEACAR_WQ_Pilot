{
 "cells": [
  {
   "cell_type": "code",
   "execution_count": 3,
   "id": "1e5cc7bc",
   "metadata": {},
   "outputs": [],
   "source": [
    "import glob\n",
    "import os"
   ]
  },
  {
   "cell_type": "markdown",
   "id": "d27143fa",
   "metadata": {},
   "source": [
    "# 1. Rename files in output_raster\n",
    "\n",
    "Define path and abbreviation dictionary."
   ]
  },
  {
   "cell_type": "code",
   "execution_count": 12,
   "id": "8118ee95",
   "metadata": {},
   "outputs": [],
   "source": [
    "# path = r\"D:\\Water_Quailty\\GIS_data\\standard_error_prediction\\test2\"\n",
    "\n",
    "path = r\"E:\\Projects\\SEACAR_WQ_Pilot\\GIS_data\\output_raster/\"\n",
    "\n",
    "all_folders = glob.glob(os.path.join(str(path) , \"*\"))\n",
    "dictArea = {\n",
    "    'Charlotte Harbor':\"ch\",\n",
    "    'Big Bend':\"bb\",\n",
    "    'GTM Reserve':\"gtm\",\n",
    "    'Estero Bay':\"eb\",\n",
    "    'Biscayne Bay':\"bbay\"\n",
    "}"
   ]
  },
  {
   "cell_type": "markdown",
   "id": "5508fca1",
   "metadata": {},
   "source": [
    "Rename files in output_raster"
   ]
  },
  {
   "cell_type": "code",
   "execution_count": 13,
   "id": "5dbf8d0b",
   "metadata": {},
   "outputs": [],
   "source": [
    "for i in range(len(all_folders)):\n",
    "    Fullname = all_folders[i].split(\"\\\\\")[-1]\n",
    "    newPath = path + \"\\\\\" + Fullname\n",
    "    abName = dictArea[Fullname]\n",
    "    all_files = glob.glob(os.path.join(str(newPath) , \"*\"))\n",
    "    for j in range(len(all_files)):\n",
    "        name = all_files[j].split(\"\\\\\",-1)\n",
    "        name1 = name[0:-1]\n",
    "        name1 = \"\\\\\".join(name1)\n",
    "        name2 = name[-1]\n",
    "        nameSplit = name2.split(\".\",1)\n",
    "        oriName = nameSplit[0]\n",
    "        attri   = nameSplit[1]\n",
    "        newName = abName + \"_\" + oriName + \".\" + attri\n",
    "        oldFile = newPath +\"\\\\\"+ name2\n",
    "        newFile = newPath +\"\\\\\"+ newName\n",
    "        os.rename(oldFile, newFile)"
   ]
  },
  {
   "cell_type": "markdown",
   "id": "6ea6b583",
   "metadata": {},
   "source": [
    "# 1. Rename files in standard_error_prediction\n",
    "\n",
    "Define path and get all folders"
   ]
  },
  {
   "cell_type": "code",
   "execution_count": 35,
   "id": "62ba7ac2",
   "metadata": {},
   "outputs": [
    {
     "ename": "SyntaxError",
     "evalue": "EOL while scanning string literal (2735383594.py, line 2)",
     "output_type": "error",
     "traceback": [
      "\u001b[1;36m  Cell \u001b[1;32mIn[35], line 2\u001b[1;36m\u001b[0m\n\u001b[1;33m    path_2 = r'E:\\Projects\\SEACAR_WQ_Pilot\\GIS_data\\standard_error_prediction\\'\u001b[0m\n\u001b[1;37m                                                                               ^\u001b[0m\n\u001b[1;31mSyntaxError\u001b[0m\u001b[1;31m:\u001b[0m EOL while scanning string literal\n"
     ]
    }
   ],
   "source": [
    "# path_2 = r\"D:\\Water_Quailty\\GIS_data\\standard_error_prediction\"\n",
    "path_2 = r'E:\\Projects\\SEACAR_WQ_Pilot\\GIS_data\\standard_error_prediction\\'\n",
    "os.path.normpat(path_2)\n",
    "all_folders_2 = []\n",
    "for fname in ['Big Bend','Biscayne Bay','Charlotte Harbor','Estero Bay','GTM Reserve']:\n",
    "    all_folders_2.append(path_2+fname)\n",
    "    \n",
    "\n",
    "    \n",
    "#all_folders_2 = glob.glob(os.path.join(str(path_2) , \"*\"))"
   ]
  },
  {
   "cell_type": "code",
   "execution_count": 37,
   "id": "bac83f91",
   "metadata": {},
   "outputs": [
    {
     "data": {
      "text/plain": [
       "['E:\\\\Projects\\\\SEACAR_WQ_Pilot\\\\GIS_data\\\\standard_error_prediction\"\\\\\"Big Bend',\n",
       " 'E:\\\\Projects\\\\SEACAR_WQ_Pilot\\\\GIS_data\\\\standard_error_prediction\"\\\\\"Biscayne Bay',\n",
       " 'E:\\\\Projects\\\\SEACAR_WQ_Pilot\\\\GIS_data\\\\standard_error_prediction\"\\\\\"Charlotte Harbor',\n",
       " 'E:\\\\Projects\\\\SEACAR_WQ_Pilot\\\\GIS_data\\\\standard_error_prediction\"\\\\\"Estero Bay',\n",
       " 'E:\\\\Projects\\\\SEACAR_WQ_Pilot\\\\GIS_data\\\\standard_error_prediction\"\\\\\"GTM Reserve']"
      ]
     },
     "execution_count": 37,
     "metadata": {},
     "output_type": "execute_result"
    }
   ],
   "source": [
    "all_folders_2"
   ]
  },
  {
   "cell_type": "code",
   "execution_count": 23,
   "id": "1cfa4d3b",
   "metadata": {},
   "outputs": [
    {
     "ename": "KeyError",
     "evalue": "'E:/Projects/SEACAR_WQ_Pilot/GIS_data/standard_error_prediction/Big Bend'",
     "output_type": "error",
     "traceback": [
      "\u001b[1;31m---------------------------------------------------------------------------\u001b[0m",
      "\u001b[1;31mKeyError\u001b[0m                                  Traceback (most recent call last)",
      "Cell \u001b[1;32mIn[23], line 5\u001b[0m\n\u001b[0;32m      3\u001b[0m Fullname \u001b[38;5;241m=\u001b[39m all_folders_2[i]\u001b[38;5;241m.\u001b[39msplit(\u001b[38;5;124m\"\u001b[39m\u001b[38;5;130;01m\\\\\u001b[39;00m\u001b[38;5;124m\"\u001b[39m)[\u001b[38;5;241m-\u001b[39m\u001b[38;5;241m1\u001b[39m]\n\u001b[0;32m      4\u001b[0m newPath \u001b[38;5;241m=\u001b[39m path_2 \u001b[38;5;241m+\u001b[39m \u001b[38;5;124m\"\u001b[39m\u001b[38;5;130;01m\\\\\u001b[39;00m\u001b[38;5;124m\"\u001b[39m \u001b[38;5;241m+\u001b[39m Fullname\n\u001b[1;32m----> 5\u001b[0m abName \u001b[38;5;241m=\u001b[39m \u001b[43mdictArea\u001b[49m\u001b[43m[\u001b[49m\u001b[43mFullname\u001b[49m\u001b[43m]\u001b[49m\n\u001b[0;32m      6\u001b[0m all_files \u001b[38;5;241m=\u001b[39m glob\u001b[38;5;241m.\u001b[39mglob(os\u001b[38;5;241m.\u001b[39mpath\u001b[38;5;241m.\u001b[39mjoin(\u001b[38;5;28mstr\u001b[39m(newPath) , \u001b[38;5;124m\"\u001b[39m\u001b[38;5;124m*\u001b[39m\u001b[38;5;124m\"\u001b[39m))\n\u001b[0;32m      7\u001b[0m \u001b[38;5;28;01mfor\u001b[39;00m j \u001b[38;5;129;01min\u001b[39;00m \u001b[38;5;28mrange\u001b[39m(\u001b[38;5;28mlen\u001b[39m(all_files)):\n",
      "\u001b[1;31mKeyError\u001b[0m: 'E:/Projects/SEACAR_WQ_Pilot/GIS_data/standard_error_prediction/Big Bend'"
     ]
    }
   ],
   "source": [
    "# It's for standard_error_prediction\n",
    "for i in range(len(all_folders_2)):\n",
    "    Fullname = all_folders_2[i].split(\"\\\\\")[-1]\n",
    "    newPath = path_2 + \"\\\\\" + Fullname\n",
    "    abName = dictArea[Fullname]\n",
    "    all_files = glob.glob(os.path.join(str(newPath) , \"*\"))\n",
    "    for j in range(len(all_files)):\n",
    "        name = all_files[j].split(\"\\\\\",-1)\n",
    "        name1 = name[0:-1]\n",
    "        name1 = \"\\\\\".join(name1)\n",
    "        name2 = name[-1]\n",
    "        nameSplit = name2.split(\".\",1)\n",
    "        oriName = nameSplit[0]\n",
    "        attri   = nameSplit[1]\n",
    "        newName = abName + \"_\" + oriName + \"_sep.\" + attri\n",
    "        oldFile = newPath +\"\\\\\"+ name2\n",
    "        newFile = newPath +\"\\\\\"+ newName\n",
    "        os.rename(oldFile, newFile)"
   ]
  },
  {
   "cell_type": "code",
   "execution_count": null,
   "id": "fec226bc",
   "metadata": {},
   "outputs": [],
   "source": []
  }
 ],
 "metadata": {
  "kernelspec": {
   "display_name": "Python 3 (ipykernel)",
   "language": "python",
   "name": "python3"
  },
  "language_info": {
   "codemirror_mode": {
    "name": "ipython",
    "version": 3
   },
   "file_extension": ".py",
   "mimetype": "text/x-python",
   "name": "python",
   "nbconvert_exporter": "python",
   "pygments_lexer": "ipython3",
   "version": "3.9.11"
  }
 },
 "nbformat": 4,
 "nbformat_minor": 5
}
