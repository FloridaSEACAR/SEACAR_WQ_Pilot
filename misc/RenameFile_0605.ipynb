{
 "cells": [
  {
   "cell_type": "code",
   "execution_count": 11,
   "id": "b8e05a80",
   "metadata": {},
   "outputs": [],
   "source": [
    "import glob\n",
    "import os"
   ]
  },
  {
   "cell_type": "code",
   "execution_count": 12,
   "id": "9b6e6972",
   "metadata": {},
   "outputs": [],
   "source": [
    "\n",
    "dictArea = {\n",
    "    'Charlotte Harbor':\"GSCHAP\",\n",
    "    'Big Bend':\"BBSAP\",\n",
    "    'GTM Reserve':\"GTMNERR\",\n",
    "    'Estero Bay':\"EBAP\",\n",
    "    'Biscayne Bay':\"BBAP\"\n",
    "}\n",
    "dictAreaChange = {\n",
    "    \"ch\":\"GSCHAP\",\n",
    "    \"bb\":\"BBSAP\",\n",
    "    \"gtm\":\"GTMNERR\",\n",
    "    \"eb\":\"EBAP\",\n",
    "    \"bbay\":\"BBAP\"\n",
    "}\n",
    "dictPara = {\n",
    "    \"S\":\"Sal\",\n",
    "    \"TN\":\"TN\",\n",
    "    \"T\":\"Turb\",\n",
    "    \"SD\":\"Secchi\",\n",
    "    \"DO\":\"DO\"\n",
    "}\n",
    "dictUnits = {\n",
    "    \"Sal\":\"ppt\",\n",
    "    \"TN\":\"mgl\",\n",
    "    \"Turb\":\"ntu\",\n",
    "    \"Secchi\":\"m\",\n",
    "    \"DO\":\"mgl\"\n",
    "}"
   ]
  },
  {
   "cell_type": "code",
   "execution_count": 14,
   "id": "85c8303f",
   "metadata": {},
   "outputs": [
    {
     "data": {
      "text/plain": [
       "['C:\\\\projects\\\\SEACAR_WQ_Pilot\\\\GIS_data\\\\output_raster\\\\Big Bend',\n",
       " 'C:\\\\projects\\\\SEACAR_WQ_Pilot\\\\GIS_data\\\\output_raster\\\\Biscayne Bay',\n",
       " 'C:\\\\projects\\\\SEACAR_WQ_Pilot\\\\GIS_data\\\\output_raster\\\\Charlotte Harbor',\n",
       " 'C:\\\\projects\\\\SEACAR_WQ_Pilot\\\\GIS_data\\\\output_raster\\\\Estero Bay',\n",
       " 'C:\\\\projects\\\\SEACAR_WQ_Pilot\\\\GIS_data\\\\output_raster\\\\GTM Reserve']"
      ]
     },
     "execution_count": 14,
     "metadata": {},
     "output_type": "execute_result"
    }
   ],
   "source": [
    "#path = r\"D:\\Water_Quailty\\GIS_data\\output_raster\"\n",
    "path = r\"C:\\projects\\SEACAR_WQ_Pilot\\GIS_data\\output_raster\"\n",
    "\n",
    "all_folders = glob.glob(os.path.join(str(path) , \"*\"))\n",
    "all_folders"
   ]
  },
  {
   "cell_type": "code",
   "execution_count": 15,
   "id": "d9198f4f",
   "metadata": {},
   "outputs": [],
   "source": [
    "# It's for output_raster\n",
    "for i in range(len(all_folders)):\n",
    "    Fullname = all_folders[i].split(\"\\\\\")[-1]\n",
    "    newPath = path + \"\\\\\" + Fullname\n",
    "    abName = dictArea[Fullname]\n",
    "    all_files = glob.glob(os.path.join(str(newPath) , \"*\"))\n",
    "    for j in range(len(all_files)):\n",
    "        name = all_files[j].split(\"\\\\\",-1)\n",
    "        name1 = name[0:-1]\n",
    "        name1 = \"\\\\\".join(name1)\n",
    "        name2 = name[-1]\n",
    "        if abName in name2:\n",
    "            continue\n",
    "        else:\n",
    "            nameSep = name2.split(\"_\")\n",
    "            nameAreaAb  = nameSep[0]\n",
    "            newNameArea = dictAreaChange[nameAreaAb]\n",
    "            namePareAb  = nameSep[2].split(\".\",1)[0]\n",
    "            newNamePara = dictPara[namePareAb]\n",
    "            newNameUnit = dictUnits[newNamePara]\n",
    "            year        = nameSep[1][0:4]\n",
    "            season      = nameSep[1][4:]\n",
    "            fileType    = nameSep[2].split(\".\",1)[1]\n",
    "            newName     = newNameArea+\"_\"+newNamePara+\"_\"+newNameUnit+\"_\"+year+\"_\"+season+\".\"+fileType\n",
    "            oldFile     = newPath + \"\\\\\" + name2\n",
    "            newFile     = newPath + \"\\\\\" + newName\n",
    "            os.rename(oldFile, newFile)"
   ]
  },
  {
   "cell_type": "code",
   "execution_count": 18,
   "id": "3085124d",
   "metadata": {},
   "outputs": [
    {
     "data": {
      "text/plain": [
       "['C:\\\\projects\\\\SEACAR_WQ_Pilot\\\\GIS_data\\\\standard_error_prediction\\\\Big Bend',\n",
       " 'C:\\\\projects\\\\SEACAR_WQ_Pilot\\\\GIS_data\\\\standard_error_prediction\\\\Biscayne Bay',\n",
       " 'C:\\\\projects\\\\SEACAR_WQ_Pilot\\\\GIS_data\\\\standard_error_prediction\\\\Charlotte Harbor',\n",
       " 'C:\\\\projects\\\\SEACAR_WQ_Pilot\\\\GIS_data\\\\standard_error_prediction\\\\Estero Bay',\n",
       " 'C:\\\\projects\\\\SEACAR_WQ_Pilot\\\\GIS_data\\\\standard_error_prediction\\\\GTM Reserve']"
      ]
     },
     "execution_count": 18,
     "metadata": {},
     "output_type": "execute_result"
    }
   ],
   "source": [
    "# path_2 = r\"D:\\Water_Quailty\\GIS_data\\standard_error_prediction\"\n",
    "path_2 = r\"C:\\projects\\SEACAR_WQ_Pilot\\GIS_data\\standard_error_prediction\"\n",
    "\n",
    "all_folders_2 = glob.glob(os.path.join(str(path_2) , \"*\"))\n",
    "# Select five folders about five management area\n",
    "# all_folders_2 = all_folders_2[1:6]\n",
    "all_folders_2"
   ]
  },
  {
   "cell_type": "code",
   "execution_count": 19,
   "id": "d7eb37ba",
   "metadata": {},
   "outputs": [],
   "source": [
    "# It's for standard_error_prediction\n",
    "for i in range(len(all_folders_2)):\n",
    "    Fullname = all_folders_2[i].split(\"\\\\\")[-1]\n",
    "    newPath = path_2 + \"\\\\\" + Fullname\n",
    "    abName = dictArea[Fullname]\n",
    "    all_files = glob.glob(os.path.join(str(newPath) , \"*\"))\n",
    "    for j in range(len(all_files)):\n",
    "        name = all_files[j].split(\"\\\\\",-1)\n",
    "        name1 = name[0:-1]\n",
    "        name1 = \"\\\\\".join(name1)\n",
    "        name2 = name[-1]\n",
    "        if abName in name2:\n",
    "            continue\n",
    "        else:\n",
    "            nameSep = name2.split(\"_\")\n",
    "            nameAreaAb  = nameSep[0]\n",
    "            newNameArea = dictAreaChange[nameAreaAb]\n",
    "            namePareAb  = nameSep[2].split(\".\",1)[0]\n",
    "            newNamePara = dictPara[namePareAb]\n",
    "            newNameUnit = dictUnits[newNamePara]\n",
    "            year        = nameSep[1][0:4]\n",
    "            season      = nameSep[1][4:]\n",
    "            fileType    = nameSep[-1].split(\".\",1)[1]\n",
    "            newName     = newNameArea+\"_\"+newNamePara+\"_\"+newNameUnit+\"_\"+year+\"_\"+season+\"_sep.\"+fileType\n",
    "            oldFile     = newPath + \"\\\\\" + name2\n",
    "            newFile     = newPath + \"\\\\\" + newName\n",
    "            os.rename(oldFile, newFile)"
   ]
  }
 ],
 "metadata": {
  "kernelspec": {
   "display_name": "Python 3 (ipykernel)",
   "language": "python",
   "name": "python3"
  },
  "language_info": {
   "codemirror_mode": {
    "name": "ipython",
    "version": 3
   },
   "file_extension": ".py",
   "mimetype": "text/x-python",
   "name": "python",
   "nbconvert_exporter": "python",
   "pygments_lexer": "ipython3",
   "version": "3.10.4"
  }
 },
 "nbformat": 4,
 "nbformat_minor": 5
}
