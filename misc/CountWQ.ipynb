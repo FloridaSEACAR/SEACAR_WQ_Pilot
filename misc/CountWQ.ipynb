{
 "cells": [
  {
   "cell_type": "code",
   "execution_count": 149,
   "id": "28149d54",
   "metadata": {},
   "outputs": [],
   "source": [
    "import pandas as pd\n",
    "import itertools\n",
    "import numpy as np"
   ]
  },
  {
   "cell_type": "code",
   "execution_count": 150,
   "id": "3a7f8a0c",
   "metadata": {},
   "outputs": [
    {
     "name": "stderr",
     "output_type": "stream",
     "text": [
      "C:\\Users\\yi\\AppData\\Local\\Temp/ipykernel_47220/1027411217.py:11: DtypeWarning: Columns (11) have mixed types. Specify dtype option on import or set low_memory=False.\n",
      "  dfDis_orig = pd.read_csv(path + r\"discrete_0214.csv\")\n"
     ]
    }
   ],
   "source": [
    "# Data Preprocessing\n",
    "path = \"../../\"\n",
    "path2 = \"..\\../Correlation_Analysis\\WQ0416/\"\n",
    "#path_gis = '/Users/cong/Downloads/WaterQualityProject/SEACAR_WQ_Pilot-selected/GIS_data/'\n",
    "path_gis = '..\\../GIS_data/'\n",
    "#WQ_file = path_gis + 'OEATUSF_Geospatial_TempSeasons.csv'\n",
    "WQ_file = path2 + '..\\../OEATUSF_Geospatial_TempSeasons_update_0510.csv'\n",
    "#WQ_file_update = path_gis + 'OEATUSF_Geospatial_TempSeasons_update.csv'\n",
    "WQ_file_update = path2+ 'OEATUSF_Geospatial_TempSeasons_update_0510_output.csv'\n",
    "\n",
    "dfDis_orig = pd.read_csv(path + r\"discrete_0214.csv\")\n",
    "dfCon_orig = pd.read_csv(path + r\"continuous_0214.csv\")"
   ]
  },
  {
   "cell_type": "markdown",
   "id": "012dbbe9",
   "metadata": {},
   "source": [
    "Add new columns to the OEATUSF_Geospatial..."
   ]
  },
  {
   "cell_type": "code",
   "execution_count": 151,
   "id": "1e3ac1cb",
   "metadata": {},
   "outputs": [
    {
     "data": {
      "text/html": [
       "<div>\n",
       "<style scoped>\n",
       "    .dataframe tbody tr th:only-of-type {\n",
       "        vertical-align: middle;\n",
       "    }\n",
       "\n",
       "    .dataframe tbody tr th {\n",
       "        vertical-align: top;\n",
       "    }\n",
       "\n",
       "    .dataframe thead th {\n",
       "        text-align: right;\n",
       "    }\n",
       "</style>\n",
       "<table border=\"1\" class=\"dataframe\">\n",
       "  <thead>\n",
       "    <tr style=\"text-align: right;\">\n",
       "      <th></th>\n",
       "      <th>Unnamed: 0.1</th>\n",
       "      <th>Unnamed: 0</th>\n",
       "      <th>param</th>\n",
       "      <th>ma</th>\n",
       "      <th>st_Year</th>\n",
       "      <th>season</th>\n",
       "      <th>med_seamo_ma</th>\n",
       "      <th>s_start</th>\n",
       "      <th>s_end</th>\n",
       "      <th>date_range</th>\n",
       "      <th>covariates</th>\n",
       "      <th>Processed</th>\n",
       "      <th>Total Nitrogen</th>\n",
       "      <th>Dissolved Oxygen</th>\n",
       "      <th>Salinity</th>\n",
       "      <th>Secchi Depth</th>\n",
       "      <th>Turbidity</th>\n",
       "    </tr>\n",
       "  </thead>\n",
       "  <tbody>\n",
       "    <tr>\n",
       "      <th>0</th>\n",
       "      <td>0</td>\n",
       "      <td>147</td>\n",
       "      <td>temp</td>\n",
       "      <td>Estero Bay Aquatic Preserve</td>\n",
       "      <td>2022</td>\n",
       "      <td>Summer</td>\n",
       "      <td>7-Jun</td>\n",
       "      <td>6/7/2022</td>\n",
       "      <td>8/26/2022</td>\n",
       "      <td>80</td>\n",
       "      <td>bathymetry+LDI+popden</td>\n",
       "      <td>1</td>\n",
       "      <td>E:/Projects/SEACAR_WQ_Pilot/GIS_data/output_ra...</td>\n",
       "      <td>E:/Projects/SEACAR_WQ_Pilot/GIS_data/output_ra...</td>\n",
       "      <td>NaN</td>\n",
       "      <td>NaN</td>\n",
       "      <td>E:/Projects/SEACAR_WQ_Pilot/GIS_data/output_ra...</td>\n",
       "    </tr>\n",
       "    <tr>\n",
       "      <th>1</th>\n",
       "      <td>1</td>\n",
       "      <td>71</td>\n",
       "      <td>temp</td>\n",
       "      <td>Biscayne Bay Aquatic Preserve</td>\n",
       "      <td>2022</td>\n",
       "      <td>Summer</td>\n",
       "      <td>1-Jun</td>\n",
       "      <td>6/1/2022</td>\n",
       "      <td>8/26/2022</td>\n",
       "      <td>86</td>\n",
       "      <td>bathymetry+LDI+popden</td>\n",
       "      <td>1</td>\n",
       "      <td>NaN</td>\n",
       "      <td>NaN</td>\n",
       "      <td>NaN</td>\n",
       "      <td>NaN</td>\n",
       "      <td>NaN</td>\n",
       "    </tr>\n",
       "    <tr>\n",
       "      <th>2</th>\n",
       "      <td>2</td>\n",
       "      <td>70</td>\n",
       "      <td>temp</td>\n",
       "      <td>Biscayne Bay Aquatic Preserve</td>\n",
       "      <td>2022</td>\n",
       "      <td>Spring</td>\n",
       "      <td>2-Mar</td>\n",
       "      <td>3/2/2022</td>\n",
       "      <td>5/31/2022</td>\n",
       "      <td>90</td>\n",
       "      <td>bathymetry+LDI+popden</td>\n",
       "      <td>1</td>\n",
       "      <td>E:/Projects/SEACAR_WQ_Pilot/GIS_data/output_ra...</td>\n",
       "      <td>E:/Projects/SEACAR_WQ_Pilot/GIS_data/output_ra...</td>\n",
       "      <td>E:/Projects/SEACAR_WQ_Pilot/GIS_data/output_ra...</td>\n",
       "      <td>NaN</td>\n",
       "      <td>E:/Projects/SEACAR_WQ_Pilot/GIS_data/output_ra...</td>\n",
       "    </tr>\n",
       "    <tr>\n",
       "      <th>3</th>\n",
       "      <td>3</td>\n",
       "      <td>146</td>\n",
       "      <td>temp</td>\n",
       "      <td>Estero Bay Aquatic Preserve</td>\n",
       "      <td>2022</td>\n",
       "      <td>Spring</td>\n",
       "      <td>27-Feb</td>\n",
       "      <td>2/27/2022</td>\n",
       "      <td>6/6/2022</td>\n",
       "      <td>99</td>\n",
       "      <td>bathymetry+LDI+popden</td>\n",
       "      <td>1</td>\n",
       "      <td>E:/Projects/SEACAR_WQ_Pilot/GIS_data/output_ra...</td>\n",
       "      <td>E:/Projects/SEACAR_WQ_Pilot/GIS_data/output_ra...</td>\n",
       "      <td>NaN</td>\n",
       "      <td>NaN</td>\n",
       "      <td>E:/Projects/SEACAR_WQ_Pilot/GIS_data/output_ra...</td>\n",
       "    </tr>\n",
       "    <tr>\n",
       "      <th>4</th>\n",
       "      <td>4</td>\n",
       "      <td>69</td>\n",
       "      <td>temp</td>\n",
       "      <td>Biscayne Bay Aquatic Preserve</td>\n",
       "      <td>2022</td>\n",
       "      <td>Winter</td>\n",
       "      <td>8-Feb</td>\n",
       "      <td>2/8/2022</td>\n",
       "      <td>3/1/2022</td>\n",
       "      <td>21</td>\n",
       "      <td>bathymetry+LDI+popden</td>\n",
       "      <td>1</td>\n",
       "      <td>E:/Projects/SEACAR_WQ_Pilot/GIS_data/output_ra...</td>\n",
       "      <td>E:/Projects/SEACAR_WQ_Pilot/GIS_data/output_ra...</td>\n",
       "      <td>E:/Projects/SEACAR_WQ_Pilot/GIS_data/output_ra...</td>\n",
       "      <td>NaN</td>\n",
       "      <td>E:/Projects/SEACAR_WQ_Pilot/GIS_data/output_ra...</td>\n",
       "    </tr>\n",
       "  </tbody>\n",
       "</table>\n",
       "</div>"
      ],
      "text/plain": [
       "   Unnamed: 0.1  Unnamed: 0 param                             ma  st_Year  \\\n",
       "0             0         147  temp    Estero Bay Aquatic Preserve     2022   \n",
       "1             1          71  temp  Biscayne Bay Aquatic Preserve     2022   \n",
       "2             2          70  temp  Biscayne Bay Aquatic Preserve     2022   \n",
       "3             3         146  temp    Estero Bay Aquatic Preserve     2022   \n",
       "4             4          69  temp  Biscayne Bay Aquatic Preserve     2022   \n",
       "\n",
       "   season med_seamo_ma    s_start      s_end  date_range  \\\n",
       "0  Summer        7-Jun   6/7/2022  8/26/2022          80   \n",
       "1  Summer        1-Jun   6/1/2022  8/26/2022          86   \n",
       "2  Spring        2-Mar   3/2/2022  5/31/2022          90   \n",
       "3  Spring       27-Feb  2/27/2022   6/6/2022          99   \n",
       "4  Winter        8-Feb   2/8/2022   3/1/2022          21   \n",
       "\n",
       "              covariates  Processed  \\\n",
       "0  bathymetry+LDI+popden          1   \n",
       "1  bathymetry+LDI+popden          1   \n",
       "2  bathymetry+LDI+popden          1   \n",
       "3  bathymetry+LDI+popden          1   \n",
       "4  bathymetry+LDI+popden          1   \n",
       "\n",
       "                                      Total Nitrogen  \\\n",
       "0  E:/Projects/SEACAR_WQ_Pilot/GIS_data/output_ra...   \n",
       "1                                                NaN   \n",
       "2  E:/Projects/SEACAR_WQ_Pilot/GIS_data/output_ra...   \n",
       "3  E:/Projects/SEACAR_WQ_Pilot/GIS_data/output_ra...   \n",
       "4  E:/Projects/SEACAR_WQ_Pilot/GIS_data/output_ra...   \n",
       "\n",
       "                                    Dissolved Oxygen  \\\n",
       "0  E:/Projects/SEACAR_WQ_Pilot/GIS_data/output_ra...   \n",
       "1                                                NaN   \n",
       "2  E:/Projects/SEACAR_WQ_Pilot/GIS_data/output_ra...   \n",
       "3  E:/Projects/SEACAR_WQ_Pilot/GIS_data/output_ra...   \n",
       "4  E:/Projects/SEACAR_WQ_Pilot/GIS_data/output_ra...   \n",
       "\n",
       "                                            Salinity Secchi Depth  \\\n",
       "0                                                NaN          NaN   \n",
       "1                                                NaN          NaN   \n",
       "2  E:/Projects/SEACAR_WQ_Pilot/GIS_data/output_ra...          NaN   \n",
       "3                                                NaN          NaN   \n",
       "4  E:/Projects/SEACAR_WQ_Pilot/GIS_data/output_ra...          NaN   \n",
       "\n",
       "                                           Turbidity  \n",
       "0  E:/Projects/SEACAR_WQ_Pilot/GIS_data/output_ra...  \n",
       "1                                                NaN  \n",
       "2  E:/Projects/SEACAR_WQ_Pilot/GIS_data/output_ra...  \n",
       "3  E:/Projects/SEACAR_WQ_Pilot/GIS_data/output_ra...  \n",
       "4  E:/Projects/SEACAR_WQ_Pilot/GIS_data/output_ra...  "
      ]
     },
     "execution_count": 151,
     "metadata": {},
     "output_type": "execute_result"
    }
   ],
   "source": [
    "count_table = pd.read_csv(WQ_file)\n",
    "\n",
    "count_table.head()"
   ]
  },
  {
   "cell_type": "markdown",
   "id": "87a74f10",
   "metadata": {},
   "source": [
    "Combine discrete and continuous dataframe"
   ]
  },
  {
   "cell_type": "code",
   "execution_count": 152,
   "id": "1a96d3be",
   "metadata": {},
   "outputs": [
    {
     "data": {
      "text/plain": [
       "(8933025, 16)"
      ]
     },
     "execution_count": 152,
     "metadata": {},
     "output_type": "execute_result"
    }
   ],
   "source": [
    "merged_df = pd.concat([dfDis_orig, dfCon_orig])\n",
    "merged_df.shape"
   ]
  },
  {
   "cell_type": "code",
   "execution_count": 153,
   "id": "29ceac12",
   "metadata": {},
   "outputs": [],
   "source": [
    "count_table['ma'] = count_table['ma'].replace('Guana River Marsh Aquatic Preserve','Guana Tolomato Matanzas National Estuarine Research Reserve')"
   ]
  },
  {
   "cell_type": "markdown",
   "id": "ebd99701",
   "metadata": {},
   "source": [
    "Create two new columns to represent start and end date of each season"
   ]
  },
  {
   "cell_type": "code",
   "execution_count": 154,
   "id": "f434113f",
   "metadata": {},
   "outputs": [],
   "source": [
    "# count_table['s_start'] = count_table['med_seamo_ma'].str.replace(' ','-') +'-'+ count_table['st_Year'].astype(str)\n",
    "# count_table['s_start'] = pd.to_datetime(count_table['s_start'])\n",
    "\n",
    "# s_end_ls = []\n",
    "# for area in count_table['ma'].unique():\n",
    "#     table = count_table[count_table['ma']==area].reset_index()\n",
    "#     table_len=table.shape[0]\n",
    "#     for idx,row in table.iterrows():\n",
    "#         if idx+1 < table_len:\n",
    "#             row2 = table.loc[idx+1]\n",
    "#             s_end = row2['s_start'] - pd.Timedelta(days=1)\n",
    "#         elif idx+1 == table_len:\n",
    "#             s_end = np.nan\n",
    "#         s_end_ls.append(s_end)\n",
    "\n",
    "# count_table['s_end']=s_end_ls"
   ]
  },
  {
   "cell_type": "code",
   "execution_count": 155,
   "id": "04e1cca1",
   "metadata": {},
   "outputs": [],
   "source": [
    "count_table['s_start'], count_table['s_end'] = pd.to_datetime(count_table['s_start']), pd.to_datetime(count_table['s_end'])"
   ]
  },
  {
   "cell_type": "code",
   "execution_count": 156,
   "id": "08c80c2e",
   "metadata": {},
   "outputs": [],
   "source": [
    "merged_df['date'] = pd.to_datetime(merged_df['timestamp']).dt.date"
   ]
  },
  {
   "cell_type": "code",
   "execution_count": 157,
   "id": "cd54a530",
   "metadata": {},
   "outputs": [],
   "source": [
    "count_table['s_start'], count_table['s_end'] = count_table['s_start'].dt.date,count_table['s_end'].dt.date"
   ]
  },
  {
   "cell_type": "code",
   "execution_count": 158,
   "id": "7cbbbf87",
   "metadata": {
    "scrolled": true
   },
   "outputs": [],
   "source": [
    "ls_count = pd.DataFrame(columns=['Dissolved Oxygen','Salinity','Secchi Depth','Total Nitrogen','Turbidity'])\n",
    "#ls_count = []\n",
    "para_ls = merged_df['ParameterName'].unique\n",
    "for idx,row in count_table.iterrows():\n",
    "    #ma, s_start,s_end = row['ma'],row['st_Year'],row['s_start'], row['s_end']\n",
    "    merged_df2 = merged_df.loc[(merged_df['ManagedAreaName'] == row['ma'])& \n",
    "                               (merged_df['Year'] == row['st_Year'])&\n",
    "                               (merged_df['date'] > row['s_start'])&\n",
    "                               (merged_df['date'] < row['s_end'])]\n",
    "    merged_df3= merged_df2.groupby(['ParameterName','Latitude_DD','Longitude_DD']).size().reset_index().rename(columns={0:'Count'})\n",
    "    merged_df4 = merged_df3.groupby(['ParameterName']).size().reset_index().rename(columns={0:'Count'})\n",
    "    if merged_df3.shape[0]>0:\n",
    "        merged_df4 = pd.DataFrame(dict(zip(list(merged_df4.ParameterName), list(merged_df4.Count))),index = [0])\n",
    "        ls_count = pd.concat([ls_count, merged_df4], axis=0)   \n",
    "    elif merged_df3.shape[0]==0:\n",
    "        merged_df4 = pd.DataFrame({'Dissolved Oxygen': [np.nan],'Salinity': [np.nan],'Secchi Depth': [np.nan],'Total Nitrogen': [np.nan],'Turbidity': [np.nan]})\n",
    "        ls_count = pd.concat([ls_count, merged_df4], axis=0)"
   ]
  },
  {
   "cell_type": "code",
   "execution_count": 160,
   "metadata": {},
   "outputs": [],
   "source": [
    "ls_count.reset_index(drop=True, inplace=True)"
   ]
  },
  {
   "cell_type": "code",
   "execution_count": 161,
   "id": "61ec5388",
   "metadata": {},
   "outputs": [],
   "source": [
    "count_table = pd.concat([count_table, ls_count], axis=1).drop(columns = ['Unnamed: 0.1'])"
   ]
  },
  {
   "cell_type": "code",
   "execution_count": 162,
   "id": "f01d26f1",
   "metadata": {},
   "outputs": [],
   "source": [
    "count_table.to_csv(WQ_file_update, index=False)"
   ]
  }
 ],
 "metadata": {
  "kernelspec": {
   "display_name": "Python 3 (ipykernel)",
   "language": "python",
   "name": "python3"
  },
  "language_info": {
   "codemirror_mode": {
    "name": "ipython",
    "version": 3
   },
   "file_extension": ".py",
   "mimetype": "text/x-python",
   "name": "python",
   "nbconvert_exporter": "python",
   "pygments_lexer": "ipython3",
   "version": "3.10.4"
  }
 },
 "nbformat": 4,
 "nbformat_minor": 5
}
