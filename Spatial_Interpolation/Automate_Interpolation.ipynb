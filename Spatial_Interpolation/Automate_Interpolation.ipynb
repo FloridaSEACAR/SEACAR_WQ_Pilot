{
 "cells": [
  {
   "cell_type": "code",
   "execution_count": 1,
   "id": "e627f0dd",
   "metadata": {},
   "outputs": [
    {
     "data": {
      "text/plain": [
       "<module 'misc' (namespace)>"
      ]
     },
     "execution_count": 1,
     "metadata": {},
     "output_type": "execute_result"
    }
   ],
   "source": [
    "import pandas as pd\n",
    "import geopandas as gpd\n",
    "import numpy as np\n",
    "\n",
    "import sys\n",
    "sys.path.append('..')\n",
    "import misc.autointerpolation\n",
    "\n",
    "# Reload misc module after editing\n",
    "import importlib\n",
    "importlib.reload(misc.autointerpolation)\n",
    "importlib.reload(misc)"
   ]
  },
  {
   "cell_type": "markdown",
   "id": "a9fbb7ba",
   "metadata": {},
   "source": [
    "# 1. Load and Preprocess Data <a class=\"anchor\" id=\"load_data\"></a>"
   ]
  },
  {
   "cell_type": "code",
   "execution_count": 2,
   "id": "9804ee2f",
   "metadata": {},
   "outputs": [],
   "source": [
    "# path = \"E:/Projects/SEACAR_WQ_Pilot/\"\n",
    "path = \"../../\"\n",
    "gis_path = path+'GIS_data/'\n",
    "\n",
    "# path = \"D:/Water_Quailty/\"\n",
    "# gis_path = path+'GIS_data/'"
   ]
  },
  {
   "cell_type": "markdown",
   "id": "7a0721c2",
   "metadata": {},
   "source": [
    "Combine and preprocess discrete and continuous data."
   ]
  },
  {
   "cell_type": "code",
   "execution_count": 3,
   "id": "10eeab27",
   "metadata": {},
   "outputs": [],
   "source": [
    "# dfDis, dfCon = misc.preprocess.preprocess(path + r\"OEAT_Discrete-2023-Jan-23.csv\", \n",
    "#                     path + r\"OEAT_Continuous_1-2023-Jan-23.csv\",\n",
    "#                     path + r\"OEAT_Continuous_2-2023-Jan-23.csv\")\n",
    "\n",
    "# dfAll = pd.concat([dfDis,dfCon]).drop(columns = ['Hour'])\n",
    "\n",
    "# dfAll.to_csv(path + \"all_0214.csv\")"
   ]
  },
  {
   "cell_type": "code",
   "execution_count": 4,
   "id": "f398ebc9",
   "metadata": {},
   "outputs": [
    {
     "name": "stderr",
     "output_type": "stream",
     "text": [
      "C:\\Users\\yi\\AppData\\Local\\Temp\\ipykernel_4792\\3834789934.py:2: DtypeWarning: Columns (6,12) have mixed types. Specify dtype option on import or set low_memory=False.\n",
      "  dfAll = pd.read_csv(path + \"all_0214.csv\").drop(columns=['Unnamed: 0','Unnamed: 0.1','RowID','ValueQualifier'])\n"
     ]
    }
   ],
   "source": [
    "# Reload modules in external .py files after editing.\n",
    "dfAll = pd.read_csv(path + \"all_0214.csv\").drop(columns=['Unnamed: 0','Unnamed: 0.1','RowID','ValueQualifier'])\n",
    "# Convert SampleDate froms str to date\n",
    "dfAll['SampleDate'] = pd.to_datetime(dfAll['SampleDate']).dt.date"
   ]
  },
  {
   "cell_type": "code",
   "execution_count": 5,
   "id": "5f5adb50",
   "metadata": {},
   "outputs": [],
   "source": [
    "col_ls = ['RowID','ParameterName','ParameterUnits','ProgramLocationID','ActivityType','ManagedAreaName',\n",
    "                   'SampleDate','Year','Month','ResultValue','ValueQualifier','Latitude_DD','Longitude_DD']\n",
    "para_ls = [\"Salinity\",\"Total Nitrogen\",\"Dissolved Oxygen\",\"Turbidity\",\"Secchi Depth\"]\n",
    "para_ls_ab = [\"S\",\"TN\",\"DO\",\"T\",\"SD\"]\n",
    "# Convert full MA names to short names\n",
    "dictArea    = {'Gasparilla Sound-Charlotte Harbor Aquatic Preserve':'Charlotte Harbor','Big Bend Seagrasses Aquatic Preserve':'Big Bend',\n",
    "                'Guana Tolomato Matanzas National Estuarine Research Reserve':'GTM Reserve','Estero Bay Aquatic Preserve':'Estero Bay',\n",
    "                'Biscayne Bay Aquatic Preserve':'Biscayne Bay','Matlacha Pass Aquatic Preserve':'Matlacha Pass AP',\n",
    "                'Lemon Bay Aquatic Preserve':'Lemon Bay','Cape Haze Aquatic Preserve':'Cape Haze','Pine Island Sound Aquatic Preserve':'Pine Island'}\n",
    "\n",
    "# Convert full MA names to MA name in ORCP_Managed_Areas_Oct2021\n",
    "dictArea2    = {'Gasparilla Sound-Charlotte Harbor Aquatic Preserve':'Gasparilla Sound-Charlotte Harbor','Big Bend Seagrasses Aquatic Preserve':'Big Bend Seagrasses',\n",
    "                'Guana Tolomato Matanzas National Estuarine Research Reserve':'Guana Tolomato Matanzas NERR','Estero Bay Aquatic Preserve':'Estero Bay',\n",
    "                'Biscayne Bay Aquatic Preserve':'Biscayne Bay','Matlacha Pass Aquatic Preserve':'Matlacha Pass',\n",
    "                'Lemon Bay Aquatic Preserve':'Lemon Bay','Cape Haze Aquatic Preserve':'Cape Haze','Pine Island Sound Aquatic Preserve':'Pine Island Sound'}\n",
    "\n",
    "# Convert full MA names to abbreviations\n",
    "dictArea3    = {'Gasparilla Sound-Charlotte Harbor Aquatic Preserve':'ch','Big Bend Seagrasses Aquatic Preserve':'bb',\n",
    "                'Guana Tolomato Matanzas National Estuarine Research Reserve':'gtm','Estero Bay Aquatic Preserve':'eb',\n",
    "                'Biscayne Bay Aquatic Preserve':'bbay','Matlacha Pass Aquatic Preserve':'mp',\n",
    "                'Lemon Bay Aquatic Preserve':'lb','Cape Haze Aquatic Preserve':'ch','Pine Island Sound Aquatic Preserve':'pi'}\n",
    "\n",
    "dictPara = {\"Salinity\":'S','Total Nitrogen':'TN','Dissolved Oxygen':'DO','Turbidity':'T','Secchi Depth':'SD'}\n",
    "dictUnits   = {\"Salinity\":\"ppt\",\"Total Nitrogen\": \"mg/L\",\"Dissolved Oxygen\": \"mg/L\",\"Turbidity\": \"NTU\", \"Secchi Depth\": \"m\"}\n",
    "listArea    = dfAll[\"ManagedAreaName\"].unique()\n",
    "listPara    = [\"Salinity\",\"Total Nitrogen\",\"Dissolved Oxygen\",\"Turbidity\",\"Secchi Depth\"]\n",
    "SpatialRef = '3086'"
   ]
  },
  {
   "cell_type": "markdown",
   "id": "3688db92",
   "metadata": {},
   "source": [
    "# 2. Run spatial interpolation through seasonality table <a class=\"anchor\" id=\"combine\"></a>"
   ]
  },
  {
   "cell_type": "markdown",
   "id": "fe926982",
   "metadata": {},
   "source": [
    "Delete incorrect seasons"
   ]
  },
  {
   "cell_type": "code",
   "execution_count": 6,
   "id": "c597f105",
   "metadata": {
    "scrolled": false
   },
   "outputs": [
    {
     "data": {
      "text/html": [
       "<div>\n",
       "<style scoped>\n",
       "    .dataframe tbody tr th:only-of-type {\n",
       "        vertical-align: middle;\n",
       "    }\n",
       "\n",
       "    .dataframe tbody tr th {\n",
       "        vertical-align: top;\n",
       "    }\n",
       "\n",
       "    .dataframe thead th {\n",
       "        text-align: right;\n",
       "    }\n",
       "</style>\n",
       "<table border=\"1\" class=\"dataframe\">\n",
       "  <thead>\n",
       "    <tr style=\"text-align: right;\">\n",
       "      <th></th>\n",
       "      <th>Unnamed: 0.1</th>\n",
       "      <th>param</th>\n",
       "      <th>ma</th>\n",
       "      <th>st_Year</th>\n",
       "      <th>season</th>\n",
       "      <th>med_seamo_ma</th>\n",
       "      <th>s_start</th>\n",
       "      <th>s_end</th>\n",
       "      <th>date_range</th>\n",
       "      <th>covariates</th>\n",
       "      <th>Processed</th>\n",
       "      <th>Total Nitrogen</th>\n",
       "      <th>Dissolved Oxygen</th>\n",
       "      <th>Salinity</th>\n",
       "      <th>Secchi Depth</th>\n",
       "      <th>Turbidity</th>\n",
       "    </tr>\n",
       "  </thead>\n",
       "  <tbody>\n",
       "    <tr>\n",
       "      <th>0</th>\n",
       "      <td>377</td>\n",
       "      <td>temp</td>\n",
       "      <td>Big Bend Seagrasses Aquatic Preserve</td>\n",
       "      <td>2018</td>\n",
       "      <td>Fall</td>\n",
       "      <td>31-Aug</td>\n",
       "      <td>2018-08-31</td>\n",
       "      <td>2019-01-14</td>\n",
       "      <td>136</td>\n",
       "      <td>bathymetry+LDI</td>\n",
       "      <td>1</td>\n",
       "      <td>NaN</td>\n",
       "      <td>NaN</td>\n",
       "      <td>NaN</td>\n",
       "      <td>NaN</td>\n",
       "      <td>NaN</td>\n",
       "    </tr>\n",
       "    <tr>\n",
       "      <th>1</th>\n",
       "      <td>378</td>\n",
       "      <td>temp</td>\n",
       "      <td>Big Bend Seagrasses Aquatic Preserve</td>\n",
       "      <td>2018</td>\n",
       "      <td>Summer</td>\n",
       "      <td>14-Jun</td>\n",
       "      <td>2018-06-14</td>\n",
       "      <td>2018-08-30</td>\n",
       "      <td>77</td>\n",
       "      <td>bathymetry+LDI</td>\n",
       "      <td>1</td>\n",
       "      <td>NaN</td>\n",
       "      <td>NaN</td>\n",
       "      <td>NaN</td>\n",
       "      <td>NaN</td>\n",
       "      <td>NaN</td>\n",
       "    </tr>\n",
       "    <tr>\n",
       "      <th>2</th>\n",
       "      <td>379</td>\n",
       "      <td>temp</td>\n",
       "      <td>Big Bend Seagrasses Aquatic Preserve</td>\n",
       "      <td>2018</td>\n",
       "      <td>Spring</td>\n",
       "      <td>18-Feb</td>\n",
       "      <td>2018-02-18</td>\n",
       "      <td>2018-06-13</td>\n",
       "      <td>115</td>\n",
       "      <td>bathymetry+LDI</td>\n",
       "      <td>1</td>\n",
       "      <td>NaN</td>\n",
       "      <td>NaN</td>\n",
       "      <td>NaN</td>\n",
       "      <td>NaN</td>\n",
       "      <td>NaN</td>\n",
       "    </tr>\n",
       "    <tr>\n",
       "      <th>3</th>\n",
       "      <td>380</td>\n",
       "      <td>temp</td>\n",
       "      <td>Big Bend Seagrasses Aquatic Preserve</td>\n",
       "      <td>2018</td>\n",
       "      <td>Winter</td>\n",
       "      <td>15-Jan</td>\n",
       "      <td>2018-01-15</td>\n",
       "      <td>2018-02-17</td>\n",
       "      <td>33</td>\n",
       "      <td>bathymetry+LDI</td>\n",
       "      <td>1</td>\n",
       "      <td>NaN</td>\n",
       "      <td>NaN</td>\n",
       "      <td>NaN</td>\n",
       "      <td>NaN</td>\n",
       "      <td>NaN</td>\n",
       "    </tr>\n",
       "    <tr>\n",
       "      <th>4</th>\n",
       "      <td>381</td>\n",
       "      <td>temp</td>\n",
       "      <td>Big Bend Seagrasses Aquatic Preserve</td>\n",
       "      <td>2017</td>\n",
       "      <td>Fall</td>\n",
       "      <td>31-Aug</td>\n",
       "      <td>2017-08-31</td>\n",
       "      <td>2018-01-14</td>\n",
       "      <td>136</td>\n",
       "      <td>bathymetry+LDI</td>\n",
       "      <td>1</td>\n",
       "      <td>NaN</td>\n",
       "      <td>NaN</td>\n",
       "      <td>NaN</td>\n",
       "      <td>NaN</td>\n",
       "      <td>NaN</td>\n",
       "    </tr>\n",
       "  </tbody>\n",
       "</table>\n",
       "</div>"
      ],
      "text/plain": [
       "   Unnamed: 0.1 param                                    ma  st_Year  season  \\\n",
       "0           377  temp  Big Bend Seagrasses Aquatic Preserve     2018    Fall   \n",
       "1           378  temp  Big Bend Seagrasses Aquatic Preserve     2018  Summer   \n",
       "2           379  temp  Big Bend Seagrasses Aquatic Preserve     2018  Spring   \n",
       "3           380  temp  Big Bend Seagrasses Aquatic Preserve     2018  Winter   \n",
       "4           381  temp  Big Bend Seagrasses Aquatic Preserve     2017    Fall   \n",
       "\n",
       "  med_seamo_ma    s_start      s_end  date_range      covariates  Processed  \\\n",
       "0       31-Aug 2018-08-31 2019-01-14         136  bathymetry+LDI          1   \n",
       "1       14-Jun 2018-06-14 2018-08-30          77  bathymetry+LDI          1   \n",
       "2       18-Feb 2018-02-18 2018-06-13         115  bathymetry+LDI          1   \n",
       "3       15-Jan 2018-01-15 2018-02-17          33  bathymetry+LDI          1   \n",
       "4       31-Aug 2017-08-31 2018-01-14         136  bathymetry+LDI          1   \n",
       "\n",
       "   Total Nitrogen  Dissolved Oxygen  Salinity  Secchi Depth  Turbidity  \n",
       "0             NaN               NaN       NaN           NaN        NaN  \n",
       "1             NaN               NaN       NaN           NaN        NaN  \n",
       "2             NaN               NaN       NaN           NaN        NaN  \n",
       "3             NaN               NaN       NaN           NaN        NaN  \n",
       "4             NaN               NaN       NaN           NaN        NaN  "
      ]
     },
     "execution_count": 6,
     "metadata": {},
     "output_type": "execute_result"
    }
   ],
   "source": [
    "dfSeason = pd.read_csv(path + \"OEATUSF_Geospatial_TempSeasons_update_0611_added.csv\").drop(columns = \"Unnamed: 0\")\n",
    "dfSeason = dfSeason.dropna(subset=[\"s_start\",\"s_end\"]).reset_index(drop=True)\n",
    "\n",
    "dfSeason['s_start'] = pd.to_datetime(dfSeason['s_start'])\n",
    "dfSeason[\"s_end\"] = pd.to_datetime(dfSeason[\"s_end\"])\n",
    "dfSeason[\"date_range\"] = dfSeason[\"s_end\"] - dfSeason[\"s_start\"]\n",
    "dfSeason[\"date_range\"] = dfSeason.apply(lambda x: int(str(x[\"date_range\"]).split(\" \")[0]),axis=1)\n",
    "dfSeason = dfSeason[dfSeason[\"date_range\"]>0]\n",
    "dfSeason.head()"
   ]
  },
  {
   "cell_type": "code",
   "execution_count": 7,
   "id": "e5b49d83",
   "metadata": {},
   "outputs": [
    {
     "data": {
      "text/plain": [
       "array(['Big Bend Seagrasses Aquatic Preserve'], dtype=object)"
      ]
     },
     "metadata": {},
     "output_type": "display_data"
    }
   ],
   "source": [
    "# Print all managed areas\n",
    "display(dfSeason['ma'].unique())\n",
    "\n",
    "# Create empty columns to store paths of exported files\n",
    "# data = dfSeason.assign(**{'Total Nitrogen': np.nan, 'Dissolved Oxygen': np.nan, 'Salinity': np.nan, 'Secchi Depth': np.nan, 'Turbidity': np.nan})"
   ]
  },
  {
   "cell_type": "markdown",
   "id": "54d1a6a0",
   "metadata": {},
   "source": [
    "Run through all seasons"
   ]
  },
  {
   "cell_type": "code",
   "execution_count": 8,
   "id": "6ee91a38",
   "metadata": {
    "scrolled": false
   },
   "outputs": [
    {
     "name": "stdout",
     "output_type": "stream",
     "text": [
      "Now interpolating: Row 0; Area bb; Year 2018; Season Fall; para Salinity\n"
     ]
    },
    {
     "name": "stderr",
     "output_type": "stream",
     "text": [
      "C:\\projects\\SEACAR_WQ_Pilot\\git\\Spatial_Interpolation\\..\\misc\\autointerpolation.py:173: UserWarning: Column names longer than 10 characters will be truncated when saved to ESRI Shapefile.\n",
      "  gdf.to_file(input_pt,driver='ESRI Shapefile',crs=\"EPSG:\"+SpatialRef)\n"
     ]
    },
    {
     "name": "stdout",
     "output_type": "stream",
     "text": [
      "Salinity in 2018 Fall caused an error:\n",
      "Invalid version: '3.4.0e'\n",
      "Now interpolating: Row 0; Area bb; Year 2018; Season Fall; para Total Nitrogen\n"
     ]
    },
    {
     "name": "stderr",
     "output_type": "stream",
     "text": [
      "C:\\projects\\SEACAR_WQ_Pilot\\git\\Spatial_Interpolation\\..\\misc\\autointerpolation.py:173: UserWarning: Column names longer than 10 characters will be truncated when saved to ESRI Shapefile.\n",
      "  gdf.to_file(input_pt,driver='ESRI Shapefile',crs=\"EPSG:\"+SpatialRef)\n"
     ]
    },
    {
     "name": "stdout",
     "output_type": "stream",
     "text": [
      "Total Nitrogen in 2018 Fall caused an error:\n",
      "Invalid version: '3.4.0e'\n",
      "Now interpolating: Row 0; Area bb; Year 2018; Season Fall; para Dissolved Oxygen\n"
     ]
    },
    {
     "name": "stderr",
     "output_type": "stream",
     "text": [
      "C:\\projects\\SEACAR_WQ_Pilot\\git\\Spatial_Interpolation\\..\\misc\\autointerpolation.py:173: UserWarning: Column names longer than 10 characters will be truncated when saved to ESRI Shapefile.\n",
      "  gdf.to_file(input_pt,driver='ESRI Shapefile',crs=\"EPSG:\"+SpatialRef)\n"
     ]
    },
    {
     "name": "stdout",
     "output_type": "stream",
     "text": [
      "Dissolved Oxygen in 2018 Fall caused an error:\n",
      "Invalid version: '3.4.0e'\n",
      "Now interpolating: Row 0; Area bb; Year 2018; Season Fall; para Turbidity\n"
     ]
    },
    {
     "name": "stderr",
     "output_type": "stream",
     "text": [
      "C:\\projects\\SEACAR_WQ_Pilot\\git\\Spatial_Interpolation\\..\\misc\\autointerpolation.py:173: UserWarning: Column names longer than 10 characters will be truncated when saved to ESRI Shapefile.\n",
      "  gdf.to_file(input_pt,driver='ESRI Shapefile',crs=\"EPSG:\"+SpatialRef)\n"
     ]
    },
    {
     "name": "stdout",
     "output_type": "stream",
     "text": [
      "Turbidity in 2018 Fall caused an error:\n",
      "Invalid version: '3.4.0e'\n",
      "Now interpolating: Row 0; Area bb; Year 2018; Season Fall; para Secchi Depth\n"
     ]
    },
    {
     "name": "stderr",
     "output_type": "stream",
     "text": [
      "C:\\projects\\SEACAR_WQ_Pilot\\git\\Spatial_Interpolation\\..\\misc\\autointerpolation.py:173: UserWarning: Column names longer than 10 characters will be truncated when saved to ESRI Shapefile.\n",
      "  gdf.to_file(input_pt,driver='ESRI Shapefile',crs=\"EPSG:\"+SpatialRef)\n"
     ]
    },
    {
     "name": "stdout",
     "output_type": "stream",
     "text": [
      "Secchi Depth in 2018 Fall caused an error:\n",
      "Invalid version: '3.4.0e'\n",
      "Now interpolating: Row 1; Area bb; Year 2018; Season Summer; para Salinity\n"
     ]
    },
    {
     "name": "stderr",
     "output_type": "stream",
     "text": [
      "C:\\projects\\SEACAR_WQ_Pilot\\git\\Spatial_Interpolation\\..\\misc\\autointerpolation.py:173: UserWarning: Column names longer than 10 characters will be truncated when saved to ESRI Shapefile.\n",
      "  gdf.to_file(input_pt,driver='ESRI Shapefile',crs=\"EPSG:\"+SpatialRef)\n"
     ]
    },
    {
     "name": "stdout",
     "output_type": "stream",
     "text": [
      "Salinity in 2018 Summer caused an error:\n",
      "Invalid version: '3.4.0e'\n",
      "Now interpolating: Row 1; Area bb; Year 2018; Season Summer; para Total Nitrogen\n"
     ]
    },
    {
     "name": "stderr",
     "output_type": "stream",
     "text": [
      "C:\\projects\\SEACAR_WQ_Pilot\\git\\Spatial_Interpolation\\..\\misc\\autointerpolation.py:173: UserWarning: Column names longer than 10 characters will be truncated when saved to ESRI Shapefile.\n",
      "  gdf.to_file(input_pt,driver='ESRI Shapefile',crs=\"EPSG:\"+SpatialRef)\n"
     ]
    },
    {
     "name": "stdout",
     "output_type": "stream",
     "text": [
      "Total Nitrogen in 2018 Summer caused an error:\n",
      "Invalid version: '3.4.0e'\n",
      "Now interpolating: Row 1; Area bb; Year 2018; Season Summer; para Dissolved Oxygen\n"
     ]
    },
    {
     "name": "stderr",
     "output_type": "stream",
     "text": [
      "C:\\projects\\SEACAR_WQ_Pilot\\git\\Spatial_Interpolation\\..\\misc\\autointerpolation.py:173: UserWarning: Column names longer than 10 characters will be truncated when saved to ESRI Shapefile.\n",
      "  gdf.to_file(input_pt,driver='ESRI Shapefile',crs=\"EPSG:\"+SpatialRef)\n"
     ]
    },
    {
     "name": "stdout",
     "output_type": "stream",
     "text": [
      "Dissolved Oxygen in 2018 Summer caused an error:\n",
      "Invalid version: '3.4.0e'\n",
      "Now interpolating: Row 1; Area bb; Year 2018; Season Summer; para Turbidity\n"
     ]
    },
    {
     "name": "stderr",
     "output_type": "stream",
     "text": [
      "C:\\projects\\SEACAR_WQ_Pilot\\git\\Spatial_Interpolation\\..\\misc\\autointerpolation.py:173: UserWarning: Column names longer than 10 characters will be truncated when saved to ESRI Shapefile.\n",
      "  gdf.to_file(input_pt,driver='ESRI Shapefile',crs=\"EPSG:\"+SpatialRef)\n"
     ]
    },
    {
     "name": "stdout",
     "output_type": "stream",
     "text": [
      "Turbidity in 2018 Summer caused an error:\n",
      "Invalid version: '3.4.0e'\n",
      "Now interpolating: Row 1; Area bb; Year 2018; Season Summer; para Secchi Depth\n"
     ]
    },
    {
     "name": "stderr",
     "output_type": "stream",
     "text": [
      "C:\\projects\\SEACAR_WQ_Pilot\\git\\Spatial_Interpolation\\..\\misc\\autointerpolation.py:173: UserWarning: Column names longer than 10 characters will be truncated when saved to ESRI Shapefile.\n",
      "  gdf.to_file(input_pt,driver='ESRI Shapefile',crs=\"EPSG:\"+SpatialRef)\n"
     ]
    },
    {
     "name": "stdout",
     "output_type": "stream",
     "text": [
      "Secchi Depth in 2018 Summer caused an error:\n",
      "Invalid version: '3.4.0e'\n",
      "Now interpolating: Row 2; Area bb; Year 2018; Season Spring; para Salinity\n"
     ]
    },
    {
     "name": "stderr",
     "output_type": "stream",
     "text": [
      "C:\\projects\\SEACAR_WQ_Pilot\\git\\Spatial_Interpolation\\..\\misc\\autointerpolation.py:173: UserWarning: Column names longer than 10 characters will be truncated when saved to ESRI Shapefile.\n",
      "  gdf.to_file(input_pt,driver='ESRI Shapefile',crs=\"EPSG:\"+SpatialRef)\n"
     ]
    },
    {
     "name": "stdout",
     "output_type": "stream",
     "text": [
      "Salinity in 2018 Spring caused an error:\n",
      "Invalid version: '3.4.0e'\n",
      "Now interpolating: Row 2; Area bb; Year 2018; Season Spring; para Total Nitrogen\n"
     ]
    },
    {
     "name": "stderr",
     "output_type": "stream",
     "text": [
      "C:\\projects\\SEACAR_WQ_Pilot\\git\\Spatial_Interpolation\\..\\misc\\autointerpolation.py:173: UserWarning: Column names longer than 10 characters will be truncated when saved to ESRI Shapefile.\n",
      "  gdf.to_file(input_pt,driver='ESRI Shapefile',crs=\"EPSG:\"+SpatialRef)\n"
     ]
    },
    {
     "name": "stdout",
     "output_type": "stream",
     "text": [
      "Total Nitrogen in 2018 Spring caused an error:\n",
      "Invalid version: '3.4.0e'\n",
      "Now interpolating: Row 2; Area bb; Year 2018; Season Spring; para Dissolved Oxygen\n"
     ]
    },
    {
     "name": "stderr",
     "output_type": "stream",
     "text": [
      "C:\\projects\\SEACAR_WQ_Pilot\\git\\Spatial_Interpolation\\..\\misc\\autointerpolation.py:173: UserWarning: Column names longer than 10 characters will be truncated when saved to ESRI Shapefile.\n",
      "  gdf.to_file(input_pt,driver='ESRI Shapefile',crs=\"EPSG:\"+SpatialRef)\n"
     ]
    },
    {
     "name": "stdout",
     "output_type": "stream",
     "text": [
      "Dissolved Oxygen in 2018 Spring caused an error:\n",
      "Invalid version: '3.4.0e'\n",
      "Now interpolating: Row 2; Area bb; Year 2018; Season Spring; para Turbidity\n"
     ]
    },
    {
     "name": "stderr",
     "output_type": "stream",
     "text": [
      "C:\\projects\\SEACAR_WQ_Pilot\\git\\Spatial_Interpolation\\..\\misc\\autointerpolation.py:173: UserWarning: Column names longer than 10 characters will be truncated when saved to ESRI Shapefile.\n",
      "  gdf.to_file(input_pt,driver='ESRI Shapefile',crs=\"EPSG:\"+SpatialRef)\n"
     ]
    },
    {
     "name": "stdout",
     "output_type": "stream",
     "text": [
      "Turbidity in 2018 Spring caused an error:\n",
      "Invalid version: '3.4.0e'\n",
      "Now interpolating: Row 2; Area bb; Year 2018; Season Spring; para Secchi Depth\n"
     ]
    },
    {
     "name": "stderr",
     "output_type": "stream",
     "text": [
      "C:\\projects\\SEACAR_WQ_Pilot\\git\\Spatial_Interpolation\\..\\misc\\autointerpolation.py:173: UserWarning: Column names longer than 10 characters will be truncated when saved to ESRI Shapefile.\n",
      "  gdf.to_file(input_pt,driver='ESRI Shapefile',crs=\"EPSG:\"+SpatialRef)\n"
     ]
    },
    {
     "name": "stdout",
     "output_type": "stream",
     "text": [
      "Secchi Depth in 2018 Spring caused an error:\n",
      "Invalid version: '3.4.0e'\n",
      "Now interpolating: Row 3; Area bb; Year 2018; Season Winter; para Salinity\n"
     ]
    },
    {
     "name": "stderr",
     "output_type": "stream",
     "text": [
      "C:\\projects\\SEACAR_WQ_Pilot\\git\\Spatial_Interpolation\\..\\misc\\autointerpolation.py:173: UserWarning: Column names longer than 10 characters will be truncated when saved to ESRI Shapefile.\n",
      "  gdf.to_file(input_pt,driver='ESRI Shapefile',crs=\"EPSG:\"+SpatialRef)\n"
     ]
    },
    {
     "name": "stdout",
     "output_type": "stream",
     "text": [
      "Salinity in 2018 Winter caused an error:\n",
      "Invalid version: '3.4.0e'\n",
      "Now interpolating: Row 3; Area bb; Year 2018; Season Winter; para Total Nitrogen\n"
     ]
    },
    {
     "name": "stderr",
     "output_type": "stream",
     "text": [
      "C:\\projects\\SEACAR_WQ_Pilot\\git\\Spatial_Interpolation\\..\\misc\\autointerpolation.py:173: UserWarning: Column names longer than 10 characters will be truncated when saved to ESRI Shapefile.\n",
      "  gdf.to_file(input_pt,driver='ESRI Shapefile',crs=\"EPSG:\"+SpatialRef)\n"
     ]
    },
    {
     "name": "stdout",
     "output_type": "stream",
     "text": [
      "Total Nitrogen in 2018 Winter caused an error:\n",
      "Invalid version: '3.4.0e'\n",
      "Now interpolating: Row 3; Area bb; Year 2018; Season Winter; para Dissolved Oxygen\n"
     ]
    },
    {
     "name": "stderr",
     "output_type": "stream",
     "text": [
      "C:\\projects\\SEACAR_WQ_Pilot\\git\\Spatial_Interpolation\\..\\misc\\autointerpolation.py:173: UserWarning: Column names longer than 10 characters will be truncated when saved to ESRI Shapefile.\n",
      "  gdf.to_file(input_pt,driver='ESRI Shapefile',crs=\"EPSG:\"+SpatialRef)\n"
     ]
    },
    {
     "name": "stdout",
     "output_type": "stream",
     "text": [
      "Dissolved Oxygen in 2018 Winter caused an error:\n",
      "Invalid version: '3.4.0e'\n",
      "Now interpolating: Row 3; Area bb; Year 2018; Season Winter; para Turbidity\n"
     ]
    },
    {
     "name": "stderr",
     "output_type": "stream",
     "text": [
      "C:\\projects\\SEACAR_WQ_Pilot\\git\\Spatial_Interpolation\\..\\misc\\autointerpolation.py:173: UserWarning: Column names longer than 10 characters will be truncated when saved to ESRI Shapefile.\n",
      "  gdf.to_file(input_pt,driver='ESRI Shapefile',crs=\"EPSG:\"+SpatialRef)\n"
     ]
    },
    {
     "name": "stdout",
     "output_type": "stream",
     "text": [
      "Turbidity in 2018 Winter caused an error:\n",
      "Invalid version: '3.4.0e'\n",
      "Now interpolating: Row 3; Area bb; Year 2018; Season Winter; para Secchi Depth\n"
     ]
    },
    {
     "name": "stderr",
     "output_type": "stream",
     "text": [
      "C:\\projects\\SEACAR_WQ_Pilot\\git\\Spatial_Interpolation\\..\\misc\\autointerpolation.py:173: UserWarning: Column names longer than 10 characters will be truncated when saved to ESRI Shapefile.\n",
      "  gdf.to_file(input_pt,driver='ESRI Shapefile',crs=\"EPSG:\"+SpatialRef)\n"
     ]
    },
    {
     "name": "stdout",
     "output_type": "stream",
     "text": [
      "Secchi Depth in 2018 Winter caused an error:\n",
      "Invalid version: '3.4.0e'\n",
      "Now interpolating: Row 4; Area bb; Year 2017; Season Fall; para Salinity\n"
     ]
    },
    {
     "name": "stderr",
     "output_type": "stream",
     "text": [
      "C:\\projects\\SEACAR_WQ_Pilot\\git\\Spatial_Interpolation\\..\\misc\\autointerpolation.py:173: UserWarning: Column names longer than 10 characters will be truncated when saved to ESRI Shapefile.\n",
      "  gdf.to_file(input_pt,driver='ESRI Shapefile',crs=\"EPSG:\"+SpatialRef)\n"
     ]
    },
    {
     "name": "stdout",
     "output_type": "stream",
     "text": [
      "Salinity in 2017 Fall caused an error:\n",
      "Invalid version: '3.4.0e'\n",
      "Now interpolating: Row 4; Area bb; Year 2017; Season Fall; para Total Nitrogen\n"
     ]
    },
    {
     "name": "stderr",
     "output_type": "stream",
     "text": [
      "C:\\projects\\SEACAR_WQ_Pilot\\git\\Spatial_Interpolation\\..\\misc\\autointerpolation.py:173: UserWarning: Column names longer than 10 characters will be truncated when saved to ESRI Shapefile.\n",
      "  gdf.to_file(input_pt,driver='ESRI Shapefile',crs=\"EPSG:\"+SpatialRef)\n"
     ]
    },
    {
     "name": "stdout",
     "output_type": "stream",
     "text": [
      "Total Nitrogen in 2017 Fall caused an error:\n",
      "Invalid version: '3.4.0e'\n",
      "Now interpolating: Row 4; Area bb; Year 2017; Season Fall; para Dissolved Oxygen\n"
     ]
    },
    {
     "name": "stderr",
     "output_type": "stream",
     "text": [
      "C:\\projects\\SEACAR_WQ_Pilot\\git\\Spatial_Interpolation\\..\\misc\\autointerpolation.py:173: UserWarning: Column names longer than 10 characters will be truncated when saved to ESRI Shapefile.\n",
      "  gdf.to_file(input_pt,driver='ESRI Shapefile',crs=\"EPSG:\"+SpatialRef)\n"
     ]
    },
    {
     "name": "stdout",
     "output_type": "stream",
     "text": [
      "Dissolved Oxygen in 2017 Fall caused an error:\n",
      "Invalid version: '3.4.0e'\n",
      "Now interpolating: Row 4; Area bb; Year 2017; Season Fall; para Turbidity\n"
     ]
    },
    {
     "name": "stderr",
     "output_type": "stream",
     "text": [
      "C:\\projects\\SEACAR_WQ_Pilot\\git\\Spatial_Interpolation\\..\\misc\\autointerpolation.py:173: UserWarning: Column names longer than 10 characters will be truncated when saved to ESRI Shapefile.\n",
      "  gdf.to_file(input_pt,driver='ESRI Shapefile',crs=\"EPSG:\"+SpatialRef)\n"
     ]
    },
    {
     "name": "stdout",
     "output_type": "stream",
     "text": [
      "Turbidity in 2017 Fall caused an error:\n",
      "Invalid version: '3.4.0e'\n",
      "Now interpolating: Row 4; Area bb; Year 2017; Season Fall; para Secchi Depth\n"
     ]
    },
    {
     "name": "stderr",
     "output_type": "stream",
     "text": [
      "C:\\projects\\SEACAR_WQ_Pilot\\git\\Spatial_Interpolation\\..\\misc\\autointerpolation.py:173: UserWarning: Column names longer than 10 characters will be truncated when saved to ESRI Shapefile.\n",
      "  gdf.to_file(input_pt,driver='ESRI Shapefile',crs=\"EPSG:\"+SpatialRef)\n"
     ]
    },
    {
     "name": "stdout",
     "output_type": "stream",
     "text": [
      "Secchi Depth in 2017 Fall caused an error:\n",
      "Invalid version: '3.4.0e'\n",
      "Now interpolating: Row 5; Area bb; Year 2017; Season Summer; para Salinity\n"
     ]
    },
    {
     "name": "stderr",
     "output_type": "stream",
     "text": [
      "C:\\projects\\SEACAR_WQ_Pilot\\git\\Spatial_Interpolation\\..\\misc\\autointerpolation.py:173: UserWarning: Column names longer than 10 characters will be truncated when saved to ESRI Shapefile.\n",
      "  gdf.to_file(input_pt,driver='ESRI Shapefile',crs=\"EPSG:\"+SpatialRef)\n"
     ]
    },
    {
     "name": "stdout",
     "output_type": "stream",
     "text": [
      "Salinity in 2017 Summer caused an error:\n",
      "Invalid version: '3.4.0e'\n",
      "Now interpolating: Row 5; Area bb; Year 2017; Season Summer; para Total Nitrogen\n"
     ]
    },
    {
     "name": "stderr",
     "output_type": "stream",
     "text": [
      "C:\\projects\\SEACAR_WQ_Pilot\\git\\Spatial_Interpolation\\..\\misc\\autointerpolation.py:173: UserWarning: Column names longer than 10 characters will be truncated when saved to ESRI Shapefile.\n",
      "  gdf.to_file(input_pt,driver='ESRI Shapefile',crs=\"EPSG:\"+SpatialRef)\n"
     ]
    },
    {
     "name": "stdout",
     "output_type": "stream",
     "text": [
      "Total Nitrogen in 2017 Summer caused an error:\n",
      "Invalid version: '3.4.0e'\n",
      "Now interpolating: Row 5; Area bb; Year 2017; Season Summer; para Dissolved Oxygen\n"
     ]
    },
    {
     "name": "stderr",
     "output_type": "stream",
     "text": [
      "C:\\projects\\SEACAR_WQ_Pilot\\git\\Spatial_Interpolation\\..\\misc\\autointerpolation.py:173: UserWarning: Column names longer than 10 characters will be truncated when saved to ESRI Shapefile.\n",
      "  gdf.to_file(input_pt,driver='ESRI Shapefile',crs=\"EPSG:\"+SpatialRef)\n"
     ]
    },
    {
     "name": "stdout",
     "output_type": "stream",
     "text": [
      "Dissolved Oxygen in 2017 Summer caused an error:\n",
      "Invalid version: '3.4.0e'\n",
      "Now interpolating: Row 5; Area bb; Year 2017; Season Summer; para Turbidity\n"
     ]
    },
    {
     "name": "stderr",
     "output_type": "stream",
     "text": [
      "C:\\projects\\SEACAR_WQ_Pilot\\git\\Spatial_Interpolation\\..\\misc\\autointerpolation.py:173: UserWarning: Column names longer than 10 characters will be truncated when saved to ESRI Shapefile.\n",
      "  gdf.to_file(input_pt,driver='ESRI Shapefile',crs=\"EPSG:\"+SpatialRef)\n"
     ]
    },
    {
     "name": "stdout",
     "output_type": "stream",
     "text": [
      "Turbidity in 2017 Summer caused an error:\n",
      "Invalid version: '3.4.0e'\n",
      "Now interpolating: Row 5; Area bb; Year 2017; Season Summer; para Secchi Depth\n"
     ]
    },
    {
     "name": "stderr",
     "output_type": "stream",
     "text": [
      "C:\\projects\\SEACAR_WQ_Pilot\\git\\Spatial_Interpolation\\..\\misc\\autointerpolation.py:173: UserWarning: Column names longer than 10 characters will be truncated when saved to ESRI Shapefile.\n",
      "  gdf.to_file(input_pt,driver='ESRI Shapefile',crs=\"EPSG:\"+SpatialRef)\n"
     ]
    },
    {
     "name": "stdout",
     "output_type": "stream",
     "text": [
      "Secchi Depth in 2017 Summer caused an error:\n",
      "Invalid version: '3.4.0e'\n",
      "Now interpolating: Row 6; Area bb; Year 2017; Season Spring; para Salinity\n"
     ]
    },
    {
     "name": "stderr",
     "output_type": "stream",
     "text": [
      "C:\\projects\\SEACAR_WQ_Pilot\\git\\Spatial_Interpolation\\..\\misc\\autointerpolation.py:173: UserWarning: Column names longer than 10 characters will be truncated when saved to ESRI Shapefile.\n",
      "  gdf.to_file(input_pt,driver='ESRI Shapefile',crs=\"EPSG:\"+SpatialRef)\n"
     ]
    },
    {
     "name": "stdout",
     "output_type": "stream",
     "text": [
      "Salinity in 2017 Spring caused an error:\n",
      "Invalid version: '3.4.0e'\n",
      "Now interpolating: Row 6; Area bb; Year 2017; Season Spring; para Total Nitrogen\n"
     ]
    },
    {
     "name": "stderr",
     "output_type": "stream",
     "text": [
      "C:\\projects\\SEACAR_WQ_Pilot\\git\\Spatial_Interpolation\\..\\misc\\autointerpolation.py:173: UserWarning: Column names longer than 10 characters will be truncated when saved to ESRI Shapefile.\n",
      "  gdf.to_file(input_pt,driver='ESRI Shapefile',crs=\"EPSG:\"+SpatialRef)\n"
     ]
    },
    {
     "name": "stdout",
     "output_type": "stream",
     "text": [
      "Total Nitrogen in 2017 Spring caused an error:\n",
      "Invalid version: '3.4.0e'\n",
      "Now interpolating: Row 6; Area bb; Year 2017; Season Spring; para Dissolved Oxygen\n"
     ]
    },
    {
     "name": "stderr",
     "output_type": "stream",
     "text": [
      "C:\\projects\\SEACAR_WQ_Pilot\\git\\Spatial_Interpolation\\..\\misc\\autointerpolation.py:173: UserWarning: Column names longer than 10 characters will be truncated when saved to ESRI Shapefile.\n",
      "  gdf.to_file(input_pt,driver='ESRI Shapefile',crs=\"EPSG:\"+SpatialRef)\n"
     ]
    },
    {
     "name": "stdout",
     "output_type": "stream",
     "text": [
      "Dissolved Oxygen in 2017 Spring caused an error:\n",
      "Invalid version: '3.4.0e'\n",
      "Now interpolating: Row 6; Area bb; Year 2017; Season Spring; para Turbidity\n"
     ]
    },
    {
     "name": "stderr",
     "output_type": "stream",
     "text": [
      "C:\\projects\\SEACAR_WQ_Pilot\\git\\Spatial_Interpolation\\..\\misc\\autointerpolation.py:173: UserWarning: Column names longer than 10 characters will be truncated when saved to ESRI Shapefile.\n",
      "  gdf.to_file(input_pt,driver='ESRI Shapefile',crs=\"EPSG:\"+SpatialRef)\n"
     ]
    },
    {
     "name": "stdout",
     "output_type": "stream",
     "text": [
      "Turbidity in 2017 Spring caused an error:\n",
      "Invalid version: '3.4.0e'\n",
      "Now interpolating: Row 6; Area bb; Year 2017; Season Spring; para Secchi Depth\n"
     ]
    },
    {
     "name": "stderr",
     "output_type": "stream",
     "text": [
      "C:\\projects\\SEACAR_WQ_Pilot\\git\\Spatial_Interpolation\\..\\misc\\autointerpolation.py:173: UserWarning: Column names longer than 10 characters will be truncated when saved to ESRI Shapefile.\n",
      "  gdf.to_file(input_pt,driver='ESRI Shapefile',crs=\"EPSG:\"+SpatialRef)\n"
     ]
    },
    {
     "name": "stdout",
     "output_type": "stream",
     "text": [
      "Secchi Depth in 2017 Spring caused an error:\n",
      "Invalid version: '3.4.0e'\n",
      "Now interpolating: Row 7; Area bb; Year 2017; Season Winter; para Salinity\n"
     ]
    },
    {
     "name": "stderr",
     "output_type": "stream",
     "text": [
      "C:\\projects\\SEACAR_WQ_Pilot\\git\\Spatial_Interpolation\\..\\misc\\autointerpolation.py:173: UserWarning: Column names longer than 10 characters will be truncated when saved to ESRI Shapefile.\n",
      "  gdf.to_file(input_pt,driver='ESRI Shapefile',crs=\"EPSG:\"+SpatialRef)\n"
     ]
    },
    {
     "name": "stdout",
     "output_type": "stream",
     "text": [
      "Salinity in 2017 Winter caused an error:\n",
      "Invalid version: '3.4.0e'\n",
      "Now interpolating: Row 7; Area bb; Year 2017; Season Winter; para Total Nitrogen\n"
     ]
    },
    {
     "name": "stderr",
     "output_type": "stream",
     "text": [
      "C:\\projects\\SEACAR_WQ_Pilot\\git\\Spatial_Interpolation\\..\\misc\\autointerpolation.py:173: UserWarning: Column names longer than 10 characters will be truncated when saved to ESRI Shapefile.\n",
      "  gdf.to_file(input_pt,driver='ESRI Shapefile',crs=\"EPSG:\"+SpatialRef)\n"
     ]
    },
    {
     "name": "stdout",
     "output_type": "stream",
     "text": [
      "Total Nitrogen in 2017 Winter caused an error:\n",
      "Invalid version: '3.4.0e'\n",
      "Now interpolating: Row 7; Area bb; Year 2017; Season Winter; para Dissolved Oxygen\n"
     ]
    },
    {
     "name": "stderr",
     "output_type": "stream",
     "text": [
      "C:\\projects\\SEACAR_WQ_Pilot\\git\\Spatial_Interpolation\\..\\misc\\autointerpolation.py:173: UserWarning: Column names longer than 10 characters will be truncated when saved to ESRI Shapefile.\n",
      "  gdf.to_file(input_pt,driver='ESRI Shapefile',crs=\"EPSG:\"+SpatialRef)\n"
     ]
    },
    {
     "name": "stdout",
     "output_type": "stream",
     "text": [
      "Dissolved Oxygen in 2017 Winter caused an error:\n",
      "Invalid version: '3.4.0e'\n",
      "Now interpolating: Row 7; Area bb; Year 2017; Season Winter; para Turbidity\n"
     ]
    },
    {
     "name": "stderr",
     "output_type": "stream",
     "text": [
      "C:\\projects\\SEACAR_WQ_Pilot\\git\\Spatial_Interpolation\\..\\misc\\autointerpolation.py:173: UserWarning: Column names longer than 10 characters will be truncated when saved to ESRI Shapefile.\n",
      "  gdf.to_file(input_pt,driver='ESRI Shapefile',crs=\"EPSG:\"+SpatialRef)\n"
     ]
    },
    {
     "name": "stdout",
     "output_type": "stream",
     "text": [
      "Turbidity in 2017 Winter caused an error:\n",
      "Invalid version: '3.4.0e'\n",
      "Now interpolating: Row 7; Area bb; Year 2017; Season Winter; para Secchi Depth\n"
     ]
    },
    {
     "name": "stderr",
     "output_type": "stream",
     "text": [
      "C:\\projects\\SEACAR_WQ_Pilot\\git\\Spatial_Interpolation\\..\\misc\\autointerpolation.py:173: UserWarning: Column names longer than 10 characters will be truncated when saved to ESRI Shapefile.\n",
      "  gdf.to_file(input_pt,driver='ESRI Shapefile',crs=\"EPSG:\"+SpatialRef)\n"
     ]
    },
    {
     "name": "stdout",
     "output_type": "stream",
     "text": [
      "Secchi Depth in 2017 Winter caused an error:\n",
      "Invalid version: '3.4.0e'\n",
      "Now interpolating: Row 8; Area bb; Year 2016; Season Fall; para Salinity\n"
     ]
    },
    {
     "name": "stderr",
     "output_type": "stream",
     "text": [
      "C:\\projects\\SEACAR_WQ_Pilot\\git\\Spatial_Interpolation\\..\\misc\\autointerpolation.py:173: UserWarning: Column names longer than 10 characters will be truncated when saved to ESRI Shapefile.\n",
      "  gdf.to_file(input_pt,driver='ESRI Shapefile',crs=\"EPSG:\"+SpatialRef)\n"
     ]
    },
    {
     "name": "stdout",
     "output_type": "stream",
     "text": [
      "Salinity in 2016 Fall caused an error:\n",
      "Invalid version: '3.4.0e'\n",
      "Now interpolating: Row 8; Area bb; Year 2016; Season Fall; para Total Nitrogen\n"
     ]
    },
    {
     "name": "stderr",
     "output_type": "stream",
     "text": [
      "C:\\projects\\SEACAR_WQ_Pilot\\git\\Spatial_Interpolation\\..\\misc\\autointerpolation.py:173: UserWarning: Column names longer than 10 characters will be truncated when saved to ESRI Shapefile.\n",
      "  gdf.to_file(input_pt,driver='ESRI Shapefile',crs=\"EPSG:\"+SpatialRef)\n"
     ]
    },
    {
     "name": "stdout",
     "output_type": "stream",
     "text": [
      "Total Nitrogen in 2016 Fall caused an error:\n",
      "Invalid version: '3.4.0e'\n",
      "Now interpolating: Row 8; Area bb; Year 2016; Season Fall; para Dissolved Oxygen\n"
     ]
    },
    {
     "name": "stderr",
     "output_type": "stream",
     "text": [
      "C:\\projects\\SEACAR_WQ_Pilot\\git\\Spatial_Interpolation\\..\\misc\\autointerpolation.py:173: UserWarning: Column names longer than 10 characters will be truncated when saved to ESRI Shapefile.\n",
      "  gdf.to_file(input_pt,driver='ESRI Shapefile',crs=\"EPSG:\"+SpatialRef)\n"
     ]
    },
    {
     "name": "stdout",
     "output_type": "stream",
     "text": [
      "Dissolved Oxygen in 2016 Fall caused an error:\n",
      "Invalid version: '3.4.0e'\n",
      "Now interpolating: Row 8; Area bb; Year 2016; Season Fall; para Turbidity\n"
     ]
    },
    {
     "name": "stderr",
     "output_type": "stream",
     "text": [
      "C:\\projects\\SEACAR_WQ_Pilot\\git\\Spatial_Interpolation\\..\\misc\\autointerpolation.py:173: UserWarning: Column names longer than 10 characters will be truncated when saved to ESRI Shapefile.\n",
      "  gdf.to_file(input_pt,driver='ESRI Shapefile',crs=\"EPSG:\"+SpatialRef)\n"
     ]
    },
    {
     "name": "stdout",
     "output_type": "stream",
     "text": [
      "Turbidity in 2016 Fall caused an error:\n",
      "Invalid version: '3.4.0e'\n",
      "Now interpolating: Row 8; Area bb; Year 2016; Season Fall; para Secchi Depth\n"
     ]
    },
    {
     "name": "stderr",
     "output_type": "stream",
     "text": [
      "C:\\projects\\SEACAR_WQ_Pilot\\git\\Spatial_Interpolation\\..\\misc\\autointerpolation.py:173: UserWarning: Column names longer than 10 characters will be truncated when saved to ESRI Shapefile.\n",
      "  gdf.to_file(input_pt,driver='ESRI Shapefile',crs=\"EPSG:\"+SpatialRef)\n"
     ]
    },
    {
     "name": "stdout",
     "output_type": "stream",
     "text": [
      "Secchi Depth in 2016 Fall caused an error:\n",
      "Invalid version: '3.4.0e'\n",
      "Now interpolating: Row 9; Area bb; Year 2016; Season Summer; para Salinity\n"
     ]
    },
    {
     "name": "stderr",
     "output_type": "stream",
     "text": [
      "C:\\projects\\SEACAR_WQ_Pilot\\git\\Spatial_Interpolation\\..\\misc\\autointerpolation.py:173: UserWarning: Column names longer than 10 characters will be truncated when saved to ESRI Shapefile.\n",
      "  gdf.to_file(input_pt,driver='ESRI Shapefile',crs=\"EPSG:\"+SpatialRef)\n"
     ]
    },
    {
     "name": "stdout",
     "output_type": "stream",
     "text": [
      "Salinity in 2016 Summer caused an error:\n",
      "Invalid version: '3.4.0e'\n",
      "Now interpolating: Row 9; Area bb; Year 2016; Season Summer; para Total Nitrogen\n"
     ]
    },
    {
     "name": "stderr",
     "output_type": "stream",
     "text": [
      "C:\\projects\\SEACAR_WQ_Pilot\\git\\Spatial_Interpolation\\..\\misc\\autointerpolation.py:173: UserWarning: Column names longer than 10 characters will be truncated when saved to ESRI Shapefile.\n",
      "  gdf.to_file(input_pt,driver='ESRI Shapefile',crs=\"EPSG:\"+SpatialRef)\n"
     ]
    },
    {
     "name": "stdout",
     "output_type": "stream",
     "text": [
      "Total Nitrogen in 2016 Summer caused an error:\n",
      "Invalid version: '3.4.0e'\n",
      "Now interpolating: Row 9; Area bb; Year 2016; Season Summer; para Dissolved Oxygen\n"
     ]
    },
    {
     "name": "stderr",
     "output_type": "stream",
     "text": [
      "C:\\projects\\SEACAR_WQ_Pilot\\git\\Spatial_Interpolation\\..\\misc\\autointerpolation.py:173: UserWarning: Column names longer than 10 characters will be truncated when saved to ESRI Shapefile.\n",
      "  gdf.to_file(input_pt,driver='ESRI Shapefile',crs=\"EPSG:\"+SpatialRef)\n"
     ]
    },
    {
     "name": "stdout",
     "output_type": "stream",
     "text": [
      "Dissolved Oxygen in 2016 Summer caused an error:\n",
      "Invalid version: '3.4.0e'\n",
      "Now interpolating: Row 9; Area bb; Year 2016; Season Summer; para Turbidity\n"
     ]
    },
    {
     "name": "stderr",
     "output_type": "stream",
     "text": [
      "C:\\projects\\SEACAR_WQ_Pilot\\git\\Spatial_Interpolation\\..\\misc\\autointerpolation.py:173: UserWarning: Column names longer than 10 characters will be truncated when saved to ESRI Shapefile.\n",
      "  gdf.to_file(input_pt,driver='ESRI Shapefile',crs=\"EPSG:\"+SpatialRef)\n"
     ]
    },
    {
     "name": "stdout",
     "output_type": "stream",
     "text": [
      "Turbidity in 2016 Summer caused an error:\n",
      "Invalid version: '3.4.0e'\n",
      "Now interpolating: Row 9; Area bb; Year 2016; Season Summer; para Secchi Depth\n"
     ]
    },
    {
     "name": "stderr",
     "output_type": "stream",
     "text": [
      "C:\\projects\\SEACAR_WQ_Pilot\\git\\Spatial_Interpolation\\..\\misc\\autointerpolation.py:173: UserWarning: Column names longer than 10 characters will be truncated when saved to ESRI Shapefile.\n",
      "  gdf.to_file(input_pt,driver='ESRI Shapefile',crs=\"EPSG:\"+SpatialRef)\n"
     ]
    },
    {
     "name": "stdout",
     "output_type": "stream",
     "text": [
      "Secchi Depth in 2016 Summer caused an error:\n",
      "Invalid version: '3.4.0e'\n",
      "Now interpolating: Row 10; Area bb; Year 2016; Season Spring; para Salinity\n"
     ]
    },
    {
     "name": "stderr",
     "output_type": "stream",
     "text": [
      "C:\\projects\\SEACAR_WQ_Pilot\\git\\Spatial_Interpolation\\..\\misc\\autointerpolation.py:173: UserWarning: Column names longer than 10 characters will be truncated when saved to ESRI Shapefile.\n",
      "  gdf.to_file(input_pt,driver='ESRI Shapefile',crs=\"EPSG:\"+SpatialRef)\n"
     ]
    },
    {
     "name": "stdout",
     "output_type": "stream",
     "text": [
      "Salinity in 2016 Spring caused an error:\n",
      "Invalid version: '3.4.0e'\n",
      "Now interpolating: Row 10; Area bb; Year 2016; Season Spring; para Total Nitrogen\n"
     ]
    },
    {
     "name": "stderr",
     "output_type": "stream",
     "text": [
      "C:\\projects\\SEACAR_WQ_Pilot\\git\\Spatial_Interpolation\\..\\misc\\autointerpolation.py:173: UserWarning: Column names longer than 10 characters will be truncated when saved to ESRI Shapefile.\n",
      "  gdf.to_file(input_pt,driver='ESRI Shapefile',crs=\"EPSG:\"+SpatialRef)\n"
     ]
    },
    {
     "name": "stdout",
     "output_type": "stream",
     "text": [
      "Total Nitrogen in 2016 Spring caused an error:\n",
      "Invalid version: '3.4.0e'\n",
      "Now interpolating: Row 10; Area bb; Year 2016; Season Spring; para Dissolved Oxygen\n"
     ]
    },
    {
     "name": "stderr",
     "output_type": "stream",
     "text": [
      "C:\\projects\\SEACAR_WQ_Pilot\\git\\Spatial_Interpolation\\..\\misc\\autointerpolation.py:173: UserWarning: Column names longer than 10 characters will be truncated when saved to ESRI Shapefile.\n",
      "  gdf.to_file(input_pt,driver='ESRI Shapefile',crs=\"EPSG:\"+SpatialRef)\n"
     ]
    },
    {
     "name": "stdout",
     "output_type": "stream",
     "text": [
      "Dissolved Oxygen in 2016 Spring caused an error:\n",
      "Invalid version: '3.4.0e'\n",
      "Now interpolating: Row 10; Area bb; Year 2016; Season Spring; para Turbidity\n"
     ]
    },
    {
     "name": "stderr",
     "output_type": "stream",
     "text": [
      "C:\\projects\\SEACAR_WQ_Pilot\\git\\Spatial_Interpolation\\..\\misc\\autointerpolation.py:173: UserWarning: Column names longer than 10 characters will be truncated when saved to ESRI Shapefile.\n",
      "  gdf.to_file(input_pt,driver='ESRI Shapefile',crs=\"EPSG:\"+SpatialRef)\n"
     ]
    },
    {
     "name": "stdout",
     "output_type": "stream",
     "text": [
      "Turbidity in 2016 Spring caused an error:\n",
      "Invalid version: '3.4.0e'\n",
      "Now interpolating: Row 10; Area bb; Year 2016; Season Spring; para Secchi Depth\n"
     ]
    },
    {
     "name": "stderr",
     "output_type": "stream",
     "text": [
      "C:\\projects\\SEACAR_WQ_Pilot\\git\\Spatial_Interpolation\\..\\misc\\autointerpolation.py:173: UserWarning: Column names longer than 10 characters will be truncated when saved to ESRI Shapefile.\n",
      "  gdf.to_file(input_pt,driver='ESRI Shapefile',crs=\"EPSG:\"+SpatialRef)\n"
     ]
    },
    {
     "name": "stdout",
     "output_type": "stream",
     "text": [
      "Secchi Depth in 2016 Spring caused an error:\n",
      "Invalid version: '3.4.0e'\n",
      "Now interpolating: Row 11; Area bb; Year 2016; Season Winter; para Salinity\n"
     ]
    },
    {
     "name": "stderr",
     "output_type": "stream",
     "text": [
      "C:\\projects\\SEACAR_WQ_Pilot\\git\\Spatial_Interpolation\\..\\misc\\autointerpolation.py:173: UserWarning: Column names longer than 10 characters will be truncated when saved to ESRI Shapefile.\n",
      "  gdf.to_file(input_pt,driver='ESRI Shapefile',crs=\"EPSG:\"+SpatialRef)\n"
     ]
    },
    {
     "name": "stdout",
     "output_type": "stream",
     "text": [
      "Salinity in 2016 Winter caused an error:\n",
      "Invalid version: '3.4.0e'\n",
      "Now interpolating: Row 11; Area bb; Year 2016; Season Winter; para Total Nitrogen\n"
     ]
    },
    {
     "name": "stderr",
     "output_type": "stream",
     "text": [
      "C:\\projects\\SEACAR_WQ_Pilot\\git\\Spatial_Interpolation\\..\\misc\\autointerpolation.py:173: UserWarning: Column names longer than 10 characters will be truncated when saved to ESRI Shapefile.\n",
      "  gdf.to_file(input_pt,driver='ESRI Shapefile',crs=\"EPSG:\"+SpatialRef)\n"
     ]
    },
    {
     "name": "stdout",
     "output_type": "stream",
     "text": [
      "Total Nitrogen in 2016 Winter caused an error:\n",
      "Invalid version: '3.4.0e'\n",
      "Now interpolating: Row 11; Area bb; Year 2016; Season Winter; para Dissolved Oxygen\n"
     ]
    },
    {
     "name": "stderr",
     "output_type": "stream",
     "text": [
      "C:\\projects\\SEACAR_WQ_Pilot\\git\\Spatial_Interpolation\\..\\misc\\autointerpolation.py:173: UserWarning: Column names longer than 10 characters will be truncated when saved to ESRI Shapefile.\n",
      "  gdf.to_file(input_pt,driver='ESRI Shapefile',crs=\"EPSG:\"+SpatialRef)\n"
     ]
    },
    {
     "name": "stdout",
     "output_type": "stream",
     "text": [
      "Dissolved Oxygen in 2016 Winter caused an error:\n",
      "Invalid version: '3.4.0e'\n",
      "Now interpolating: Row 11; Area bb; Year 2016; Season Winter; para Turbidity\n"
     ]
    },
    {
     "name": "stderr",
     "output_type": "stream",
     "text": [
      "C:\\projects\\SEACAR_WQ_Pilot\\git\\Spatial_Interpolation\\..\\misc\\autointerpolation.py:173: UserWarning: Column names longer than 10 characters will be truncated when saved to ESRI Shapefile.\n",
      "  gdf.to_file(input_pt,driver='ESRI Shapefile',crs=\"EPSG:\"+SpatialRef)\n"
     ]
    },
    {
     "name": "stdout",
     "output_type": "stream",
     "text": [
      "Turbidity in 2016 Winter caused an error:\n",
      "Invalid version: '3.4.0e'\n",
      "Now interpolating: Row 11; Area bb; Year 2016; Season Winter; para Secchi Depth\n",
      "Secchi Depth in 2016 Winter caused an error:\n",
      "Invalid version: '3.4.0e'\n"
     ]
    },
    {
     "name": "stderr",
     "output_type": "stream",
     "text": [
      "C:\\projects\\SEACAR_WQ_Pilot\\git\\Spatial_Interpolation\\..\\misc\\autointerpolation.py:173: UserWarning: Column names longer than 10 characters will be truncated when saved to ESRI Shapefile.\n",
      "  gdf.to_file(input_pt,driver='ESRI Shapefile',crs=\"EPSG:\"+SpatialRef)\n"
     ]
    }
   ],
   "source": [
    "for i in dfSeason.index:\n",
    "#for i in range(177, 178):\n",
    "    # if dfSeason.iloc[i][\"Processed\"] == 1: continue\n",
    "    for para in listPara[0:5]:\n",
    "        print(\"Now interpolating: Row {}; Area {}; Year {}; Season {}; para {}\".format(i,dictArea3[dfSeason.iloc[i][\"ma\"]], dfSeason.iloc[i][\"st_Year\"], dfSeason.iloc[i][\"season\"],para))\n",
    "        out_raster,out_ga_layer,ga_to_raster = misc.autointerpolation.interpolation_auto(method = \"rk\",\n",
    "                                                                                         gis_path  = gis_path,\n",
    "                                                                                         dataframe = dfAll,\n",
    "                                                                                         managed_area = dfSeason.iloc[i][\"ma\"],\n",
    "                                                                                         Year = dfSeason.iloc[i][\"st_Year\"],\n",
    "                                                                                         Season = dfSeason.iloc[i][\"season\"],\n",
    "                                                                                         start_date = dfSeason.iloc[i][\"s_start\"],\n",
    "                                                                                         end_date = dfSeason.iloc[i][\"s_end\"],\n",
    "                                                                                         parameter = para,\n",
    "                                                                                         covariates = dfSeason.iloc[i][\"covariates\"].split(\"+\"))\n",
    "#                                                                                          out_raster = name,\n",
    "#                                                                                          out_ga_layer = name,\n",
    "#                                                                                          predict_std_err = name)\n",
    "        dfSeason.loc[i, para] = out_raster\n",
    "        dfSeason.to_csv(path + 'output.csv')"
   ]
  }
 ],
 "metadata": {
  "kernelspec": {
   "display_name": "Python 3 (ipykernel)",
   "language": "python",
   "name": "python3"
  },
  "language_info": {
   "codemirror_mode": {
    "name": "ipython",
    "version": 3
   },
   "file_extension": ".py",
   "mimetype": "text/x-python",
   "name": "python",
   "nbconvert_exporter": "python",
   "pygments_lexer": "ipython3",
   "version": "3.9.16"
  }
 },
 "nbformat": 4,
 "nbformat_minor": 5
}
