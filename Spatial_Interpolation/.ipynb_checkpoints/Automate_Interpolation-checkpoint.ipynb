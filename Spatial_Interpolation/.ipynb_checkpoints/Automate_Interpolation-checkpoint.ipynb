{
 "cells": [
  {
   "cell_type": "code",
   "execution_count": 1,
   "id": "2088e62a",
   "metadata": {},
   "outputs": [
    {
     "data": {
      "text/plain": [
       "<module 'misc' (namespace)>"
      ]
     },
     "execution_count": 1,
     "metadata": {},
     "output_type": "execute_result"
    }
   ],
   "source": [
    "import pandas as pd\n",
    "import geopandas as gpd\n",
    "import numpy as np\n",
    "\n",
    "import sys\n",
    "sys.path.append('..')\n",
    "import misc.autointerpolation\n",
    "\n",
    "# Reload misc module after editing\n",
    "import importlib\n",
    "importlib.reload(misc.autointerpolation)\n",
    "importlib.reload(misc)"
   ]
  },
  {
   "cell_type": "markdown",
   "id": "d330138f",
   "metadata": {},
   "source": [
    "# 1. Load and Preprocess Data <a class=\"anchor\" id=\"load_data\"></a>"
   ]
  },
  {
   "cell_type": "code",
   "execution_count": 2,
   "id": "d77e5a6f",
   "metadata": {},
   "outputs": [],
   "source": [
    "path = \"E:/Projects/SEACAR_WQ_Pilot/\"\n",
    "gis_path = path+'GIS_data/'\n",
    "\n",
    "# path = \"D:/Water_Quailty/\"\n",
    "# gis_path = path+'GIS_data/'"
   ]
  },
  {
   "cell_type": "markdown",
   "id": "059389ba",
   "metadata": {},
   "source": [
    "Combine and preprocess discrete and continuous data."
   ]
  },
  {
   "cell_type": "code",
   "execution_count": 3,
   "id": "f55027ce",
   "metadata": {},
   "outputs": [],
   "source": [
    "# dfDis, dfCon = misc.preprocess.preprocess(path + r\"OEAT_Discrete-2023-Jan-23.csv\", \n",
    "#                     path + r\"OEAT_Continuous_1-2023-Jan-23.csv\",\n",
    "#                     path + r\"OEAT_Continuous_2-2023-Jan-23.csv\")\n",
    "\n",
    "# dfAll = pd.concat([dfDis,dfCon]).drop(columns = ['Hour'])\n",
    "\n",
    "# dfAll.to_csv(path + \"all_0214.csv\")"
   ]
  },
  {
   "cell_type": "code",
   "execution_count": 4,
   "id": "79c74877",
   "metadata": {},
   "outputs": [
    {
     "name": "stderr",
     "output_type": "stream",
     "text": [
      "C:\\Users\\qiangy\\AppData\\Local\\ESRI\\conda\\envs\\geo3\\lib\\site-packages\\IPython\\core\\interactiveshell.py:3442: DtypeWarning: Columns (6,12) have mixed types.Specify dtype option on import or set low_memory=False.\n",
      "  exec(code_obj, self.user_global_ns, self.user_ns)\n"
     ]
    }
   ],
   "source": [
    "# Reload modules in external .py files after editing.\n",
    "dfAll = pd.read_csv(path + \"all_0214.csv\").drop(columns=['Unnamed: 0','Unnamed: 0.1','RowID','ValueQualifier'])\n",
    "# Convert SampleDate froms str to date\n",
    "dfAll['SampleDate'] = pd.to_datetime(dfAll['SampleDate']).dt.date"
   ]
  },
  {
   "cell_type": "code",
   "execution_count": 5,
   "id": "c06d298a",
   "metadata": {},
   "outputs": [],
   "source": [
    "col_ls = ['RowID','ParameterName','ParameterUnits','ProgramLocationID','ActivityType','ManagedAreaName',\n",
    "                   'SampleDate','Year','Month','ResultValue','ValueQualifier','Latitude_DD','Longitude_DD']\n",
    "para_ls = [\"Salinity\",\"Total Nitrogen\",\"Dissolved Oxygen\",\"Turbidity\",\"Secchi Depth\"]\n",
    "para_ls_ab = [\"S\",\"TN\",\"DO\",\"T\",\"SD\"]\n",
    "# Convert full MA names to short names\n",
    "dictArea    = {'Gasparilla Sound-Charlotte Harbor Aquatic Preserve':'Charlotte Harbor','Big Bend Seagrasses Aquatic Preserve':'Big Bend',\n",
    "                'Guana Tolomato Matanzas National Estuarine Research Reserve':'GTM Reserve','Estero Bay Aquatic Preserve':'Estero Bay',\n",
    "                'Biscayne Bay Aquatic Preserve':'Biscayne Bay','Matlacha Pass Aquatic Preserve':'Matlacha Pass AP',\n",
    "                'Lemon Bay Aquatic Preserve':'Lemon Bay','Cape Haze Aquatic Preserve':'Cape Haze','Pine Island Sound Aquatic Preserve':'Pine Island'}\n",
    "\n",
    "# Convert full MA names to MA name in ORCP_Managed_Areas_Oct2021\n",
    "dictArea2    = {'Gasparilla Sound-Charlotte Harbor Aquatic Preserve':'Gasparilla Sound-Charlotte Harbor','Big Bend Seagrasses Aquatic Preserve':'Big Bend Seagrasses',\n",
    "                'Guana Tolomato Matanzas National Estuarine Research Reserve':'Guana Tolomato Matanzas NERR','Estero Bay Aquatic Preserve':'Estero Bay',\n",
    "                'Biscayne Bay Aquatic Preserve':'Biscayne Bay','Matlacha Pass Aquatic Preserve':'Matlacha Pass',\n",
    "                'Lemon Bay Aquatic Preserve':'Lemon Bay','Cape Haze Aquatic Preserve':'Cape Haze','Pine Island Sound Aquatic Preserve':'Pine Island Sound'}\n",
    "\n",
    "# Convert full MA names to abbreviations\n",
    "dictArea3    = {'Gasparilla Sound-Charlotte Harbor Aquatic Preserve':'ch','Big Bend Seagrasses Aquatic Preserve':'bb',\n",
    "                'Guana Tolomato Matanzas National Estuarine Research Reserve':'gtm','Estero Bay Aquatic Preserve':'eb',\n",
    "                'Biscayne Bay Aquatic Preserve':'bbay','Matlacha Pass Aquatic Preserve':'mp',\n",
    "                'Lemon Bay Aquatic Preserve':'lb','Cape Haze Aquatic Preserve':'ch','Pine Island Sound Aquatic Preserve':'pi'}\n",
    "\n",
    "dictPara = {\"Salinity\":'S','Total Nitrogen':'TN','Dissolved Oxygen':'DO','Turbidity':'T','Secchi Depth':'SD'}\n",
    "dictUnits   = {\"Salinity\":\"ppt\",\"Total Nitrogen\": \"mg/L\",\"Dissolved Oxygen\": \"mg/L\",\"Turbidity\": \"NTU\", \"Secchi Depth\": \"m\"}\n",
    "listArea    = dfAll[\"ManagedAreaName\"].unique()\n",
    "listPara    = [\"Salinity\",\"Total Nitrogen\",\"Dissolved Oxygen\",\"Turbidity\",\"Secchi Depth\"]\n",
    "SpatialRef = '3086'"
   ]
  },
  {
   "cell_type": "markdown",
   "id": "3ec4b8c3",
   "metadata": {},
   "source": [
    "# 2. Run spatial interpolation through seasonality table <a class=\"anchor\" id=\"combine\"></a>"
   ]
  },
  {
   "cell_type": "markdown",
   "id": "fffe4d2b",
   "metadata": {},
   "source": [
    "Delete incorrect seasons"
   ]
  },
  {
   "cell_type": "code",
   "execution_count": 6,
   "id": "10cefb2b",
   "metadata": {
    "scrolled": false
   },
   "outputs": [
    {
     "data": {
      "text/html": [
       "<div>\n",
       "<style scoped>\n",
       "    .dataframe tbody tr th:only-of-type {\n",
       "        vertical-align: middle;\n",
       "    }\n",
       "\n",
       "    .dataframe tbody tr th {\n",
       "        vertical-align: top;\n",
       "    }\n",
       "\n",
       "    .dataframe thead th {\n",
       "        text-align: right;\n",
       "    }\n",
       "</style>\n",
       "<table border=\"1\" class=\"dataframe\">\n",
       "  <thead>\n",
       "    <tr style=\"text-align: right;\">\n",
       "      <th></th>\n",
       "      <th>Unnamed: 0.1</th>\n",
       "      <th>param</th>\n",
       "      <th>ma</th>\n",
       "      <th>st_Year</th>\n",
       "      <th>season</th>\n",
       "      <th>med_seamo_ma</th>\n",
       "      <th>s_start</th>\n",
       "      <th>s_end</th>\n",
       "      <th>date_range</th>\n",
       "      <th>covariates</th>\n",
       "      <th>Processed</th>\n",
       "      <th>Total Nitrogen</th>\n",
       "      <th>Dissolved Oxygen</th>\n",
       "      <th>Salinity</th>\n",
       "      <th>Secchi Depth</th>\n",
       "      <th>Turbidity</th>\n",
       "    </tr>\n",
       "  </thead>\n",
       "  <tbody>\n",
       "    <tr>\n",
       "      <th>0</th>\n",
       "      <td>147</td>\n",
       "      <td>temp</td>\n",
       "      <td>Estero Bay Aquatic Preserve</td>\n",
       "      <td>2022</td>\n",
       "      <td>Summer</td>\n",
       "      <td>7-Jun</td>\n",
       "      <td>2022-06-07</td>\n",
       "      <td>2022-08-26</td>\n",
       "      <td>80</td>\n",
       "      <td>bathymetry+LDI+popden</td>\n",
       "      <td>1</td>\n",
       "      <td>E:/Projects/SEACAR_WQ_Pilot/GIS_data/output_ra...</td>\n",
       "      <td>E:/Projects/SEACAR_WQ_Pilot/GIS_data/output_ra...</td>\n",
       "      <td>NaN</td>\n",
       "      <td>NaN</td>\n",
       "      <td>E:/Projects/SEACAR_WQ_Pilot/GIS_data/output_ra...</td>\n",
       "    </tr>\n",
       "    <tr>\n",
       "      <th>1</th>\n",
       "      <td>71</td>\n",
       "      <td>temp</td>\n",
       "      <td>Biscayne Bay Aquatic Preserve</td>\n",
       "      <td>2022</td>\n",
       "      <td>Summer</td>\n",
       "      <td>1-Jun</td>\n",
       "      <td>2022-06-01</td>\n",
       "      <td>2022-08-26</td>\n",
       "      <td>86</td>\n",
       "      <td>bathymetry+LDI+popden</td>\n",
       "      <td>1</td>\n",
       "      <td>NaN</td>\n",
       "      <td>NaN</td>\n",
       "      <td>NaN</td>\n",
       "      <td>NaN</td>\n",
       "      <td>NaN</td>\n",
       "    </tr>\n",
       "    <tr>\n",
       "      <th>2</th>\n",
       "      <td>70</td>\n",
       "      <td>temp</td>\n",
       "      <td>Biscayne Bay Aquatic Preserve</td>\n",
       "      <td>2022</td>\n",
       "      <td>Spring</td>\n",
       "      <td>2-Mar</td>\n",
       "      <td>2022-03-02</td>\n",
       "      <td>2022-05-31</td>\n",
       "      <td>90</td>\n",
       "      <td>bathymetry+LDI+popden</td>\n",
       "      <td>1</td>\n",
       "      <td>E:/Projects/SEACAR_WQ_Pilot/GIS_data/output_ra...</td>\n",
       "      <td>E:/Projects/SEACAR_WQ_Pilot/GIS_data/output_ra...</td>\n",
       "      <td>E:/Projects/SEACAR_WQ_Pilot/GIS_data/output_ra...</td>\n",
       "      <td>NaN</td>\n",
       "      <td>E:/Projects/SEACAR_WQ_Pilot/GIS_data/output_ra...</td>\n",
       "    </tr>\n",
       "    <tr>\n",
       "      <th>3</th>\n",
       "      <td>146</td>\n",
       "      <td>temp</td>\n",
       "      <td>Estero Bay Aquatic Preserve</td>\n",
       "      <td>2022</td>\n",
       "      <td>Spring</td>\n",
       "      <td>27-Feb</td>\n",
       "      <td>2022-02-27</td>\n",
       "      <td>2022-06-06</td>\n",
       "      <td>99</td>\n",
       "      <td>bathymetry+LDI+popden</td>\n",
       "      <td>1</td>\n",
       "      <td>E:/Projects/SEACAR_WQ_Pilot/GIS_data/output_ra...</td>\n",
       "      <td>E:/Projects/SEACAR_WQ_Pilot/GIS_data/output_ra...</td>\n",
       "      <td>NaN</td>\n",
       "      <td>NaN</td>\n",
       "      <td>E:/Projects/SEACAR_WQ_Pilot/GIS_data/output_ra...</td>\n",
       "    </tr>\n",
       "    <tr>\n",
       "      <th>4</th>\n",
       "      <td>69</td>\n",
       "      <td>temp</td>\n",
       "      <td>Biscayne Bay Aquatic Preserve</td>\n",
       "      <td>2022</td>\n",
       "      <td>Winter</td>\n",
       "      <td>8-Feb</td>\n",
       "      <td>2022-02-08</td>\n",
       "      <td>2022-03-01</td>\n",
       "      <td>21</td>\n",
       "      <td>bathymetry+LDI+popden</td>\n",
       "      <td>1</td>\n",
       "      <td>E:/Projects/SEACAR_WQ_Pilot/GIS_data/output_ra...</td>\n",
       "      <td>E:/Projects/SEACAR_WQ_Pilot/GIS_data/output_ra...</td>\n",
       "      <td>E:/Projects/SEACAR_WQ_Pilot/GIS_data/output_ra...</td>\n",
       "      <td>NaN</td>\n",
       "      <td>E:/Projects/SEACAR_WQ_Pilot/GIS_data/output_ra...</td>\n",
       "    </tr>\n",
       "  </tbody>\n",
       "</table>\n",
       "</div>"
      ],
      "text/plain": [
       "   Unnamed: 0.1 param                             ma  st_Year  season  \\\n",
       "0           147  temp    Estero Bay Aquatic Preserve     2022  Summer   \n",
       "1            71  temp  Biscayne Bay Aquatic Preserve     2022  Summer   \n",
       "2            70  temp  Biscayne Bay Aquatic Preserve     2022  Spring   \n",
       "3           146  temp    Estero Bay Aquatic Preserve     2022  Spring   \n",
       "4            69  temp  Biscayne Bay Aquatic Preserve     2022  Winter   \n",
       "\n",
       "  med_seamo_ma    s_start      s_end  date_range             covariates  \\\n",
       "0        7-Jun 2022-06-07 2022-08-26          80  bathymetry+LDI+popden   \n",
       "1        1-Jun 2022-06-01 2022-08-26          86  bathymetry+LDI+popden   \n",
       "2        2-Mar 2022-03-02 2022-05-31          90  bathymetry+LDI+popden   \n",
       "3       27-Feb 2022-02-27 2022-06-06          99  bathymetry+LDI+popden   \n",
       "4        8-Feb 2022-02-08 2022-03-01          21  bathymetry+LDI+popden   \n",
       "\n",
       "   Processed                                     Total Nitrogen  \\\n",
       "0          1  E:/Projects/SEACAR_WQ_Pilot/GIS_data/output_ra...   \n",
       "1          1                                                NaN   \n",
       "2          1  E:/Projects/SEACAR_WQ_Pilot/GIS_data/output_ra...   \n",
       "3          1  E:/Projects/SEACAR_WQ_Pilot/GIS_data/output_ra...   \n",
       "4          1  E:/Projects/SEACAR_WQ_Pilot/GIS_data/output_ra...   \n",
       "\n",
       "                                    Dissolved Oxygen  \\\n",
       "0  E:/Projects/SEACAR_WQ_Pilot/GIS_data/output_ra...   \n",
       "1                                                NaN   \n",
       "2  E:/Projects/SEACAR_WQ_Pilot/GIS_data/output_ra...   \n",
       "3  E:/Projects/SEACAR_WQ_Pilot/GIS_data/output_ra...   \n",
       "4  E:/Projects/SEACAR_WQ_Pilot/GIS_data/output_ra...   \n",
       "\n",
       "                                            Salinity Secchi Depth  \\\n",
       "0                                                NaN          NaN   \n",
       "1                                                NaN          NaN   \n",
       "2  E:/Projects/SEACAR_WQ_Pilot/GIS_data/output_ra...          NaN   \n",
       "3                                                NaN          NaN   \n",
       "4  E:/Projects/SEACAR_WQ_Pilot/GIS_data/output_ra...          NaN   \n",
       "\n",
       "                                           Turbidity  \n",
       "0  E:/Projects/SEACAR_WQ_Pilot/GIS_data/output_ra...  \n",
       "1                                                NaN  \n",
       "2  E:/Projects/SEACAR_WQ_Pilot/GIS_data/output_ra...  \n",
       "3  E:/Projects/SEACAR_WQ_Pilot/GIS_data/output_ra...  \n",
       "4  E:/Projects/SEACAR_WQ_Pilot/GIS_data/output_ra...  "
      ]
     },
     "execution_count": 6,
     "metadata": {},
     "output_type": "execute_result"
    }
   ],
   "source": [
    "dfSeason = pd.read_csv(path + \"OEATUSF_Geospatial_TempSeasons_update_0517.csv\").drop(columns = \"Unnamed: 0\")\n",
    "dfSeason = dfSeason.dropna(subset=[\"s_start\",\"s_end\"]).reset_index(drop=True)\n",
    "\n",
    "dfSeason['s_start'] = pd.to_datetime(dfSeason['s_start'])\n",
    "dfSeason[\"s_end\"] = pd.to_datetime(dfSeason[\"s_end\"])\n",
    "dfSeason[\"date_range\"] = dfSeason[\"s_end\"] - dfSeason[\"s_start\"]\n",
    "dfSeason[\"date_range\"] = dfSeason.apply(lambda x: int(str(x[\"date_range\"]).split(\" \")[0]),axis=1)\n",
    "dfSeason = dfSeason[dfSeason[\"date_range\"]>0]\n",
    "dfSeason.head()"
   ]
  },
  {
   "cell_type": "code",
   "execution_count": 7,
   "id": "40f3bdd4",
   "metadata": {},
   "outputs": [
    {
     "data": {
      "text/plain": [
       "array(['Estero Bay Aquatic Preserve', 'Biscayne Bay Aquatic Preserve',\n",
       "       'Guana Tolomato Matanzas National Estuarine Research Reserve',\n",
       "       'Gasparilla Sound-Charlotte Harbor Aquatic Preserve',\n",
       "       'Big Bend Seagrasses Aquatic Preserve'], dtype=object)"
      ]
     },
     "metadata": {},
     "output_type": "display_data"
    }
   ],
   "source": [
    "# Print all managed areas\n",
    "display(dfSeason['ma'].unique())\n",
    "\n",
    "# Create empty columns to store paths of exported files\n",
    "# data = dfSeason.assign(**{'Total Nitrogen': np.nan, 'Dissolved Oxygen': np.nan, 'Salinity': np.nan, 'Secchi Depth': np.nan, 'Turbidity': np.nan})"
   ]
  },
  {
   "cell_type": "markdown",
   "id": "f73c20ef",
   "metadata": {},
   "source": [
    "Run through all seasons"
   ]
  },
  {
   "cell_type": "code",
   "execution_count": null,
   "id": "bca59776",
   "metadata": {
    "scrolled": false
   },
   "outputs": [
    {
     "name": "stdout",
     "output_type": "stream",
     "text": [
      "Now interpolating: Row 0; Area eb; Year 2022; Season Summer; para Salinity\n",
      "Start the interpolation with the RK method\n",
      "Salinity in 2022 Summer caused an error:\n",
      "ERROR 040039: Not enough data to compute method.\n",
      "Failed to execute (EBKRegressionPrediction).\n",
      "\n",
      "Now interpolating: Row 0; Area eb; Year 2022; Season Summer; para Total Nitrogen\n",
      "Start the interpolation with the RK method\n"
     ]
    }
   ],
   "source": [
    "for i in dfSeason.index:\n",
    "#for i in range(177, 178):\n",
    "    # if dfSeason.iloc[i][\"Processed\"] == 1: continue\n",
    "    for para in listPara[0:5]:\n",
    "        print(\"Now interpolating: Row {}; Area {}; Year {}; Season {}; para {}\".format(i,dictArea3[dfSeason.iloc[i][\"ma\"]], dfSeason.iloc[i][\"st_Year\"], dfSeason.iloc[i][\"season\"],para))\n",
    "        out_raster,out_ga_layer,ga_to_raster = misc.autointerpolation.interpolation_auto(method = \"rk\",\n",
    "                                                                                         gis_path  = gis_path,\n",
    "                                                                                         dataframe = dfAll,\n",
    "                                                                                         managed_area = dfSeason.iloc[i][\"ma\"],\n",
    "                                                                                         Year = dfSeason.iloc[i][\"st_Year\"],\n",
    "                                                                                         Season = dfSeason.iloc[i][\"season\"],\n",
    "                                                                                         start_date = dfSeason.iloc[i][\"s_start\"],\n",
    "                                                                                         end_date = dfSeason.iloc[i][\"s_end\"],\n",
    "                                                                                         parameter = para,\n",
    "                                                                                         covariates = dfSeason.iloc[i][\"covariates\"].split(\"+\"))\n",
    "#                                                                                          out_raster = name,\n",
    "#                                                                                          out_ga_layer = name,\n",
    "#                                                                                          predict_std_err = name)\n",
    "        dfSeason.loc[i, para] = out_raster\n",
    "        dfSeason.to_csv(path + 'output.csv')"
   ]
  }
 ],
 "metadata": {
  "kernelspec": {
   "display_name": "Python 3 (ipykernel)",
   "language": "python",
   "name": "python3"
  },
  "language_info": {
   "codemirror_mode": {
    "name": "ipython",
    "version": 3
   },
   "file_extension": ".py",
   "mimetype": "text/x-python",
   "name": "python",
   "nbconvert_exporter": "python",
   "pygments_lexer": "ipython3",
   "version": "3.9.11"
  }
 },
 "nbformat": 4,
 "nbformat_minor": 5
}
