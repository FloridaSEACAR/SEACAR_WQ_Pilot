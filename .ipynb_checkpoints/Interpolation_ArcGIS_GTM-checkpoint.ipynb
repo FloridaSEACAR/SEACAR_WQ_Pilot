{
 "cells": [
  {
   "cell_type": "markdown",
   "id": "9b238cab",
   "metadata": {},
   "source": [
    "# Spatial Interpolation at Guana Tolomato Matanzas National Estuarine Research Reserve\n",
    "This document includes Python codes that conduct spatial interpolation for water quality data.\n",
    "\n",
    "If you are running the code in ArcGIS Notebook, you'll need to install the following packages:\n",
    "\n",
    "`conda install -c anaconda pandas scikit-learn\n",
    "conda install -c conda-forge geopandas rasterio contextily\n",
    "`\n",
    "\n",
    "**Note: installation of geopandas may take a few hours**\n",
    "\n",
    "All date are shared in the [box folder](https://usf.box.com/s/xu3dw4i1emv2hzveyf9idnx9q78t939c).\n",
    "\n",
    "# Table of Contents:\n",
    "\n",
    "* [1.Load Data](#load_data)\n",
    "* [2. Preprocess](#preprocess)\n",
    "* [3. Combine Data](#read_data)\n",
    "* [4. Spatial Interpolation of Dissolved Oxygen](#do_interpolate)\n",
    "    * [4.1 Kriging:Dissolved Oxygen](#do_kriging)\n",
    "    * [4.2 IDW:Dissolved Oxygen](#do_idw)\n",
    "    * [4.3 Empirical Bayesian Kriging:Dissolved Oxygen](#do_ebk)\n",
    "    * [4.4 Validation Summary:Dissolved Oxygen](#do_val_sum) \n",
    "* [5. Spatial Interpolation of Salinity](#s_interpolate)\n",
    "    * [5.1 Kriging:Dissolved Oxygen](#s_kriging)\n",
    "    * [5.2 IDW:Dissolved Oxygen](#s_idw)\n",
    "    * [5.3 Empirical Bayesian Kriging:Dissolved Oxygen](#s_ebk)\n",
    "    * [5.4 Regression Kriging:Dissolved Oxygen](#s_rk)\n",
    "* [6. Spatial Interpolation of Total Nitrogen](#tn_interpolate)\n",
    "    * [6.1 Kriging:Total Nitrogen](#tn_kriging)\n",
    "    * [6.2 IDW:Total Nitrogen](#tn_idw)\n",
    "    * [6.3 Empirical Bayesian Kriging:Total Nitrogen](#tn_ebk)\n",
    "    * [6.4 Regression Kriging:Total Nitrogen](#tn_rk)\n",
    "* [7. Spatial Interpolation of Turbidity](#t_interpolate)\n",
    "    * [7.1 Kriging:Turbidity](#t_kriging)\n",
    "    * [7.2 IDW:Turbidity](#t_idw)\n",
    "    * [7.3 Empirical Bayesian Kriging:Turbidity](#t_ebk)\n",
    "    * [7.4 Regression Kriging:Turbidity](#t_rk)\n",
    "* [8. Spatial Interpolation of Secchi Depth](#sd_interpolate)\n",
    "    * [8.1 Kriging:Secchi Depth](#sd_kriging)\n",
    "    * [8.2 IDW:Secchi Depth](#sd_idw)\n",
    "    * [8.3 Empirical Bayesian Kriging:Secchi Depth](#sd_ebk)\n",
    "    * [8.4 Regression Kriging:Secchi Depth](#sd_rk)"
   ]
  },
  {
   "cell_type": "code",
   "execution_count": 1,
   "id": "8e201516",
   "metadata": {},
   "outputs": [],
   "source": [
    "import time, math, os, importlib\n",
    "import sklearn.metrics  \n",
    "import arcgisscripting\n",
    "import geopandas as gpd\n",
    "import matplotlib.pyplot as plt\n",
    "import numpy as np\n",
    "import pandas as pd\n",
    "import rasterio as rio\n",
    "import rasterio.mask\n",
    "import rasterio.plot as rio_pl\n",
    "import matplotlib.image as mpimg\n",
    "#import rioxarray as rxr\n",
    "\n",
    "from rasterio.plot import show\n",
    "from rasterio.transform import Affine\n",
    "from rasterio.mask import mask\n",
    "from rasterio import MemoryFile\n",
    "from rasterio.profiles import DefaultGTiffProfile\n",
    "from scipy.spatial import Voronoi, voronoi_plot_2d\n",
    "from scipy.stats import sem\n",
    "from sklearn.metrics import mean_squared_error\n",
    "from shapely.geometry import box, Polygon, Point\n",
    "from shapely import wkt\n",
    "from sklearn.gaussian_process import GaussianProcessRegressor\n",
    "from sklearn.metrics import r2_score\n",
    "from sklearn.model_selection import train_test_split\n",
    "from sklearn.neighbors import KNeighborsRegressor\n",
    "import contextily as cx\n",
    "#from osgeo import gdal\n",
    "#from pykrige.ok import OrdinaryKriging\n",
    "\n",
    "# import arcpy and environmental settings\n",
    "import arcpy\n",
    "from arcpy.sa import *\n",
    "import misc.preprocess\n",
    "import misc.interpolation\n",
    "arcpy.env.overwriteOutput = True"
   ]
  },
  {
   "cell_type": "markdown",
   "id": "cfae3b87",
   "metadata": {},
   "source": [
    "# 1. Load and Preprocess Data <a class=\"anchor\" id=\"load_data\"></a>"
   ]
  },
  {
   "cell_type": "code",
   "execution_count": 2,
   "id": "cfbdfa97",
   "metadata": {},
   "outputs": [],
   "source": [
    "path = \"E:/Projects/SEACAR_WQ_Pilot/\"\n",
    "gis_path = path+'GIS_data/'\n",
    "\n",
    "# path = \"D:/Water_Quailty/\"\n",
    "# gis_path = path+'Test02200/'"
   ]
  },
  {
   "cell_type": "markdown",
   "id": "35dfe89b",
   "metadata": {},
   "source": [
    "Preprocess the data and save the preprocessed data in new files"
   ]
  },
  {
   "cell_type": "code",
   "execution_count": 3,
   "id": "0a0ae730",
   "metadata": {},
   "outputs": [],
   "source": [
    "# dfDis, dfCon = misc.preprocess.preprocess(path + r\"OEAT_Discrete-2023-Jan-23.csv\", \n",
    "#                     path + r\"OEAT_Continuous_1-2023-Jan-23.csv\",\n",
    "#                     path + r\"OEAT_Continuous_2-2023-Jan-23.csv\")\n",
    "\n",
    "# dfDis.to_csv(path + \"discrete_0214.csv\")\n",
    "# dfCon.to_csv(path + \"continuous_0214.csv\")"
   ]
  },
  {
   "cell_type": "markdown",
   "id": "4536982e",
   "metadata": {},
   "source": [
    "To save time, we can load the preprocessed \"discrete_0214.csv\" and \"continuous_0214.csv\"."
   ]
  },
  {
   "cell_type": "code",
   "execution_count": 4,
   "id": "b945abd7",
   "metadata": {},
   "outputs": [
    {
     "name": "stderr",
     "output_type": "stream",
     "text": [
      "C:\\Users\\qiangy\\AppData\\Local\\ESRI\\conda\\envs\\geo3\\lib\\site-packages\\IPython\\core\\interactiveshell.py:3442: DtypeWarning: Columns (11) have mixed types.Specify dtype option on import or set low_memory=False.\n",
      "  exec(code_obj, self.user_global_ns, self.user_ns)\n"
     ]
    }
   ],
   "source": [
    "#dfDis = pd.read_csv(\"D:/Water_Quailty/Test0214/discrete_0214.csv\")\n",
    "#dfCon = pd.read_csv(\"D:/Water_Quailty/Test0214/continuous_0214.csv\")\n",
    "\n",
    "dfDis = pd.read_csv(path + \"discrete_0214.csv\")\n",
    "dfCon = pd.read_csv(path + \"continuous_0214.csv\")"
   ]
  },
  {
   "cell_type": "code",
   "execution_count": 5,
   "id": "fad9d7f0",
   "metadata": {},
   "outputs": [],
   "source": [
    "col_ls = ['RowID','ParameterName','ParameterUnits','ProgramLocationID','ActivityType','ManagedAreaName',\n",
    "                   'SampleDate','Year','Month','ResultValue','ValueQualifier','Latitude_DD','Longitude_DD']\n",
    "para_ls = [\"Salinity\",\"Total Nitrogen\",\"Dissolved Oxygen\",\"Turbidity\",\"Secchi Depth\"]\n",
    "para_ls_ab = [\"S\",\"TN\",\"DO\",\"T\",\"SD\"]\n",
    "# Convert full MA names to short names\n",
    "dictArea    = {'Gasparilla Sound-Charlotte Harbor Aquatic Preserve':'Charlotte Harbor','Big Bend Seagrasses Aquatic Preserve':'Big Bend',\n",
    "                'Guana Tolomato Matanzas National Estuarine Research Reserve':'GTM Reserve','Estero Bay Aquatic Preserve':'Estero Bay',\n",
    "                'Biscayne Bay Aquatic Preserve':'Biscayne Bay','Matlacha Pass Aquatic Preserve':'Matlacha Pass AP',\n",
    "                'Lemon Bay Aquatic Preserve':'Lemon Bay','Cape Haze Aquatic Preserve':'Cape Haze','Pine Island Sound Aquatic Preserve':'Pine Island'}\n",
    "\n",
    "# Convert full MA names to MA name in ORCP_Managed_Areas_Oct2021\n",
    "dictArea2    = {'Gasparilla Sound-Charlotte Harbor Aquatic Preserve':'Gasparilla Sound-Charlotte Harbor','Big Bend Seagrasses Aquatic Preserve':'Big Bend Seagrasses',\n",
    "                'Guana Tolomato Matanzas National Estuarine Research Reserve':'Guana Tolomato Matanzas NERR','Estero Bay Aquatic Preserve':'Estero Bay',\n",
    "                'Biscayne Bay Aquatic Preserve':'Biscayne Bay','Matlacha Pass Aquatic Preserve':'Matlacha Pass',\n",
    "                'Lemon Bay Aquatic Preserve':'Lemon Bay','Cape Haze Aquatic Preserve':'Cape Haze','Pine Island Sound Aquatic Preserve':'Pine Island Sound'}\n",
    "\n",
    "dictUnits   = {\"Salinity\":\"ppt\",\"Total Nitrogen\": \"mg/L\",\"Dissolved Oxygen\": \"mg/L\",\"Turbidity\": \"NTU\", \"Secchi Depth\": \"m\"}\n",
    "listArea    = dfCon[\"ManagedAreaName\"].unique()\n",
    "listPara    = [\"Salinity\",\"Total Nitrogen\",\"Dissolved Oxygen\",\"Turbidity\",\"Secchi Depth\"] \n",
    "\n",
    "# Set variables of the program\n",
    "year = \"2017\"\n",
    "Area = 'Guana Tolomato Matanzas National Estuarine Research Reserve'\n",
    "Para = 'Dissolved Oxygen'\n",
    "Para_ab = \"DO\"\n",
    "SpatialRef = '3086'\n",
    "b_name = 'gtm'\n",
    "\n",
    "dry_input_pt = gis_path+\"Dry\"+year+Para_ab+b_name+'.shp'\n",
    "wet_input_pt = gis_path+\"Wet\"+year+Para_ab+b_name+'.shp'\n",
    "boundary_shp = gis_path+ '{}.shp'.format(b_name)\n"
   ]
  },
  {
   "cell_type": "markdown",
   "id": "559fdb63",
   "metadata": {},
   "source": [
    "# 2. Combine Discrete and Continuous Data <a class=\"anchor\" id=\"combine\"></a>\n",
    "\n",
    "Combine dis and con dataframes"
   ]
  },
  {
   "cell_type": "code",
   "execution_count": 6,
   "id": "3cd64279",
   "metadata": {},
   "outputs": [
    {
     "name": "stderr",
     "output_type": "stream",
     "text": [
      "C:\\Users\\qiangy\\AppData\\Local\\Temp\\ipykernel_12276\\3578914940.py:11: UserWarning: Column names longer than 10 characters will be truncated when saved to ESRI Shapefile.\n",
      "  gdfDrySelect.to_crs(int(SpatialRef)).to_file(dry_input_pt, driver='ESRI Shapefile',crs=\"EPSG:\"+SpatialRef)\n",
      "C:\\Users\\qiangy\\AppData\\Local\\Temp\\ipykernel_12276\\3578914940.py:12: UserWarning: Column names longer than 10 characters will be truncated when saved to ESRI Shapefile.\n",
      "  gdfWetSelect.to_crs(int(SpatialRef)).to_file(wet_input_pt, driver='ESRI Shapefile',crs=\"EPSG:\"+SpatialRef)\n"
     ]
    }
   ],
   "source": [
    "# ---------------------------- Uncomment in the first run --------------------------\n",
    "dfDryMean, gdfDryAll = misc.preprocess.combine_dis_con_dry(dfDis,dfCon,year)\n",
    "dfWetMean, gdfWetAll = misc.preprocess.combine_dis_con_wet(dfDis,dfCon,year)\n",
    "\n",
    "gdfDryAll.to_csv(gis_path+'gdfDryAll{}.csv'.format(year))\n",
    "gdfWetAll.to_csv(gis_path+'gdfWetAll{}.csv'.format(year))\n",
    "\n",
    "gdfDrySelect = gdfDryAll[(gdfDryAll[\"ParameterName\"]==Para)&(gdfDryAll[\"ManagedAreaName\"]==Area)]\n",
    "gdfWetSelect = gdfWetAll[(gdfWetAll[\"ParameterName\"]==Para)&(gdfWetAll[\"ManagedAreaName\"]==Area)]\n",
    "\n",
    "gdfDrySelect.to_crs(int(SpatialRef)).to_file(dry_input_pt, driver='ESRI Shapefile',crs=\"EPSG:\"+SpatialRef)\n",
    "gdfWetSelect.to_crs(int(SpatialRef)).to_file(wet_input_pt, driver='ESRI Shapefile',crs=\"EPSG:\"+SpatialRef)"
   ]
  },
  {
   "cell_type": "markdown",
   "id": "cc3d8c4d",
   "metadata": {},
   "source": [
    "Skip the preprocessing and load the pre-stored dataframes"
   ]
  },
  {
   "cell_type": "code",
   "execution_count": 7,
   "id": "8604a7a6",
   "metadata": {},
   "outputs": [],
   "source": [
    "# gdfDryAll = pd.read_csv(gis_path+'gdfDryAll{}.csv'.format(year))\n",
    "# gdfDryAll['geometry'] = gdfDryAll['geometry'].apply(wkt.loads)\n",
    "# gdfDryAll = gpd.GeoDataFrame(gdfDryAll, crs='epsg:'+SpatialRef)\n",
    "\n",
    "# gdfWetAll = pd.read_csv(gis_path+'gdfWetAll{}.csv'.format(year))\n",
    "# gdfWetAll['geometry'] = gdfWetAll['geometry'].apply(wkt.loads)\n",
    "# gdfWetAll = gpd.GeoDataFrame(gdfWetAll, crs='epsg:'+SpatialRef)"
   ]
  },
  {
   "cell_type": "markdown",
   "id": "b4e40e08",
   "metadata": {},
   "source": [
    "# 3. Read Input Data <a class=\"anchor\" id=\"read_data\"></a>\n",
    "## 3.1 Load Managed Area Polygon"
   ]
  },
  {
   "cell_type": "code",
   "execution_count": 8,
   "id": "8857ce4c",
   "metadata": {},
   "outputs": [],
   "source": [
    "#MA = gpd.read_file(r\"D:\\Water_Quailty\\ManagedAreas\\ORCP_Managed_Areas_Oct2021.shp\")\n",
    "MA = gpd.read_file(gis_path + r\"ORCP_Managed_Areas_Oct2021.shp\")\n",
    "CH = MA[MA['MA_Name']==dictArea2[Area]].to_crs(int(SpatialRef))\n",
    "CH.to_file(boundary_shp , driver='ESRI Shapefile',crs=\"EPSG:\"+SpatialRef)\n",
    "\n",
    "extentShp = gpd.read_file(boundary_shp )\n",
    "extent = str(extentShp.geometry.total_bounds).replace('[','').replace(']','')"
   ]
  },
  {
   "cell_type": "markdown",
   "id": "1b7cda4b",
   "metadata": {},
   "source": [
    "## 3.2 Load Point Shapefiles\n",
    "\n",
    "Also convert all shapefile to Florida GDL Albers (https://epsg.io/3086)"
   ]
  },
  {
   "cell_type": "code",
   "execution_count": 9,
   "id": "62252b74",
   "metadata": {},
   "outputs": [],
   "source": [
    "gdfDryShp = gpd.read_file(dry_input_pt)\n",
    "gdfWetShp = gpd.read_file(wet_input_pt)"
   ]
  },
  {
   "cell_type": "code",
   "execution_count": 10,
   "id": "476b8ff9",
   "metadata": {},
   "outputs": [
    {
     "data": {
      "text/plain": [
       "Text(0.5, 1.0, 'Sampling points at Guana Tolomato Matanzas National Estuarine Research Reserve')"
      ]
     },
     "execution_count": 10,
     "metadata": {},
     "output_type": "execute_result"
    },
    {
     "data": {
      "image/png": "[encoded data removed]",
      "text/plain": [
       "<Figure size 648x360 with 1 Axes>"
      ]
     },
     "metadata": {
      "needs_background": "light"
     },
     "output_type": "display_data"
    }
   ],
   "source": [
    "fig, ax = plt.subplots(figsize = (9,5))\n",
    "extentShp.plot(ax = ax, color='none', edgecolor='blue')\n",
    "gdfWetShp.plot(ax = ax, marker='o', color='red', markersize=5)\n",
    "cx.add_basemap(ax = ax,source=cx.providers.Stamen.TonerLite,crs=gdfDryShp.crs)\n",
    "ax.set_title('Sampling points at {}'.format(Area))"
   ]
  },
  {
   "cell_type": "markdown",
   "id": "49c5d3cd",
   "metadata": {},
   "source": [
    "\n",
    "# 4. Spatial Interpoation of Dissolved Oxygen <a class=\"anchor\" id=\"do_interpolate\"></a>\n",
    "\n",
    "## 4.1 Ordinary Kriging: Dissolved Oxygen <a class=\"anchor\" id=\"do_kriging\"></a>\n",
    "\n",
    "Run Oridinary Kriging for dry season data"
   ]
  },
  {
   "cell_type": "code",
   "execution_count": null,
   "id": "8bcc7555",
   "metadata": {
    "scrolled": false
   },
   "outputs": [
    {
     "name": "stdout",
     "output_type": "stream",
     "text": [
      "Start the interpolation with the OK method\n"
     ]
    }
   ],
   "source": [
    "importlib.reload(misc.interpolation)\n",
    "importlib.reload(misc)\n",
    "\n",
    "season, method, value_field, mask = 'Dry','ok','ResultValu', boundary_shp \n",
    "in_features = dry_input_pt \n",
    "out_ga_layer = gis_path +\"{}{}{}.lyrx\".format(Para_ab, season.lower(), method.upper())\n",
    "out_raster = gis_path +\"{}{}{}.tif\".format(Para_ab, season.lower(),method.upper())\n",
    "\n",
    "dryOK, dryOKStat = misc.interpolation.interpolation(method = method, input_point = in_features, \n",
    "                      out_raster = out_raster, z_field = value_field, \n",
    "                      out_ga_layer = out_ga_layer, extent = extent, \n",
    "                      mask = mask)\n",
    "\n",
    "display('Validation of the {} method in the {} season in {}:'.format(method.upper(),season.lower(), year))\n",
    "display(dryOKStat)\n",
    "\n",
    "season = 'Wet'\n",
    "in_features = wet_input_pt \n",
    "out_ga_layer = gis_path +\"{}{}{}.lyrx\".format(Para_ab, season.lower(), method.upper())\n",
    "out_raster = gis_path +\"{}{}{}.tif\".format(Para_ab, season.lower(),method.upper())\n",
    "\n",
    "wetOK,wetOKStat = misc.interpolation.interpolation(method = method, input_point = in_features, \n",
    "                      out_raster = out_raster, z_field = 'ResultValu', \n",
    "                      out_ga_layer = out_ga_layer, extent = extent, \n",
    "                      mask = mask)\n",
    "\n",
    "display('Validation of the {} method in the {} season in {}:'.format(method.upper(),season.lower(), year))\n",
    "display(wetOKStat)"
   ]
  },
  {
   "cell_type": "markdown",
   "id": "4ffa1198",
   "metadata": {},
   "source": [
    "Plot the interpolation result"
   ]
  },
  {
   "cell_type": "code",
   "execution_count": null,
   "id": "f045201e",
   "metadata": {},
   "outputs": [],
   "source": [
    "fig, axes = plt.subplots(1,2, figsize=(18, 8))\n",
    "\n",
    "fig.suptitle(\"{} (Parameter: {}).\".format(Area, Para),fontsize=20)\n",
    "\n",
    "misc.interpolation.plot_raster(gdfDryShp, extentShp, dryOK, 'Dry Season', axes[0], fig)\n",
    "misc.interpolation.plot_raster(gdfWetShp, extentShp, wetOK, 'Wet Season', axes[1], fig)"
   ]
  },
  {
   "cell_type": "markdown",
   "id": "2be78847",
   "metadata": {},
   "source": [
    "## 4.2 Inverse Distance Weighting (IDW): Dissolved Oxygen <a class=\"anchor\" id=\"do_idw\"></a>\n",
    "\n",
    "Run IDW for both wet and dry seasons"
   ]
  },
  {
   "cell_type": "code",
   "execution_count": null,
   "id": "fc0e09bb",
   "metadata": {},
   "outputs": [],
   "source": [
    "season, method, value_field, mask = 'Dry','idw','ResultValu', boundary_shp \n",
    "in_features = dry_input_pt\n",
    "out_ga_layer = gis_path +\"{}{}{}.lyrx\".format(Para_ab, season.lower(), method.upper())\n",
    "out_raster = gis_path +\"{}{}{}.tif\".format(Para_ab, season.lower(),method.upper())\n",
    "\n",
    "dryIDW, dryIDWStat = misc.interpolation.interpolation(method = method, input_point = in_features, \n",
    "                      out_raster = out_raster, z_field = value_field, \n",
    "                      out_ga_layer = out_ga_layer, extent = extent, \n",
    "                      mask = mask)\n",
    "\n",
    "display('Validation of the {} method in the {} season in {}:'.format(method.upper(),season.lower(), year))\n",
    "display(dryIDWStat)\n",
    "\n",
    "season = 'Wet'\n",
    "in_features = wet_input_pt\n",
    "out_ga_layer = gis_path +\"{}{}{}.lyrx\".format(Para_ab, season.lower(), method.upper())\n",
    "out_raster = gis_path +\"{}{}{}.tif\".format(Para_ab, season.lower(),method.upper())\n",
    "\n",
    "wetIDW, wetIDWStat = misc.interpolation.interpolation(method = method, input_point = in_features, \n",
    "                      out_raster = out_raster, z_field = 'ResultValu', \n",
    "                      out_ga_layer = out_ga_layer, extent = extent, \n",
    "                      mask = mask)\n",
    "    \n",
    "display('Validation of the {} method in the {} season in {}:'.format(method.upper(),season.lower(), year))\n",
    "display(wetIDWStat)"
   ]
  },
  {
   "cell_type": "markdown",
   "id": "5e81312d",
   "metadata": {},
   "source": [
    "Plot the interpolation result"
   ]
  },
  {
   "cell_type": "code",
   "execution_count": null,
   "id": "8c067481",
   "metadata": {},
   "outputs": [],
   "source": [
    "fig, axes = plt.subplots(1,2, figsize=(18, 8))\n",
    "\n",
    "fig.suptitle(\"{} (Parameter: {}).\".format(Area, Para),fontsize=20)\n",
    "\n",
    "misc.interpolation.plot_raster(gdfDryShp, extentShp, dryIDW, 'Dry Season', axes[0],fig)\n",
    "misc.interpolation.plot_raster(gdfWetShp, extentShp, wetIDW, 'Wet Season', axes[1],fig)\n"
   ]
  },
  {
   "cell_type": "markdown",
   "id": "e3a98719",
   "metadata": {},
   "source": [
    "## 4.3 Empirical Bayesian Kriging (EBK) <a class=\"anchor\" id=\"do_ebk\"></a>\n",
    "\n",
    "Run EBK for wet and dry seasons"
   ]
  },
  {
   "cell_type": "code",
   "execution_count": null,
   "id": "861d6971",
   "metadata": {},
   "outputs": [],
   "source": [
    "season, method, value_field, mask = 'Dry','ebk','ResultValu', boundary_shp \n",
    "in_features = dry_input_pt\n",
    "out_ga_layer = gis_path +\"{}{}{}.lyrx\".format(Para_ab, season.lower(), method.upper())\n",
    "out_raster = gis_path +\"{}{}{}.tif\".format(Para_ab, season.lower(),method.upper())\n",
    "\n",
    "dryEBK, dryEBKStat = misc.interpolation.interpolation(method = method, input_point = in_features, \n",
    "                                               out_raster = out_raster, z_field = value_field, \n",
    "                                               out_ga_layer = out_ga_layer, extent = extent, mask = mask)\n",
    "\n",
    "display('Validation of the {} method in the {} season in {}:'.format(method.upper(),season.lower(), year))\n",
    "display(dryEBKStat)\n",
    "\n",
    "season = 'Wet'\n",
    "in_features = wet_input_pt\n",
    "out_ga_layer = gis_path +\"{}{}{}.lyrx\".format(Para_ab, season.lower(), method.upper())\n",
    "out_raster = gis_path +\"{}{}{}.tif\".format(Para_ab, season.lower(),method.upper())\n",
    "\n",
    "wetEBK, wetEBKStat = misc.interpolation.interpolation(method = method, input_point = in_features, \n",
    "                                               out_raster = out_raster, z_field = 'ResultValu', \n",
    "                                               out_ga_layer = out_ga_layer, extent = extent, mask = mask)\n",
    "\n",
    "display('Validation of the {} method in the {} season in {}:'.format(method.upper(),season.lower(), year))\n",
    "display(wetEBKStat)"
   ]
  },
  {
   "cell_type": "markdown",
   "id": "3efb2447",
   "metadata": {},
   "source": [
    "Plot interpolation results"
   ]
  },
  {
   "cell_type": "code",
   "execution_count": null,
   "id": "bb67c290",
   "metadata": {},
   "outputs": [],
   "source": [
    "fig, axes = plt.subplots(1,2, figsize=(18, 8))\n",
    "\n",
    "fig.suptitle(\"{} (Parameter: {}).\".format(Area, Para),fontsize=20)\n",
    "\n",
    "misc.interpolation.plot_raster(gdfDryShp, extentShp, dryEBK, 'Dry Season', axes[0],fig)\n",
    "misc.interpolation.plot_raster(gdfWetShp, extentShp, wetEBK, 'Wet Season', axes[1],fig)\n"
   ]
  },
  {
   "cell_type": "markdown",
   "id": "997ccf18",
   "metadata": {},
   "source": [
    "## 4.4 Validation summary <a class=\"anchor\" id=\"do_ebk_sum\"></a>"
   ]
  },
  {
   "cell_type": "code",
   "execution_count": null,
   "id": "446a22a7",
   "metadata": {},
   "outputs": [],
   "source": [
    "sumStatDry1   = pd.concat([dryOKStat,dryIDWStat,dryEBKStat])\n",
    "print(\"Summary of interpolation assessment in dry season data\")\n",
    "sumStatDry1"
   ]
  },
  {
   "cell_type": "code",
   "execution_count": null,
   "id": "14098aa6",
   "metadata": {},
   "outputs": [],
   "source": [
    "sumStatWet1 = pd.concat([wetOKStat,wetIDWStat,wetEBKStat])\n",
    "print(\"Summary of interpolation assessment in wet season data\")\n",
    "sumStatWet1"
   ]
  },
  {
   "cell_type": "markdown",
   "id": "2ea8e86b",
   "metadata": {},
   "source": [
    "# 5. Spatial Interpolation of Salinity <a class=\"anchor\" id=\"s_interpolate\"></a>"
   ]
  },
  {
   "cell_type": "code",
   "execution_count": null,
   "id": "933b004a",
   "metadata": {},
   "outputs": [],
   "source": [
    "\n",
    "# dfDis[\"timestamp\"]=  pd.to_datetime(dfDis['SampleDate'])\n",
    "# dfCon[\"timestamp\"]=  pd.to_datetime(dfCon['SampleDate'])\n",
    "\n",
    "# dfDryMean, gdfDryAll = combine_dis_con_dry(dfDis,dfCon,year)\n",
    "# dfWetMean, gdfWetAll = combine_dis_con_wet(dfDis,dfCon,year)\n",
    "\n",
    "Para, Para_ab = 'Salinity', 'S'\n",
    "\n",
    "dry_input_pt = gis_path+\"Dry\"+year+Para_ab+b_name+'.shp'\n",
    "wet_input_pt = gis_path+\"Wet\"+year+Para_ab+b_name+'.shp'\n",
    "\n",
    "gdfDrySelect = gdfDryAll[(gdfDryAll[\"ParameterName\"]==Para)&(gdfDryAll[\"ManagedAreaName\"]==Area)]\n",
    "gdfWetSelect = gdfWetAll[(gdfWetAll[\"ParameterName\"]==Para)&(gdfWetAll[\"ManagedAreaName\"]==Area)]\n",
    "\n",
    "gdfDrySelect.to_crs(int(SpatialRef)).to_file(dry_input_pt, driver='ESRI Shapefile',crs=\"EPSG:\"+SpatialRef)\n",
    "gdfWetSelect.to_crs(int(SpatialRef)).to_file(wet_input_pt, driver='ESRI Shapefile',crs=\"EPSG:\"+SpatialRef)"
   ]
  },
  {
   "cell_type": "code",
   "execution_count": null,
   "id": "cc3e216d",
   "metadata": {},
   "outputs": [],
   "source": [
    "gdfDryShp = gpd.read_file(dry_input_pt)\n",
    "gdfWetShp = gpd.read_file(wet_input_pt)\n",
    "extentShp = gpd.read_file(boundary_shp)"
   ]
  },
  {
   "cell_type": "code",
   "execution_count": null,
   "id": "86f23391",
   "metadata": {},
   "outputs": [],
   "source": [
    "fig, ax = plt.subplots(figsize = (9,6))\n",
    "extentShp.plot(ax = ax, color='none', edgecolor='blue')\n",
    "gdfWetShp.plot(ax = ax, marker='o', color='red', markersize=5)\n",
    "cx.add_basemap(ax = ax,source=cx.providers.Stamen.TonerLite,crs=gdfDryShp.crs)\n",
    "ax.set_title('Sampling points at {}'.format(Area))"
   ]
  },
  {
   "cell_type": "markdown",
   "id": "21d8bdc7",
   "metadata": {},
   "source": [
    "## 5.1 Ordinary Kriging (Salinity) <a class=\"anchor\" id=\"s_ok\"></a>"
   ]
  },
  {
   "cell_type": "code",
   "execution_count": null,
   "id": "6dd804cb",
   "metadata": {},
   "outputs": [],
   "source": [
    "season, method, value_field, mask = 'Dry','ok','ResultValu', boundary_shp \n",
    "in_features = dry_input_pt \n",
    "out_ga_layer = gis_path +\"{}{}{}.lyrx\".format(Para_ab, season.lower(), method.upper())\n",
    "out_raster = gis_path +\"{}{}{}.tif\".format(Para_ab, season.lower(),method.upper())\n",
    "\n",
    "dryOK, dryOKStat = misc.interpolation.interpolation(method = method, input_point = in_features, \n",
    "                      out_raster = out_raster, z_field = value_field, \n",
    "                      out_ga_layer = out_ga_layer, extent = extent, \n",
    "                      mask = mask)\n",
    "\n",
    "display('Validation of the {} method in the {} season in {}:'.format(method.upper(),season.lower(), year))\n",
    "display(dryOKStat)\n",
    "\n",
    "season = 'Wet'\n",
    "in_features = wet_input_pt \n",
    "out_ga_layer = gis_path +\"{}{}{}.lyrx\".format(Para_ab, season.lower(), method.upper())\n",
    "out_raster = gis_path +\"{}{}{}.tif\".format(Para_ab, season.lower(),method.upper())\n",
    "\n",
    "wetOK,wetOKStat = misc.interpolation.interpolation(method = method, input_point = in_features, \n",
    "                      out_raster = out_raster, z_field = 'ResultValu', \n",
    "                      out_ga_layer = out_ga_layer, extent = extent, \n",
    "                      mask = mask)\n",
    "\n",
    "display('Validation of the {} method in the {} season in {}:'.format(method.upper(),season.lower(), year))\n",
    "display(wetOKStat)"
   ]
  },
  {
   "cell_type": "code",
   "execution_count": null,
   "id": "a352f266",
   "metadata": {},
   "outputs": [],
   "source": [
    "fig, axes = plt.subplots(1,2, figsize=(18, 8))\n",
    "\n",
    "fig.suptitle(\"{} (Parameter: {}).\".format(Area, Para),fontsize=20)\n",
    "\n",
    "misc.interpolation.plot_raster(gdfDryShp, extentShp, dryOK, 'Dry Season', axes[0], fig)\n",
    "misc.interpolation.plot_raster(gdfWetShp, extentShp, wetOK, 'Wet Season', axes[1], fig)"
   ]
  },
  {
   "cell_type": "markdown",
   "id": "9ce04b80",
   "metadata": {},
   "source": [
    "## 5.2 Inverse Distance Weighting (IDW): Salinity <a class=\"anchor\" id=\"s_idw\"></a>\n",
    "\n",
    "Run IDW for both wet and dry seasons"
   ]
  },
  {
   "cell_type": "code",
   "execution_count": null,
   "id": "d9cb8c57",
   "metadata": {},
   "outputs": [],
   "source": [
    "season, method, value_field, mask = 'Dry','idw','ResultValu', boundary_shp \n",
    "in_features = dry_input_pt\n",
    "out_ga_layer = gis_path +\"{}{}{}.lyrx\".format(Para_ab, season.lower(), method.upper())\n",
    "out_raster = gis_path +\"{}{}{}.tif\".format(Para_ab, season.lower(),method.upper())\n",
    "\n",
    "dryIDW, dryIDWStat = misc.interpolation.interpolation(method = method, input_point = in_features, \n",
    "                      out_raster = out_raster, z_field = value_field, \n",
    "                      out_ga_layer = out_ga_layer, extent = extent, \n",
    "                      mask = mask)\n",
    "\n",
    "display('Validation of the {} method in the {} season in {}:'.format(method.upper(),season.lower(), year))\n",
    "display(dryIDWStat)\n",
    "\n",
    "season = 'Wet'\n",
    "in_features = wet_input_pt\n",
    "out_ga_layer = gis_path +\"{}{}{}.lyrx\".format(Para_ab, season.lower(), method.upper())\n",
    "out_raster = gis_path +\"{}{}{}.tif\".format(Para_ab, season.lower(),method.upper())\n",
    "\n",
    "wetIDW, wetIDWStat = misc.interpolation.interpolation(method = method, input_point = in_features, \n",
    "                      out_raster = out_raster, z_field = 'ResultValu', \n",
    "                      out_ga_layer = out_ga_layer, extent = extent, \n",
    "                      mask = mask)\n",
    "    \n",
    "display('Validation of the {} method in the {} season in {}:'.format(method.upper(),season.lower(), year))\n",
    "display(wetIDWStat)"
   ]
  },
  {
   "cell_type": "markdown",
   "id": "69b2266f",
   "metadata": {},
   "source": [
    "Plot the interpolation result"
   ]
  },
  {
   "cell_type": "code",
   "execution_count": null,
   "id": "14c29e53",
   "metadata": {
    "scrolled": false
   },
   "outputs": [],
   "source": [
    "fig, axes = plt.subplots(1,2, figsize=(18, 8))\n",
    "\n",
    "fig.suptitle(\"{} (Parameter: {}).\".format(Area, Para),fontsize=20)\n",
    "\n",
    "misc.interpolation.plot_raster(gdfDryShp, extentShp, dryIDW, 'Dry Season', axes[0],fig)\n",
    "misc.interpolation.plot_raster(gdfWetShp, extentShp, wetIDW, 'Wet Season', axes[1],fig)"
   ]
  },
  {
   "cell_type": "markdown",
   "id": "f458ebab",
   "metadata": {},
   "source": [
    "## 5.3 Empirical Bayesian Kriging (EBK): Salinity <a class=\"anchor\" id=\"s_ebk\"></a>\n",
    "\n",
    "Run EBK for wet and dry seasons"
   ]
  },
  {
   "cell_type": "code",
   "execution_count": null,
   "id": "08fed9e0",
   "metadata": {},
   "outputs": [],
   "source": [
    "season, method, value_field, mask = 'Dry','ebk','ResultValu', boundary_shp \n",
    "in_features = dry_input_pt\n",
    "out_ga_layer = gis_path +\"{}{}{}.lyrx\".format(Para_ab, season.lower(), method.upper())\n",
    "out_raster = gis_path +\"{}{}{}.tif\".format(Para_ab, season.lower(),method.upper())\n",
    "\n",
    "dryEBK, dryEBKStat = misc.interpolation.interpolation(method = method, input_point = in_features, \n",
    "                                               out_raster = out_raster, z_field = value_field, \n",
    "                                               out_ga_layer = out_ga_layer, extent = extent, mask = mask)\n",
    "\n",
    "display('Validation of the {} method in the {} season in {}:'.format(method.upper(),season.lower(), year))\n",
    "display(dryEBKStat)\n",
    "\n",
    "season = 'Wet'\n",
    "in_features = wet_input_pt\n",
    "out_ga_layer = gis_path +\"{}{}{}.lyrx\".format(Para_ab, season.lower(), method.upper())\n",
    "out_raster = gis_path +\"{}{}{}.tif\".format(Para_ab, season.lower(),method.upper())\n",
    "\n",
    "wetEBK, wetEBKStat = misc.interpolation.interpolation(method = method, input_point = in_features, \n",
    "                                               out_raster = out_raster, z_field = 'ResultValu', \n",
    "                                               out_ga_layer = out_ga_layer, extent = extent, mask = mask)\n",
    "\n",
    "display('Validation of the {} method in the {} season in {}:'.format(method.upper(),season.lower(), year))\n",
    "display(wetEBKStat)"
   ]
  },
  {
   "cell_type": "markdown",
   "id": "ae521eaf",
   "metadata": {},
   "source": [
    "Plot interpolation results"
   ]
  },
  {
   "cell_type": "code",
   "execution_count": null,
   "id": "ddf5a399",
   "metadata": {
    "scrolled": false
   },
   "outputs": [],
   "source": [
    "fig, axes = plt.subplots(1,2, figsize=(18, 8))\n",
    "\n",
    "fig.suptitle(\"{} (Parameter: {}).\".format(Area, Para),fontsize=20)\n",
    "\n",
    "misc.interpolation.plot_raster(gdfDryShp, extentShp, dryEBK, 'Dry Season', axes[0],fig)\n",
    "misc.interpolation.plot_raster(gdfWetShp, extentShp, wetEBK, 'Wet Season', axes[1],fig)"
   ]
  },
  {
   "cell_type": "markdown",
   "id": "0d0bfff3",
   "metadata": {},
   "source": [
    "## 5.4 Validation Summary: Salinity <a class=\"anchor\" id=\"s_val_sum\"></a>"
   ]
  },
  {
   "cell_type": "code",
   "execution_count": null,
   "id": "f042fce1",
   "metadata": {},
   "outputs": [],
   "source": [
    "sumStatDry2   = pd.concat([dryOKStat,dryIDWStat,dryEBKStat])\n",
    "print(\"Summary of interpolation assessment in dry season data\")\n",
    "sumStatDry2"
   ]
  },
  {
   "cell_type": "code",
   "execution_count": null,
   "id": "46325d35",
   "metadata": {},
   "outputs": [],
   "source": [
    "sumStatWet2 = pd.concat([wetOKStat,wetIDWStat,wetEBKStat])\n",
    "print(\"Summary of interpolation assessment in wet season data\")\n",
    "sumStatWet2"
   ]
  },
  {
   "cell_type": "markdown",
   "id": "379ecee7",
   "metadata": {},
   "source": [
    "# 6. Spatial Interpolation of Total Nitrogen <a class=\"anchor\" id=\"tn_interpolate\"></a>\n",
    "\n",
    "Select and preview data"
   ]
  },
  {
   "cell_type": "code",
   "execution_count": null,
   "id": "40f040fc",
   "metadata": {},
   "outputs": [],
   "source": [
    "year,Para,Para_ab = \"2014\", 'Total Nitrogen', \"TN\"\n",
    "\n",
    "dry_input_pt = gis_path+\"Dry\"+year+Para_ab+b_name+'.shp'\n",
    "wet_input_pt = gis_path+\"Wet\"+year+Para_ab+b_name+'.shp'\n",
    "\n",
    "dfDryMean, gdfDryAll = misc.preprocess.combine_dis_con_dry(dfDis,dfCon,year)\n",
    "dfWetMean, gdfWetAll = misc.preprocess.combine_dis_con_wet(dfDis,dfCon,year)\n",
    "\n",
    "gdfDryAll.to_csv(gis_path+'gdfDryAll{}.csv'.format(year))\n",
    "gdfWetAll.to_csv(gis_path+'gdfWetAll{}.csv'.format(year))\n",
    "\n",
    "gdfDrySelect = gdfDryAll[(gdfDryAll[\"ParameterName\"]==Para)&(gdfDryAll[\"ManagedAreaName\"]==Area)]\n",
    "gdfWetSelect = gdfWetAll[(gdfWetAll[\"ParameterName\"]==Para)&(gdfWetAll[\"ManagedAreaName\"]==Area)]\n",
    "\n",
    "gdfDrySelect.to_crs(int(SpatialRef)).to_file(dry_input_pt, driver='ESRI Shapefile',crs=\"EPSG:\"+SpatialRef)\n",
    "gdfWetSelect.to_crs(int(SpatialRef)).to_file(wet_input_pt, driver='ESRI Shapefile',crs=\"EPSG:\"+SpatialRef)"
   ]
  },
  {
   "cell_type": "code",
   "execution_count": null,
   "id": "da2fdbce",
   "metadata": {},
   "outputs": [],
   "source": [
    "gdfDryShp = gpd.read_file(dry_input_pt)\n",
    "gdfWetShp = gpd.read_file(wet_input_pt)\n",
    "extentShp = gpd.read_file(boundary_shp)"
   ]
  },
  {
   "cell_type": "code",
   "execution_count": null,
   "id": "62b4ae67",
   "metadata": {},
   "outputs": [],
   "source": [
    "fig, ax = plt.subplots(figsize = (9,8))\n",
    "extentShp.plot(ax = ax, color='none', edgecolor='blue')\n",
    "gdfWetShp.plot(ax = ax, marker='o', color='red', markersize=5)\n",
    "cx.add_basemap(ax = ax,source=cx.providers.Stamen.TonerLite,crs=gdfDryShp.crs)\n",
    "ax.set_title('Sampling points at {}'.format(Area))"
   ]
  },
  {
   "cell_type": "markdown",
   "id": "3b93795a",
   "metadata": {},
   "source": [
    "## 6.1 Ordinary Kriging: Total Nitrogen <a class=\"anchor\" id=\"tn_kriging\"></a>"
   ]
  },
  {
   "cell_type": "code",
   "execution_count": null,
   "id": "7520e97c",
   "metadata": {},
   "outputs": [],
   "source": [
    "season, method, value_field, mask = 'Dry','ok','ResultValu', boundary_shp \n",
    "in_features = dry_input_pt \n",
    "out_ga_layer = gis_path +\"{}{}{}.lyrx\".format(Para_ab, season.lower(), method.upper())\n",
    "out_raster = gis_path +\"{}{}{}.tif\".format(Para_ab, season.lower(),method.upper())\n",
    "\n",
    "dryOK, dryOKStat = misc.interpolation.interpolation(method = method, input_point = in_features, \n",
    "                      out_raster = out_raster, z_field = value_field, \n",
    "                      out_ga_layer = out_ga_layer, extent = extent, \n",
    "                      mask = mask)\n",
    "\n",
    "display('Validation of the {} method in the {} season in {}:'.format(method.upper(),season.lower(), year))\n",
    "display(dryOKStat)\n",
    "\n",
    "season = 'Wet'\n",
    "in_features = wet_input_pt \n",
    "out_ga_layer = gis_path +\"{}{}{}.lyrx\".format(Para_ab, season.lower(), method.upper())\n",
    "out_raster = gis_path +\"{}{}{}.tif\".format(Para_ab, season.lower(),method.upper())\n",
    "\n",
    "wetOK,wetOKStat = misc.interpolation.interpolation(method = method, input_point = in_features, \n",
    "                      out_raster = out_raster, z_field = 'ResultValu', \n",
    "                      out_ga_layer = out_ga_layer, extent = extent, \n",
    "                      mask = mask)\n",
    "\n",
    "display('Validation of the {} method in the {} season in {}:'.format(method.upper(),season.lower(), year))\n",
    "display(wetOKStat)"
   ]
  },
  {
   "cell_type": "code",
   "execution_count": null,
   "id": "229dc200",
   "metadata": {},
   "outputs": [],
   "source": [
    "fig, axes = plt.subplots(1,2, figsize=(18, 8))\n",
    "\n",
    "fig.suptitle(\"{} (Parameter: {}).\".format(Area, Para),fontsize=20)\n",
    "\n",
    "misc.interpolation.plot_raster(gdfDryShp, extentShp, dryOK, 'Dry Season', axes[0], fig)\n",
    "misc.interpolation.plot_raster(gdfWetShp, extentShp, wetOK, 'Wet Season', axes[1], fig)"
   ]
  },
  {
   "cell_type": "markdown",
   "id": "c0b047f7",
   "metadata": {},
   "source": [
    "## 6.2 Inverse Distance Weighting: Total Nitrogen <a class=\"anchor\" id=\"tn_idw\"></a>"
   ]
  },
  {
   "cell_type": "code",
   "execution_count": null,
   "id": "6ead33a6",
   "metadata": {},
   "outputs": [],
   "source": [
    "season, method, value_field, mask = 'Dry','idw','ResultValu', boundary_shp \n",
    "in_features = dry_input_pt\n",
    "out_ga_layer = gis_path +\"{}{}{}.lyrx\".format(Para_ab, season.lower(), method.upper())\n",
    "out_raster = gis_path +\"{}{}{}.tif\".format(Para_ab, season.lower(),method.upper())\n",
    "\n",
    "dryIDW, dryIDWStat = misc.interpolation.interpolation(method = method, input_point = in_features, \n",
    "                      out_raster = out_raster, z_field = value_field, \n",
    "                      out_ga_layer = out_ga_layer, extent = extent, \n",
    "                      mask = mask)\n",
    "\n",
    "display('Validation of the {} method in the {} season in {}:'.format(method.upper(),season.lower(), year))\n",
    "display(dryIDWStat)\n",
    "\n",
    "season = 'Wet'\n",
    "in_features = wet_input_pt\n",
    "out_ga_layer = gis_path +\"{}{}{}.lyrx\".format(Para_ab, season.lower(), method.upper())\n",
    "out_raster = gis_path +\"{}{}{}.tif\".format(Para_ab, season.lower(),method.upper())\n",
    "\n",
    "wetIDW, wetIDWStat = misc.interpolation.interpolation(method = method, input_point = in_features, \n",
    "                      out_raster = out_raster, z_field = 'ResultValu', \n",
    "                      out_ga_layer = out_ga_layer, extent = extent, \n",
    "                      mask = mask)\n",
    "    \n",
    "display('Validation of the {} method in the {} season in {}:'.format(method.upper(),season.lower(), year))\n",
    "display(wetIDWStat)"
   ]
  },
  {
   "cell_type": "code",
   "execution_count": null,
   "id": "ac40421a",
   "metadata": {},
   "outputs": [],
   "source": [
    "fig, axes = plt.subplots(1,2, figsize=(18, 8))\n",
    "\n",
    "fig.suptitle(\"{} (Parameter: {}).\".format(Area, Para),fontsize=20)\n",
    "\n",
    "misc.interpolation.plot_raster(gdfDryShp, extentShp, dryIDW, 'Dry Season', axes[0],fig)\n",
    "misc.interpolation.plot_raster(gdfWetShp, extentShp, wetIDW, 'Wet Season', axes[1],fig)"
   ]
  },
  {
   "cell_type": "markdown",
   "id": "e39eee2e",
   "metadata": {},
   "source": [
    "## 6.3 Empirical Bayesian Kriging: Total Nitrogen <a class=\"anchor\" id=\"tn_ebk\"></a>"
   ]
  },
  {
   "cell_type": "code",
   "execution_count": null,
   "id": "f0ae3b67",
   "metadata": {
    "scrolled": true
   },
   "outputs": [],
   "source": [
    "season, method, value_field, mask = 'Dry','ebk','ResultValu', boundary_shp \n",
    "in_features = dry_input_pt\n",
    "out_ga_layer = gis_path +\"{}{}{}.lyrx\".format(Para_ab, season.lower(), method.upper())\n",
    "out_raster = gis_path +\"{}{}{}.tif\".format(Para_ab, season.lower(),method.upper())\n",
    "\n",
    "dryEBK, dryEBKStat = misc.interpolation.interpolation(method = method, input_point = in_features, \n",
    "                                               out_raster = out_raster, z_field = value_field, \n",
    "                                               out_ga_layer = out_ga_layer, extent = extent, mask = mask)\n",
    "\n",
    "display('Validation of the {} method in the {} season in {}:'.format(method.upper(),season.lower(), year))\n",
    "display(dryEBKStat)\n",
    "\n",
    "season = 'Wet'\n",
    "in_features = wet_input_pt\n",
    "out_ga_layer = gis_path +\"{}{}{}.lyrx\".format(Para_ab, season.lower(), method.upper())\n",
    "out_raster = gis_path +\"{}{}{}.tif\".format(Para_ab, season.lower(),method.upper())\n",
    "\n",
    "wetEBK, wetEBKStat = misc.interpolation.interpolation(method = method, input_point = in_features, \n",
    "                                               out_raster = out_raster, z_field = 'ResultValu', \n",
    "                                               out_ga_layer = out_ga_layer, extent = extent, mask = mask)\n",
    "\n",
    "display('Validation of the {} method in the {} season in {}:'.format(method.upper(),season.lower(), year))\n",
    "display(wetEBKStat)"
   ]
  },
  {
   "cell_type": "code",
   "execution_count": null,
   "id": "c1674116",
   "metadata": {},
   "outputs": [],
   "source": [
    "fig, axes = plt.subplots(1,2, figsize=(18, 8))\n",
    "\n",
    "fig.suptitle(\"{} (Parameter: {}).\".format(Area, Para),fontsize=20)\n",
    "\n",
    "misc.interpolation.plot_raster(gdfDryShp, extentShp, dryEBK, 'Dry Season', axes[0],fig)\n",
    "misc.interpolation.plot_raster(gdfWetShp, extentShp, wetEBK, 'Wet Season', axes[1],fig)"
   ]
  },
  {
   "cell_type": "markdown",
   "id": "ba94cc01",
   "metadata": {},
   "source": [
    "## 6.4 Validation Summary: Total Nitrogen <a class=\"anchor\" id=\"tn_rk_val\"></a>"
   ]
  },
  {
   "cell_type": "code",
   "execution_count": null,
   "id": "a22f2465",
   "metadata": {},
   "outputs": [],
   "source": [
    "sumStatDry3   = pd.concat([dryOKStat,dryIDWStat,dryEBKStat])\n",
    "print(\"Summary of interpolation assessment in dry season data\")\n",
    "sumStatDry3"
   ]
  },
  {
   "cell_type": "code",
   "execution_count": null,
   "id": "d3d03823",
   "metadata": {},
   "outputs": [],
   "source": [
    "sumStatWet3 = pd.concat([wetOKStat,wetIDWStat,wetEBKStat])\n",
    "print(\"Summary of interpolation assessment in wet season data\")\n",
    "sumStatWet3"
   ]
  },
  {
   "cell_type": "markdown",
   "id": "552f27c0",
   "metadata": {},
   "source": [
    "# 7. Spatial Interpolation of Turbidity <a class=\"anchor\" id=\"t_interpolate\"></a>\n",
    "\n",
    "Select and preview data"
   ]
  },
  {
   "cell_type": "code",
   "execution_count": null,
   "id": "532e5ed7",
   "metadata": {},
   "outputs": [],
   "source": [
    "year,Para,Para_ab = \"2014\", 'Turbidity', \"T\"\n",
    "\n",
    "dry_input_pt = gis_path+\"Dry\"+year+Para_ab+b_name+'.shp'\n",
    "wet_input_pt = gis_path+\"Wet\"+year+Para_ab+b_name+'.shp'\n",
    "\n",
    "dfDryMean, gdfDryAll = misc.preprocess.combine_dis_con_dry(dfDis,dfCon,year)\n",
    "dfWetMean, gdfWetAll = misc.preprocess.combine_dis_con_wet(dfDis,dfCon,year)\n",
    "\n",
    "gdfDryAll.to_csv(gis_path+'gdfDryAll{}.csv'.format(year))\n",
    "gdfWetAll.to_csv(gis_path+'gdfWetAll{}.csv'.format(year))\n",
    "\n",
    "gdfDrySelect = gdfDryAll[(gdfDryAll[\"ParameterName\"]==Para)&(gdfDryAll[\"ManagedAreaName\"]==Area)]\n",
    "gdfWetSelect = gdfWetAll[(gdfWetAll[\"ParameterName\"]==Para)&(gdfWetAll[\"ManagedAreaName\"]==Area)]\n",
    "\n",
    "gdfDrySelect.to_crs(int(SpatialRef)).to_file(dry_input_pt, driver='ESRI Shapefile',crs=\"EPSG:\"+SpatialRef)\n",
    "gdfWetSelect.to_crs(int(SpatialRef)).to_file(wet_input_pt, driver='ESRI Shapefile',crs=\"EPSG:\"+SpatialRef)"
   ]
  },
  {
   "cell_type": "code",
   "execution_count": null,
   "id": "8fb76900",
   "metadata": {},
   "outputs": [],
   "source": [
    "gdfDryShp = gpd.read_file(dry_input_pt)\n",
    "gdfWetShp = gpd.read_file(wet_input_pt)\n",
    "extentShp = gpd.read_file(boundary_shp)"
   ]
  },
  {
   "cell_type": "code",
   "execution_count": null,
   "id": "6338a1fd",
   "metadata": {},
   "outputs": [],
   "source": [
    "fig, ax = plt.subplots(figsize = (9,8))\n",
    "extentShp.plot(ax = ax, color='none', edgecolor='blue')\n",
    "gdfWetShp.plot(ax = ax, marker='o', color='red', markersize=5)\n",
    "cx.add_basemap(ax = ax,source=cx.providers.Stamen.TonerLite,crs=gdfDryShp.crs)\n",
    "ax.set_title('Sampling points at {}'.format(Area))"
   ]
  },
  {
   "cell_type": "markdown",
   "id": "9098dab1",
   "metadata": {},
   "source": [
    "## 7.1 Ordinary Kriging: Turbidity <a class=\"anchor\" id=\"t_kriging\"></a>"
   ]
  },
  {
   "cell_type": "code",
   "execution_count": null,
   "id": "e8c908bd",
   "metadata": {},
   "outputs": [],
   "source": [
    "season, method, value_field, mask = 'Dry','ok','ResultValu', boundary_shp \n",
    "in_features = dry_input_pt \n",
    "out_ga_layer = gis_path +\"{}{}{}.lyrx\".format(Para_ab, season.lower(), method.upper())\n",
    "out_raster = gis_path +\"{}{}{}.tif\".format(Para_ab, season.lower(),method.upper())\n",
    "\n",
    "dryOK, dryOKStat = misc.interpolation.interpolation(method = method, input_point = in_features, \n",
    "                      out_raster = out_raster, z_field = value_field, \n",
    "                      out_ga_layer = out_ga_layer, extent = extent, \n",
    "                      mask = mask)\n",
    "\n",
    "display('Validation of the {} method in the {} season in {}:'.format(method.upper(),season.lower(), year))\n",
    "display(dryOKStat)\n",
    "\n",
    "season = 'Wet'\n",
    "in_features = wet_input_pt \n",
    "out_ga_layer = gis_path +\"{}{}{}.lyrx\".format(Para_ab, season.lower(), method.upper())\n",
    "out_raster = gis_path +\"{}{}{}.tif\".format(Para_ab, season.lower(),method.upper())\n",
    "\n",
    "wetOK,wetOKStat = misc.interpolation.interpolation(method = method, input_point = in_features, \n",
    "                      out_raster = out_raster, z_field = 'ResultValu', \n",
    "                      out_ga_layer = out_ga_layer, extent = extent, \n",
    "                      mask = mask)\n",
    "\n",
    "display('Validation of the {} method in the {} season in {}:'.format(method.upper(),season.lower(), year))\n",
    "display(wetOKStat)"
   ]
  },
  {
   "cell_type": "code",
   "execution_count": null,
   "id": "3e08f559",
   "metadata": {},
   "outputs": [],
   "source": [
    "fig, axes = plt.subplots(1,2, figsize=(18, 8))\n",
    "\n",
    "fig.suptitle(\"{} (Parameter: {}).\".format(Area, Para),fontsize=20)\n",
    "\n",
    "misc.interpolation.plot_raster(gdfDryShp, extentShp, dryOK, 'Dry Season', axes[0], fig)\n",
    "misc.interpolation.plot_raster(gdfWetShp, extentShp, wetOK, 'Wet Season', axes[1], fig)"
   ]
  },
  {
   "cell_type": "markdown",
   "id": "014cc65c",
   "metadata": {},
   "source": [
    "## 7.2 Inverse Distance Weighting: Turbidity <a class=\"anchor\" id=\"t_idw\"></a>"
   ]
  },
  {
   "cell_type": "code",
   "execution_count": null,
   "id": "0d608181",
   "metadata": {},
   "outputs": [],
   "source": [
    "season, method, value_field, mask = 'Dry','idw','ResultValu', boundary_shp \n",
    "in_features = dry_input_pt\n",
    "out_ga_layer = gis_path +\"{}{}{}.lyrx\".format(Para_ab, season.lower(), method.upper())\n",
    "out_raster = gis_path +\"{}{}{}.tif\".format(Para_ab, season.lower(),method.upper())\n",
    "\n",
    "dryIDW, dryIDWStat = misc.interpolation.interpolation(method = method, input_point = in_features, \n",
    "                      out_raster = out_raster, z_field = value_field, \n",
    "                      out_ga_layer = out_ga_layer, extent = extent, \n",
    "                      mask = mask)\n",
    "\n",
    "display('Validation of the {} method in the {} season in {}:'.format(method.upper(),season.lower(), year))\n",
    "display(dryIDWStat)\n",
    "\n",
    "season = 'Wet'\n",
    "in_features = wet_input_pt\n",
    "out_ga_layer = gis_path +\"{}{}{}.lyrx\".format(Para_ab, season.lower(), method.upper())\n",
    "out_raster = gis_path +\"{}{}{}.tif\".format(Para_ab, season.lower(),method.upper())\n",
    "\n",
    "wetIDW, wetIDWStat = misc.interpolation.interpolation(method = method, input_point = in_features, \n",
    "                      out_raster = out_raster, z_field = 'ResultValu', \n",
    "                      out_ga_layer = out_ga_layer, extent = extent, \n",
    "                      mask = mask)\n",
    "    \n",
    "display('Validation of the {} method in the {} season in {}:'.format(method.upper(),season.lower(), year))\n",
    "display(wetIDWStat)"
   ]
  },
  {
   "cell_type": "code",
   "execution_count": null,
   "id": "79071010",
   "metadata": {},
   "outputs": [],
   "source": [
    "fig, axes = plt.subplots(1,2, figsize=(18, 8))\n",
    "\n",
    "fig.suptitle(\"{} (Parameter: {}).\".format(Area, Para),fontsize=20)\n",
    "\n",
    "misc.interpolation.plot_raster(gdfDryShp, extentShp, dryIDW, 'Dry Season', axes[0],fig)\n",
    "misc.interpolation.plot_raster(gdfWetShp, extentShp, wetIDW, 'Wet Season', axes[1],fig)"
   ]
  },
  {
   "cell_type": "markdown",
   "id": "37018e97",
   "metadata": {},
   "source": [
    "## 7.3 Empirical Bayesian Kriging: Turbidity <a class=\"anchor\" id=\"t_ebk\"></a>"
   ]
  },
  {
   "cell_type": "code",
   "execution_count": null,
   "id": "c368547e",
   "metadata": {
    "scrolled": true
   },
   "outputs": [],
   "source": [
    "season, method, value_field, mask = 'Dry','ebk','ResultValu', boundary_shp \n",
    "in_features = dry_input_pt\n",
    "out_ga_layer = gis_path +\"{}{}{}.lyrx\".format(Para_ab, season.lower(), method.upper())\n",
    "out_raster = gis_path +\"{}{}{}.tif\".format(Para_ab, season.lower(),method.upper())\n",
    "\n",
    "dryEBK, dryEBKStat = misc.interpolation.interpolation(method = method, input_point = in_features, \n",
    "                                               out_raster = out_raster, z_field = value_field, \n",
    "                                               out_ga_layer = out_ga_layer, extent = extent, mask = mask)\n",
    "\n",
    "display('Validation of the {} method in the {} season in {}:'.format(method.upper(),season.lower(), year))\n",
    "display(dryEBKStat)\n",
    "\n",
    "season = 'Wet'\n",
    "in_features = wet_input_pt\n",
    "out_ga_layer = gis_path +\"{}{}{}.lyrx\".format(Para_ab, season.lower(), method.upper())\n",
    "out_raster = gis_path +\"{}{}{}.tif\".format(Para_ab, season.lower(),method.upper())\n",
    "\n",
    "wetEBK, wetEBKStat = misc.interpolation.interpolation(method = method, input_point = in_features, \n",
    "                                               out_raster = out_raster, z_field = 'ResultValu', \n",
    "                                               out_ga_layer = out_ga_layer, extent = extent, mask = mask)\n",
    "\n",
    "display('Validation of the {} method in the {} season in {}:'.format(method.upper(),season.lower(), year))\n",
    "display(wetEBKStat)"
   ]
  },
  {
   "cell_type": "code",
   "execution_count": null,
   "id": "21582f07",
   "metadata": {},
   "outputs": [],
   "source": [
    "fig, axes = plt.subplots(1,2, figsize=(18, 8))\n",
    "\n",
    "fig.suptitle(\"{} (Parameter: {}).\".format(Area, Para),fontsize=20)\n",
    "\n",
    "misc.interpolation.plot_raster(gdfDryShp, extentShp, dryEBK, 'Dry Season', axes[0],fig)\n",
    "misc.interpolation.plot_raster(gdfWetShp, extentShp, wetEBK, 'Wet Season', axes[1],fig)"
   ]
  },
  {
   "cell_type": "markdown",
   "id": "eb1ee290",
   "metadata": {},
   "source": [
    "## 7.4 Validation Summary: Turbidity <a class=\"anchor\" id=\"t_rk_val\"></a>"
   ]
  },
  {
   "cell_type": "code",
   "execution_count": null,
   "id": "c4472862",
   "metadata": {},
   "outputs": [],
   "source": [
    "sumStatDry4   = pd.concat([dryOKStat,dryIDWStat,dryEBKStat])\n",
    "print(\"Summary of interpolation assessment in dry season data\")\n",
    "sumStatDry4"
   ]
  },
  {
   "cell_type": "code",
   "execution_count": null,
   "id": "bcd6a4a3",
   "metadata": {},
   "outputs": [],
   "source": [
    "sumStatWet4 = pd.concat([wetOKStat,wetIDWStat,wetEBKStat])\n",
    "print(\"Summary of interpolation assessment in wet season data\")\n",
    "sumStatWet4"
   ]
  },
  {
   "cell_type": "markdown",
   "id": "e5d324fd",
   "metadata": {},
   "source": [
    "# 8. Spatial Interpolation of Secchi Depth <a class=\"anchor\" id=\"sd_interpolate\"></a>\n",
    "\n",
    "Select and preview data"
   ]
  },
  {
   "cell_type": "code",
   "execution_count": null,
   "id": "6f7771ce",
   "metadata": {},
   "outputs": [],
   "source": [
    "year,Para,Para_ab = \"2010\", 'Secchi Depth', \"SD\"\n",
    "\n",
    "dry_input_pt = gis_path+\"Dry\"+year+Para_ab+b_name+'.shp'\n",
    "wet_input_pt = gis_path+\"Wet\"+year+Para_ab+b_name+'.shp'\n",
    "\n",
    "dfDryMean, gdfDryAll = misc.preprocess.combine_dis_con_dry(dfDis,dfCon,year)\n",
    "dfWetMean, gdfWetAll = misc.preprocess.combine_dis_con_wet(dfDis,dfCon,year)\n",
    "\n",
    "gdfDryAll.to_csv(gis_path+'gdfDryAll{}.csv'.format(year))\n",
    "gdfWetAll.to_csv(gis_path+'gdfWetAll{}.csv'.format(year))\n",
    "\n",
    "gdfDrySelect = gdfDryAll[(gdfDryAll[\"ParameterName\"]==Para)&(gdfDryAll[\"ManagedAreaName\"]==Area)]\n",
    "gdfWetSelect = gdfWetAll[(gdfWetAll[\"ParameterName\"]==Para)&(gdfWetAll[\"ManagedAreaName\"]==Area)]\n",
    "\n",
    "gdfDrySelect.to_crs(int(SpatialRef)).to_file(dry_input_pt, driver='ESRI Shapefile',crs=\"EPSG:\"+SpatialRef)\n",
    "gdfWetSelect.to_crs(int(SpatialRef)).to_file(wet_input_pt, driver='ESRI Shapefile',crs=\"EPSG:\"+SpatialRef)"
   ]
  },
  {
   "cell_type": "code",
   "execution_count": null,
   "id": "1f6b8d4e",
   "metadata": {},
   "outputs": [],
   "source": [
    "gdfDryShp = gpd.read_file(dry_input_pt)\n",
    "gdfWetShp = gpd.read_file(wet_input_pt)\n",
    "extentShp = gpd.read_file(boundary_shp)"
   ]
  },
  {
   "cell_type": "code",
   "execution_count": null,
   "id": "ac0bab05",
   "metadata": {},
   "outputs": [],
   "source": [
    "fig, ax = plt.subplots(figsize = (9,8))\n",
    "extentShp.plot(ax = ax, color='none', edgecolor='blue')\n",
    "gdfWetShp.plot(ax = ax, marker='o', color='red', markersize=5)\n",
    "cx.add_basemap(ax = ax,source=cx.providers.Stamen.TonerLite,crs=gdfDryShp.crs)\n",
    "ax.set_title('Sampling points at {}'.format(Area))"
   ]
  },
  {
   "cell_type": "markdown",
   "id": "fbcf0a11",
   "metadata": {},
   "source": [
    "## 8.1 Ordinary Kriging: Secchi Depth <a class=\"anchor\" id=\"sd_kriging\"></a>"
   ]
  },
  {
   "cell_type": "code",
   "execution_count": null,
   "id": "a699a8b8",
   "metadata": {},
   "outputs": [],
   "source": [
    "season, method, value_field, mask = 'Dry','ok','ResultValu', boundary_shp \n",
    "in_features = dry_input_pt \n",
    "out_ga_layer = gis_path +\"{}{}{}.lyrx\".format(Para_ab, season.lower(), method.upper())\n",
    "out_raster = gis_path +\"{}{}{}.tif\".format(Para_ab, season.lower(),method.upper())\n",
    "\n",
    "dryOK, dryOKStat = misc.interpolation.interpolation(method = method, input_point = in_features, \n",
    "                      out_raster = out_raster, z_field = value_field, \n",
    "                      out_ga_layer = out_ga_layer, extent = extent, \n",
    "                      mask = mask)\n",
    "\n",
    "display('Validation of the {} method in the {} season in {}:'.format(method.upper(),season.lower(), year))\n",
    "display(dryOKStat)\n",
    "\n",
    "season = 'Wet'\n",
    "in_features = wet_input_pt \n",
    "out_ga_layer = gis_path +\"{}{}{}.lyrx\".format(Para_ab, season.lower(), method.upper())\n",
    "out_raster = gis_path +\"{}{}{}.tif\".format(Para_ab, season.lower(),method.upper())\n",
    "\n",
    "wetOK,wetOKStat = misc.interpolation.interpolation(method = method, input_point = in_features, \n",
    "                      out_raster = out_raster, z_field = 'ResultValu', \n",
    "                      out_ga_layer = out_ga_layer, extent = extent, \n",
    "                      mask = mask)\n",
    "\n",
    "display('Validation of the {} method in the {} season in {}:'.format(method.upper(),season.lower(), year))\n",
    "display(wetOKStat)"
   ]
  },
  {
   "cell_type": "code",
   "execution_count": null,
   "id": "1d627a63",
   "metadata": {},
   "outputs": [],
   "source": [
    "fig, axes = plt.subplots(1,2, figsize=(18, 8))\n",
    "\n",
    "fig.suptitle(\"{} (Parameter: {}).\".format(Area, Para),fontsize=20)\n",
    "\n",
    "misc.interpolation.plot_raster(gdfDryShp, extentShp, dryOK, 'Dry Season', axes[0], fig)\n",
    "misc.interpolation.plot_raster(gdfWetShp, extentShp, wetOK, 'Wet Season', axes[1], fig)"
   ]
  },
  {
   "cell_type": "markdown",
   "id": "3a51eb01",
   "metadata": {},
   "source": [
    "## 8.2 Inverse Distance Weighting: Secchi Depth <a class=\"anchor\" id=\"t_idw\"></a>"
   ]
  },
  {
   "cell_type": "code",
   "execution_count": null,
   "id": "7dfe2a78",
   "metadata": {},
   "outputs": [],
   "source": [
    "season, method, value_field, mask = 'Dry','idw','ResultValu', boundary_shp \n",
    "in_features = dry_input_pt\n",
    "out_ga_layer = gis_path +\"{}{}{}.lyrx\".format(Para_ab, season.lower(), method.upper())\n",
    "out_raster = gis_path +\"{}{}{}.tif\".format(Para_ab, season.lower(),method.upper())\n",
    "\n",
    "dryIDW, dryIDWStat = misc.interpolation.interpolation(method = method, input_point = in_features, \n",
    "                      out_raster = out_raster, z_field = value_field, \n",
    "                      out_ga_layer = out_ga_layer, extent = extent, \n",
    "                      mask = mask)\n",
    "\n",
    "display('Validation of the {} method in the {} season in {}:'.format(method.upper(),season.lower(), year))\n",
    "display(dryIDWStat)\n",
    "\n",
    "season = 'Wet'\n",
    "in_features = wet_input_pt\n",
    "out_ga_layer = gis_path +\"{}{}{}.lyrx\".format(Para_ab, season.lower(), method.upper())\n",
    "out_raster = gis_path +\"{}{}{}.tif\".format(Para_ab, season.lower(),method.upper())\n",
    "\n",
    "wetIDW, wetIDWStat = misc.interpolation.interpolation(method = method, input_point = in_features, \n",
    "                      out_raster = out_raster, z_field = 'ResultValu', \n",
    "                      out_ga_layer = out_ga_layer, extent = extent, \n",
    "                      mask = mask)\n",
    "    \n",
    "display('Validation of the {} method in the {} season in {}:'.format(method.upper(),season.lower(), year))\n",
    "display(wetIDWStat)"
   ]
  },
  {
   "cell_type": "code",
   "execution_count": null,
   "id": "04d68bcd",
   "metadata": {},
   "outputs": [],
   "source": [
    "fig, axes = plt.subplots(1,2, figsize=(18, 8))\n",
    "\n",
    "fig.suptitle(\"{} (Parameter: {}).\".format(Area, Para),fontsize=20)\n",
    "\n",
    "misc.interpolation.plot_raster(gdfDryShp, extentShp, dryIDW, 'Dry Season', axes[0],fig)\n",
    "misc.interpolation.plot_raster(gdfWetShp, extentShp, wetIDW, 'Wet Season', axes[1],fig)"
   ]
  },
  {
   "cell_type": "markdown",
   "id": "14be7d7b",
   "metadata": {},
   "source": [
    "## 8.3 Empirical Bayesian Kriging: Secchi Depth <a class=\"anchor\" id=\"sd_ebk\"></a>"
   ]
  },
  {
   "cell_type": "code",
   "execution_count": null,
   "id": "d056198a",
   "metadata": {
    "scrolled": true
   },
   "outputs": [],
   "source": [
    "season, method, value_field, mask = 'Dry','ebk','ResultValu', boundary_shp \n",
    "in_features = dry_input_pt\n",
    "out_ga_layer = gis_path +\"{}{}{}.lyrx\".format(Para_ab, season.lower(), method.upper())\n",
    "out_raster = gis_path +\"{}{}{}.tif\".format(Para_ab, season.lower(),method.upper())\n",
    "\n",
    "dryEBK, dryEBKStat = misc.interpolation.interpolation(method = method, input_point = in_features, \n",
    "                                               out_raster = out_raster, z_field = value_field, \n",
    "                                               out_ga_layer = out_ga_layer, extent = extent, mask = mask)\n",
    "\n",
    "display('Validation of the {} method in the {} season in {}:'.format(method.upper(),season.lower(), year))\n",
    "display(dryEBKStat)\n",
    "\n",
    "season = 'Wet'\n",
    "in_features = wet_input_pt\n",
    "out_ga_layer = gis_path +\"{}{}{}.lyrx\".format(Para_ab, season.lower(), method.upper())\n",
    "out_raster = gis_path +\"{}{}{}.tif\".format(Para_ab, season.lower(),method.upper())\n",
    "\n",
    "wetEBK, wetEBKStat = misc.interpolation.interpolation(method = method, input_point = in_features, \n",
    "                                               out_raster = out_raster, z_field = 'ResultValu', \n",
    "                                               out_ga_layer = out_ga_layer, extent = extent, mask = mask)\n",
    "\n",
    "display('Validation of the {} method in the {} season in {}:'.format(method.upper(),season.lower(), year))\n",
    "display(wetEBKStat)"
   ]
  },
  {
   "cell_type": "code",
   "execution_count": null,
   "id": "0c3dd1ac",
   "metadata": {},
   "outputs": [],
   "source": [
    "fig, axes = plt.subplots(1,2, figsize=(18, 8))\n",
    "\n",
    "fig.suptitle(\"{} (Parameter: {}).\".format(Area, Para),fontsize=20)\n",
    "\n",
    "misc.interpolation.plot_raster(gdfDryShp, extentShp, dryEBK, 'Dry Season', axes[0],fig)\n",
    "misc.interpolation.plot_raster(gdfWetShp, extentShp, wetEBK, 'Wet Season', axes[1],fig)"
   ]
  },
  {
   "cell_type": "markdown",
   "id": "b305dd2e",
   "metadata": {},
   "source": [
    "## 8.4 Validation Summary: Secchi Depth <a class=\"anchor\" id=\"sd_rk_val\"></a>"
   ]
  },
  {
   "cell_type": "code",
   "execution_count": null,
   "id": "58d4cd22",
   "metadata": {},
   "outputs": [],
   "source": [
    "sumStatDry5   = pd.concat([dryOKStat,dryIDWStat,dryEBKStat])\n",
    "print(\"Summary of interpolation assessment in dry season data\")\n",
    "sumStatDry5"
   ]
  },
  {
   "cell_type": "code",
   "execution_count": null,
   "id": "1dbf4fcb",
   "metadata": {},
   "outputs": [],
   "source": [
    "sumStatWet5 = pd.concat([wetOKStat,wetIDWStat,wetEBKStat])\n",
    "print(\"Summary of interpolation assessment in wet season data\")\n",
    "sumStatWet5"
   ]
  }
 ],
 "metadata": {
  "kernelspec": {
   "display_name": "Python 3 (ipykernel)",
   "language": "python",
   "name": "python3"
  },
  "language_info": {
   "codemirror_mode": {
    "name": "ipython",
    "version": 3
   },
   "file_extension": ".py",
   "mimetype": "text/x-python",
   "name": "python",
   "nbconvert_exporter": "python",
   "pygments_lexer": "ipython3",
   "version": "3.9.11"
  }
 },
 "nbformat": 4,
 "nbformat_minor": 5
}
