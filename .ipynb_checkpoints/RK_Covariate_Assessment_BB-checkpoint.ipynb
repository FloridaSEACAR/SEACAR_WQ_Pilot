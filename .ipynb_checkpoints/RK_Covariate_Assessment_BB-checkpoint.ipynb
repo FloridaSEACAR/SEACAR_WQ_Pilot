{
 "cells": [
  {
   "cell_type": "markdown",
   "id": "fb0e0a5b",
   "metadata": {},
   "source": [
    "# Regression Kriging: Comparing Covariates (Big Bend)\n",
    "\n",
    "This document includes Python codes that compare regression kriging with 1) bathymatry, 2) LDI, 3) basymatry+ LDI.\n",
    "\n",
    "All date are shared in the [box folder](https://usf.box.com/s/xu3dw4i1emv2hzveyf9idnx9q78t939c).\n",
    "\n",
    "# Table of Contents:\n",
    "\n",
    "* [1.Load Data](#load_data)\n",
    "* [2. Combine Discrete and Continuous Data](#preprocess)\n",
    "* [3. Charlotte Harbor](#ch)\n",
    "    * [3.1 Preview](#ch_preview)\n",
    "    * [3.2 Dissolved Oxygen](#do)\n",
    "        * [3.2.1 Regression Kriging (covariate: bathymetry](#do_bathy)\n",
    "        * [3.2.2 Regression Kriging: (covariate: LDI)](#do_ldi)\n",
    "        * [3.2.3 Regression Kriging (covariate: bathymetry](#do_b_ldi)\n",
    "        * [3.2.4 Interpolation Validation](#do_val)\n",
    "    * [3.3 Salinity](#s)\n",
    "        * [3.3.1 Regression Kriging (covariate: bathymetry](#s_bathy)\n",
    "        * [3.3.2 Regression Kriging: (covariate: LDI)](#s_ldi)\n",
    "        * [3.3.3 Regression Kriging (covariate: bathymetry](#s_b_ldi)\n",
    "        * [3.3.4 Interpolation Validation](#s_val)\n",
    "    * [3.4 Total Nitrogen](#tn)\n",
    "        * [3.4.1 Regression Kriging of Total Nitrogen (covariate: bathymetry](#tn_bathy)\n",
    "        * [3.4.2 Regression Kriging of Total Nitrogen: (covariate: LDI)](#tn_ldi)\n",
    "        * [3.4.3 Regression Kriging of Total Nitrogen (covariate: bathymetry](#tn_b_ldi)\n",
    "        * [3.4.4 Interpolation Validation of Total Nitrogen](#tn_val)"
   ]
  },
  {
   "cell_type": "code",
   "execution_count": 1,
   "id": "1f99d18b",
   "metadata": {},
   "outputs": [],
   "source": [
    "import time\n",
    "import math  \n",
    "import sklearn.metrics  \n",
    "import arcgisscripting\n",
    "import geopandas as gpd\n",
    "import matplotlib.pyplot as plt\n",
    "import numpy as np\n",
    "import pandas as pd\n",
    "import rasterio as rio\n",
    "import rasterio.mask\n",
    "import rasterio.plot as rio_pl\n",
    "import matplotlib.image as mpimg\n",
    "import os\n",
    "#import rioxarray as rxr\n",
    "\n",
    "from rasterio.plot import show\n",
    "from rasterio.transform import Affine\n",
    "from rasterio.mask import mask\n",
    "from rasterio import MemoryFile\n",
    "from rasterio.profiles import DefaultGTiffProfile\n",
    "from scipy.spatial import Voronoi, voronoi_plot_2d\n",
    "from scipy.stats import sem\n",
    "from sklearn.metrics import mean_squared_error\n",
    "from shapely.geometry import box, Polygon, Point\n",
    "from shapely import wkt\n",
    "from sklearn.gaussian_process import GaussianProcessRegressor\n",
    "from sklearn.metrics import r2_score\n",
    "from sklearn.model_selection import train_test_split\n",
    "from sklearn.neighbors import KNeighborsRegressor\n",
    "import contextily as cx\n",
    "#from osgeo import gdal\n",
    "#from pykrige.ok import OrdinaryKriging\n",
    "\n",
    "# import arcpy and environmental settings\n",
    "import arcpy\n",
    "from arcpy.sa import *\n",
    "import misc.preprocess\n",
    "import misc.interpolation\n",
    "arcpy.env.overwriteOutput = True"
   ]
  },
  {
   "cell_type": "markdown",
   "id": "7fddddef",
   "metadata": {},
   "source": [
    "# 1. Load and Preprocess Data <a class=\"anchor\" id=\"load_data\"></a>"
   ]
  },
  {
   "cell_type": "code",
   "execution_count": 2,
   "id": "c8d6cef8",
   "metadata": {},
   "outputs": [],
   "source": [
    "path = \"E:/Projects/SEACAR_WQ_Pilot/\"\n",
    "gis_path = path+'GIS_data/'\n",
    "\n",
    "# path = \"D:/Water_Quailty/\"\n",
    "# gis_path = path+'Test02200/'"
   ]
  },
  {
   "cell_type": "markdown",
   "id": "e776b311",
   "metadata": {},
   "source": [
    "Preprocess the data and save the preprocessed data in new files"
   ]
  },
  {
   "cell_type": "code",
   "execution_count": 3,
   "id": "f3471a9c",
   "metadata": {},
   "outputs": [],
   "source": [
    "# dfDis, dfCon = misc.preprocess.preprocess(path + r\"OEAT_Discrete-2023-Jan-23.csv\", \n",
    "#                     path + r\"OEAT_Continuous_1-2023-Jan-23.csv\",\n",
    "#                     path + r\"OEAT_Continuous_2-2023-Jan-23.csv\")\n",
    "\n",
    "# dfDis.to_csv(path + \"discrete_0214.csv\")\n",
    "# dfCon.to_csv(path + \"continuous_0214.csv\")"
   ]
  },
  {
   "cell_type": "markdown",
   "id": "2c71d3de",
   "metadata": {},
   "source": [
    "To save time, we can load the preprocessed \"discrete_0214.csv\" and \"continuous_0214.csv\"."
   ]
  },
  {
   "cell_type": "code",
   "execution_count": 4,
   "id": "00ec086d",
   "metadata": {},
   "outputs": [
    {
     "name": "stderr",
     "output_type": "stream",
     "text": [
      "C:\\Users\\qiangy\\AppData\\Local\\ESRI\\conda\\envs\\geo3\\lib\\site-packages\\IPython\\core\\interactiveshell.py:3442: DtypeWarning: Columns (11) have mixed types.Specify dtype option on import or set low_memory=False.\n",
      "  exec(code_obj, self.user_global_ns, self.user_ns)\n"
     ]
    }
   ],
   "source": [
    "#dfDis = pd.read_csv(\"D:/Water_Quailty/Test0214/discrete_0214.csv\")\n",
    "#dfCon = pd.read_csv(\"D:/Water_Quailty/Test0214/continuous_0214.csv\")\n",
    "\n",
    "dfDis = pd.read_csv(path + \"discrete_0214.csv\")\n",
    "dfCon = pd.read_csv(path + \"continuous_0214.csv\")"
   ]
  },
  {
   "cell_type": "code",
   "execution_count": 5,
   "id": "63553b1b",
   "metadata": {},
   "outputs": [],
   "source": [
    "col_ls = ['RowID','ParameterName','ParameterUnits','ProgramLocationID','ActivityType','ManagedAreaName',\n",
    "                   'SampleDate','Year','Month','ResultValue','ValueQualifier','Latitude_DD','Longitude_DD']\n",
    "para_ls = [\"Salinity\",\"Total Nitrogen\",\"Dissolved Oxygen\",\"Turbidity\",\"Secchi Depth\"]\n",
    "para_ls_ab = [\"S\",\"TN\",\"DO\",\"T\",\"SD\"]\n",
    "# Convert full MA names to short names\n",
    "dictArea    = {'Gasparilla Sound-Charlotte Harbor Aquatic Preserve':'Charlotte Harbor','Big Bend Seagrasses Aquatic Preserve':'Big Bend',\n",
    "                'Guana Tolomato Matanzas National Estuarine Research Reserve':'GTM Reserve','Estero Bay Aquatic Preserve':'Estero Bay',\n",
    "                'Biscayne Bay Aquatic Preserve':'Biscayne Bay','Matlacha Pass Aquatic Preserve':'Matlacha Pass AP',\n",
    "                'Lemon Bay Aquatic Preserve':'Lemon Bay','Cape Haze Aquatic Preserve':'Cape Haze','Pine Island Sound Aquatic Preserve':'Pine Island'}\n",
    "\n",
    "# Convert full MA names to MA name in ORCP_Managed_Areas_Oct2021\n",
    "dictArea2    = {'Gasparilla Sound-Charlotte Harbor Aquatic Preserve':'Gasparilla Sound-Charlotte Harbor','Big Bend Seagrasses Aquatic Preserve':'Big Bend Seagrasses',\n",
    "                'Guana Tolomato Matanzas National Estuarine Research Reserve':'Guana Tolomato Matanzas NERR','Estero Bay Aquatic Preserve':'Estero Bay',\n",
    "                'Biscayne Bay Aquatic Preserve':'Biscayne Bay','Matlacha Pass Aquatic Preserve':'Matlacha Pass',\n",
    "                'Lemon Bay Aquatic Preserve':'Lemon Bay','Cape Haze Aquatic Preserve':'Cape Haze','Pine Island Sound Aquatic Preserve':'Pine Island Sound'}\n",
    "\n",
    "dictUnits   = {\"Salinity\":\"ppt\",\"Total Nitrogen\": \"mg/L\",\"Dissolved Oxygen\": \"mg/L\",\"Turbidity\": \"NTU\", \"Secchi Depth\": \"m\"}\n",
    "listArea    = dfCon[\"ManagedAreaName\"].unique()\n",
    "listPara    = [\"Salinity\",\"Total Nitrogen\",\"Dissolved Oxygen\",\"Turbidity\",\"Secchi Depth\"] \n",
    "drySeason   = [11,12,1,2,3,4]\n",
    "wetSeason = [5,6,7,8,9,10]\n",
    "\n",
    "\n",
    "# dry_start,dry_end = '11/01/2016','04/30/2017'\n",
    "# wet_start,wet_end = '05/01/2017','10/31/2017'"
   ]
  },
  {
   "cell_type": "markdown",
   "id": "2efa0ee5",
   "metadata": {},
   "source": [
    "# 2. Combine Discrete and Continuous Data <a class=\"anchor\" id=\"combine\"></a>\n",
    "\n",
    "Combine dis and con dataframes"
   ]
  },
  {
   "cell_type": "code",
   "execution_count": 6,
   "id": "8fa172cc",
   "metadata": {},
   "outputs": [
    {
     "name": "stderr",
     "output_type": "stream",
     "text": [
      "C:\\Users\\qiangy\\AppData\\Local\\Temp\\ipykernel_59240\\484656060.py:23: UserWarning: Column names longer than 10 characters will be truncated when saved to ESRI Shapefile.\n",
      "  gdfDrySelect.to_crs(int(SpatialRef)).to_file(dry_input_pt, driver='ESRI Shapefile',crs=\"EPSG:\"+SpatialRef)\n",
      "C:\\Users\\qiangy\\AppData\\Local\\Temp\\ipykernel_59240\\484656060.py:24: UserWarning: Column names longer than 10 characters will be truncated when saved to ESRI Shapefile.\n",
      "  gdfWetSelect.to_crs(int(SpatialRef)).to_file(wet_input_pt, driver='ESRI Shapefile',crs=\"EPSG:\"+SpatialRef)\n"
     ]
    }
   ],
   "source": [
    "# Set variables of the program\n",
    "year = \"2016\"\n",
    "Area = 'Big Bend Seagrasses Aquatic Preserve'\n",
    "b_name = 'bb'\n",
    "Para = 'Dissolved Oxygen'\n",
    "Para_ab = \"DO\"\n",
    "SpatialRef = '3086'\n",
    "\n",
    "dry_input_pt = gis_path+\"Dry\"+year+Para_ab+b_name+'.shp'\n",
    "wet_input_pt = gis_path+\"Wet\"+year+Para_ab+b_name+'.shp'\n",
    "boundary_shp = gis_path+ '{}.shp'.format(b_name)\n",
    "\n",
    "# ---------------------------- Uncomment in the first run --------------------------\n",
    "dfDryMean, gdfDryAll = misc.preprocess.combine_dis_con_dry(dfDis,dfCon,year)\n",
    "dfWetMean, gdfWetAll = misc.preprocess.combine_dis_con_wet(dfDis,dfCon,year)\n",
    "\n",
    "gdfDryAll.to_csv(gis_path+'gdfDryAll{}.csv'.format(year))\n",
    "gdfWetAll.to_csv(gis_path+'gdfWetAll{}.csv'.format(year))\n",
    "\n",
    "gdfDrySelect = gdfDryAll[(gdfDryAll[\"ParameterName\"]==Para)&(gdfDryAll[\"ManagedAreaName\"]==Area)]\n",
    "gdfWetSelect = gdfWetAll[(gdfWetAll[\"ParameterName\"]==Para)&(gdfWetAll[\"ManagedAreaName\"]==Area)]\n",
    "\n",
    "gdfDrySelect.to_crs(int(SpatialRef)).to_file(dry_input_pt, driver='ESRI Shapefile',crs=\"EPSG:\"+SpatialRef)\n",
    "gdfWetSelect.to_crs(int(SpatialRef)).to_file(wet_input_pt, driver='ESRI Shapefile',crs=\"EPSG:\"+SpatialRef)"
   ]
  },
  {
   "cell_type": "markdown",
   "id": "03f0d7d8",
   "metadata": {},
   "source": [
    "Skip the preprocessing and load the pre-stored dataframes"
   ]
  },
  {
   "cell_type": "code",
   "execution_count": 7,
   "id": "1943990e",
   "metadata": {},
   "outputs": [],
   "source": [
    "# gdfDryAll = pd.read_csv(gis_path+'gdfDryAll{}.csv'.format(year))\n",
    "# gdfDryAll = gdfDryAll['geometry'].apply(wkt.loads)\n",
    "# gdfDryAll = gpd.GeoDataFrame(gdfDryAll, crs='epsg:'+SpatialRef)\n",
    "\n",
    "# gdfWetAll = pd.read_csv(gis_path+'gdfWetAll{}.csv'.format(year))\n",
    "# gdfWetAll = gdfWetAll['geometry'].apply(wkt.loads)\n",
    "# gdfWetAll = gpd.GeoDataFrame(gdfWetAll, crs='epsg:'+SpatialRef)"
   ]
  },
  {
   "cell_type": "markdown",
   "id": "05933f11",
   "metadata": {},
   "source": [
    "# 3. Big Bend <a class=\"anchor\" id=\"ch\"></a>\n",
    "## 3.1 Preview Data <a class=\"anchor\" id=\"ch_preview\"></a>"
   ]
  },
  {
   "cell_type": "code",
   "execution_count": 8,
   "id": "8bba2c63",
   "metadata": {
    "scrolled": true
   },
   "outputs": [],
   "source": [
    "#MA = gpd.read_file(r\"D:\\Water_Quailty\\ManagedAreas\\ORCP_Managed_Areas_Oct2021.shp\")\n",
    "MA = gpd.read_file(gis_path + r\"ORCP_Managed_Areas_Oct2021.shp\")\n",
    "CH = MA[MA['MA_Name']==dictArea2[Area]].to_crs(int(SpatialRef))\n",
    "CH.to_file(boundary_shp , driver='ESRI Shapefile',crs=\"EPSG:\"+SpatialRef)"
   ]
  },
  {
   "cell_type": "markdown",
   "id": "cb105290",
   "metadata": {},
   "source": [
    "Also convert all shapefile to Florida GDL Albers (https://epsg.io/3086)"
   ]
  },
  {
   "cell_type": "code",
   "execution_count": 9,
   "id": "9270bd9b",
   "metadata": {},
   "outputs": [],
   "source": [
    "gdfDryShp = gpd.read_file(dry_input_pt)\n",
    "gdfWetShp = gpd.read_file(wet_input_pt)\n",
    "extentShp = gpd.read_file(boundary_shp)"
   ]
  },
  {
   "cell_type": "code",
   "execution_count": 10,
   "id": "2977a0ce",
   "metadata": {},
   "outputs": [
    {
     "data": {
      "text/plain": [
       "Text(0.5, 1.0, 'Sampling points at Big Bend Seagrasses Aquatic Preserve')"
      ]
     },
     "execution_count": 10,
     "metadata": {},
     "output_type": "execute_result"
    },
    {
     "data": {
      "image/png": "[encoded data removed]",
      "text/plain": [
       "<Figure size 648x432 with 1 Axes>"
      ]
     },
     "metadata": {
      "needs_background": "light"
     },
     "output_type": "display_data"
    }
   ],
   "source": [
    "fig, ax = plt.subplots(figsize = (9,6))\n",
    "extentShp.plot(ax = ax, color='none', edgecolor='blue')\n",
    "gdfWetShp.plot(ax = ax, marker='o', color='red', markersize=5)\n",
    "cx.add_basemap(ax = ax,source=cx.providers.Stamen.TonerLite,crs=gdfDryShp.crs)\n",
    "ax.set_title('Sampling points at {}'.format(Area))"
   ]
  },
  {
   "cell_type": "code",
   "execution_count": 11,
   "id": "ff86c437",
   "metadata": {},
   "outputs": [],
   "source": [
    "extent = str(extentShp.geometry.total_bounds).replace('[','').replace(']','')"
   ]
  },
  {
   "cell_type": "markdown",
   "id": "b845e05b",
   "metadata": {},
   "source": [
    "## 3.2 Dissolved Oxygen <a class=\"anchor\" id=\"do\"></a>\n",
    "\n",
    "### 3.2.1 Regression Kriging (covariate: bathymetry) <a class=\"anchor\" id=\"do_bathy\"></a>\n",
    "\n",
    "Run Oridinary Kriging with bathymetry as covariate"
   ]
  },
  {
   "cell_type": "code",
   "execution_count": 12,
   "id": "b1c1e5c5",
   "metadata": {},
   "outputs": [
    {
     "data": {
      "image/png": "[encoded data removed]",
      "text/plain": [
       "<Figure size 648x432 with 2 Axes>"
      ]
     },
     "metadata": {
      "needs_background": "light"
     },
     "output_type": "display_data"
    }
   ],
   "source": [
    "ma_table = pd.read_csv(gis_path + \"MA_table.csv\")\n",
    "\n",
    "fig, ax = plt.subplots(1, figsize=(9, 6))\n",
    "fig.suptitle(\"{} (covariate: {}).\".format(Area, 'bathymetry'),fontsize=20)\n",
    "\n",
    "ra_fname = gis_path + \"covariates/bathymetry/{}.tif\".format(dictArea[Area])\n",
    "misc.interpolation.plot_covariate(Area,gdfDryShp,extentShp,ra_fname,ax, fig)"
   ]
  },
  {
   "cell_type": "markdown",
   "id": "31cfabc6",
   "metadata": {},
   "source": [
    "RK interpolation"
   ]
  },
  {
   "cell_type": "code",
   "execution_count": null,
   "id": "ef96a703",
   "metadata": {},
   "outputs": [
    {
     "name": "stdout",
     "output_type": "stream",
     "text": [
      "Interpolation using the Regression Kriging method\n"
     ]
    }
   ],
   "source": [
    "season, method, value_field, mask, covariate = 'Dry','rk','ResultValu', gis_path+ '{}.shp'.format(b_name),'bathymetry'\n",
    "in_explanatory_rasters = gis_path + \"covariates/{}/{}.tif\".format(covariate, dictArea[Area])\n",
    "\n",
    "in_features = dry_input_pt \n",
    "out_ga_layer = gis_path +\"{}{}{}_{}.lyrx\".format(Para_ab, season.lower(), method.upper(),covariate[0:5])\n",
    "out_raster = gis_path +\"{}{}{}_{}.tif\".format(Para_ab, season.lower(),method.upper(),covariate[0:5])\n",
    "\n",
    "dryRK_2017 = misc.interpolation.interpolation(method = method, input_point = in_features, out_raster = out_raster, \n",
    "                                              z_field = value_field, out_ga_layer = out_ga_layer, extent = extent, \n",
    "                                              mask = mask, in_explanatory_rasters = in_explanatory_rasters)\n",
    "\n",
    "season = 'Wet'\n",
    "in_features = wet_input_pt \n",
    "out_ga_layer = gis_path +\"{}{}{}_{}.lyrx\".format(Para_ab, season.lower(), method.upper(),covariate[0:5])\n",
    "out_raster = gis_path +\"{}{}{}_{}.tif\".format(Para_ab, season.lower(),method.upper(),covariate[0:5])\n",
    "\n",
    "wetRK_2017 = misc.interpolation.interpolation(method = method, input_point = in_features, out_raster = out_raster, \n",
    "                                              z_field = value_field, out_ga_layer = out_ga_layer, extent = extent, \n",
    "                                              mask = mask, in_explanatory_rasters = in_explanatory_rasters)"
   ]
  },
  {
   "cell_type": "code",
   "execution_count": null,
   "id": "f19f9df0",
   "metadata": {},
   "outputs": [],
   "source": [
    "fig, axes = plt.subplots(1,2, figsize=(18, 8))\n",
    "\n",
    "fig.suptitle(\"{} (Parameter: {}).\".format(Area, Para),fontsize=20)\n",
    "\n",
    "misc.interpolation.plot_raster(gdfDryShp, extentShp, dryRK_2017, 'Dry Season', axes[0],fig)\n",
    "misc.interpolation.plot_raster(gdfWetShp, extentShp, wetRK_2017, 'Wet Season', axes[1],fig)\n"
   ]
  },
  {
   "cell_type": "markdown",
   "id": "aa36b11b",
   "metadata": {},
   "source": [
    "### 3.2.2 Regression Kriging (covariate: LDI) <a class=\"anchor\" id=\"do_ldi\"></a>\n"
   ]
  },
  {
   "cell_type": "markdown",
   "id": "ec9374e2",
   "metadata": {},
   "source": [
    "RK interpolation"
   ]
  },
  {
   "cell_type": "code",
   "execution_count": null,
   "id": "dfda607a",
   "metadata": {},
   "outputs": [],
   "source": [
    "ma_table = pd.read_csv(gis_path + \"MA_table.csv\")\n",
    "\n",
    "fig, ax = plt.subplots(1, figsize=(9, 6))\n",
    "fig.suptitle(\"{} (covariate: {}).\".format(Area, 'bathymetry'),fontsize=20)\n",
    "\n",
    "ra_fname = gis_path + \"covariates/LDI/{}.tif\".format(dictArea[Area])\n",
    "misc.interpolation.plot_covariate(Area,gdfDryShp,extentShp,ra_fname,ax, fig)"
   ]
  },
  {
   "cell_type": "code",
   "execution_count": null,
   "id": "ae4f4dfd",
   "metadata": {
    "scrolled": false
   },
   "outputs": [],
   "source": [
    "season, method, value_field, mask, covariate = 'Dry','rk','ResultValu', gis_path+ '{}.shp'.format(b_name),'ldi'\n",
    "in_explanatory_rasters = gis_path + \"covariates/{}/{}.tif\".format(covariate, dictArea[Area])\n",
    "\n",
    "in_features = dry_input_pt \n",
    "out_ga_layer = gis_path +\"{}{}{}_{}.lyrx\".format(Para_ab, season.lower(), method.upper(),covariate[0:5])\n",
    "out_raster = gis_path +\"{}{}{}_{}.tif\".format(Para_ab, season.lower(),method.upper(),covariate[0:5])\n",
    "\n",
    "dryRK_2017 = misc.interpolation.interpolation(method = method, input_point = in_features, out_raster = out_raster, \n",
    "                                              z_field = value_field, out_ga_layer = out_ga_layer, extent = extent, \n",
    "                                              mask = mask, in_explanatory_rasters = in_explanatory_rasters)\n",
    "\n",
    "season = 'Wet'\n",
    "in_features = wet_input_pt \n",
    "out_ga_layer = gis_path +\"{}{}{}_{}.lyrx\".format(Para_ab, season.lower(), method.upper(),covariate[0:5])\n",
    "out_raster = gis_path +\"{}{}{}_{}.tif\".format(Para_ab, season.lower(),method.upper(),covariate[0:5])\n",
    "\n",
    "wetRK_2017 = misc.interpolation.interpolation(method = method, input_point = in_features, out_raster = out_raster, \n",
    "                                              z_field = value_field, out_ga_layer = out_ga_layer, extent = extent, \n",
    "                                              mask = mask, in_explanatory_rasters = in_explanatory_rasters)"
   ]
  },
  {
   "cell_type": "markdown",
   "id": "0f7f4a5b",
   "metadata": {},
   "source": [
    "Plot the interpolation result"
   ]
  },
  {
   "cell_type": "code",
   "execution_count": null,
   "id": "2c1e3fa8",
   "metadata": {},
   "outputs": [],
   "source": [
    "fig, axes = plt.subplots(1,2, figsize=(18, 8))\n",
    "\n",
    "fig.suptitle(\"{} (Parameter: {}).\".format(Area, Para),fontsize=20)\n",
    "\n",
    "misc.interpolation.plot_raster(gdfDryShp, extentShp, dryRK_2017, 'Dry Season', axes[0], fig)\n",
    "misc.interpolation.plot_raster(gdfWetShp, extentShp, wetRK_2017, 'Wet Season', axes[1], fig)"
   ]
  },
  {
   "cell_type": "markdown",
   "id": "2645b121",
   "metadata": {},
   "source": [
    "### 3.2.3 Regression Kriging (covariate: bathymetry + LDI) <a class=\"anchor\" id=\"do_ldi_bathy\"></a>\n"
   ]
  },
  {
   "cell_type": "code",
   "execution_count": null,
   "id": "e4758891",
   "metadata": {},
   "outputs": [],
   "source": [
    "ma_table = pd.read_csv(gis_path + \"MA_table.csv\")\n",
    "\n",
    "fig, ax = plt.subplots(1,2, figsize=(18, 12))\n",
    "fig.suptitle(\"{} (covariate: {}).\".format(Area, 'bathymetry and LDI'),fontsize=20,y=0.8) \n",
    "\n",
    "ra_fname = gis_path + \"covariates/bathymetry/{}.tif\".format(dictArea[Area])\n",
    "misc.interpolation.plot_covariate(Area,gdfDryShp,extentShp,ra_fname,ax[0], fig)\n",
    "\n",
    "ra_fname = gis_path + \"covariates/ldi/{}.tif\".format(dictArea[Area])\n",
    "misc.interpolation.plot_covariate(Area,gdfDryShp,extentShp,ra_fname,ax[1], fig)\n"
   ]
  },
  {
   "cell_type": "code",
   "execution_count": null,
   "id": "bbe3983a",
   "metadata": {},
   "outputs": [],
   "source": [
    "season, method, value_field, mask, covariate = 'Dry','rk','ResultValu', gis_path+ '{}.shp'.format(b_name), 'b_ldi'\n",
    "in_explanatory_rasters = [gis_path + \"covariates/bathymetry/{}.tif\".format(dictArea[Area]),\n",
    "                          gis_path + \"covariates/ldi/{}.tif\".format(dictArea[Area])]\n",
    "\n",
    "in_features = dry_input_pt \n",
    "out_ga_layer = gis_path +\"{}{}{}_{}.lyrx\".format(Para_ab, season.lower(), method.upper(),covariate[0:5])\n",
    "out_raster = gis_path +\"{}{}{}_{}.tif\".format(Para_ab, season.lower(),method.upper(),covariate[0:5])\n",
    "\n",
    "dryRK_2017 = misc.interpolation.interpolation(method = method, input_point = in_features, out_raster = out_raster, \n",
    "                                              z_field = value_field, out_ga_layer = out_ga_layer, extent = extent, \n",
    "                                              mask = mask, in_explanatory_rasters = in_explanatory_rasters)\n",
    "\n",
    "season = 'Wet'\n",
    "in_features = wet_input_pt \n",
    "out_ga_layer = gis_path +\"{}{}{}_{}.lyrx\".format(Para_ab, season.lower(), method.upper(),covariate[0:5])\n",
    "out_raster = gis_path +\"{}{}{}_{}.tif\".format(Para_ab, season.lower(),method.upper(),covariate[0:5])\n",
    "\n",
    "wetRK_2017 = misc.interpolation.interpolation(method = method, input_point = in_features, out_raster = out_raster, \n",
    "                                              z_field = 'ResultValu', out_ga_layer = out_ga_layer, extent = extent, \n",
    "                                              mask = mask, in_explanatory_rasters = in_explanatory_rasters)"
   ]
  },
  {
   "cell_type": "markdown",
   "id": "58a8479c",
   "metadata": {},
   "source": [
    "Plot interpolation results"
   ]
  },
  {
   "cell_type": "code",
   "execution_count": null,
   "id": "ab468ffc",
   "metadata": {},
   "outputs": [],
   "source": [
    "fig, axes = plt.subplots(1,2, figsize=(18, 8))\n",
    "\n",
    "fig.suptitle(\"{} (Parameter: {}).\".format(Area, Para),fontsize=20)\n",
    "\n",
    "misc.interpolation.plot_raster(gdfDryShp, extentShp, dryRK_2017, 'Dry Season', axes[0],fig)\n",
    "misc.interpolation.plot_raster(gdfWetShp, extentShp, wetRK_2017, 'Wet Season', axes[1],fig)\n"
   ]
  },
  {
   "cell_type": "markdown",
   "id": "3e58bf8d",
   "metadata": {},
   "source": [
    "## 3.2.4 Interpolation Validation <a class=\"anchor\" id=\"do_val\"></a>\n",
    "\n",
    "Validate RK with bathymetry"
   ]
  },
  {
   "cell_type": "code",
   "execution_count": null,
   "id": "f35e18b7",
   "metadata": {},
   "outputs": [],
   "source": [
    "method, season, covariate = 'rk', 'dry', 'bathymetry'\n",
    "inLayer = gis_path +\"{}{}{}_{}.lyrx\".format(Para_ab, season.lower(), method.upper(),covariate[0:5])\n",
    "\n",
    "dryRKStat1 = misc.interpolation.extract_val_result(inLayer,covariate)\n",
    "\n",
    "season = 'wet'\n",
    "inLayer = gis_path +\"{}{}{}_{}.lyrx\".format(Para_ab, season.lower(), method.upper(),covariate[0:5])\n",
    "\n",
    "wetRKStat1 = misc.interpolation.extract_val_result(inLayer,covariate)"
   ]
  },
  {
   "cell_type": "markdown",
   "id": "03eb07cd",
   "metadata": {},
   "source": [
    "Display validation result"
   ]
  },
  {
   "cell_type": "code",
   "execution_count": null,
   "id": "9d9d23ef",
   "metadata": {},
   "outputs": [],
   "source": [
    "print(\"Validation of Regression Kriging in dry season data\")\n",
    "display(dryRKStat1)\n",
    "print(\"Validation of Regression Kriging in wet season data\")\n",
    "display(wetRKStat1)"
   ]
  },
  {
   "cell_type": "markdown",
   "id": "f106ef94",
   "metadata": {},
   "source": [
    "Validation of RK with ldi as covariate"
   ]
  },
  {
   "cell_type": "code",
   "execution_count": null,
   "id": "9c16cd63",
   "metadata": {},
   "outputs": [],
   "source": [
    "method, season, covariate = 'rk', 'dry', 'ldi'\n",
    "inLayer = gis_path +\"{}{}{}_{}.lyrx\".format(Para_ab, season.lower(), method.upper(),covariate[0:5])\n",
    "\n",
    "dryRKStat2 = misc.interpolation.extract_val_result(inLayer,covariate)\n",
    "\n",
    "season = 'wet'\n",
    "inLayer = gis_path +\"{}{}{}_{}.lyrx\".format(Para_ab, season.lower(), method.upper(),covariate[0:5])\n",
    "\n",
    "wetRKStat2 = misc.interpolation.extract_val_result(inLayer,covariate)"
   ]
  },
  {
   "cell_type": "markdown",
   "id": "ac5424fe",
   "metadata": {},
   "source": [
    "Display validation result"
   ]
  },
  {
   "cell_type": "code",
   "execution_count": null,
   "id": "c6fb5215",
   "metadata": {
    "scrolled": true
   },
   "outputs": [],
   "source": [
    "print(\"Validation of Regression Kriging in dry season data\")\n",
    "display(dryRKStat2)\n",
    "print(\"Validation of Regression Kriging in wet season data\")\n",
    "display(wetRKStat2)"
   ]
  },
  {
   "cell_type": "markdown",
   "id": "ff5308c3",
   "metadata": {},
   "source": [
    "Validate RK with Bathymetry & LDI"
   ]
  },
  {
   "cell_type": "code",
   "execution_count": null,
   "id": "0f13a8c7",
   "metadata": {},
   "outputs": [],
   "source": [
    "method, season, covariate = 'rk', 'dry', 'b_ldi'\n",
    "inLayer = gis_path +\"{}{}{}_{}.lyrx\".format(Para_ab, season.lower(), method.upper(),covariate[0:5])\n",
    "\n",
    "dryRKStat3 = misc.interpolation.extract_val_result(inLayer,covariate)\n",
    "\n",
    "season = 'wet'\n",
    "inLayer = gis_path +\"{}{}{}_{}.lyrx\".format(Para_ab, season.lower(), method.upper(),covariate[0:5])\n",
    "\n",
    "wetRKStat3 = misc.interpolation.extract_val_result(inLayer,covariate)"
   ]
  },
  {
   "cell_type": "markdown",
   "id": "b5ac94cf",
   "metadata": {},
   "source": [
    "Display validation result"
   ]
  },
  {
   "cell_type": "code",
   "execution_count": null,
   "id": "fe69fca5",
   "metadata": {},
   "outputs": [],
   "source": [
    "print(\"Interpolation assessment of Regression Kriging in dry season data\")\n",
    "display(dryRKStat3)\n",
    "print(\"Interpolation assessment of Regression Kriging in wet season data\")\n",
    "display(wetRKStat3)"
   ]
  },
  {
   "cell_type": "markdown",
   "id": "d6681551",
   "metadata": {},
   "source": [
    "#### Summary of validation"
   ]
  },
  {
   "cell_type": "code",
   "execution_count": null,
   "id": "7b6c9775",
   "metadata": {},
   "outputs": [],
   "source": [
    "sumStatDry_ch = pd.concat([dryRKStat1,dryRKStat2,dryRKStat3])\n",
    "sumStatWet_ch = pd.concat([wetRKStat1,wetRKStat2,wetRKStat3])\n",
    "\n",
    "display(\"Summary of interpolation validation in dry season data\")\n",
    "display(sumStatDry_ch)\n",
    "\n",
    "display(\"Summary of interpolation validation in wet season data\")\n",
    "display(sumStatWet_ch)"
   ]
  },
  {
   "cell_type": "markdown",
   "id": "ccf6b33e",
   "metadata": {},
   "source": [
    "## 3.3 Interpolation of Salinity <a class=\"anchor\" id=\"s\"></a>\n",
    "\n",
    "Select salinity data"
   ]
  },
  {
   "cell_type": "code",
   "execution_count": null,
   "id": "05bc99fb",
   "metadata": {},
   "outputs": [],
   "source": [
    "# Set variables of the program\n",
    "Para = 'Salinity'\n",
    "Para_ab = \"S\"\n",
    "\n",
    "dry_input_pt = gis_path+\"Dry\"+year+Para_ab+b_name+'.shp'\n",
    "wet_input_pt = gis_path+\"Wet\"+year+Para_ab+b_name+'.shp'\n",
    "\n",
    "# ---------------------------- Uncomment in the first run --------------------------\n",
    "\n",
    "gdfDrySelect = gdfDryAll[(gdfDryAll[\"ParameterName\"]==Para)&(gdfDryAll[\"ManagedAreaName\"]==Area)]\n",
    "gdfWetSelect = gdfWetAll[(gdfWetAll[\"ParameterName\"]==Para)&(gdfWetAll[\"ManagedAreaName\"]==Area)]\n",
    "\n",
    "gdfDrySelect.to_crs(int(SpatialRef)).to_file(dry_input_pt , driver='ESRI Shapefile',crs=\"EPSG:\"+SpatialRef)\n",
    "gdfWetSelect.to_crs(int(SpatialRef)).to_file(wet_input_pt , driver='ESRI Shapefile',crs=\"EPSG:\"+SpatialRef)"
   ]
  },
  {
   "cell_type": "markdown",
   "id": "2f20e6e4",
   "metadata": {},
   "source": [
    "### 3.3.1 Regression Kriging of Salinity (covariate: bathymetry) <a class=\"anchor\" id=\"s_bathy\"></a>"
   ]
  },
  {
   "cell_type": "code",
   "execution_count": null,
   "id": "fdeb7bf9",
   "metadata": {
    "scrolled": true
   },
   "outputs": [],
   "source": [
    "#MA = gpd.read_file(r\"D:\\Water_Quailty\\ManagedAreas\\ORCP_Managed_Areas_Oct2021.shp\")\n",
    "MA = gpd.read_file(gis_path + r\"ORCP_Managed_Areas_Oct2021.shp\")\n",
    "CH = MA[MA['MA_Name']==dictArea2[Area]].to_crs(int(SpatialRef))\n",
    "CH.to_file(boundary_shp, driver='ESRI Shapefile',crs=\"EPSG:\"+SpatialRef)"
   ]
  },
  {
   "cell_type": "markdown",
   "id": "366f0625",
   "metadata": {},
   "source": [
    "Also convert all shapefile to Florida GDL Albers (https://epsg.io/3086)"
   ]
  },
  {
   "cell_type": "code",
   "execution_count": null,
   "id": "2a58c377",
   "metadata": {},
   "outputs": [],
   "source": [
    "gdfDryShp = gpd.read_file(dry_input_pt)\n",
    "gdfWetShp = gpd.read_file(wet_input_pt)\n",
    "extentShp = gpd.read_file(boundary_shp)"
   ]
  },
  {
   "cell_type": "code",
   "execution_count": null,
   "id": "86ae3e37",
   "metadata": {},
   "outputs": [],
   "source": [
    "fig, ax = plt.subplots(figsize = (9,6))\n",
    "extentShp.plot(ax = ax, color='none', edgecolor='blue')\n",
    "gdfWetShp.plot(ax = ax, marker='o', color='red', markersize=5)\n",
    "cx.add_basemap(ax = ax,source=cx.providers.Stamen.TonerLite,crs=gdfDryShp.crs)\n",
    "ax.set_title('Sampling points at {}'.format(Area))"
   ]
  },
  {
   "cell_type": "code",
   "execution_count": null,
   "id": "e64952bc",
   "metadata": {},
   "outputs": [],
   "source": [
    "extent = str(extentShp.geometry.total_bounds).replace('[','').replace(']','')"
   ]
  },
  {
   "cell_type": "markdown",
   "id": "b28d005f",
   "metadata": {},
   "source": [
    "### 3.3.1 Regression Kriging  of Salinity (covariate: bathymetry) <a class=\"anchor\" id=\"s_bathy\"></a>\n",
    "\n",
    "Run Oridinary Kriging with bathymetry as covariate"
   ]
  },
  {
   "cell_type": "code",
   "execution_count": null,
   "id": "0c93ebf9",
   "metadata": {},
   "outputs": [],
   "source": [
    "ma_table = pd.read_csv(gis_path + \"MA_table.csv\")\n",
    "\n",
    "fig, ax = plt.subplots(1, figsize=(9, 6))\n",
    "fig.suptitle(\"{} (covariate: {}).\".format(Area, 'bathymetry'),fontsize=20)\n",
    "\n",
    "ra_fname = gis_path + \"covariates/bathymetry/{}.tif\".format(dictArea[Area])\n",
    "misc.interpolation.plot_covariate(Area,gdfDryShp,extentShp,ra_fname,ax, fig)"
   ]
  },
  {
   "cell_type": "markdown",
   "id": "ffddd394",
   "metadata": {},
   "source": [
    "RK interpolation"
   ]
  },
  {
   "cell_type": "code",
   "execution_count": null,
   "id": "5c4592bf",
   "metadata": {},
   "outputs": [],
   "source": [
    "season, method, value_field, mask, covariate = 'Dry','rk','ResultValu', gis_path+ '{}.shp'.format(b_name),'bathymetry'\n",
    "in_explanatory_rasters = gis_path + \"covariates/{}/{}.tif\".format(covariate, dictArea[Area])\n",
    "\n",
    "in_features = dry_input_pt \n",
    "out_ga_layer = gis_path +\"{}{}{}_{}.lyrx\".format(Para_ab, season.lower(), method.upper(),covariate[0:5])\n",
    "out_raster = gis_path +\"{}{}{}_{}.tif\".format(Para_ab, season.lower(),method.upper(),covariate[0:5])\n",
    "\n",
    "dryRK_2017 = misc.interpolation.interpolation(method = method, input_point = in_features, out_raster = out_raster, \n",
    "                                              z_field = value_field, out_ga_layer = out_ga_layer, extent = extent, \n",
    "                                              mask = mask, in_explanatory_rasters = in_explanatory_rasters)\n",
    "\n",
    "season = 'Wet'\n",
    "in_features = wet_input_pt \n",
    "out_ga_layer = gis_path +\"{}{}{}_{}.lyrx\".format(Para_ab, season.lower(), method.upper(),covariate[0:5])\n",
    "out_raster = gis_path +\"{}{}{}_{}.tif\".format(Para_ab, season.lower(),method.upper(),covariate[0:5])\n",
    "\n",
    "wetRK_2017 = misc.interpolation.interpolation(method = method, input_point = in_features, out_raster = out_raster, \n",
    "                                              z_field = value_field, out_ga_layer = out_ga_layer, extent = extent, \n",
    "                                              mask = mask, in_explanatory_rasters = in_explanatory_rasters)"
   ]
  },
  {
   "cell_type": "code",
   "execution_count": null,
   "id": "f417e4d7",
   "metadata": {},
   "outputs": [],
   "source": [
    "fig, axes = plt.subplots(1,2, figsize=(18, 8))\n",
    "\n",
    "fig.suptitle(\"{} (Parameter: {}).\".format(Area, Para),fontsize=20)\n",
    "\n",
    "misc.interpolation.plot_raster(gdfDryShp, extentShp, dryRK_2017, 'Dry Season', axes[0],fig)\n",
    "misc.interpolation.plot_raster(gdfWetShp, extentShp, wetRK_2017, 'Wet Season', axes[1],fig)\n"
   ]
  },
  {
   "cell_type": "markdown",
   "id": "810146e0",
   "metadata": {},
   "source": [
    "### 3.3.2 Regression Kriging of Salinity (covariate: LDI) <a class=\"anchor\" id=\"s_ldi\"></a>\n"
   ]
  },
  {
   "cell_type": "markdown",
   "id": "d9cefbee",
   "metadata": {},
   "source": [
    "RK interpolation"
   ]
  },
  {
   "cell_type": "code",
   "execution_count": null,
   "id": "33f9782b",
   "metadata": {},
   "outputs": [],
   "source": [
    "ma_table = pd.read_csv(gis_path + \"MA_table.csv\")\n",
    "\n",
    "fig, ax = plt.subplots(1, figsize=(9, 6))\n",
    "fig.suptitle(\"{} (covariate: {}).\".format(Area, 'LDI'),fontsize=20)\n",
    "\n",
    "ra_fname = gis_path + \"covariates/LDI/{}.tif\".format(dictArea[Area])\n",
    "misc.interpolation.plot_covariate(Area,gdfDryShp,extentShp,ra_fname,ax, fig)"
   ]
  },
  {
   "cell_type": "code",
   "execution_count": null,
   "id": "aadecf3f",
   "metadata": {
    "scrolled": false
   },
   "outputs": [],
   "source": [
    "season, method, value_field, mask, covariate = 'Dry','rk','ResultValu', gis_path+ '{}.shp'.format(b_name),'ldi'\n",
    "in_explanatory_rasters = gis_path + \"covariates/{}/{}.tif\".format(covariate, dictArea[Area])\n",
    "\n",
    "in_features = dry_input_pt \n",
    "out_ga_layer = gis_path +\"{}{}{}_{}.lyrx\".format(Para_ab, season.lower(), method.upper(),covariate[0:5])\n",
    "out_raster = gis_path +\"{}{}{}_{}.tif\".format(Para_ab, season.lower(),method.upper(),covariate[0:5])\n",
    "\n",
    "dryRK_2017 = misc.interpolation.interpolation(method = method, input_point = in_features, out_raster = out_raster, \n",
    "                                              z_field = value_field, out_ga_layer = out_ga_layer, extent = extent, \n",
    "                                              mask = mask, in_explanatory_rasters = in_explanatory_rasters)\n",
    "\n",
    "season = 'Wet'\n",
    "in_features = wet_input_pt \n",
    "out_ga_layer = gis_path +\"{}{}{}_{}.lyrx\".format(Para_ab, season.lower(), method.upper(),covariate[0:5])\n",
    "out_raster = gis_path +\"{}{}{}_{}.tif\".format(Para_ab, season.lower(),method.upper(),covariate[0:5])\n",
    "\n",
    "wetRK_2017 = misc.interpolation.interpolation(method = method, input_point = in_features, out_raster = out_raster, \n",
    "                                              z_field = value_field, out_ga_layer = out_ga_layer, extent = extent, \n",
    "                                              mask = mask, in_explanatory_rasters = in_explanatory_rasters)"
   ]
  },
  {
   "cell_type": "markdown",
   "id": "ee509f22",
   "metadata": {},
   "source": [
    "Plot the interpolation result"
   ]
  },
  {
   "cell_type": "code",
   "execution_count": null,
   "id": "ebf9b51d",
   "metadata": {},
   "outputs": [],
   "source": [
    "fig, axes = plt.subplots(1,2, figsize=(18, 8))\n",
    "\n",
    "fig.suptitle(\"{} (Parameter: {}).\".format(Area, Para),fontsize=20)\n",
    "\n",
    "misc.interpolation.plot_raster(gdfDryShp, extentShp, dryRK_2017, 'Dry Season', axes[0], fig)\n",
    "# misc.interpolation.plot_raster(gdfWetShp, extentShp, wetRK_2017, 'Wet Season', axes[1], fig)"
   ]
  },
  {
   "cell_type": "markdown",
   "id": "a41ae6b4",
   "metadata": {},
   "source": [
    "### 3.3.3 Regression Kriging of Salinity (covariate: bathymetry + LDI) <a class=\"anchor\" id=\"s_ldi_bathy\"></a>\n"
   ]
  },
  {
   "cell_type": "code",
   "execution_count": null,
   "id": "e4a7332a",
   "metadata": {},
   "outputs": [],
   "source": [
    "ma_table = pd.read_csv(gis_path + \"MA_table.csv\")\n",
    "\n",
    "fig, ax = plt.subplots(1,2, figsize=(18, 12))\n",
    "fig.suptitle(\"{} (covariate: {}).\".format(Area, 'bathymetry and LDI'),fontsize=20,y=0.8) \n",
    "\n",
    "ra_fname = gis_path + \"covariates/bathymetry/{}.tif\".format(dictArea[Area])\n",
    "misc.interpolation.plot_covariate(Area,gdfDryShp,extentShp,ra_fname,ax[0], fig)\n",
    "\n",
    "ra_fname = gis_path + \"covariates/ldi/{}.tif\".format(dictArea[Area])\n",
    "misc.interpolation.plot_covariate(Area,gdfDryShp,extentShp,ra_fname,ax[1], fig)\n"
   ]
  },
  {
   "cell_type": "code",
   "execution_count": null,
   "id": "fccc45b3",
   "metadata": {},
   "outputs": [],
   "source": [
    "season, method, value_field, mask, covariate = 'Dry','rk','ResultValu', gis_path+ '{}.shp'.format(b_name), 'b_ldi'\n",
    "in_explanatory_rasters = [gis_path + \"covariates/bathymetry/{}.tif\".format(dictArea[Area]),\n",
    "                          gis_path + \"covariates/ldi/{}.tif\".format(dictArea[Area])]\n",
    "\n",
    "in_features = dry_input_pt \n",
    "out_ga_layer = gis_path +\"{}{}{}_{}.lyrx\".format(Para_ab, season.lower(), method.upper(),covariate[0:5])\n",
    "out_raster = gis_path +\"{}{}{}_{}.tif\".format(Para_ab, season.lower(),method.upper(),covariate[0:5])\n",
    "\n",
    "dryRK_2017 = misc.interpolation.interpolation(method = method, input_point = in_features, out_raster = out_raster, \n",
    "                                              z_field = value_field, out_ga_layer = out_ga_layer, extent = extent, \n",
    "                                              mask = mask, in_explanatory_rasters = in_explanatory_rasters)\n",
    "\n",
    "season = 'Wet'\n",
    "in_features = wet_input_pt \n",
    "out_ga_layer = gis_path +\"{}{}{}_{}.lyrx\".format(Para_ab, season.lower(), method.upper(),covariate[0:5])\n",
    "out_raster = gis_path +\"{}{}{}_{}.tif\".format(Para_ab, season.lower(),method.upper(),covariate[0:5])\n",
    "\n",
    "wetRK_2017 = misc.interpolation.interpolation(method = method, input_point = in_features, out_raster = out_raster, \n",
    "                                              z_field = 'ResultValu', out_ga_layer = out_ga_layer, extent = extent, \n",
    "                                              mask = mask, in_explanatory_rasters = in_explanatory_rasters)"
   ]
  },
  {
   "cell_type": "markdown",
   "id": "cee2af94",
   "metadata": {},
   "source": [
    "Plot interpolation results"
   ]
  },
  {
   "cell_type": "code",
   "execution_count": null,
   "id": "fa1590a9",
   "metadata": {},
   "outputs": [],
   "source": [
    "fig, axes = plt.subplots(1,2, figsize=(18, 8))\n",
    "\n",
    "fig.suptitle(\"{} (Parameter: {}).\".format(Area, Para),fontsize=20)\n",
    "\n",
    "misc.interpolation.plot_raster(gdfDryShp, extentShp, dryRK_2017, 'Dry Season', axes[0],fig)\n",
    "misc.interpolation.plot_raster(gdfWetShp, extentShp, wetRK_2017, 'Wet Season', axes[1],fig)\n"
   ]
  },
  {
   "cell_type": "markdown",
   "id": "d0e9dd4f",
   "metadata": {},
   "source": [
    "### 3.3.4 Interpolation Validation of Salinity <a class=\"anchor\" id=\"s_val\"></a>\n",
    "\n",
    "Validate RK with bathymetry"
   ]
  },
  {
   "cell_type": "code",
   "execution_count": null,
   "id": "e63041e7",
   "metadata": {},
   "outputs": [],
   "source": [
    "def extract_val_result(inLayer, index):\n",
    "    cvResult = arcpy.CrossValidation_ga(inLayer)\n",
    "    Stat = pd.DataFrame(\n",
    "                {\n",
    "                  \"meanError\": round(float(cvResult.meanError),4),\n",
    "                  \"meanStandardizedError\": round(float(cvResult.meanStandardized),4),\n",
    "                  \"rootMeanSquareError\": round(float(cvResult.rootMeanSquare),4)\n",
    "                                              },index=[index])\n",
    "    return Stat"
   ]
  },
  {
   "cell_type": "code",
   "execution_count": null,
   "id": "c39da58f",
   "metadata": {},
   "outputs": [],
   "source": [
    "method, season, covariate = 'rk', 'dry', 'bathymetry'\n",
    "inLayer = gis_path +\"{}{}{}_{}.lyrx\".format(Para_ab, season.lower(), method.upper(),covariate[0:5])\n",
    "\n",
    "dryRKStat1 = extract_val_result(inLayer,covariate)\n",
    "\n",
    "season = 'wet'\n",
    "inLayer = gis_path +\"{}{}{}_{}.lyrx\".format(Para_ab, season.lower(), method.upper(),covariate[0:5])\n",
    "\n",
    "wetRKStat1 = extract_val_result(inLayer,covariate)"
   ]
  },
  {
   "cell_type": "markdown",
   "id": "9c486064",
   "metadata": {},
   "source": [
    "Display validation result"
   ]
  },
  {
   "cell_type": "code",
   "execution_count": null,
   "id": "f1dfc842",
   "metadata": {},
   "outputs": [],
   "source": [
    "print(\"Validation of Regression Kriging in dry season data\")\n",
    "display(dryRKStat1)\n",
    "print(\"Validation of Regression Kriging in wet season data\")\n",
    "display(wetRKStat1)"
   ]
  },
  {
   "cell_type": "markdown",
   "id": "85b39465",
   "metadata": {},
   "source": [
    "Validation of RK with ldi as covariate"
   ]
  },
  {
   "cell_type": "code",
   "execution_count": null,
   "id": "1f6f0f3e",
   "metadata": {},
   "outputs": [],
   "source": [
    "method, season, covariate = 'rk', 'dry', 'ldi'\n",
    "inLayer = gis_path +\"{}{}{}_{}.lyrx\".format(Para_ab, season.lower(), method.upper(),covariate[0:5])\n",
    "\n",
    "dryRKStat2 = extract_val_result(inLayer,covariate)\n",
    "\n",
    "season = 'wet'\n",
    "inLayer = gis_path +\"{}{}{}_{}.lyrx\".format(Para_ab, season.lower(), method.upper(),covariate[0:5])\n",
    "\n",
    "wetRKStat2 = extract_val_result(inLayer,covariate)"
   ]
  },
  {
   "cell_type": "markdown",
   "id": "719a8535",
   "metadata": {},
   "source": [
    "Display validation result"
   ]
  },
  {
   "cell_type": "code",
   "execution_count": null,
   "id": "d9f77013",
   "metadata": {
    "scrolled": true
   },
   "outputs": [],
   "source": [
    "print(\"Validation of Regression Kriging in dry season data\")\n",
    "display(dryRKStat2)\n",
    "print(\"Validation of Regression Kriging in wet season data\")\n",
    "display(wetRKStat2)"
   ]
  },
  {
   "cell_type": "markdown",
   "id": "290c1347",
   "metadata": {},
   "source": [
    "Validate RK with Bathymetry & LDI"
   ]
  },
  {
   "cell_type": "code",
   "execution_count": null,
   "id": "125753b3",
   "metadata": {},
   "outputs": [],
   "source": [
    "method, season, covariate = 'rk', 'dry', 'b_ldi'\n",
    "inLayer = gis_path +\"{}{}{}_{}.lyrx\".format(Para_ab, season.lower(), method.upper(),covariate[0:5])\n",
    "\n",
    "dryRKStat3 = extract_val_result(inLayer,covariate)\n",
    "\n",
    "season = 'wet'\n",
    "inLayer = gis_path +\"{}{}{}_{}.lyrx\".format(Para_ab, season.lower(), method.upper(),covariate[0:5])\n",
    "\n",
    "wetRKStat3 = extract_val_result(inLayer,covariate)"
   ]
  },
  {
   "cell_type": "markdown",
   "id": "7244e718",
   "metadata": {},
   "source": [
    "Display validation result"
   ]
  },
  {
   "cell_type": "code",
   "execution_count": null,
   "id": "259f3ca7",
   "metadata": {},
   "outputs": [],
   "source": [
    "print(\"Interpolation assessment of Regression Kriging in dry season data\")\n",
    "display(dryRKStat3)\n",
    "print(\"Interpolation assessment of Regression Kriging in wet season data\")\n",
    "display(wetRKStat3)"
   ]
  },
  {
   "cell_type": "markdown",
   "id": "a6ab840b",
   "metadata": {},
   "source": [
    "#### Summary of validation"
   ]
  },
  {
   "cell_type": "code",
   "execution_count": null,
   "id": "1183a986",
   "metadata": {
    "scrolled": true
   },
   "outputs": [],
   "source": [
    "sumStatDry_ch = pd.concat([dryRKStat1,dryRKStat2,dryRKStat3])\n",
    "sumStatWet_ch = pd.concat([wetRKStat1,wetRKStat2,wetRKStat3])\n",
    "\n",
    "display(\"Summary of interpolation validation in dry season data\")\n",
    "display(sumStatDry_ch)\n",
    "\n",
    "display(\"Summary of interpolation validation in wet season data\")\n",
    "display(sumStatWet_ch)"
   ]
  },
  {
   "cell_type": "markdown",
   "id": "4b46df28",
   "metadata": {},
   "source": [
    "## 3.4 Interpolation of Total Nitrogen <a class=\"anchor\" id=\"tn\"></a>\n",
    "\n",
    "Select data"
   ]
  },
  {
   "cell_type": "code",
   "execution_count": null,
   "id": "4b1cc39e",
   "metadata": {},
   "outputs": [],
   "source": [
    "# Set variables of the program\n",
    "Para = 'Total Nitrogen'\n",
    "Para_ab = \"TN\"\n",
    "\n",
    "dry_input_pt = gis_path+\"Dry\"+year+Para_ab+b_name+'.shp'\n",
    "wet_input_pt = gis_path+\"Wet\"+year+Para_ab+b_name+'.shp'\n",
    "\n",
    "\n",
    "gdfDrySelect = gdfDryAll[(gdfDryAll[\"ParameterName\"]==Para)&(gdfDryAll[\"ManagedAreaName\"]==Area)]\n",
    "gdfWetSelect = gdfWetAll[(gdfWetAll[\"ParameterName\"]==Para)&(gdfWetAll[\"ManagedAreaName\"]==Area)]\n",
    "\n",
    "gdfDrySelect.to_crs(int(SpatialRef)).to_file(dry_input_pt , driver='ESRI Shapefile',crs=\"EPSG:\"+SpatialRef)\n",
    "gdfWetSelect.to_crs(int(SpatialRef)).to_file(wet_input_pt , driver='ESRI Shapefile',crs=\"EPSG:\"+SpatialRef)"
   ]
  },
  {
   "cell_type": "markdown",
   "id": "ca14c7c3",
   "metadata": {},
   "source": [
    "Preview data"
   ]
  },
  {
   "cell_type": "code",
   "execution_count": null,
   "id": "2d2cadca",
   "metadata": {
    "scrolled": true
   },
   "outputs": [],
   "source": [
    "#MA = gpd.read_file(r\"D:\\Water_Quailty\\ManagedAreas\\ORCP_Managed_Areas_Oct2021.shp\")\n",
    "b_name = 'ch'\n",
    "MA = gpd.read_file(gis_path + r\"ORCP_Managed_Areas_Oct2021.shp\")\n",
    "CH = MA[MA['MA_Name']==dictArea2[Area]].to_crs(int(SpatialRef))\n",
    "CH.to_file(boundary_shp, driver='ESRI Shapefile',crs=\"EPSG:\"+SpatialRef)"
   ]
  },
  {
   "cell_type": "markdown",
   "id": "1f22ea2f",
   "metadata": {},
   "source": [
    "Also convert all shapefile to Florida GDL Albers (https://epsg.io/3086)"
   ]
  },
  {
   "cell_type": "code",
   "execution_count": null,
   "id": "50b7444d",
   "metadata": {},
   "outputs": [],
   "source": [
    "gdfDryShp = gpd.read_file(dry_input_pt)\n",
    "gdfWetShp = gpd.read_file(wet_input_pt)\n",
    "extentShp = gpd.read_file(boundary_shp)"
   ]
  },
  {
   "cell_type": "code",
   "execution_count": null,
   "id": "597e8ca1",
   "metadata": {},
   "outputs": [],
   "source": [
    "fig, ax = plt.subplots(figsize = (9,6))\n",
    "extentShp.plot(ax = ax, color='none', edgecolor='blue')\n",
    "gdfWetShp.plot(ax = ax, marker='o', color='red', markersize=5)\n",
    "cx.add_basemap(ax = ax,source=cx.providers.Stamen.TonerLite,crs=gdfDryShp.crs)\n",
    "ax.set_title('Sampling points at {}'.format(Area))"
   ]
  },
  {
   "cell_type": "code",
   "execution_count": null,
   "id": "87837abe",
   "metadata": {},
   "outputs": [],
   "source": [
    "extent = str(extentShp.geometry.total_bounds).replace('[','').replace(']','')"
   ]
  },
  {
   "cell_type": "markdown",
   "id": "7900697d",
   "metadata": {},
   "source": [
    "### 3.4.1 Regression Kriging of Total Nitrogen (covariate: bathymetry) <a class=\"anchor\" id=\"tn_bathy\"></a>\n",
    "\n",
    "Run Oridinary Kriging with bathymetry as covariate"
   ]
  },
  {
   "cell_type": "code",
   "execution_count": null,
   "id": "dfdb5517",
   "metadata": {},
   "outputs": [],
   "source": [
    "ma_table = pd.read_csv(gis_path + \"MA_table.csv\")\n",
    "\n",
    "fig, ax = plt.subplots(1, figsize=(9, 6))\n",
    "fig.suptitle(\"{} (covariate: {}).\".format(Area, 'bathymetry'),fontsize=20)\n",
    "\n",
    "ra_fname = gis_path + \"covariates/bathymetry/{}.tif\".format(dictArea[Area])\n",
    "misc.interpolation.plot_covariate(Area,gdfDryShp,extentShp,ra_fname,ax, fig)"
   ]
  },
  {
   "cell_type": "markdown",
   "id": "e1adc62e",
   "metadata": {},
   "source": [
    "RK interpolation"
   ]
  },
  {
   "cell_type": "code",
   "execution_count": null,
   "id": "f8177897",
   "metadata": {},
   "outputs": [],
   "source": [
    "year, season, method, value_field, mask, covariate = '2017', 'Dry','rk','ResultValu', gis_path+ '{}.shp'.format(b_name),'bathymetry'\n",
    "in_explanatory_rasters = gis_path + \"covariates/{}/{}.tif\".format(covariate, dictArea[Area])\n",
    "\n",
    "in_features = dry_input_pt \n",
    "out_ga_layer = gis_path +\"{}{}{}_{}.lyrx\".format(Para_ab, season.lower(), method.upper(),covariate[0:5])\n",
    "out_raster = gis_path +\"{}{}{}_{}.tif\".format(Para_ab, season.lower(),method.upper(),covariate[0:5])\n",
    "\n",
    "dryRK_2017 = misc.interpolation.interpolation(method = method, input_point = in_features, out_raster = out_raster, \n",
    "                                              z_field = value_field, out_ga_layer = out_ga_layer, extent = extent, \n",
    "                                              mask = mask, in_explanatory_rasters = in_explanatory_rasters)\n",
    "\n",
    "season = 'Wet'\n",
    "in_features = wet_input_pt \n",
    "out_ga_layer = gis_path +\"{}{}{}_{}.lyrx\".format(Para_ab, season.lower(), method.upper(),covariate[0:5])\n",
    "out_raster = gis_path +\"{}{}{}_{}.tif\".format(Para_ab, season.lower(),method.upper(),covariate[0:5])\n",
    "\n",
    "wetRK_2017 = misc.interpolation.interpolation(method = method, input_point = in_features, out_raster = out_raster, \n",
    "                                              z_field = value_field, out_ga_layer = out_ga_layer, extent = extent, \n",
    "                                              mask = mask, in_explanatory_rasters = in_explanatory_rasters)"
   ]
  },
  {
   "cell_type": "code",
   "execution_count": null,
   "id": "4a1ebd52",
   "metadata": {},
   "outputs": [],
   "source": [
    "fig, axes = plt.subplots(1,2, figsize=(18, 8))\n",
    "\n",
    "fig.suptitle(\"{} (Parameter: {}).\".format(Area, Para),fontsize=20)\n",
    "\n",
    "misc.interpolation.plot_raster(gdfDryShp, extentShp, dryRK_2017, 'Dry Season', axes[0],fig)\n",
    "misc.interpolation.plot_raster(gdfWetShp, extentShp, wetRK_2017, 'Wet Season', axes[1],fig)\n"
   ]
  },
  {
   "cell_type": "markdown",
   "id": "8381a0ae",
   "metadata": {},
   "source": [
    "### 3.4.2 Regression Kriging of Total Nitrogen (covariate: LDI) <a class=\"anchor\" id=\"tn_ldi\"></a>\n"
   ]
  },
  {
   "cell_type": "markdown",
   "id": "e0db24a2",
   "metadata": {},
   "source": [
    "RK interpolation"
   ]
  },
  {
   "cell_type": "code",
   "execution_count": null,
   "id": "e4ed7c7f",
   "metadata": {},
   "outputs": [],
   "source": [
    "ma_table = pd.read_csv(gis_path + \"MA_table.csv\")\n",
    "\n",
    "fig, ax = plt.subplots(1, figsize=(9, 6))\n",
    "fig.suptitle(\"{} (covariate: {}).\".format(Area, 'bathymetry'),fontsize=20)\n",
    "\n",
    "ra_fname = gis_path + \"covariates/LDI/{}.tif\".format(dictArea[Area])\n",
    "misc.interpolation.plot_covariate(Area,gdfDryShp,extentShp,ra_fname,ax, fig)"
   ]
  },
  {
   "cell_type": "code",
   "execution_count": null,
   "id": "a6e98ca6",
   "metadata": {
    "scrolled": false
   },
   "outputs": [],
   "source": [
    "year, season, method, value_field, mask, covariate = '2017', 'Dry','rk','ResultValu', gis_path+ '{}.shp'.format(b_name),'ldi'\n",
    "in_explanatory_rasters = gis_path + \"covariates/{}/{}.tif\".format(covariate, dictArea[Area])\n",
    "\n",
    "in_features = dry_input_pt \n",
    "out_ga_layer = gis_path +\"{}{}{}_{}.lyrx\".format(Para_ab, season.lower(), method.upper(),covariate[0:5])\n",
    "out_raster = gis_path +\"{}{}{}_{}.tif\".format(Para_ab, season.lower(),method.upper(),covariate[0:5])\n",
    "\n",
    "dryRK_2017 = misc.interpolation.interpolation(method = method, input_point = in_features, out_raster = out_raster, \n",
    "                                              z_field = value_field, out_ga_layer = out_ga_layer, extent = extent, \n",
    "                                              mask = mask, in_explanatory_rasters = in_explanatory_rasters)\n",
    "\n",
    "season = 'Wet'\n",
    "in_features = wet_input_pt \n",
    "out_ga_layer = gis_path +\"{}{}{}_{}.lyrx\".format(Para_ab, season.lower(), method.upper(),covariate[0:5])\n",
    "out_raster = gis_path +\"{}{}{}_{}.tif\".format(Para_ab, season.lower(),method.upper(),covariate[0:5])\n",
    "\n",
    "wetRK_2017 = misc.interpolation.interpolation(method = method, input_point = in_features, out_raster = out_raster, \n",
    "                                              z_field = value_field, out_ga_layer = out_ga_layer, extent = extent, \n",
    "                                              mask = mask, in_explanatory_rasters = in_explanatory_rasters)"
   ]
  },
  {
   "cell_type": "markdown",
   "id": "dfa7e490",
   "metadata": {},
   "source": [
    "Plot the interpolation result"
   ]
  },
  {
   "cell_type": "code",
   "execution_count": null,
   "id": "d0cd235e",
   "metadata": {},
   "outputs": [],
   "source": [
    "fig, axes = plt.subplots(1,2, figsize=(18, 8))\n",
    "\n",
    "fig.suptitle(\"{} (Parameter: {}).\".format(Area, Para),fontsize=20)\n",
    "\n",
    "misc.interpolation.plot_raster(gdfDryShp, extentShp, dryRK_2017, 'Dry Season', axes[0], fig)\n",
    "misc.interpolation.plot_raster(gdfWetShp, extentShp, wetRK_2017, 'Wet Season', axes[1], fig)"
   ]
  },
  {
   "cell_type": "markdown",
   "id": "5d5941cf",
   "metadata": {},
   "source": [
    "### 3.4.3 Regression Kriging of Total Nitrogen (covariate: bathymetry + LDI) <a class=\"anchor\" id=\"tn_b_ldi\"></a>\n"
   ]
  },
  {
   "cell_type": "code",
   "execution_count": null,
   "id": "59982d32",
   "metadata": {},
   "outputs": [],
   "source": [
    "ma_table = pd.read_csv(gis_path + \"MA_table.csv\")\n",
    "\n",
    "fig, ax = plt.subplots(1,2, figsize=(18, 12))\n",
    "fig.suptitle(\"{} (covariate: {}).\".format(Area, 'bathymetry and LDI'),fontsize=20,y=0.8) \n",
    "\n",
    "ra_fname = gis_path + \"covariates/bathymetry/{}.tif\".format(dictArea[Area])\n",
    "misc.interpolation.plot_covariate(Area,gdfDryShp,extentShp,ra_fname,ax[0], fig)\n",
    "\n",
    "ra_fname = gis_path + \"covariates/ldi/{}.tif\".format(dictArea[Area])\n",
    "misc.interpolation.plot_covariate(Area,gdfDryShp,extentShp,ra_fname,ax[1], fig)\n"
   ]
  },
  {
   "cell_type": "code",
   "execution_count": null,
   "id": "908628cf",
   "metadata": {},
   "outputs": [],
   "source": [
    "year, season, method, value_field, mask, covariate = '2017', 'Dry','rk','ResultValu', gis_path+ '{}.shp'.format(b_name), 'b_ldi'\n",
    "in_explanatory_rasters = [gis_path + \"covariates/bathymetry/{}.tif\".format(dictArea[Area]),\n",
    "                          gis_path + \"covariates/ldi/{}.tif\".format(dictArea[Area])]\n",
    "\n",
    "in_features = dry_input_pt \n",
    "out_ga_layer = gis_path +\"{}{}{}_{}.lyrx\".format(Para_ab, season.lower(), method.upper(),covariate[0:5])\n",
    "out_raster = gis_path +\"{}{}{}_{}.tif\".format(Para_ab, season.lower(),method.upper(),covariate[0:5])\n",
    "\n",
    "dryRK_2017 = misc.interpolation.interpolation(method = method, input_point = in_features, out_raster = out_raster, \n",
    "                                              z_field = value_field, out_ga_layer = out_ga_layer, extent = extent, \n",
    "                                              mask = mask, in_explanatory_rasters = in_explanatory_rasters)\n",
    "\n",
    "season = 'Wet'\n",
    "in_features = wet_input_pt \n",
    "out_ga_layer = gis_path +\"{}{}{}_{}.lyrx\".format(Para_ab, season.lower(), method.upper(),covariate[0:5])\n",
    "out_raster = gis_path +\"{}{}{}_{}.tif\".format(Para_ab, season.lower(),method.upper(),covariate[0:5])\n",
    "\n",
    "wetRK_2017 = misc.interpolation.interpolation(method = method, input_point = in_features, out_raster = out_raster, \n",
    "                                              z_field = 'ResultValu', out_ga_layer = out_ga_layer, extent = extent, \n",
    "                                              mask = mask, in_explanatory_rasters = in_explanatory_rasters)"
   ]
  },
  {
   "cell_type": "markdown",
   "id": "d348317f",
   "metadata": {},
   "source": [
    "Plot interpolation results"
   ]
  },
  {
   "cell_type": "code",
   "execution_count": null,
   "id": "97206436",
   "metadata": {},
   "outputs": [],
   "source": [
    "fig, axes = plt.subplots(1,2, figsize=(18, 8))\n",
    "\n",
    "fig.suptitle(\"{} (Parameter: {}).\".format(Area, Para),fontsize=20)\n",
    "\n",
    "misc.interpolation.plot_raster(gdfDryShp, extentShp, dryRK_2017, 'Dry Season', axes[0],fig)\n",
    "misc.interpolation.plot_raster(gdfWetShp, extentShp, wetRK_2017, 'Wet Season', axes[1],fig)\n"
   ]
  },
  {
   "cell_type": "markdown",
   "id": "247f5ccc",
   "metadata": {},
   "source": [
    "### 3.4.4 Interpolation Validation of Total Nitrogen <a class=\"anchor\" id=\"tn_val\"></a>\n",
    "\n",
    "Validate RK with bathymetry"
   ]
  },
  {
   "cell_type": "code",
   "execution_count": null,
   "id": "d6007617",
   "metadata": {},
   "outputs": [],
   "source": [
    "def extract_val_result(inLayer, index):\n",
    "    cvResult = arcpy.CrossValidation_ga(inLayer)\n",
    "    Stat = pd.DataFrame(\n",
    "                {\n",
    "                  \"meanError\": round(float(cvResult.meanError),4),\n",
    "                  \"meanStandardizedError\": round(float(cvResult.meanStandardized),4),\n",
    "                  \"rootMeanSquareError\": round(float(cvResult.rootMeanSquare),4)\n",
    "                                              },index=[index])\n",
    "    return Stat"
   ]
  },
  {
   "cell_type": "code",
   "execution_count": null,
   "id": "19a6a3d5",
   "metadata": {},
   "outputs": [],
   "source": [
    "method, season, covariate = 'rk', 'dry', 'bathymetry'\n",
    "inLayer = gis_path +\"{}{}{}_{}.lyrx\".format(Para_ab, season.lower(), method.upper(),covariate[0:5])\n",
    "\n",
    "dryRKStat1 = extract_val_result(inLayer,covariate)\n",
    "\n",
    "season = 'wet'\n",
    "inLayer = gis_path +\"{}{}{}_{}.lyrx\".format(Para_ab, season.lower(), method.upper(),covariate[0:5])\n",
    "\n",
    "wetRKStat1 = extract_val_result(inLayer,covariate)"
   ]
  },
  {
   "cell_type": "markdown",
   "id": "4e184df2",
   "metadata": {},
   "source": [
    "Display validation result"
   ]
  },
  {
   "cell_type": "code",
   "execution_count": null,
   "id": "3f6002dd",
   "metadata": {},
   "outputs": [],
   "source": [
    "print(\"Validation of Regression Kriging in dry season data\")\n",
    "display(dryRKStat1)\n",
    "print(\"Validation of Regression Kriging in wet season data\")\n",
    "display(wetRKStat1)"
   ]
  },
  {
   "cell_type": "markdown",
   "id": "9b222403",
   "metadata": {},
   "source": [
    "Validation of RK with ldi as covariate"
   ]
  },
  {
   "cell_type": "code",
   "execution_count": null,
   "id": "0c67c604",
   "metadata": {},
   "outputs": [],
   "source": [
    "method, season, covariate = 'rk', 'dry', 'ldi'\n",
    "inLayer = gis_path +\"{}{}{}_{}.lyrx\".format(Para_ab, season.lower(), method.upper(),covariate[0:5])\n",
    "\n",
    "dryRKStat2 = extract_val_result(inLayer,covariate)\n",
    "\n",
    "season = 'wet'\n",
    "inLayer = gis_path +\"{}{}{}_{}.lyrx\".format(Para_ab, season.lower(), method.upper(),covariate[0:5])\n",
    "\n",
    "wetRKStat2 = extract_val_result(inLayer,covariate)"
   ]
  },
  {
   "cell_type": "markdown",
   "id": "2b400bfa",
   "metadata": {},
   "source": [
    "Display validation result"
   ]
  },
  {
   "cell_type": "code",
   "execution_count": null,
   "id": "0b98ea83",
   "metadata": {
    "scrolled": true
   },
   "outputs": [],
   "source": [
    "print(\"Validation of Regression Kriging in dry season data\")\n",
    "display(dryRKStat2)\n",
    "print(\"Validation of Regression Kriging in wet season data\")\n",
    "display(wetRKStat2)"
   ]
  },
  {
   "cell_type": "markdown",
   "id": "23783ee0",
   "metadata": {},
   "source": [
    "Validate RK with Bathymetry & LDI"
   ]
  },
  {
   "cell_type": "code",
   "execution_count": null,
   "id": "eb942c16",
   "metadata": {},
   "outputs": [],
   "source": [
    "method, season, covariate = 'rk', 'dry', 'b_ldi'\n",
    "inLayer = gis_path +\"{}{}{}_{}.lyrx\".format(Para_ab, season.lower(), method.upper(),covariate[0:5])\n",
    "\n",
    "dryRKStat3 = extract_val_result(inLayer,covariate)\n",
    "\n",
    "season = 'wet'\n",
    "inLayer = gis_path +\"{}{}{}_{}.lyrx\".format(Para_ab, season.lower(), method.upper(),covariate[0:5])\n",
    "\n",
    "wetRKStat3 = extract_val_result(inLayer,covariate)"
   ]
  },
  {
   "cell_type": "markdown",
   "id": "c4374775",
   "metadata": {},
   "source": [
    "Display validation result"
   ]
  },
  {
   "cell_type": "code",
   "execution_count": null,
   "id": "7b54ffd6",
   "metadata": {},
   "outputs": [],
   "source": [
    "print(\"Interpolation assessment of Regression Kriging in dry season data\")\n",
    "display(dryRKStat3)\n",
    "print(\"Interpolation assessment of Regression Kriging in wet season data\")\n",
    "display(wetRKStat3)"
   ]
  },
  {
   "cell_type": "markdown",
   "id": "347c4f30",
   "metadata": {},
   "source": [
    "#### Summary of validation"
   ]
  },
  {
   "cell_type": "code",
   "execution_count": null,
   "id": "3b073204",
   "metadata": {},
   "outputs": [],
   "source": [
    "sumStatDry_ch = pd.concat([dryRKStat1,dryRKStat2,dryRKStat3])\n",
    "sumStatWet_ch = pd.concat([wetRKStat1,wetRKStat2,wetRKStat3])\n",
    "\n",
    "display(\"Summary of interpolation validation in dry season data\")\n",
    "display(sumStatDry_ch)\n",
    "\n",
    "display(\"Summary of interpolation validation in wet season data\")\n",
    "display(sumStatWet_ch)"
   ]
  }
 ],
 "metadata": {
  "kernelspec": {
   "display_name": "Python 3 (ipykernel)",
   "language": "python",
   "name": "python3"
  },
  "language_info": {
   "codemirror_mode": {
    "name": "ipython",
    "version": 3
   },
   "file_extension": ".py",
   "mimetype": "text/x-python",
   "name": "python",
   "nbconvert_exporter": "python",
   "pygments_lexer": "ipython3",
   "version": "3.9.11"
  }
 },
 "nbformat": 4,
 "nbformat_minor": 5
}
