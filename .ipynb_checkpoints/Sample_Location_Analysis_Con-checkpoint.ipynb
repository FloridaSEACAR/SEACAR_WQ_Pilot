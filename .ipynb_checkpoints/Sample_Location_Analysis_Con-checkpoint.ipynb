{
 "cells": [
  {
   "cell_type": "markdown",
   "metadata": {},
   "source": [
    "# Exploratory Analysis of Water Quality Data II - Continuous Data\n",
    "\n",
    "# Sampling Location\n",
    "\n",
    "This document includes Python code and results of the exploratory analysis of water quality data in the SEACAR Pilot project."
   ]
  },
  {
   "cell_type": "code",
   "execution_count": 1,
   "metadata": {},
   "outputs": [
    {
     "name": "stderr",
     "output_type": "stream",
     "text": [
      "C:\\ProgramData\\Anaconda3\\envs\\geo\\lib\\site-packages\\geopandas\\_compat.py:106: UserWarning: The Shapely GEOS version (3.8.1-CAPI-1.13.3) is incompatible with the GEOS version PyGEOS was compiled with (3.9.1-CAPI-1.14.2). Conversions between both will be slow.\n",
      "  warnings.warn(\n"
     ]
    }
   ],
   "source": [
    "import matplotlib.pyplot as plt\n",
    "import matplotlib.colors\n",
    "import numpy      as np\n",
    "import pandas     as pd\n",
    "import geopandas  as gpd\n",
    "import contextily as cx\n",
    "import seaborn    as sns\n",
    "import warnings\n",
    "warnings.filterwarnings('ignore')"
   ]
  },
  {
   "cell_type": "markdown",
   "metadata": {},
   "source": [
    "## 1. Data loading and preprocessing\n",
    "Read the csv file and shapefile of managed areas."
   ]
  },
  {
   "cell_type": "code",
   "execution_count": null,
   "metadata": {},
   "outputs": [],
   "source": [
    "df      = pd.read_csv(\"../OEAT_Continuous-2022-Nov-04.csv\")\n",
    "areaShp = gpd.read_file(\"../GIS_data/ORCP_Managed_Areas_Oct2021.shp\")"
   ]
  },
  {
   "cell_type": "markdown",
   "metadata": {},
   "source": [
    "Select five managed areas and five parameters. Select only columns that are needed for the analysis. Convert the SampleDate from string to datetime object."
   ]
  },
  {
   "cell_type": "code",
   "execution_count": null,
   "metadata": {},
   "outputs": [],
   "source": [
    "df2 = df.loc[df[\"ManagedAreaName\"].isin([\"Guana Tolomato Matanzas National Estuarine Research Reserve\",\n",
    "                            \"Biscayne Bay Aquatic Preserve\",\n",
    "                            \"Estero Bay Aquatic Preserve\",\n",
    "                            \"Gasparilla Sound-Charlotte Harbor Aquatic Preserve\",\n",
    "                            \"Big Bend Seagrasses Aquatic Preserve\"])]\n",
    "df2 = df2[['RowID','ParameterName','ParameterUnits','ProgramLocationID','ActivityType','ManagedAreaName',\n",
    "           'SampleDate','Year','Month','ResultValue','ValueQualifier','Latitude_DD','Longitude_DD']]\n",
    "df2 = df2.loc[df2[\"ParameterName\"].isin([\"Salinity\",\"Total Nitrogen\",\"Dissolved Oxygen\",\"Turbidity\",\"Secchi Depth\"])]\n",
    "df2[\"timestamp\"]=  pd.to_datetime(df2['SampleDate'])"
   ]
  },
  {
   "cell_type": "markdown",
   "metadata": {},
   "source": [
    "Remove outliers"
   ]
  },
  {
   "cell_type": "code",
   "execution_count": null,
   "metadata": {},
   "outputs": [],
   "source": [
    "# Remove total nitrogen outliers (>100)\n",
    "df2.drop(df2[(df2['ParameterName'] == 'Total Nitrogen') & \n",
    "    (df2['ResultValue'] > 100)].index,inplace=True)\n",
    "\n",
    "# Remove a single measurement in 1996-07-22 (RowID: 1582917)\n",
    "df2.drop(df2[df2['RowID'] == 1582917].index, inplace=True)\n",
    "\n",
    "# Remove turbidity outliers (>25)\n",
    "df2.drop(df2[(df2['ParameterName'] == 'Turbidity') & \n",
    "    (df2['ResultValue'] > 25)].index, inplace=True)\n",
    "\n",
    "# Remove Secchi Depth before 1995 (117 records)\n",
    "df2.drop(df2[(df2['ParameterName'] == 'Secchi Depth') & \n",
    "    (df2['Year'] < 1995)].index, inplace=True)"
   ]
  },
  {
   "cell_type": "markdown",
   "metadata": {},
   "source": [
    "Create lists of water quality parameters, lists of five managed areas and list of statistics to be calculated."
   ]
  },
  {
   "cell_type": "code",
   "execution_count": null,
   "metadata": {},
   "outputs": [],
   "source": [
    "listPara = [\"Salinity\",\"Total Nitrogen\",\"Dissolved Oxygen\",\"Turbidity\",\"Secchi Depth\"] \n",
    "listArea = [\"Guana Tolomato Matanzas National Estuarine Research Reserve\",\n",
    "                            \"Biscayne Bay Aquatic Preserve\",\n",
    "                            \"Estero Bay Aquatic Preserve\",\n",
    "                            \"Gasparilla Sound-Charlotte Harbor Aquatic Preserve\",\n",
    "                            \"Big Bend Seagrasses Aquatic Preserve\" ]\n",
    "listValue = [\"count\", \"mean\",\"max\",\"min\",\"std\"]\n",
    "dictUnits = {\"Salinity\":\"ppt\",\"Total Nitrogen\": \"mg/L\",\"Dissolved Oxygen\": \"mg/L\",\"Turbidity\": \"NTU\", \"Secchi Depth\": \"m\"}\n",
    "dictMonth = {1:\"January\",2:\"February\",3:\"March\",4:\"April\",5:\"May\",6:\"June\",7:\"July\",8:\"August\",\n",
    "             9:\"September\",10:\"October\",11:\"November\",12:\"December\"}\n",
    "dictArea = {'Gasparilla Sound-Charlotte Harbor Aquatic Preserve':'Charlotte Harbor','Big Bend Seagrasses Aquatic Preserve':'Big Bend',\n",
    "            'Guana Tolomato Matanzas National Estuarine Research Reserve':'GTM Reserve','Estero Bay Aquatic Preserve':'Estero Bay',\n",
    "            'Biscayne Bay Aquatic Preserve':'Biscayne Bay'}"
   ]
  },
  {
   "cell_type": "markdown",
   "metadata": {},
   "source": [
    "## 2. Sampling locations\n",
    "\n",
    "This step is to calculate histogram of samples at unique locations.\n",
    "\n",
    "\n",
    "### 2.1 Sample frequencies at unique locations\n",
    "First, aggregate the data by location and parameter name."
   ]
  },
  {
   "cell_type": "code",
   "execution_count": null,
   "metadata": {},
   "outputs": [],
   "source": [
    "plt.rcParams['figure.figsize'] = [16, 8]\n",
    "\n",
    "dfLoc  = df2.groupby(['Latitude_DD','Longitude_DD',\"ParameterName\",\"ManagedAreaName\"])[\"ResultValue\"].agg(\"count\").reset_index()\n",
    "\n",
    "dfLoc = dfLoc.rename(columns={\"ResultValue\": \"samples\"})\n",
    "\n",
    "dfLoc.loc[dfLoc[\"samples\"] == 1,['sample_type']] ='Random Point'\n",
    "dfLoc.loc[dfLoc[\"samples\"] > 1,['sample_type']] ='Fixed Point'\n",
    "\n",
    "# print unique locations and frequencies\n",
    "display(df2.groupby(['Latitude_DD', 'Longitude_DD']).size().reset_index(name='Freq'))"
   ]
  },
  {
   "cell_type": "markdown",
   "metadata": {},
   "source": [
    "Plot histograms of samples at unique positions."
   ]
  },
  {
   "cell_type": "code",
   "execution_count": null,
   "metadata": {},
   "outputs": [],
   "source": [
    "plt.rcParams['figure.figsize'] = [20, 16]\n",
    "\n",
    "i = 0\n",
    "\n",
    "fig = plt.figure()\n",
    "plt.suptitle(\"Histogram of samples at unique locations\", fontsize = 20, y = 0.94)\n",
    "\n",
    "for para in listPara:\n",
    "    dfNew = dfLoc[dfLoc['ParameterName']==para]\n",
    "    if dfNew[\"ParameterName\"].count() != 0:\n",
    "        ax = fig.add_subplot(3,2,i+1)\n",
    "        ax.set_title(para, size=15) # Title  \n",
    "        ax.hist(dfNew[\"samples\"],bins=50)\n",
    "        i=i+1\n",
    "        plt.ylabel(\"Numbers of sample\")"
   ]
  },
  {
   "cell_type": "markdown",
   "metadata": {},
   "source": [
    "## 3 Spatial distribution of sampling locations\n",
    "\n",
    "Convert sampling points of salinity to GeoDataFrame"
   ]
  },
  {
   "cell_type": "code",
   "execution_count": null,
   "metadata": {},
   "outputs": [],
   "source": [
    "# Group data by location, parametername and managed area name\n",
    "gdfLoc = gpd.GeoDataFrame(dfLoc, geometry = gpd.points_from_xy(dfLoc.Longitude_DD, dfLoc.Latitude_DD), crs=\"EPSG:4326\")"
   ]
  },
  {
   "cell_type": "markdown",
   "metadata": {},
   "source": [
    "Plot sampling locations in all years."
   ]
  },
  {
   "cell_type": "markdown",
   "metadata": {},
   "source": [
    "### 3.1 Sampling locations of dissolved oxygen in all years"
   ]
  },
  {
   "cell_type": "code",
   "execution_count": null,
   "metadata": {
    "scrolled": false
   },
   "outputs": [],
   "source": [
    "# select parameter and year\n",
    "para = 'Dissolved Oxygen'\n",
    "\n",
    "gdfLocPara = gdfLoc[gdfLoc['ParameterName']==para]\n",
    "\n",
    "fig = plt.figure(figsize = (20, 15))\n",
    "\n",
    "# This step is to depict the figure about fixed points and random points in each area.\n",
    "for area in listArea:\n",
    "    areaPoint = gdfLocPara[gdfLocPara[\"ManagedAreaName\"] == area]\n",
    "    if areaPoint[\"ParameterName\"].count() != 0:\n",
    "        #ax = areaPoint.plot(marker=\"o\",facecolors='none', edgecolors='r',markersize=areaPoint['samples'])\n",
    "        ax = areaPoint.plot(column ='samples',k=5,cmap=\"YlOrRd\", scheme = 'NaturalBreaks',legend=True,\n",
    "                           marker=\"o\",facecolors='none', edgecolors='black'\n",
    "                            ,markersize=areaPoint['samples']**(1/2)*0.5\n",
    "                           )\n",
    "        ax.set_title(\"Sampling Points of {} in {}\".format(para,str(dictArea[area])),size=16)\n",
    "        cx.add_basemap(ax,source=cx.providers.Stamen.TonerLite,crs=areaPoint.crs)\n",
    "        #cx.add_basemap(ax,source=cx.providers.CartoDB.Positron,crs=gdf_Salinity.crs)\n"
   ]
  },
  {
   "cell_type": "markdown",
   "metadata": {},
   "source": [
    "### 3.2 Spatial distribution of sampling locations of Dissolved Oxygen in 2019\n",
    "\n",
    "First, aggregate data by location, parameter name, managed area, year and month."
   ]
  },
  {
   "cell_type": "code",
   "execution_count": null,
   "metadata": {},
   "outputs": [],
   "source": [
    "# Aggregate data\n",
    "dfLoc_m  = df2.groupby(['Latitude_DD','Longitude_DD',\"ParameterName\",\"ManagedAreaName\",\"Year\",\"Month\"])[\"ResultValue\"].agg(\"count\").reset_index()\n",
    "\n",
    "dfLoc_m = dfLoc_m.rename(columns={\"ResultValue\": \"samples\"})\n",
    "\n",
    "dfLoc_m.loc[dfLoc_m[\"samples\"] == 1,['sample_type']] ='Random Point'\n",
    "dfLoc_m.loc[dfLoc_m[\"samples\"] > 1,['sample_type']] ='Fixed Point'\n",
    "\n",
    "# Convert the data to GeoDataFrame\n",
    "gdfLoc_m = gpd.GeoDataFrame(dfLoc_m, geometry = gpd.points_from_xy(dfLoc_m.Longitude_DD, dfLoc_m.Latitude_DD),crs=\"EPSG:4326\")"
   ]
  },
  {
   "cell_type": "markdown",
   "metadata": {},
   "source": [
    "Plot fixed and random sampling location in each managed aera"
   ]
  },
  {
   "cell_type": "code",
   "execution_count": null,
   "metadata": {
    "scrolled": false
   },
   "outputs": [],
   "source": [
    "# Select Year and Parameter for the mapping\n",
    "para, year = 'Dissolved Oxygen', 2019\n",
    "for area in [listArea[0],listArea[2]]:\n",
    "#    area = listArea[1]\n",
    "    \n",
    "    gdfLocPara = gdfLoc_m[(gdfLoc_m['ParameterName']==para)&(gdfLoc_m[\"Year\"]==year)&(gdfLoc_m[\"ManagedAreaName\"]==area)]\n",
    "    areaSelect = areaShp[areaShp[\"LONG_NAME\"]==area]\n",
    "\n",
    "    \n",
    "    row, col = 4, 3\n",
    "    fig, axs = plt.subplots(row,col)\n",
    "    plt.suptitle(\"Sampling points of {} in {} in {}\".format(para, dictArea[area], year), fontsize = 20, y = 1)\n",
    "    \n",
    "    if dictArea[area] == 'GTM Reserve' or dictArea[area] == 'Biscayne Bay':\n",
    "        fig.set_size_inches(16,45)\n",
    "    else:\n",
    "        fig.set_size_inches(16,20)\n",
    "    \n",
    "    i= 1 \n",
    "    for r in range(0,row):\n",
    "        for c in range(0,col):\n",
    "            # Plot polygon of managed area\n",
    "            areaSelect.plot(facecolor='blue',edgecolor='none',alpha = 0.1,ax=axs[r,c])\n",
    "            # Select points by month\n",
    "            areaPoint = gdfLocPara[gdfLocPara[\"Month\"]==i]\n",
    "#             print(str(areaPoint[\"ParameterName\"].count())+\" \"+area)\n",
    "            if areaPoint[\"ParameterName\"].count() != 0:\n",
    "                areaPoint.plot(column = 'samples' , k = 5, cmap = \"YlOrRd\", \n",
    "                               scheme = 'natural_breaks', marker = \"o\",\n",
    "    #                            markersize=areaPoint['samples']**(1)*32,\n",
    "                               edgecolors='black', legend=True,ax=axs[r,c])\n",
    "                axs[r,c].set_title(dictMonth[i],size=16)\n",
    "\n",
    "                cx.add_basemap(axs[r,c],source=cx.providers.Stamen.TonerLite,crs=\"EPSG:4326\")\n",
    "                plt.subplots_adjust(left=None, right=None, bottom=None, top=None, hspace=0, wspace=0)\n",
    "                plt.tight_layout()\n",
    "\n",
    "                plt.show\n",
    "\n",
    "                if i > 12:\n",
    "                    break\n",
    "                else:\n",
    "                    i = i+1"
   ]
  },
  {
   "cell_type": "markdown",
   "metadata": {},
   "source": [
    "### 3.3 Sampling locations of Salinity in managed areas in 2019"
   ]
  },
  {
   "cell_type": "code",
   "execution_count": null,
   "metadata": {
    "scrolled": false
   },
   "outputs": [],
   "source": [
    "# Select Year and Parameter for the mapping\n",
    "para, year = 'Salinity', 2019\n",
    "for area in listArea[0:3]:\n",
    "#    area = listArea[1]\n",
    "    \n",
    "    gdfLocPara = gdfLoc_m[(gdfLoc_m['ParameterName']==para)&(gdfLoc_m[\"Year\"]==year)&(gdfLoc_m[\"ManagedAreaName\"]==area)]\n",
    "    areaSelect = areaShp[areaShp[\"LONG_NAME\"]==area]\n",
    "\n",
    "    row, col = 4, 3\n",
    "    fig, axs = plt.subplots(row,col)\n",
    "    plt.suptitle(\"Sampling points of {} in {} in {}\".format(para, dictArea[area],year), fontsize = 20, y = 1)\n",
    "    \n",
    "    # Choose different layout for different managed areas\n",
    "    if dictArea[area] == 'GTM Reserve' or dictArea[area] == 'Biscayne Bay':\n",
    "        fig.set_size_inches(16,45)\n",
    "    else:\n",
    "        fig.set_size_inches(16,20)\n",
    "    \n",
    "    i= 1 \n",
    "    for r in range(0,row):\n",
    "        for c in range(0,col):\n",
    "            # Plot polygon of managed area\n",
    "            areaSelect.plot(facecolor='blue',edgecolor='none',alpha = 0.1,ax=axs[r,c])\n",
    "            # Select points by month\n",
    "            areaPoint = gdfLocPara[gdfLocPara[\"Month\"]==i]\n",
    "            \n",
    "            areaPoint.plot(column = 'samples' , k = 5, cmap = \"YlOrRd\", \n",
    "                           scheme = 'natural_breaks', marker = \"o\",\n",
    "#                            ,markersize=areaPoint['samples']**(1)*32,\n",
    "                           edgecolors='black', legend=True,ax=axs[r,c])\n",
    "            axs[r,c].set_title(dictMonth[i],size=16)\n",
    "\n",
    "            cx.add_basemap(axs[r,c],source=cx.providers.Stamen.TonerLite,crs=\"EPSG:4326\")\n",
    "            plt.subplots_adjust(left=None, right=None, bottom=None, top=None, hspace=0, wspace=0)\n",
    "            plt.tight_layout()\n",
    "            \n",
    "            plt.show\n",
    "\n",
    "            if i > 12:\n",
    "                break\n",
    "            else:\n",
    "                i = i+1"
   ]
  }
 ],
 "metadata": {
  "kernelspec": {
   "display_name": "Python 3",
   "language": "python",
   "name": "python3"
  },
  "language_info": {
   "codemirror_mode": {
    "name": "ipython",
    "version": 3
   },
   "file_extension": ".py",
   "mimetype": "text/x-python",
   "name": "python",
   "nbconvert_exporter": "python",
   "pygments_lexer": "ipython3",
   "version": "3.9.1"
  }
 },
 "nbformat": 4,
 "nbformat_minor": 4
}
