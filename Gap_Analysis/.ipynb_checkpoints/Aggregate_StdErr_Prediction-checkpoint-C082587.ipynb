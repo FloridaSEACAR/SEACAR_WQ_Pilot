{
 "cells": [
  {
   "cell_type": "markdown",
   "id": "5bfd5ece",
   "metadata": {},
   "source": [
    "# Summarizing Standard Error of Prediction\n",
    "\n",
    "Tasks:\n",
    "\n",
    "1. Rescale each Standard Error of Prediction (SEP) raster to [0 - 1] in the last 5 years (2015 - 2019)\n",
    "2. Calculate the average of rescaled SEP rasters in each managed area and parameter.\n",
    "3. Export the average rasters to tif files (one file for each parameter in each managed area). Total 5 parameters * 5 managed areas=25 maps\n",
    "\n",
    "4. For Charlotte Harbor area,create an average rescaled SEP raster for each parameter and in each season.  Total 5 parameters * 4 seasons = 20 maps.\n",
    "\n",
    "* [1.Data Preprocess](#reg_preprocessing)\n",
    "* [2. Rescale Standard Error Prediction](#reg_rescale)\n",
    "* [3. Rescaled Standard Error Prediction Results](#reg_rescale_results)\n",
    "    * [3.1 Charlotte Harbor](#reg_result_sep_ch)\n",
    "    * [3.2 Estero Bay](#reg_result_sep_eb)\n",
    "    * [3.3 Big Bend](#reg_result_sep_bb)\n",
    "    * [3.4 Biscayne Bay Aquatic Preserve](#reg_result_sep_bbay)\n",
    "    * [3.5 Guana Tolomato](#reg_result_sep_gtm)\n",
    "* [4. Check the Original Tif Files](#reg_check_file)\n",
    "    * [4.1 Charlotte Harbor](#reg_check_file_ch)\n",
    "    * [4.2 Estero Bay](#reg_check_file_eb)\n",
    "    * [4.3 Big Bend](#reg_check_file_bb)\n",
    "    * [4.4 Biscayne Bay Aquatic Preserve](#reg_check_file_bbay)\n",
    "    * [4.5 Guana Tolomato](#reg_check_file_gtm)\n",
    "* [5. Rescaled Updated Standard Error Prediction Results](#reg_rescale_up_results)\n",
    "    * [5.1 Charlotte Harbor](#reg_result_up_sep_ch)\n",
    "    * [5.2 Estero Bay](#reg_result_up_sep_eb)\n",
    "    * [5.3 Big Bend](#reg_result_up_sep_bb)\n",
    "    * [5.4 Biscayne Bay Aquatic Preserve](#reg_check_file_bbay)\n",
    "    * [5.5 Guana Tolomato](#reg_result_up_sep_gtm)\n",
    "* [6. Calculate Average Rescaled SEP](#reg_calculate_average)\n",
    "    * [6.1 Charlotte Harbor](#reg_avg_rescale_sep_ch)\n",
    "    * [6.2 Estero Bay](#reg_avg_rescale_sep_eb)\n",
    "    * [6.3 Big Bend](#reg_avg_rescale_sep_bb)\n",
    "    * [6.4 Biscayne Bay Aquatic Preserve](#reg_avg_rescale_sep_bbay)\n",
    "    * [6.5 Guana Tolomato](#reg_avg_rescale_sep_gtm)\n",
    "* [7. Calculate Average Rescaled SEP by Season](#reg_calculate_average_season)\n",
    "    * [7.1 Charlotte Harbor](#reg_avg_rescale_sep_season_ch)"
   ]
  },
  {
   "cell_type": "code",
   "execution_count": 208,
   "id": "1d7eda5f",
   "metadata": {},
   "outputs": [],
   "source": [
    "import os\n",
    "import glob\n",
    "import re\n",
    "import rasterio\n",
    "import sys\n",
    "import numpy as np\n",
    "from rasterio.enums import Resampling\n",
    "from rasterio.warp import calculate_default_transform, reproject, Resampling\n",
    "import pandas as pd\n",
    "\n",
    "import sys\n",
    "sys.path.append('..')\n",
    "import misc.gap_analysis"
   ]
  },
  {
   "cell_type": "markdown",
   "id": "c25dae55",
   "metadata": {},
   "source": [
    "# 1. Data Preprocessing <a class=\"anchor\" id=\"reg_preprocessing\"></a>\n",
    "Define the standard error prediction folders"
   ]
  },
  {
   "cell_type": "code",
   "execution_count": 209,
   "id": "f3bd3f59",
   "metadata": {},
   "outputs": [],
   "source": [
    "path = '../../'\n",
    "gis_path = path+'GIS_data/'\n",
    "eps_path = gis_path+'standard_error_prediction/'\n",
    "rescale_path_CH = eps_path + r\"rescaled/Charlotte Harbor\"\n",
    "rescale_path_EB = eps_path + r\"rescaled/Estero Bay\"\n",
    "rescale_path_BB = eps_path + r\"rescaled/Big Bend\"\n",
    "rescale_path_BBay = eps_path + r\"rescaled/Biscayne Bay\"\n",
    "rescale_path_GTM = eps_path + r\"rescaled/GTM Reserve\"\n",
    "\n",
    "# Store updated rescale files\n",
    "rescale_Uppath_CH = eps_path + r\"rescaled/Update_Charlotte Harbor\"\n",
    "rescale_Uppath_EB = eps_path + r\"rescaled/Update_Estero Bay\"\n",
    "rescale_Uppath_BB = eps_path + r\"rescaled/Update_Big Bend\"\n",
    "rescale_Uppath_BBay= eps_path + r\"rescaled/Update_Biscayne Bay\"\n",
    "rescale_Uppath_GTM= eps_path + r\"rescaled/Update_GTM Reserve\"\n",
    "\n",
    "# Store average tif files\n",
    "avg_tif_ch = eps_path + r\"/average/Average_sep_ch\"\n",
    "avg_tif_eb = eps_path + r\"/average/Average_sep_eb\"\n",
    "avg_tif_bb = eps_path + r\"/average/Average_sep_bb\"\n",
    "avg_tif_bbay = eps_path + r\"/average/Average_sep_bbay\"\n",
    "avg_tif_gtm = eps_path + r\"/average/Average_sep_gtm\"\n",
    "\n",
    "#Store average tif files in Charlotte Harbor by seasons\n",
    "avg_tif_ch_season = eps_path + r\"/average/Average_sep_ch_season\""
   ]
  },
  {
   "cell_type": "markdown",
   "id": "39c88c40",
   "metadata": {},
   "source": [
    "# 2. Rescale Standard Error Prediction <a class=\"anchor\" id=\"reg_rescale\"></a>\n",
    "\n",
    "\n",
    "# 3. Rescaled Standard Error Prediction Results <a class=\"anchor\" id=\"reg_rescale_results\"></a>\n",
    "## 3.1 Charlotte Harbor <a class=\"anchor\" id=\"reg_result_sep_ch\"></a>"
   ]
  },
  {
   "cell_type": "code",
   "execution_count": 210,
   "id": "4faa50b2",
   "metadata": {},
   "outputs": [],
   "source": [
    "misc.gap_analysis.delete_all_files(rescale_path_CH)"
   ]
  },
  {
   "cell_type": "code",
   "execution_count": 211,
   "id": "8f3897e8",
   "metadata": {},
   "outputs": [],
   "source": [
    "misc.gap_analysis.rescale_tif_files(eps_path,'Charlotte Harbor', 2015, 2019, rescale_path_CH)"
   ]
  },
  {
   "cell_type": "markdown",
   "id": "3331cea9",
   "metadata": {},
   "source": [
    "## 3.2 Estero Bay  <a class=\"anchor\" id=\"reg_result_sep_eb\"></a>"
   ]
  },
  {
   "cell_type": "code",
   "execution_count": 212,
   "id": "f649c487",
   "metadata": {},
   "outputs": [],
   "source": [
    "misc.gap_analysis.delete_all_files(rescale_path_EB)"
   ]
  },
  {
   "cell_type": "code",
   "execution_count": 213,
   "id": "3eaf0270",
   "metadata": {},
   "outputs": [],
   "source": [
    "misc.gap_analysis.rescale_tif_files(eps_path,'Estero Bay', 2015, 2019, rescale_path_EB)"
   ]
  },
  {
   "cell_type": "markdown",
   "id": "e7739e2e",
   "metadata": {},
   "source": [
    "##  3.3 Big Bend <a class=\"anchor\" id=\"reg_result_sep_bb\"></a>"
   ]
  },
  {
   "cell_type": "code",
   "execution_count": 214,
   "id": "83b3584d",
   "metadata": {},
   "outputs": [],
   "source": [
    "misc.gap_analysis.delete_all_files(rescale_path_BB)"
   ]
  },
  {
   "cell_type": "code",
   "execution_count": 215,
   "id": "d3186040",
   "metadata": {},
   "outputs": [],
   "source": [
    "misc.gap_analysis.rescale_tif_files(eps_path,'Big Bend', 2015, 2019, rescale_path_BB)"
   ]
  },
  {
   "cell_type": "markdown",
   "id": "12d75632",
   "metadata": {},
   "source": [
    "## 3.4 Biscayne Bay <a class=\"anchor\" id=\"reg_result_sep_bbay\"></a>"
   ]
  },
  {
   "cell_type": "code",
   "execution_count": 216,
   "id": "f4ed1478",
   "metadata": {},
   "outputs": [],
   "source": [
    "misc.gap_analysis.delete_all_files(rescale_path_BBay)"
   ]
  },
  {
   "cell_type": "code",
   "execution_count": 217,
   "id": "f945e32a",
   "metadata": {},
   "outputs": [],
   "source": [
    "misc.gap_analysis.rescale_tif_files(eps_path,'Biscayne Bay', 2015, 2019, rescale_path_BBay)"
   ]
  },
  {
   "cell_type": "markdown",
   "id": "6af88bc0",
   "metadata": {},
   "source": [
    "## 3.5 Guana Tolomato Matanzas Reserve <a class=\"anchor\" id=\"reg_result_sep_gtm\"></a>"
   ]
  },
  {
   "cell_type": "code",
   "execution_count": 218,
   "id": "25d1ed97",
   "metadata": {},
   "outputs": [],
   "source": [
    "misc.gap_analysis.delete_all_files(rescale_path_GTM)"
   ]
  },
  {
   "cell_type": "code",
   "execution_count": 219,
   "id": "37e37fce",
   "metadata": {},
   "outputs": [],
   "source": [
    "misc.gap_analysis.rescale_tif_files(eps_path,'GTM Reserve', 2015, 2019, rescale_path_GTM)"
   ]
  },
  {
   "cell_type": "markdown",
   "id": "1b5956a3",
   "metadata": {},
   "source": [
    "# 4. Check the Original Tif Files <a class=\"anchor\" id=\"reg_check_file\"></a>"
   ]
  },
  {
   "cell_type": "markdown",
   "id": "ab95b7a7",
   "metadata": {},
   "source": [
    "Note: As the average calculation consistently produced results outside the study area, I have implemented a method to validate the shape of the raster data.\n",
    "\n",
    "## 4.1 Charlotte Harbor <a class=\"anchor\" id=\"reg_check_file_ch\"></a>\n",
    "\n",
    "After checking, the rescaled_2019Summer_S is not in Charlotte Harbor but instead in Estero Bay.   \n",
    "The original tif file also needs to move to the right folder."
   ]
  },
  {
   "cell_type": "code",
   "execution_count": 257,
   "id": "0240635e",
   "metadata": {},
   "outputs": [
    {
     "data": {
      "text/plain": [
       "<module 'misc' (<_frozen_importlib_external.NamespaceLoader object at 0x000001FE80015350>)>"
      ]
     },
     "execution_count": 257,
     "metadata": {},
     "output_type": "execute_result"
    }
   ],
   "source": [
    "import importlib\n",
    "importlib.reload(misc.gap_analysis)\n",
    "importlib.reload(misc)"
   ]
  },
  {
   "cell_type": "code",
   "execution_count": 228,
   "id": "591029f6",
   "metadata": {
    "scrolled": true
   },
   "outputs": [
    {
     "name": "stdout",
     "output_type": "stream",
     "text": [
      "Group 1 - Shape: (1122, 986) - Files: 74\n",
      "  ../../GIS_data/standard_error_prediction/rescaled/Charlotte Harbor\\rescaled_2015Fall_DO.tif\n",
      "  ../../GIS_data/standard_error_prediction/rescaled/Charlotte Harbor\\rescaled_2015Fall_S.tif\n",
      "  ../../GIS_data/standard_error_prediction/rescaled/Charlotte Harbor\\rescaled_2015Fall_SD.tif\n",
      "  ../../GIS_data/standard_error_prediction/rescaled/Charlotte Harbor\\rescaled_2015Fall_T.tif\n",
      "  ../../GIS_data/standard_error_prediction/rescaled/Charlotte Harbor\\rescaled_2015Fall_TN.tif\n",
      "  ../../GIS_data/standard_error_prediction/rescaled/Charlotte Harbor\\rescaled_2015Spring_DO.tif\n",
      "  ../../GIS_data/standard_error_prediction/rescaled/Charlotte Harbor\\rescaled_2015Spring_S.tif\n",
      "  ../../GIS_data/standard_error_prediction/rescaled/Charlotte Harbor\\rescaled_2015Spring_SD.tif\n",
      "  ../../GIS_data/standard_error_prediction/rescaled/Charlotte Harbor\\rescaled_2015Spring_T.tif\n",
      "  ../../GIS_data/standard_error_prediction/rescaled/Charlotte Harbor\\rescaled_2015Spring_TN.tif\n",
      "  ../../GIS_data/standard_error_prediction/rescaled/Charlotte Harbor\\rescaled_2015Summer_DO.tif\n",
      "  ../../GIS_data/standard_error_prediction/rescaled/Charlotte Harbor\\rescaled_2015Summer_S.tif\n",
      "  ../../GIS_data/standard_error_prediction/rescaled/Charlotte Harbor\\rescaled_2015Summer_SD.tif\n",
      "  ../../GIS_data/standard_error_prediction/rescaled/Charlotte Harbor\\rescaled_2015Summer_T.tif\n",
      "  ../../GIS_data/standard_error_prediction/rescaled/Charlotte Harbor\\rescaled_2015Summer_TN.tif\n",
      "  ../../GIS_data/standard_error_prediction/rescaled/Charlotte Harbor\\rescaled_2015Winter_DO.tif\n",
      "  ../../GIS_data/standard_error_prediction/rescaled/Charlotte Harbor\\rescaled_2015Winter_S.tif\n",
      "  ../../GIS_data/standard_error_prediction/rescaled/Charlotte Harbor\\rescaled_2015Winter_TN.tif\n",
      "  ../../GIS_data/standard_error_prediction/rescaled/Charlotte Harbor\\rescaled_2016Fall_DO.tif\n",
      "  ../../GIS_data/standard_error_prediction/rescaled/Charlotte Harbor\\rescaled_2016Fall_S.tif\n",
      "  ../../GIS_data/standard_error_prediction/rescaled/Charlotte Harbor\\rescaled_2016Fall_SD.tif\n",
      "  ../../GIS_data/standard_error_prediction/rescaled/Charlotte Harbor\\rescaled_2016Fall_T.tif\n",
      "  ../../GIS_data/standard_error_prediction/rescaled/Charlotte Harbor\\rescaled_2016Fall_TN.tif\n",
      "  ../../GIS_data/standard_error_prediction/rescaled/Charlotte Harbor\\rescaled_2016Spring_DO.tif\n",
      "  ../../GIS_data/standard_error_prediction/rescaled/Charlotte Harbor\\rescaled_2016Spring_S.tif\n",
      "  ../../GIS_data/standard_error_prediction/rescaled/Charlotte Harbor\\rescaled_2016Spring_SD.tif\n",
      "  ../../GIS_data/standard_error_prediction/rescaled/Charlotte Harbor\\rescaled_2016Spring_T.tif\n",
      "  ../../GIS_data/standard_error_prediction/rescaled/Charlotte Harbor\\rescaled_2016Spring_TN.tif\n",
      "  ../../GIS_data/standard_error_prediction/rescaled/Charlotte Harbor\\rescaled_2016Summer_DO.tif\n",
      "  ../../GIS_data/standard_error_prediction/rescaled/Charlotte Harbor\\rescaled_2016Summer_S.tif\n",
      "  ../../GIS_data/standard_error_prediction/rescaled/Charlotte Harbor\\rescaled_2016Summer_SD.tif\n",
      "  ../../GIS_data/standard_error_prediction/rescaled/Charlotte Harbor\\rescaled_2016Summer_T.tif\n",
      "  ../../GIS_data/standard_error_prediction/rescaled/Charlotte Harbor\\rescaled_2016Summer_TN.tif\n",
      "  ../../GIS_data/standard_error_prediction/rescaled/Charlotte Harbor\\rescaled_2016Winter_DO.tif\n",
      "  ../../GIS_data/standard_error_prediction/rescaled/Charlotte Harbor\\rescaled_2016Winter_S.tif\n",
      "  ../../GIS_data/standard_error_prediction/rescaled/Charlotte Harbor\\rescaled_2016Winter_TN.tif\n",
      "  ../../GIS_data/standard_error_prediction/rescaled/Charlotte Harbor\\rescaled_2017Fall_DO.tif\n",
      "  ../../GIS_data/standard_error_prediction/rescaled/Charlotte Harbor\\rescaled_2017Fall_S.tif\n",
      "  ../../GIS_data/standard_error_prediction/rescaled/Charlotte Harbor\\rescaled_2017Fall_SD.tif\n",
      "  ../../GIS_data/standard_error_prediction/rescaled/Charlotte Harbor\\rescaled_2017Fall_T.tif\n",
      "  ../../GIS_data/standard_error_prediction/rescaled/Charlotte Harbor\\rescaled_2017Fall_TN.tif\n",
      "  ../../GIS_data/standard_error_prediction/rescaled/Charlotte Harbor\\rescaled_2017Spring_DO.tif\n",
      "  ../../GIS_data/standard_error_prediction/rescaled/Charlotte Harbor\\rescaled_2017Spring_S.tif\n",
      "  ../../GIS_data/standard_error_prediction/rescaled/Charlotte Harbor\\rescaled_2017Spring_SD.tif\n",
      "  ../../GIS_data/standard_error_prediction/rescaled/Charlotte Harbor\\rescaled_2017Spring_T.tif\n",
      "  ../../GIS_data/standard_error_prediction/rescaled/Charlotte Harbor\\rescaled_2017Spring_TN.tif\n",
      "  ../../GIS_data/standard_error_prediction/rescaled/Charlotte Harbor\\rescaled_2017Summer_DO.tif\n",
      "  ../../GIS_data/standard_error_prediction/rescaled/Charlotte Harbor\\rescaled_2017Summer_S.tif\n",
      "  ../../GIS_data/standard_error_prediction/rescaled/Charlotte Harbor\\rescaled_2017Summer_SD.tif\n",
      "  ../../GIS_data/standard_error_prediction/rescaled/Charlotte Harbor\\rescaled_2017Winter_TN.tif\n",
      "  ../../GIS_data/standard_error_prediction/rescaled/Charlotte Harbor\\rescaled_2018Fall_DO.tif\n",
      "  ../../GIS_data/standard_error_prediction/rescaled/Charlotte Harbor\\rescaled_2018Fall_S.tif\n",
      "  ../../GIS_data/standard_error_prediction/rescaled/Charlotte Harbor\\rescaled_2018Fall_T.tif\n",
      "  ../../GIS_data/standard_error_prediction/rescaled/Charlotte Harbor\\rescaled_2018Fall_TN.tif\n",
      "  ../../GIS_data/standard_error_prediction/rescaled/Charlotte Harbor\\rescaled_2018Spring_T.tif\n",
      "  ../../GIS_data/standard_error_prediction/rescaled/Charlotte Harbor\\rescaled_2018Spring_TN.tif\n",
      "  ../../GIS_data/standard_error_prediction/rescaled/Charlotte Harbor\\rescaled_2018Summer_S.tif\n",
      "  ../../GIS_data/standard_error_prediction/rescaled/Charlotte Harbor\\rescaled_2018Summer_T.tif\n",
      "  ../../GIS_data/standard_error_prediction/rescaled/Charlotte Harbor\\rescaled_2018Summer_TN.tif\n",
      "  ../../GIS_data/standard_error_prediction/rescaled/Charlotte Harbor\\rescaled_2018Winter_S.tif\n",
      "  ../../GIS_data/standard_error_prediction/rescaled/Charlotte Harbor\\rescaled_2018Winter_TN.tif\n",
      "  ../../GIS_data/standard_error_prediction/rescaled/Charlotte Harbor\\rescaled_2019Fall_DO.tif\n",
      "  ../../GIS_data/standard_error_prediction/rescaled/Charlotte Harbor\\rescaled_2019Fall_S.tif\n",
      "  ../../GIS_data/standard_error_prediction/rescaled/Charlotte Harbor\\rescaled_2019Fall_SD.tif\n",
      "  ../../GIS_data/standard_error_prediction/rescaled/Charlotte Harbor\\rescaled_2019Fall_T.tif\n",
      "  ../../GIS_data/standard_error_prediction/rescaled/Charlotte Harbor\\rescaled_2019Fall_TN.tif\n",
      "  ../../GIS_data/standard_error_prediction/rescaled/Charlotte Harbor\\rescaled_2019Spring_S.tif\n",
      "  ../../GIS_data/standard_error_prediction/rescaled/Charlotte Harbor\\rescaled_2019Spring_T.tif\n",
      "  ../../GIS_data/standard_error_prediction/rescaled/Charlotte Harbor\\rescaled_2019Spring_TN.tif\n",
      "  ../../GIS_data/standard_error_prediction/rescaled/Charlotte Harbor\\rescaled_2019Summer_T.tif\n",
      "  ../../GIS_data/standard_error_prediction/rescaled/Charlotte Harbor\\rescaled_2019Summer_TN.tif\n",
      "  ../../GIS_data/standard_error_prediction/rescaled/Charlotte Harbor\\rescaled_2019Winter_DO.tif\n",
      "  ../../GIS_data/standard_error_prediction/rescaled/Charlotte Harbor\\rescaled_2019Winter_S.tif\n",
      "  ../../GIS_data/standard_error_prediction/rescaled/Charlotte Harbor\\rescaled_2019Winter_TN.tif\n",
      "----------------------------------------\n"
     ]
    }
   ],
   "source": [
    "misc.gap_analysis.group_tif_by_shapes(rescale_path_CH)"
   ]
  },
  {
   "cell_type": "markdown",
   "id": "85d4cb3a",
   "metadata": {},
   "source": [
    "## 4.2 Estero Bay  <a class=\"anchor\" id=\"reg_check_file_eb\"></a>"
   ]
  },
  {
   "cell_type": "markdown",
   "id": "acd23c49",
   "metadata": {},
   "source": [
    "After checking, the rescaled_2015Spring_S.tif is not in Estero Bay but instead in Charlotte Harbor.   \n",
    "The rescaled_2019Spring_S.tif is not in Estero Bay but instead in Charlotte Harbor.  \n",
    "The rescaled_2017Summer_S.tif is not in Estero Bay but instead in Charlotte Harbor.  \n",
    "The original tif file also needs to move to the right folder."
   ]
  },
  {
   "cell_type": "code",
   "execution_count": 229,
   "id": "9a52cc64",
   "metadata": {
    "scrolled": false
   },
   "outputs": [
    {
     "name": "stdout",
     "output_type": "stream",
     "text": [
      "Group 1 - Shape: (552, 446) - Files: 69\n",
      "  ../../GIS_data/standard_error_prediction/rescaled/Estero Bay\\rescaled_2015Fall_DO.tif\n",
      "  ../../GIS_data/standard_error_prediction/rescaled/Estero Bay\\rescaled_2015Fall_S.tif\n",
      "  ../../GIS_data/standard_error_prediction/rescaled/Estero Bay\\rescaled_2015Fall_T.tif\n",
      "  ../../GIS_data/standard_error_prediction/rescaled/Estero Bay\\rescaled_2015Fall_TN.tif\n",
      "  ../../GIS_data/standard_error_prediction/rescaled/Estero Bay\\rescaled_2015Spring_DO.tif\n",
      "  ../../GIS_data/standard_error_prediction/rescaled/Estero Bay\\rescaled_2015Spring_T.tif\n",
      "  ../../GIS_data/standard_error_prediction/rescaled/Estero Bay\\rescaled_2015Spring_TN.tif\n",
      "  ../../GIS_data/standard_error_prediction/rescaled/Estero Bay\\rescaled_2015Summer_DO.tif\n",
      "  ../../GIS_data/standard_error_prediction/rescaled/Estero Bay\\rescaled_2015Summer_T.tif\n",
      "  ../../GIS_data/standard_error_prediction/rescaled/Estero Bay\\rescaled_2015Summer_TN.tif\n",
      "  ../../GIS_data/standard_error_prediction/rescaled/Estero Bay\\rescaled_2015Winter_DO.tif\n",
      "  ../../GIS_data/standard_error_prediction/rescaled/Estero Bay\\rescaled_2015Winter_S.tif\n",
      "  ../../GIS_data/standard_error_prediction/rescaled/Estero Bay\\rescaled_2015Winter_TN.tif\n",
      "  ../../GIS_data/standard_error_prediction/rescaled/Estero Bay\\rescaled_2016Fall_DO.tif\n",
      "  ../../GIS_data/standard_error_prediction/rescaled/Estero Bay\\rescaled_2016Fall_S.tif\n",
      "  ../../GIS_data/standard_error_prediction/rescaled/Estero Bay\\rescaled_2016Fall_T.tif\n",
      "  ../../GIS_data/standard_error_prediction/rescaled/Estero Bay\\rescaled_2016Fall_TN.tif\n",
      "  ../../GIS_data/standard_error_prediction/rescaled/Estero Bay\\rescaled_2016Spring_DO.tif\n",
      "  ../../GIS_data/standard_error_prediction/rescaled/Estero Bay\\rescaled_2016Spring_S.tif\n",
      "  ../../GIS_data/standard_error_prediction/rescaled/Estero Bay\\rescaled_2016Spring_T.tif\n",
      "  ../../GIS_data/standard_error_prediction/rescaled/Estero Bay\\rescaled_2016Spring_TN.tif\n",
      "  ../../GIS_data/standard_error_prediction/rescaled/Estero Bay\\rescaled_2016Summer_DO.tif\n",
      "  ../../GIS_data/standard_error_prediction/rescaled/Estero Bay\\rescaled_2016Summer_S.tif\n",
      "  ../../GIS_data/standard_error_prediction/rescaled/Estero Bay\\rescaled_2016Summer_T.tif\n",
      "  ../../GIS_data/standard_error_prediction/rescaled/Estero Bay\\rescaled_2016Summer_TN.tif\n",
      "  ../../GIS_data/standard_error_prediction/rescaled/Estero Bay\\rescaled_2016Winter_DO.tif\n",
      "  ../../GIS_data/standard_error_prediction/rescaled/Estero Bay\\rescaled_2016Winter_TN.tif\n",
      "  ../../GIS_data/standard_error_prediction/rescaled/Estero Bay\\rescaled_2017Fall_DO.tif\n",
      "  ../../GIS_data/standard_error_prediction/rescaled/Estero Bay\\rescaled_2017Fall_S.tif\n",
      "  ../../GIS_data/standard_error_prediction/rescaled/Estero Bay\\rescaled_2017Fall_T.tif\n",
      "  ../../GIS_data/standard_error_prediction/rescaled/Estero Bay\\rescaled_2017Fall_TN.tif\n",
      "  ../../GIS_data/standard_error_prediction/rescaled/Estero Bay\\rescaled_2017Spring_DO.tif\n",
      "  ../../GIS_data/standard_error_prediction/rescaled/Estero Bay\\rescaled_2017Spring_T.tif\n",
      "  ../../GIS_data/standard_error_prediction/rescaled/Estero Bay\\rescaled_2017Spring_TN.tif\n",
      "  ../../GIS_data/standard_error_prediction/rescaled/Estero Bay\\rescaled_2017Summer_DO.tif\n",
      "  ../../GIS_data/standard_error_prediction/rescaled/Estero Bay\\rescaled_2017Summer_T.tif\n",
      "  ../../GIS_data/standard_error_prediction/rescaled/Estero Bay\\rescaled_2017Summer_TN.tif\n",
      "  ../../GIS_data/standard_error_prediction/rescaled/Estero Bay\\rescaled_2017Winter_DO.tif\n",
      "  ../../GIS_data/standard_error_prediction/rescaled/Estero Bay\\rescaled_2017Winter_S.tif\n",
      "  ../../GIS_data/standard_error_prediction/rescaled/Estero Bay\\rescaled_2017Winter_TN.tif\n",
      "  ../../GIS_data/standard_error_prediction/rescaled/Estero Bay\\rescaled_2018Fall_DO.tif\n",
      "  ../../GIS_data/standard_error_prediction/rescaled/Estero Bay\\rescaled_2018Fall_S.tif\n",
      "  ../../GIS_data/standard_error_prediction/rescaled/Estero Bay\\rescaled_2018Fall_T.tif\n",
      "  ../../GIS_data/standard_error_prediction/rescaled/Estero Bay\\rescaled_2018Fall_TN.tif\n",
      "  ../../GIS_data/standard_error_prediction/rescaled/Estero Bay\\rescaled_2018Spring_DO.tif\n",
      "  ../../GIS_data/standard_error_prediction/rescaled/Estero Bay\\rescaled_2018Spring_S.tif\n",
      "  ../../GIS_data/standard_error_prediction/rescaled/Estero Bay\\rescaled_2018Spring_T.tif\n",
      "  ../../GIS_data/standard_error_prediction/rescaled/Estero Bay\\rescaled_2018Spring_TN.tif\n",
      "  ../../GIS_data/standard_error_prediction/rescaled/Estero Bay\\rescaled_2018Summer_DO.tif\n",
      "  ../../GIS_data/standard_error_prediction/rescaled/Estero Bay\\rescaled_2018Summer_S.tif\n",
      "  ../../GIS_data/standard_error_prediction/rescaled/Estero Bay\\rescaled_2018Summer_T.tif\n",
      "  ../../GIS_data/standard_error_prediction/rescaled/Estero Bay\\rescaled_2018Summer_TN.tif\n",
      "  ../../GIS_data/standard_error_prediction/rescaled/Estero Bay\\rescaled_2018Winter_DO.tif\n",
      "  ../../GIS_data/standard_error_prediction/rescaled/Estero Bay\\rescaled_2018Winter_S.tif\n",
      "  ../../GIS_data/standard_error_prediction/rescaled/Estero Bay\\rescaled_2018Winter_TN.tif\n",
      "  ../../GIS_data/standard_error_prediction/rescaled/Estero Bay\\rescaled_2019Fall_DO.tif\n",
      "  ../../GIS_data/standard_error_prediction/rescaled/Estero Bay\\rescaled_2019Fall_S.tif\n",
      "  ../../GIS_data/standard_error_prediction/rescaled/Estero Bay\\rescaled_2019Fall_T.tif\n",
      "  ../../GIS_data/standard_error_prediction/rescaled/Estero Bay\\rescaled_2019Fall_TN.tif\n",
      "  ../../GIS_data/standard_error_prediction/rescaled/Estero Bay\\rescaled_2019Spring_DO.tif\n",
      "  ../../GIS_data/standard_error_prediction/rescaled/Estero Bay\\rescaled_2019Spring_T.tif\n",
      "  ../../GIS_data/standard_error_prediction/rescaled/Estero Bay\\rescaled_2019Spring_TN.tif\n",
      "  ../../GIS_data/standard_error_prediction/rescaled/Estero Bay\\rescaled_2019Summer_DO.tif\n",
      "  ../../GIS_data/standard_error_prediction/rescaled/Estero Bay\\rescaled_2019Summer_S.tif\n",
      "  ../../GIS_data/standard_error_prediction/rescaled/Estero Bay\\rescaled_2019Summer_T.tif\n",
      "  ../../GIS_data/standard_error_prediction/rescaled/Estero Bay\\rescaled_2019Summer_TN.tif\n",
      "  ../../GIS_data/standard_error_prediction/rescaled/Estero Bay\\rescaled_2019Winter_DO.tif\n",
      "  ../../GIS_data/standard_error_prediction/rescaled/Estero Bay\\rescaled_2019Winter_S.tif\n",
      "  ../../GIS_data/standard_error_prediction/rescaled/Estero Bay\\rescaled_2019Winter_TN.tif\n",
      "----------------------------------------\n"
     ]
    }
   ],
   "source": [
    "misc.gap_analysis.group_tif_by_shapes(rescale_path_EB)"
   ]
  },
  {
   "cell_type": "markdown",
   "id": "4a67f4d5",
   "metadata": {},
   "source": [
    "## 4.3 Big Bend <a class=\"anchor\" id=\"reg_check_file_bb\"></a>"
   ]
  },
  {
   "cell_type": "markdown",
   "id": "165d9656",
   "metadata": {},
   "source": [
    "For big bend, there are no wrong files in the folder."
   ]
  },
  {
   "cell_type": "code",
   "execution_count": 230,
   "id": "991bd29c",
   "metadata": {
    "scrolled": false
   },
   "outputs": [
    {
     "name": "stdout",
     "output_type": "stream",
     "text": [
      "Group 1 - Shape: (5048, 5122) - Files: 24\n",
      "  ../../GIS_data/standard_error_prediction/rescaled/Big Bend\\rescaled_2015Fall_DO.tif\n",
      "  ../../GIS_data/standard_error_prediction/rescaled/Big Bend\\rescaled_2015Fall_S.tif\n",
      "  ../../GIS_data/standard_error_prediction/rescaled/Big Bend\\rescaled_2015Fall_TN.tif\n",
      "  ../../GIS_data/standard_error_prediction/rescaled/Big Bend\\rescaled_2015Spring_DO.tif\n",
      "  ../../GIS_data/standard_error_prediction/rescaled/Big Bend\\rescaled_2015Spring_S.tif\n",
      "  ../../GIS_data/standard_error_prediction/rescaled/Big Bend\\rescaled_2015Spring_TN.tif\n",
      "  ../../GIS_data/standard_error_prediction/rescaled/Big Bend\\rescaled_2015Summer_DO.tif\n",
      "  ../../GIS_data/standard_error_prediction/rescaled/Big Bend\\rescaled_2015Summer_S.tif\n",
      "  ../../GIS_data/standard_error_prediction/rescaled/Big Bend\\rescaled_2015Summer_TN.tif\n",
      "  ../../GIS_data/standard_error_prediction/rescaled/Big Bend\\rescaled_2015Winter_DO.tif\n",
      "  ../../GIS_data/standard_error_prediction/rescaled/Big Bend\\rescaled_2015Winter_S.tif\n",
      "  ../../GIS_data/standard_error_prediction/rescaled/Big Bend\\rescaled_2015Winter_TN.tif\n",
      "  ../../GIS_data/standard_error_prediction/rescaled/Big Bend\\rescaled_2019Fall_DO.tif\n",
      "  ../../GIS_data/standard_error_prediction/rescaled/Big Bend\\rescaled_2019Fall_S.tif\n",
      "  ../../GIS_data/standard_error_prediction/rescaled/Big Bend\\rescaled_2019Fall_TN.tif\n",
      "  ../../GIS_data/standard_error_prediction/rescaled/Big Bend\\rescaled_2019Spring_DO.tif\n",
      "  ../../GIS_data/standard_error_prediction/rescaled/Big Bend\\rescaled_2019Spring_S.tif\n",
      "  ../../GIS_data/standard_error_prediction/rescaled/Big Bend\\rescaled_2019Spring_TN.tif\n",
      "  ../../GIS_data/standard_error_prediction/rescaled/Big Bend\\rescaled_2019Summer_DO.tif\n",
      "  ../../GIS_data/standard_error_prediction/rescaled/Big Bend\\rescaled_2019Summer_S.tif\n",
      "  ../../GIS_data/standard_error_prediction/rescaled/Big Bend\\rescaled_2019Summer_TN.tif\n",
      "  ../../GIS_data/standard_error_prediction/rescaled/Big Bend\\rescaled_2019Winter_DO.tif\n",
      "  ../../GIS_data/standard_error_prediction/rescaled/Big Bend\\rescaled_2019Winter_S.tif\n",
      "  ../../GIS_data/standard_error_prediction/rescaled/Big Bend\\rescaled_2019Winter_TN.tif\n",
      "----------------------------------------\n",
      "Group 2 - Shape: (5047, 5122) - Files: 11\n",
      "  ../../GIS_data/standard_error_prediction/rescaled/Big Bend\\rescaled_2015Fall_SD.tif\n",
      "  ../../GIS_data/standard_error_prediction/rescaled/Big Bend\\rescaled_2015Fall_T.tif\n",
      "  ../../GIS_data/standard_error_prediction/rescaled/Big Bend\\rescaled_2015Spring_SD.tif\n",
      "  ../../GIS_data/standard_error_prediction/rescaled/Big Bend\\rescaled_2015Spring_T.tif\n",
      "  ../../GIS_data/standard_error_prediction/rescaled/Big Bend\\rescaled_2015Summer_SD.tif\n",
      "  ../../GIS_data/standard_error_prediction/rescaled/Big Bend\\rescaled_2015Summer_T.tif\n",
      "  ../../GIS_data/standard_error_prediction/rescaled/Big Bend\\rescaled_2015Winter_SD.tif\n",
      "  ../../GIS_data/standard_error_prediction/rescaled/Big Bend\\rescaled_2015Winter_T.tif\n",
      "  ../../GIS_data/standard_error_prediction/rescaled/Big Bend\\rescaled_2019Fall_SD.tif\n",
      "  ../../GIS_data/standard_error_prediction/rescaled/Big Bend\\rescaled_2019Fall_T.tif\n",
      "  ../../GIS_data/standard_error_prediction/rescaled/Big Bend\\rescaled_2019Summer_T.tif\n",
      "----------------------------------------\n"
     ]
    }
   ],
   "source": [
    "misc.gap_analysis.group_tif_by_shapes(rescale_path_BB)"
   ]
  },
  {
   "cell_type": "markdown",
   "id": "90500301",
   "metadata": {},
   "source": [
    "## 4.4 Biscayne Bay <a class=\"anchor\" id=\"reg_check_file_bbay\"></a>"
   ]
  },
  {
   "cell_type": "markdown",
   "id": "0b0f3be4",
   "metadata": {},
   "source": [
    "After checking, the rescaled_2019Winter_S.tif is not in Biscayne Bay but instead in Estero Bay. The original tif file also needs to move to the right folder."
   ]
  },
  {
   "cell_type": "code",
   "execution_count": 231,
   "id": "7286d8b2",
   "metadata": {
    "scrolled": true
   },
   "outputs": [
    {
     "name": "stdout",
     "output_type": "stream",
     "text": [
      "Group 1 - Shape: (2548, 826) - Files: 15\n",
      "  ../../GIS_data/standard_error_prediction/rescaled/Biscayne Bay\\rescaled_2019Fall_DO.tif\n",
      "  ../../GIS_data/standard_error_prediction/rescaled/Biscayne Bay\\rescaled_2019Fall_S.tif\n",
      "  ../../GIS_data/standard_error_prediction/rescaled/Biscayne Bay\\rescaled_2019Fall_SD.tif\n",
      "  ../../GIS_data/standard_error_prediction/rescaled/Biscayne Bay\\rescaled_2019Fall_T.tif\n",
      "  ../../GIS_data/standard_error_prediction/rescaled/Biscayne Bay\\rescaled_2019Fall_TN.tif\n",
      "  ../../GIS_data/standard_error_prediction/rescaled/Biscayne Bay\\rescaled_2019Spring_DO.tif\n",
      "  ../../GIS_data/standard_error_prediction/rescaled/Biscayne Bay\\rescaled_2019Spring_S.tif\n",
      "  ../../GIS_data/standard_error_prediction/rescaled/Biscayne Bay\\rescaled_2019Spring_SD.tif\n",
      "  ../../GIS_data/standard_error_prediction/rescaled/Biscayne Bay\\rescaled_2019Spring_T.tif\n",
      "  ../../GIS_data/standard_error_prediction/rescaled/Biscayne Bay\\rescaled_2019Spring_TN.tif\n",
      "  ../../GIS_data/standard_error_prediction/rescaled/Biscayne Bay\\rescaled_2019Summer_DO.tif\n",
      "  ../../GIS_data/standard_error_prediction/rescaled/Biscayne Bay\\rescaled_2019Summer_S.tif\n",
      "  ../../GIS_data/standard_error_prediction/rescaled/Biscayne Bay\\rescaled_2019Summer_SD.tif\n",
      "  ../../GIS_data/standard_error_prediction/rescaled/Biscayne Bay\\rescaled_2019Summer_T.tif\n",
      "  ../../GIS_data/standard_error_prediction/rescaled/Biscayne Bay\\rescaled_2019Summer_TN.tif\n",
      "----------------------------------------\n"
     ]
    }
   ],
   "source": [
    "misc.gap_analysis.group_tif_by_shapes(rescale_path_BBay)"
   ]
  },
  {
   "cell_type": "markdown",
   "id": "3863b7cb",
   "metadata": {},
   "source": [
    "## 4.5 Guana Tolomato Matanzas Reserve <a class=\"anchor\" id=\"reg_check_file_gtm\"></a>"
   ]
  },
  {
   "cell_type": "markdown",
   "id": "f878950f",
   "metadata": {},
   "source": [
    "After checking, the rescaled_2019Summer_S.tif is not in GTM Reserve but instead in Big Bend.  \n",
    "The rescaled_2019Spring_S.tif is not in GTM Reserve but instead in Big Bend.  \n",
    "The original tif file also needs to move to the right folder."
   ]
  },
  {
   "cell_type": "code",
   "execution_count": 232,
   "id": "914a7f24",
   "metadata": {},
   "outputs": [
    {
     "name": "stdout",
     "output_type": "stream",
     "text": [
      "Group 1 - Shape: (2065, 655) - Files: 44\n",
      "  ../../GIS_data/standard_error_prediction/rescaled/GTM Reserve\\rescaled_2015Fall_DO.tif\n",
      "  ../../GIS_data/standard_error_prediction/rescaled/GTM Reserve\\rescaled_2015Fall_S.tif\n",
      "  ../../GIS_data/standard_error_prediction/rescaled/GTM Reserve\\rescaled_2015Fall_T.tif\n",
      "  ../../GIS_data/standard_error_prediction/rescaled/GTM Reserve\\rescaled_2015Spring_DO.tif\n",
      "  ../../GIS_data/standard_error_prediction/rescaled/GTM Reserve\\rescaled_2015Spring_S.tif\n",
      "  ../../GIS_data/standard_error_prediction/rescaled/GTM Reserve\\rescaled_2015Spring_T.tif\n",
      "  ../../GIS_data/standard_error_prediction/rescaled/GTM Reserve\\rescaled_2015Summer_DO.tif\n",
      "  ../../GIS_data/standard_error_prediction/rescaled/GTM Reserve\\rescaled_2015Summer_S.tif\n",
      "  ../../GIS_data/standard_error_prediction/rescaled/GTM Reserve\\rescaled_2015Winter_DO.tif\n",
      "  ../../GIS_data/standard_error_prediction/rescaled/GTM Reserve\\rescaled_2015Winter_S.tif\n",
      "  ../../GIS_data/standard_error_prediction/rescaled/GTM Reserve\\rescaled_2016Fall_DO.tif\n",
      "  ../../GIS_data/standard_error_prediction/rescaled/GTM Reserve\\rescaled_2016Fall_S.tif\n",
      "  ../../GIS_data/standard_error_prediction/rescaled/GTM Reserve\\rescaled_2016Spring_DO.tif\n",
      "  ../../GIS_data/standard_error_prediction/rescaled/GTM Reserve\\rescaled_2016Spring_S.tif\n",
      "  ../../GIS_data/standard_error_prediction/rescaled/GTM Reserve\\rescaled_2016Summer_DO.tif\n",
      "  ../../GIS_data/standard_error_prediction/rescaled/GTM Reserve\\rescaled_2016Summer_S.tif\n",
      "  ../../GIS_data/standard_error_prediction/rescaled/GTM Reserve\\rescaled_2016Winter_DO.tif\n",
      "  ../../GIS_data/standard_error_prediction/rescaled/GTM Reserve\\rescaled_2016Winter_S.tif\n",
      "  ../../GIS_data/standard_error_prediction/rescaled/GTM Reserve\\rescaled_2017Fall_DO.tif\n",
      "  ../../GIS_data/standard_error_prediction/rescaled/GTM Reserve\\rescaled_2017Fall_S.tif\n",
      "  ../../GIS_data/standard_error_prediction/rescaled/GTM Reserve\\rescaled_2017Fall_TN.tif\n",
      "  ../../GIS_data/standard_error_prediction/rescaled/GTM Reserve\\rescaled_2017Spring_DO.tif\n",
      "  ../../GIS_data/standard_error_prediction/rescaled/GTM Reserve\\rescaled_2017Spring_S.tif\n",
      "  ../../GIS_data/standard_error_prediction/rescaled/GTM Reserve\\rescaled_2017Summer_DO.tif\n",
      "  ../../GIS_data/standard_error_prediction/rescaled/GTM Reserve\\rescaled_2017Summer_S.tif\n",
      "  ../../GIS_data/standard_error_prediction/rescaled/GTM Reserve\\rescaled_2018Fall_DO.tif\n",
      "  ../../GIS_data/standard_error_prediction/rescaled/GTM Reserve\\rescaled_2018Fall_S.tif\n",
      "  ../../GIS_data/standard_error_prediction/rescaled/GTM Reserve\\rescaled_2018Fall_T.tif\n",
      "  ../../GIS_data/standard_error_prediction/rescaled/GTM Reserve\\rescaled_2018Fall_TN.tif\n",
      "  ../../GIS_data/standard_error_prediction/rescaled/GTM Reserve\\rescaled_2018Spring_DO.tif\n",
      "  ../../GIS_data/standard_error_prediction/rescaled/GTM Reserve\\rescaled_2018Spring_S.tif\n",
      "  ../../GIS_data/standard_error_prediction/rescaled/GTM Reserve\\rescaled_2018Spring_TN.tif\n",
      "  ../../GIS_data/standard_error_prediction/rescaled/GTM Reserve\\rescaled_2018Summer_DO.tif\n",
      "  ../../GIS_data/standard_error_prediction/rescaled/GTM Reserve\\rescaled_2018Summer_S.tif\n",
      "  ../../GIS_data/standard_error_prediction/rescaled/GTM Reserve\\rescaled_2018Summer_TN.tif\n",
      "  ../../GIS_data/standard_error_prediction/rescaled/GTM Reserve\\rescaled_2018Winter_DO.tif\n",
      "  ../../GIS_data/standard_error_prediction/rescaled/GTM Reserve\\rescaled_2018Winter_S.tif\n",
      "  ../../GIS_data/standard_error_prediction/rescaled/GTM Reserve\\rescaled_2018Winter_TN.tif\n",
      "  ../../GIS_data/standard_error_prediction/rescaled/GTM Reserve\\rescaled_2019Fall_DO.tif\n",
      "  ../../GIS_data/standard_error_prediction/rescaled/GTM Reserve\\rescaled_2019Fall_S.tif\n",
      "  ../../GIS_data/standard_error_prediction/rescaled/GTM Reserve\\rescaled_2019Fall_T.tif\n",
      "  ../../GIS_data/standard_error_prediction/rescaled/GTM Reserve\\rescaled_2019Fall_TN.tif\n",
      "  ../../GIS_data/standard_error_prediction/rescaled/GTM Reserve\\rescaled_2019Spring_TN.tif\n",
      "  ../../GIS_data/standard_error_prediction/rescaled/GTM Reserve\\rescaled_2019Summer_TN.tif\n",
      "----------------------------------------\n",
      "Group 2 - Shape: (5047, 5122) - Files: 2\n",
      "  ../../GIS_data/standard_error_prediction/rescaled/GTM Reserve\\rescaled_2019Spring_S.tif\n",
      "  ../../GIS_data/standard_error_prediction/rescaled/GTM Reserve\\rescaled_2019Summer_S.tif\n",
      "----------------------------------------\n"
     ]
    }
   ],
   "source": [
    "misc.gap_analysis.group_tif_by_shapes(rescale_path_GTM)"
   ]
  },
  {
   "cell_type": "markdown",
   "id": "69bd0a89",
   "metadata": {},
   "source": [
    "# 5. Rescaled Updated Standard Error Prediction Results <a class=\"anchor\" id=\"reg_rescale_up_results\"></a>\n",
    "## 5.1 Charlotte Harbor <a class=\"anchor\" id=\"reg_result_up_sep_ch\"></a>"
   ]
  },
  {
   "cell_type": "code",
   "execution_count": 233,
   "id": "8427feeb",
   "metadata": {},
   "outputs": [],
   "source": [
    "misc.gap_analysis.delete_all_files(rescale_path_CH)"
   ]
  },
  {
   "cell_type": "code",
   "execution_count": 234,
   "id": "5ba6f060",
   "metadata": {},
   "outputs": [],
   "source": [
    "misc.gap_analysis.rescale_tif_files(eps_path,'Charlotte Harbor', 2015, 2019, rescale_path_CH)"
   ]
  },
  {
   "cell_type": "markdown",
   "id": "072ee47a",
   "metadata": {},
   "source": [
    "## 5.2 Estero Bay  <a class=\"anchor\" id=\"reg_result_up_sep_eb\"></a>"
   ]
  },
  {
   "cell_type": "code",
   "execution_count": 235,
   "id": "22874ca8",
   "metadata": {},
   "outputs": [],
   "source": [
    "misc.gap_analysis.delete_all_files(rescale_path_EB)"
   ]
  },
  {
   "cell_type": "code",
   "execution_count": 237,
   "id": "5cc284d5",
   "metadata": {},
   "outputs": [],
   "source": [
    "misc.gap_analysis.rescale_tif_files(eps_path,'Estero Bay', 2015, 2019, rescale_path_EB)"
   ]
  },
  {
   "cell_type": "markdown",
   "id": "6de52c58",
   "metadata": {},
   "source": [
    "##  5.3 Big Bend <a class=\"anchor\" id=\"reg_result_up_sep_bb\"></a>"
   ]
  },
  {
   "cell_type": "code",
   "execution_count": 238,
   "id": "59782de8",
   "metadata": {},
   "outputs": [],
   "source": [
    "misc.gap_analysis.delete_all_files(rescale_path_BB)"
   ]
  },
  {
   "cell_type": "code",
   "execution_count": 239,
   "id": "a1c1c0bd",
   "metadata": {},
   "outputs": [],
   "source": [
    "misc.gap_analysis.rescale_tif_files(eps_path,'Big Bend', 2015, 2019, rescale_path_BB)"
   ]
  },
  {
   "cell_type": "markdown",
   "id": "9d7bab51",
   "metadata": {},
   "source": [
    "## 5.4 Biscayne Bay <a class=\"anchor\" id=\"reg_result_up_sep_bbay\"></a>"
   ]
  },
  {
   "cell_type": "code",
   "execution_count": 159,
   "id": "b39ce7d0",
   "metadata": {},
   "outputs": [],
   "source": [
    "delete_all_files(rescale_path_BBay)"
   ]
  },
  {
   "cell_type": "code",
   "execution_count": 160,
   "id": "8c0b8b7a",
   "metadata": {},
   "outputs": [],
   "source": [
    "rescale_tif_files(eps_path,'Biscayne Bay', 2015, 2019, rescale_path_BBay)"
   ]
  },
  {
   "cell_type": "markdown",
   "id": "64043e80",
   "metadata": {},
   "source": [
    "## 5.5 Guana Tolomato <a class=\"anchor\" id=\"reg_result_up_sep_gtm\"></a>"
   ]
  },
  {
   "cell_type": "code",
   "execution_count": 161,
   "id": "ccbeb1ee",
   "metadata": {},
   "outputs": [],
   "source": [
    "delete_all_files(rescale_path_GTM)"
   ]
  },
  {
   "cell_type": "code",
   "execution_count": 162,
   "id": "37d9ebfd",
   "metadata": {},
   "outputs": [],
   "source": [
    "rescale_tif_files(eps_path,'GTM Reserve', 2015, 2019, rescale_path_GTM)"
   ]
  },
  {
   "cell_type": "markdown",
   "id": "7dd75eec",
   "metadata": {},
   "source": [
    "Function to count how many parameters in specific years are used to calculate the average maps"
   ]
  },
  {
   "cell_type": "code",
   "execution_count": 103,
   "id": "2e6f297b",
   "metadata": {},
   "outputs": [],
   "source": [
    "# def count_files_by_year_and_parameter(folder_path):\n",
    "#     all_files = [os.path.join(folder_path, f) for f in os.listdir(folder_path) if os.path.isfile(os.path.join(folder_path, f)) and f.endswith('.tif')]\n",
    "    \n",
    "#     file_counts = {} \n",
    "    \n",
    "#     for file in all_files:\n",
    "#         filename = os.path.basename(file)\n",
    "#         parts = filename.split('_')\n",
    "#         year = parts[1][:4]\n",
    "#         parameter = parts[2]\n",
    "        \n",
    "#         if year not in file_counts:\n",
    "#             file_counts[year] = {}\n",
    "        \n",
    "#         if parameter in file_counts[year]:\n",
    "#             file_counts[year][parameter] += 1\n",
    "#         else:\n",
    "#             file_counts[year][parameter] = 1\n",
    "    \n",
    "#     return file_counts\n",
    "\n",
    "# file_counts = count_files_by_year_and_parameter(rescale_Uppath_EB)\n",
    "\n",
    "# for year in sorted(file_counts.keys()):\n",
    "#     print(f\"Year: {year}\")\n",
    "#     for parameter, count in file_counts[year].items():\n",
    "#         print(f\"Parameter: {parameter}, Count: {count}\")"
   ]
  },
  {
   "cell_type": "markdown",
   "id": "6af70047",
   "metadata": {},
   "source": [
    "# 6. Calculate Average Rescaled SEP <a class=\"anchor\" id=\"reg_calculate_average\"></a>"
   ]
  },
  {
   "cell_type": "markdown",
   "id": "51e3640e",
   "metadata": {},
   "source": [
    "## 6.1 Charlotte Harbor <a class=\"anchor\" id=\"reg_avg_rescale_sep_ch\"></a>"
   ]
  },
  {
   "cell_type": "code",
   "execution_count": 164,
   "id": "d737fef0",
   "metadata": {},
   "outputs": [],
   "source": [
    "# group_tif_by_shapes(rescale_Uppath_CH)"
   ]
  },
  {
   "cell_type": "code",
   "execution_count": 240,
   "id": "f60220ef",
   "metadata": {},
   "outputs": [],
   "source": [
    "misc.gap_analysis.delete_all_files(avg_tif_ch)"
   ]
  },
  {
   "cell_type": "code",
   "execution_count": 248,
   "id": "cfc3b72c",
   "metadata": {
    "scrolled": true
   },
   "outputs": [
    {
     "name": "stdout",
     "output_type": "stream",
     "text": [
      "Processing parameter: DO\n",
      "Found 14 files for parameter DO\n",
      "Processing parameter: T\n",
      "Found 14 files for parameter T\n",
      "Processing parameter: SD\n",
      "Found 10 files for parameter SD\n",
      "Processing parameter: S\n",
      "Found 17 files for parameter S\n",
      "Processing parameter: TN\n",
      "Found 19 files for parameter TN\n"
     ]
    }
   ],
   "source": [
    "misc.gap_analysis.calculate_average_tif(rescale_path_CH, avg_tif_ch)"
   ]
  },
  {
   "cell_type": "markdown",
   "id": "d1197c42",
   "metadata": {},
   "source": [
    "## 6.2 Estero Bay  <a class=\"anchor\" id=\"reg_avg_rescale_sep_eb\"></a>"
   ]
  },
  {
   "cell_type": "code",
   "execution_count": 178,
   "id": "8306cb32",
   "metadata": {},
   "outputs": [],
   "source": [
    "# group_tif_by_shapes(rescale_Uppath_EB)"
   ]
  },
  {
   "cell_type": "code",
   "execution_count": 249,
   "id": "9a48484b",
   "metadata": {},
   "outputs": [],
   "source": [
    "misc.gap_analysis.delete_all_files(avg_tif_eb)"
   ]
  },
  {
   "cell_type": "markdown",
   "id": "d635b0cc",
   "metadata": {},
   "source": [
    "There is no SD from 2015 to 2019."
   ]
  },
  {
   "cell_type": "code",
   "execution_count": 250,
   "id": "4b192c85",
   "metadata": {
    "scrolled": true
   },
   "outputs": [
    {
     "name": "stdout",
     "output_type": "stream",
     "text": [
      "Processing parameter: DO\n",
      "Found 20 files for parameter DO\n",
      "Processing parameter: T\n",
      "Found 15 files for parameter T\n",
      "Processing parameter: S\n",
      "Found 14 files for parameter S\n",
      "Processing parameter: TN\n",
      "Found 20 files for parameter TN\n"
     ]
    }
   ],
   "source": [
    "misc.gap_analysis.calculate_average_tif(rescale_path_EB, avg_tif_eb)"
   ]
  },
  {
   "cell_type": "markdown",
   "id": "cd64a215",
   "metadata": {},
   "source": [
    "##  6.3 Big Bend <a class=\"anchor\" id=\"reg_avg_rescale_sep_bb\"></a>"
   ]
  },
  {
   "cell_type": "code",
   "execution_count": null,
   "id": "b262a9ca",
   "metadata": {},
   "outputs": [],
   "source": [
    "#group_tif_by_shapes(rescale_Uppath_BB)"
   ]
  },
  {
   "cell_type": "code",
   "execution_count": 251,
   "id": "29341bbc",
   "metadata": {},
   "outputs": [],
   "source": [
    "misc.gap_analysis.delete_all_files(avg_tif_bb)"
   ]
  },
  {
   "cell_type": "code",
   "execution_count": 252,
   "id": "a60b98b1",
   "metadata": {},
   "outputs": [
    {
     "name": "stdout",
     "output_type": "stream",
     "text": [
      "Processing parameter: DO\n",
      "Found 8 files for parameter DO\n",
      "Processing parameter: T\n",
      "Found 6 files for parameter T\n",
      "Processing parameter: SD\n",
      "Found 5 files for parameter SD\n",
      "Processing parameter: S\n",
      "Found 8 files for parameter S\n",
      "Processing parameter: TN\n",
      "Found 8 files for parameter TN\n"
     ]
    }
   ],
   "source": [
    "misc.gap_analysis.calculate_average_tif(rescale_path_BB, avg_tif_bb)"
   ]
  },
  {
   "cell_type": "markdown",
   "id": "855a8efb",
   "metadata": {},
   "source": [
    "## 6.4 Biscayne Bay <a class=\"anchor\" id=\"reg_avg_rescale_sep_bbay\"></a>"
   ]
  },
  {
   "cell_type": "code",
   "execution_count": 184,
   "id": "c51683eb",
   "metadata": {},
   "outputs": [],
   "source": [
    "# group_tif_by_shapes(rescale_Uppath_BBay)"
   ]
  },
  {
   "cell_type": "code",
   "execution_count": 253,
   "id": "f864fa58",
   "metadata": {},
   "outputs": [],
   "source": [
    "misc.gap_analysis.delete_all_files(avg_tif_bbay)"
   ]
  },
  {
   "cell_type": "code",
   "execution_count": 254,
   "id": "b22bc814",
   "metadata": {},
   "outputs": [
    {
     "name": "stdout",
     "output_type": "stream",
     "text": [
      "Processing parameter: DO\n",
      "Found 3 files for parameter DO\n",
      "Processing parameter: T\n",
      "Found 3 files for parameter T\n",
      "Processing parameter: SD\n",
      "Found 3 files for parameter SD\n",
      "Processing parameter: S\n",
      "Found 3 files for parameter S\n",
      "Processing parameter: TN\n",
      "Found 3 files for parameter TN\n"
     ]
    }
   ],
   "source": [
    "misc.gap_analysis.calculate_average_tif(rescale_path_BBay, avg_tif_bbay)"
   ]
  },
  {
   "cell_type": "markdown",
   "id": "cc63516d",
   "metadata": {},
   "source": [
    "## 6.5 Guana Tolomato <a class=\"anchor\" id=\"reg_avg_rescale_sep_gtm\"></a>"
   ]
  },
  {
   "cell_type": "code",
   "execution_count": 187,
   "id": "49baff3d",
   "metadata": {},
   "outputs": [],
   "source": [
    "# group_tif_by_shapes(rescale_Uppath_GTM)"
   ]
  },
  {
   "cell_type": "code",
   "execution_count": 255,
   "id": "1a0fb62d",
   "metadata": {},
   "outputs": [],
   "source": [
    "misc.gap_analysis.delete_all_files(avg_tif_gtm)"
   ]
  },
  {
   "cell_type": "code",
   "execution_count": 256,
   "id": "f1f31842",
   "metadata": {},
   "outputs": [
    {
     "name": "stdout",
     "output_type": "stream",
     "text": [
      "Processing parameter: DO\n",
      "Found 16 files for parameter DO\n",
      "Processing parameter: T\n",
      "Found 4 files for parameter T\n",
      "Processing parameter: S\n",
      "Found 18 files for parameter S\n",
      "Skipping file ../../GIS_data/standard_error_prediction/rescaled/GTM Reserve\\rescaled_2019Spring_S.tif due to inconsistent shape.\n",
      "Skipping file ../../GIS_data/standard_error_prediction/rescaled/GTM Reserve\\rescaled_2019Summer_S.tif due to inconsistent shape.\n",
      "Processing parameter: TN\n",
      "Found 8 files for parameter TN\n"
     ]
    }
   ],
   "source": [
    "misc.gap_analysis.calculate_average_tif(rescale_path_GTM, avg_tif_gtm)"
   ]
  },
  {
   "cell_type": "code",
   "execution_count": 190,
   "id": "11a8079a",
   "metadata": {},
   "outputs": [],
   "source": [
    "# def generate_season_table(df, year, region, season):\n",
    "#     # Convert start and end dates to datetime objects\n",
    "#     df['s_start'] = pd.to_datetime(df['s_start'])\n",
    "#     df['s_end'] = pd.to_datetime(df['s_end'])\n",
    "\n",
    "#     # Select data for the specified year, region, and season\n",
    "#     df_selected = df[(df['st_Year'] == year) & (df['ma'] == region) & (df['season'] == season)]\n",
    "\n",
    "#     # If no matching data is found, print a message and return\n",
    "#     if df_selected.empty:\n",
    "#         print('No matching data found.')\n",
    "#         return\n",
    "\n",
    "#     # Select the first row (assuming there is only one row of matching data)\n",
    "#     row = df_selected.iloc[0]\n",
    "\n",
    "#     # Print the start and end dates\n",
    "#     print(f'The {season} of {year} in {region} starts on {row[\"s_start\"].strftime(\"%Y-%m-%d\")} and ends on {row[\"s_end\"].strftime(\"%Y-%m-%d\")}.')\n",
    "\n",
    "# # Use the function, input DataFrame, year, region, and season\n",
    "# generate_season_table(data, 2015, 'Gasparilla Sound-Charlotte Harbor Aquatic Preserve', 'Summer')"
   ]
  },
  {
   "cell_type": "code",
   "execution_count": 191,
   "id": "0e8603e5",
   "metadata": {},
   "outputs": [],
   "source": [
    "# SeasonTemp = path + r\"OEATUSF_Geospatial_TempSeasons_corrected.csv\"\n",
    "# data = pd.read_csv(SeasonTemp)"
   ]
  },
  {
   "cell_type": "code",
   "execution_count": 192,
   "id": "e4089da3",
   "metadata": {
    "scrolled": true
   },
   "outputs": [],
   "source": [
    "# generate_season_table(data, 2015, 'Gasparilla Sound-Charlotte Harbor Aquatic Preserve', 'Summer')"
   ]
  },
  {
   "cell_type": "markdown",
   "id": "fad4c603",
   "metadata": {},
   "source": [
    "Function to calculate average raster by season and parameter"
   ]
  },
  {
   "cell_type": "markdown",
   "id": "0fe0adcb",
   "metadata": {},
   "source": [
    "# 7. Calculate Average Rescaled SEP by Season <a class=\"anchor\" id=\"reg_calculate_average_season\"></a>"
   ]
  },
  {
   "cell_type": "markdown",
   "id": "798a7187",
   "metadata": {},
   "source": [
    "## 7.1 Charlotte Harbor <a class=\"anchor\" id=\"reg_avg_rescale_sep_season_ch\"></a>"
   ]
  },
  {
   "cell_type": "code",
   "execution_count": 259,
   "id": "c693f25a",
   "metadata": {},
   "outputs": [],
   "source": [
    "misc.gap_analysis.delete_all_files(avg_tif_ch_season)"
   ]
  },
  {
   "cell_type": "code",
   "execution_count": 260,
   "id": "f4c698ab",
   "metadata": {},
   "outputs": [
    {
     "name": "stdout",
     "output_type": "stream",
     "text": [
      "Season: Fall for parameter: DO - Found 5 files, Years: ['2015', '2016', '2017', '2018', '2019']\n",
      "Season: Fall for parameter: S - Found 5 files, Years: ['2015', '2016', '2017', '2018', '2019']\n",
      "Season: Fall for parameter: SD - Found 4 files, Years: ['2015', '2016', '2017', '2019']\n",
      "Season: Fall for parameter: T - Found 5 files, Years: ['2015', '2016', '2017', '2018', '2019']\n",
      "Season: Fall for parameter: TN - Found 5 files, Years: ['2015', '2016', '2017', '2018', '2019']\n",
      "Season: Spring for parameter: DO - Found 3 files, Years: ['2015', '2016', '2017']\n",
      "Season: Spring for parameter: S - Found 4 files, Years: ['2015', '2016', '2017', '2019']\n",
      "Season: Spring for parameter: SD - Found 3 files, Years: ['2015', '2016', '2017']\n",
      "Season: Spring for parameter: T - Found 5 files, Years: ['2015', '2016', '2017', '2018', '2019']\n",
      "Season: Spring for parameter: TN - Found 5 files, Years: ['2015', '2016', '2017', '2018', '2019']\n",
      "Season: Summer for parameter: DO - Found 3 files, Years: ['2015', '2016', '2017']\n",
      "Season: Summer for parameter: S - Found 4 files, Years: ['2015', '2016', '2017', '2018']\n",
      "Season: Summer for parameter: SD - Found 3 files, Years: ['2015', '2016', '2017']\n",
      "Season: Summer for parameter: T - Found 4 files, Years: ['2015', '2016', '2018', '2019']\n",
      "Season: Summer for parameter: TN - Found 4 files, Years: ['2015', '2016', '2018', '2019']\n",
      "Season: Winter for parameter: DO - Found 3 files, Years: ['2015', '2016', '2019']\n",
      "Season: Winter for parameter: S - Found 4 files, Years: ['2015', '2016', '2018', '2019']\n",
      "Season: Winter for parameter: TN - Found 5 files, Years: ['2015', '2016', '2017', '2018', '2019']\n",
      "Season: 17dry for parameter: bathy - Found 1 files, Years: ['DO20']\n",
      "Season: 17dry for parameter: ldi - Found 1 files, Years: ['DO20']\n",
      "Season: 17dry for parameter: popde - Found 1 files, Years: ['DO20']\n",
      "Season: 17dry for parameter: water - Found 1 files, Years: ['DO20']\n",
      "Season: 17wet for parameter: bathy - Found 1 files, Years: ['DO20']\n",
      "Season: 17wet for parameter: ldi - Found 1 files, Years: ['DO20']\n",
      "Season: 17wet for parameter: popde - Found 1 files, Years: ['DO20']\n",
      "Season: 17wet for parameter: water - Found 1 files, Years: ['DO20']\n",
      "Total number of generated images: 26\n"
     ]
    }
   ],
   "source": [
    "misc.gap_analysis.calculate_average_tif_season(rescale_Uppath_CH, avg_tif_ch_season)"
   ]
  }
 ],
 "metadata": {
  "kernelspec": {
   "display_name": "Python 3 (ipykernel)",
   "language": "python",
   "name": "python3"
  },
  "language_info": {
   "codemirror_mode": {
    "name": "ipython",
    "version": 3
   },
   "file_extension": ".py",
   "mimetype": "text/x-python",
   "name": "python",
   "nbconvert_exporter": "python",
   "pygments_lexer": "ipython3",
   "version": "3.11.0"
  }
 },
 "nbformat": 4,
 "nbformat_minor": 5
}
