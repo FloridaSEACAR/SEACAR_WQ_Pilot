{
 "cells": [
  {
   "cell_type": "markdown",
   "metadata": {},
   "source": [
    "# Gap Analysis (KDE Method)\n",
    "\n",
    "This document includes Python codes that conduct kernel density analysis on water quality parameters, including Total Nitrogen, Salinity, Dissolved Oxygen, Turbidity, and Secchi Depth in arcgispro-py3 environment.\n",
    "\n",
    "The analysis is conducted in Charlotte Harbor, Estero Bay, Big Bend, Biscayne Bay, and Guana Tolomato.\n",
    "\n",
    "Tasks:  \n",
    "\n",
    "• Create Kernel Density Maps for both continuous and discrete data points.  \n",
    "\n",
    "\n",
    "* [1. Data Preprocess](#preprocessing)\n",
    "    * [1.1 Preset Parameters](#preset)\n",
    "* [2. Generate Kernel Density](#generate_kde)\n",
    "    * [2.1 Generate KDE Maps for All Seasons by Managed Areas](#kde_all)\n",
    "      * [2.1.1 Charlotte Harbor](#reg_result__kde_ch)\n",
    "      * [2.1.2 Estero Bay](#reg_result_kde_eb)\n",
    "      * [2.1.3 Big Bend](#reg_result_kde_bb)\n",
    "      * [2.1.4 Biscayne Bay Aquatic Preserve](#reg_result_kdep_bbay)\n",
    "      * [2.1.5 Guana Tolomato](#reg_result_kde_gtm)\n",
    "    * [2.2 Generate KDE Maps for Each Season](#kde_seasons)\n",
    "      * [2.2.1 Charlotte Harbor KDE Maps by Seasons](#kde_ch)\n",
    "      * [2.2.2 Estero Bay KDE Maps by Seasons](#kde_eb)\n",
    "      * [2.2.3 Big Bend KDE Maps by Seasons](#kde_bb)\n",
    "      * [2.2.4 Biscayne Bay KDE Maps by Seasons](#kde_bbay)\n",
    "      * [2.2.5 Guana Tolomato KDE Maps by Seasons](#kde_gtm)"
   ]
  },
  {
   "cell_type": "code",
   "execution_count": 1,
   "metadata": {},
   "outputs": [],
   "source": [
    "import os\n",
    "import arcpy\n",
    "from arcpy.sa import *\n",
    "from matplotlib import pyplot as plt\n",
    "import shutil"
   ]
  },
  {
   "cell_type": "code",
   "execution_count": 2,
   "metadata": {
    "scrolled": true
   },
   "outputs": [
    {
     "name": "stdout",
     "output_type": "stream",
     "text": [
      "C:\\Users\\cong\\AppData\\Local\\Programs\\ArcGIS\\Pro\\bin\\Python\\envs\\arcgispro-py3\\WaterQuality\n"
     ]
    }
   ],
   "source": [
    "import os\n",
    "print(os.getcwd())"
   ]
  },
  {
   "cell_type": "markdown",
   "metadata": {},
   "source": [
    "# 1. Data Preprocessing <a class=\"anchor\" id=\"preprocessing\"></a>\n",
    "Define the water quality parameter folders"
   ]
  },
  {
   "cell_type": "code",
   "execution_count": 3,
   "metadata": {},
   "outputs": [],
   "source": [
    "# For all seasons maps by areas\n",
    "\n",
    "base_path = r'\\\\Mac\\Home\\Documents\\WaterQuality\\SEACAR_WQ_Pilot-selected\\GIS_data\\Gap_analysis'\n",
    "\n",
    "shp_byArea = os.path.join(base_path, 'Gap_SHP_All_byAreas')\n",
    "kde_byArea = os.path.join(base_path, 'Gap_KDE_All_byAreas')\n",
    "\n",
    "input_shp_GSCHASP = os.path.join(shp_byArea, 'GSCHAP_SHP_All')\n",
    "input_shp_EBAP = os.path.join(shp_byArea, 'EBAP_SHP_All')\n",
    "input_shp_BBSAP = os.path.join(shp_byArea, 'BBSAP_SHP_All')\n",
    "input_shp_BBAP = os.path.join(shp_byArea, 'BBAP_SHP_All')\n",
    "input_shp_GTMNERR = os.path.join(shp_byArea, 'GTMNERR_SHP_All')\n",
    "\n",
    "output_kde_GSCHASP = os.path.join(kde_byArea, 'GSCHAP_KDE_All')\n",
    "output_kde_EBAP = os.path.join(kde_byArea, 'EBAP_KDE_All')\n",
    "output_kde_BBSAP = os.path.join(kde_byArea, 'BBSAP_KDE_All')\n",
    "output_kde_BBAP = os.path.join(kde_byArea, 'BBAP_KDE_All')\n",
    "output_kde_GTMNERR = os.path.join(kde_byArea, 'GTMNERR_KDE_All')\n",
    "\n",
    "gap_kde_all = os.path.join(base_path, 'Gap_KDE_All')\n",
    "\n",
    "boundary_path = r'\\\\Mac\\Home\\Documents\\WaterQuality\\SEACAR_WQ_Pilot-selected\\GIS_data\\ORCP_Managed_Areas_Oct2021.shp'"
   ]
  },
  {
   "cell_type": "code",
   "execution_count": 4,
   "metadata": {},
   "outputs": [],
   "source": [
    "# For different seasons maps\n",
    "shp_seasons_byArea = os.path.join(base_path, 'Gap_SHP_All_Seasons_byAreas')\n",
    "kde_seasons_byArea = os.path.join(base_path, 'Gap_KDE_All_Seasons_byAreas')\n",
    "\n",
    "# GSCHAP input folders\n",
    "input_shp_GSCHASP_winter = os.path.join(shp_seasons_byArea, 'Gap_SHP_GSCHAP_Winter')\n",
    "input_shp_GSCHASP_spring = os.path.join(shp_seasons_byArea, 'Gap_SHP_GSCHAP_Spring')\n",
    "input_shp_GSCHASP_summer = os.path.join(shp_seasons_byArea, 'Gap_SHP_GSCHAP_Summer')\n",
    "input_shp_GSCHASP_fall = os.path.join(shp_seasons_byArea, 'Gap_SHP_GSCHAP_Fall')\n",
    "\n",
    "# GSCHAP output folders\n",
    "output_kde_GSCHASP_winter = os.path.join(kde_seasons_byArea, 'Gap_KDE_GSCHAP_Winter')\n",
    "output_kde_GSCHASP_spring = os.path.join(kde_seasons_byArea, 'Gap_KDE_GSCHAP_Spring')\n",
    "output_kde_GSCHASP_summer = os.path.join(kde_seasons_byArea, 'Gap_KDE_GSCHAP_Summer')\n",
    "output_kde_GSCHASP_fall = os.path.join(kde_seasons_byArea, 'Gap_KDE_GSCHAP_Fall')\n",
    "\n",
    "#---------------------------------------------------------------------------------#\n",
    "\n",
    "# EBAP input folders\n",
    "input_shp_EBAP_winter = os.path.join(shp_seasons_byArea, 'Gap_SHP_EBAP_Winter')\n",
    "input_shp_EBAP_spring = os.path.join(shp_seasons_byArea, 'Gap_SHP_EBAP_Spring')\n",
    "input_shp_EBAP_summer = os.path.join(shp_seasons_byArea, 'Gap_SHP_EBAP_Summer')\n",
    "input_shp_EBAP_fall = os.path.join(shp_seasons_byArea, 'Gap_SHP_EBAP_Fall')\n",
    "\n",
    "# EBAP output folders\n",
    "output_kde_EBAP_winter = os.path.join(kde_seasons_byArea, 'Gap_KDE_EBAP_Winter')\n",
    "output_kde_EBAP_spring = os.path.join(kde_seasons_byArea, 'Gap_KDE_EBAP_Spring')\n",
    "output_kde_EBAP_summer = os.path.join(kde_seasons_byArea, 'Gap_KDE_EBAP_Summer')\n",
    "output_kde_EBAP_fall = os.path.join(kde_seasons_byArea, 'Gap_KDE_EBAP_Fall')\n",
    "\n",
    "#---------------------------------------------------------------------------------#\n",
    "\n",
    "# BBSAP input folders\n",
    "input_shp_BBSAP_winter = os.path.join(shp_seasons_byArea, 'Gap_SHP_BBSAP_Winter')\n",
    "input_shp_BBSAP_spring = os.path.join(shp_seasons_byArea, 'Gap_SHP_BBSAP_Spring')\n",
    "input_shp_BBSAP_summer = os.path.join(shp_seasons_byArea, 'Gap_SHP_BBSAP_Summer')\n",
    "input_shp_BBSAP_fall = os.path.join(shp_seasons_byArea, 'Gap_SHP_BBSAP_Fall')\n",
    "\n",
    "# BBSAP output folders\n",
    "output_kde_BBSAP_winter = os.path.join(kde_seasons_byArea, 'Gap_KDE_BBSAP_Winter')\n",
    "output_kde_BBSAP_spring = os.path.join(kde_seasons_byArea, 'Gap_KDE_BBSAP_Spring')\n",
    "output_kde_BBSAP_summer = os.path.join(kde_seasons_byArea, 'Gap_KDE_BBSAP_Summer')\n",
    "output_kde_BBSAP_fall = os.path.join(kde_seasons_byArea, 'Gap_KDE_BBSAP_Fall')\n",
    "\n",
    "#---------------------------------------------------------------------------------#\n",
    "\n",
    "# BBAP input folders\n",
    "input_shp_BBAP_winter = os.path.join(shp_seasons_byArea, 'Gap_SHP_BBAP_Winter')\n",
    "input_shp_BBAP_spring = os.path.join(shp_seasons_byArea, 'Gap_SHP_BBAP_Spring')\n",
    "input_shp_BBAP_summer = os.path.join(shp_seasons_byArea, 'Gap_SHP_BBAP_Summer')\n",
    "input_shp_BBAP_fall = os.path.join(shp_seasons_byArea, 'Gap_SHP_BBAP_Fall')\n",
    "\n",
    "# BBAP output folders\n",
    "output_kde_BBAP_winter = os.path.join(kde_seasons_byArea, 'Gap_KDE_BBAP_Winter')\n",
    "output_kde_BBAP_spring = os.path.join(kde_seasons_byArea, 'Gap_KDE_BBAP_Spring')\n",
    "output_kde_BBAP_summer = os.path.join(kde_seasons_byArea, 'Gap_KDE_BBAP_Summer')\n",
    "output_kde_BBAP_fall = os.path.join(kde_seasons_byArea, 'Gap_KDE_BBAP_Fall')\n",
    "\n",
    "#---------------------------------------------------------------------------------#\n",
    "\n",
    "# GTMNERR input folders\n",
    "input_shp_GTMNERR_winter = os.path.join(shp_seasons_byArea, 'Gap_SHP_GTMNERR_Winter')\n",
    "input_shp_GTMNERR_spring = os.path.join(shp_seasons_byArea, 'Gap_SHP_GTMNERR_Spring')\n",
    "input_shp_GTMNERR_summer = os.path.join(shp_seasons_byArea, 'Gap_SHP_GTMNERR_Summer')\n",
    "input_shp_GTMNERR_fall = os.path.join(shp_seasons_byArea, 'Gap_SHP_GTMNERR_Fall')\n",
    "\n",
    "# GTMNERR output folders\n",
    "output_kde_GTMNERR_winter = os.path.join(kde_seasons_byArea, 'Gap_KDE_GTMNERR_Winter')\n",
    "output_kde_GTMNERR_spring = os.path.join(kde_seasons_byArea, 'Gap_KDE_GTMNERR_Spring')\n",
    "output_kde_GTMNERR_summer = os.path.join(kde_seasons_byArea, 'Gap_KDE_GTMNERR_Summer')\n",
    "output_kde_GTMNERR_fall = os.path.join(kde_seasons_byArea, 'Gap_KDE_GTMNERR_Fall')\n",
    "\n",
    "\n",
    "kde_each_seasons = os.path.join(base_path, 'Gap_KDE_Each_Season')\n",
    "\n",
    "kde_all_winter = os.path.join(kde_each_seasons, 'Gap_KDE_Winter')\n",
    "kde_all_spring = os.path.join(kde_each_seasons, 'Gap_KDE_Spring')\n",
    "kde_all_summer = os.path.join(kde_each_seasons, 'Gap_KDE_Summer')\n",
    "kde_all_fall = os.path.join(kde_each_seasons, 'Gap_KDE_Fall')"
   ]
  },
  {
   "cell_type": "markdown",
   "metadata": {},
   "source": [
    "Function to generate output folders for each season within managed area."
   ]
  },
  {
   "cell_type": "code",
   "execution_count": 5,
   "metadata": {},
   "outputs": [],
   "source": [
    "def create_folders_with_modified_name(src_folders, old_part='SHP', new_part='KDE'):\n",
    "    for src_folder in src_folders:\n",
    "        parent_folder = os.path.dirname(os.path.dirname(src_folder))\n",
    "\n",
    "        # Fixed name for the target directory\n",
    "        target_dir_name = \"Gap_KDE_All_Seasons_byAreas\"\n",
    "        target_dir = os.path.join(parent_folder, target_dir_name)\n",
    "\n",
    "        # Check if the target directory exists, create it if not\n",
    "        if not os.path.exists(target_dir):\n",
    "            os.makedirs(target_dir)\n",
    "        \n",
    "        new_folder_name = os.path.basename(src_folder).replace(old_part, new_part)\n",
    "        \n",
    "        # The new folder path is now inside the target directory\n",
    "        new_folder_path = os.path.join(target_dir, new_folder_name)\n",
    "        \n",
    "        if not os.path.exists(new_folder_path):\n",
    "            os.makedirs(new_folder_path)  # Create the folder only if it doesn't exist"
   ]
  },
  {
   "cell_type": "code",
   "execution_count": 6,
   "metadata": {},
   "outputs": [],
   "source": [
    "src_folders = [\n",
    "    # Output folders for GSCHASP\n",
    "    input_shp_GSCHASP_winter, \n",
    "    input_shp_GSCHASP_spring,\n",
    "    input_shp_GSCHASP_summer,\n",
    "    input_shp_GSCHASP_fall,\n",
    "    \n",
    "    # Output folders for EBAP\n",
    "    input_shp_EBAP_winter, \n",
    "    input_shp_EBAP_spring,\n",
    "    input_shp_EBAP_summer,\n",
    "    input_shp_EBAP_fall,\n",
    "    \n",
    "    # Output folders for BBSAP\n",
    "    input_shp_BBSAP_winter, \n",
    "    input_shp_BBSAP_spring,\n",
    "    input_shp_BBSAP_summer,\n",
    "    input_shp_BBSAP_fall,\n",
    "    \n",
    "    # Output folders for BBAP\n",
    "    input_shp_BBAP_winter, \n",
    "    input_shp_BBAP_spring,\n",
    "    input_shp_BBAP_summer,\n",
    "    input_shp_BBAP_fall,\n",
    "    \n",
    "    # Output folders for GTMNERR\n",
    "    input_shp_GTMNERR_winter, \n",
    "    input_shp_GTMNERR_spring,\n",
    "    input_shp_GTMNERR_summer,\n",
    "    input_shp_GTMNERR_fall,\n",
    "]"
   ]
  },
  {
   "cell_type": "code",
   "execution_count": 7,
   "metadata": {},
   "outputs": [],
   "source": [
    "create_folders_with_modified_name(src_folders)"
   ]
  },
  {
   "cell_type": "markdown",
   "metadata": {},
   "source": [
    "# 1.1 Preset Parameters <a class=\"anchor\" id=\"preset\"></a>"
   ]
  },
  {
   "cell_type": "code",
   "execution_count": 8,
   "metadata": {},
   "outputs": [],
   "source": [
    "area_shortnames = {\n",
    "    'Gasparilla Sound-Charlotte Harbor Aquatic Preserve': 'GSCHAP',\n",
    "    'Estero Bay Aquatic Preserve': 'EBAP',\n",
    "    'Big Bend Seagrasses Aquatic Preserve': 'BBSAP',\n",
    "    'Biscayne Bay Aquatic Preserve': 'BBAP',\n",
    "    'Guana Tolomato Matanzas National Estuarine Research Reserve':'GTMNERR'\n",
    "}\n",
    "\n",
    "param_shortnames = {\n",
    "    'Salinity': 'Sal',\n",
    "    'Total Nitrogen': 'TN',\n",
    "    'Dissolved Oxygen': 'DO',\n",
    "    'Turbidity':'Turb',\n",
    "    'Secchi Depth':'Secchi'\n",
    "}"
   ]
  },
  {
   "cell_type": "markdown",
   "metadata": {},
   "source": [
    "# 2. Generate Kernel Density<a class=\"anchor\" id=\"generate_kde\"></a>\n",
    "This function utilizes the arcpy package to generate kernel density maps."
   ]
  },
  {
   "cell_type": "code",
   "execution_count": 9,
   "metadata": {},
   "outputs": [],
   "source": [
    "def generate_kernel_density_maps(input_folder, boundary_path, output_folder, search_radius=None):\n",
    "    # Set the workspace\n",
    "    arcpy.env.workspace = input_folder\n",
    "\n",
    "    # Set the coordinate system\n",
    "    spatial_ref = arcpy.SpatialReference(3086)\n",
    "    \n",
    "    # Initialize a counter for successful kernel density maps\n",
    "    successful_maps = 0\n",
    "\n",
    "    # Find all shapefile files\n",
    "    for shapefile in arcpy.ListFeatureClasses():\n",
    "        try:\n",
    "            print(f\"Processing file: {shapefile}\")\n",
    "\n",
    "            # Get the filename of the shapefile, excluding the extension\n",
    "            filename = os.path.splitext(shapefile)[0]\n",
    "            # Extract the abbreviation of the study area and the parameter\n",
    "            _, area, param = filename.split('_')\n",
    "\n",
    "            # Clear the extent and mask at the beginning of each loop\n",
    "            arcpy.env.extent = None\n",
    "            arcpy.env.mask = None\n",
    "\n",
    "            boundary_found = False\n",
    "            # Set the extent and mask according to the boundary shapefile data\n",
    "            with arcpy.da.SearchCursor(boundary_path, [\"LONG_NAME\"]) as cursor:\n",
    "                for row in cursor:\n",
    "                    if area_shortnames.get(row[0], '') == area: \n",
    "                        boundary_found = True\n",
    "                        temp_boundary_path = \"temp_boundary.shp\"\n",
    "\n",
    "                        # If the temporary boundary file already exists, delete it\n",
    "                        if arcpy.Exists(temp_boundary_path):\n",
    "                            arcpy.Delete_management(temp_boundary_path)\n",
    "                        # Select the boundary with the specific long name\n",
    "                        print(f\"Selecting boundary: {row[0]}\")\n",
    "                        print(f\"Using search radius: {search_radius} m\")\n",
    "                        arcpy.Select_analysis(boundary_path, temp_boundary_path, f\"LONG_NAME = '{row[0]}'\")\n",
    "                        arcpy.DefineProjection_management(temp_boundary_path, spatial_ref)\n",
    "                        extent = arcpy.Describe(temp_boundary_path).extent\n",
    "                        arcpy.env.extent = extent\n",
    "                        arcpy.env.mask = temp_boundary_path\n",
    "                        break\n",
    "\n",
    "            if not boundary_found:\n",
    "                print(f\"No boundary found for area {area}, skipping shapefile {shapefile}\")\n",
    "                continue\n",
    "\n",
    "            # Use the Kernel Density tool to generate a density map\n",
    "            outKernelDensity = KernelDensity(shapefile, None, cell_size=None, search_radius=search_radius, area_unit_scale_factor = 'SQUARE_KILOMETERS',method = 'planar')\n",
    "            # Define output file path using the new format\n",
    "            out_file = os.path.join(output_folder, f\"KDE_{area}_{param}.tif\")\n",
    "            # Save the result as a GeoTiff file in the output folder\n",
    "            outKernelDensity.save(out_file)\n",
    "\n",
    "            print(f\"Generated kernel density map: {os.path.basename(out_file)}\")\n",
    "            \n",
    "            # Increase the counter for successful maps\n",
    "            successful_maps += 1\n",
    "\n",
    "        except Exception as e:\n",
    "            print(f\"Error processing file {shapefile}. Error was: {str(e)}\")\n",
    "\n",
    "    print(f\"Total number of maps generated: {successful_maps}\")\n",
    "\n",
    "    # Cleanup: Delete temporary files\n",
    "    arcpy.ClearWorkspaceCache_management()\n",
    "    arcpy.CheckInExtension(\"Spatial\")  # Release ArcGIS extensions\n",
    "    temp_files = [os.path.join(input_folder, f) for f in os.listdir(input_folder) if f.startswith(\"temp\") or f.startswith(\"KernelD_\")]\n",
    "    for file in temp_files:\n",
    "        try:\n",
    "            if os.path.isfile(file):\n",
    "                # First try renaming the file, which might help if something still has a handle on it\n",
    "                temp_name = file + '.tmp'\n",
    "                os.rename(file, temp_name)\n",
    "                os.remove(temp_name)\n",
    "        except Exception as e:\n",
    "                pass"
   ]
  },
  {
   "cell_type": "code",
   "execution_count": 10,
   "metadata": {},
   "outputs": [],
   "source": [
    "def delete_all_files(folder_path):\n",
    "    file_list = os.listdir(folder_path)\n",
    "    for file_name in file_list:\n",
    "        file_path = os.path.join(folder_path, file_name)\n",
    "        if os.path.isfile(file_path):\n",
    "            os.remove(file_path)"
   ]
  },
  {
   "cell_type": "markdown",
   "metadata": {},
   "source": [
    "## 2.1 Generate KDE Maps for All Seasons by managed areas<a class=\"anchor\" id=\"kde_all\"></a>"
   ]
  },
  {
   "cell_type": "markdown",
   "metadata": {},
   "source": [
    "### 2.1.1 Charlotte Harbor <a class=\"anchor\" id=\"reg_result_kde_ch\"></a>"
   ]
  },
  {
   "cell_type": "code",
   "execution_count": 11,
   "metadata": {},
   "outputs": [],
   "source": [
    "delete_all_files(output_kde_GSCHASP)"
   ]
  },
  {
   "cell_type": "code",
   "execution_count": 12,
   "metadata": {
    "scrolled": false
   },
   "outputs": [
    {
     "name": "stdout",
     "output_type": "stream",
     "text": [
      "Processing file: SHP_GSCHAP_Sal.shp\n",
      "Selecting boundary: Gasparilla Sound-Charlotte Harbor Aquatic Preserve\n",
      "Using search radius: 5000 m\n",
      "Generated kernel density map: KDE_GSCHAP_Sal.tif\n",
      "Processing file: SHP_GSCHAP_TN.shp\n",
      "Selecting boundary: Gasparilla Sound-Charlotte Harbor Aquatic Preserve\n",
      "Using search radius: 5000 m\n",
      "Generated kernel density map: KDE_GSCHAP_TN.tif\n",
      "Processing file: SHP_GSCHAP_Secchi.shp\n",
      "Selecting boundary: Gasparilla Sound-Charlotte Harbor Aquatic Preserve\n",
      "Using search radius: 5000 m\n",
      "Generated kernel density map: KDE_GSCHAP_Secchi.tif\n",
      "Processing file: SHP_GSCHAP_DO.shp\n",
      "Selecting boundary: Gasparilla Sound-Charlotte Harbor Aquatic Preserve\n",
      "Using search radius: 5000 m\n",
      "Generated kernel density map: KDE_GSCHAP_DO.tif\n",
      "Processing file: SHP_GSCHAP_Turb.shp\n",
      "Selecting boundary: Gasparilla Sound-Charlotte Harbor Aquatic Preserve\n",
      "Using search radius: 5000 m\n",
      "Generated kernel density map: KDE_GSCHAP_Turb.tif\n",
      "Total number of maps generated: 5\n"
     ]
    }
   ],
   "source": [
    "generate_kernel_density_maps(input_shp_GSCHASP, boundary_path, output_kde_GSCHASP, 5000)"
   ]
  },
  {
   "cell_type": "markdown",
   "metadata": {},
   "source": [
    "## 2.1.2 Estero Bay  <a class=\"anchor\" id=\"reg_result_kde_eb\"></a>"
   ]
  },
  {
   "cell_type": "code",
   "execution_count": 13,
   "metadata": {},
   "outputs": [],
   "source": [
    "delete_all_files(output_kde_EBAP)"
   ]
  },
  {
   "cell_type": "code",
   "execution_count": 14,
   "metadata": {},
   "outputs": [
    {
     "name": "stdout",
     "output_type": "stream",
     "text": [
      "Processing file: SHP_EBAP_TN.shp\n",
      "Selecting boundary: Estero Bay Aquatic Preserve\n",
      "Using search radius: 5000 m\n",
      "Generated kernel density map: KDE_EBAP_TN.tif\n",
      "Processing file: SHP_EBAP_Secchi.shp\n",
      "Selecting boundary: Estero Bay Aquatic Preserve\n",
      "Using search radius: 5000 m\n",
      "Generated kernel density map: KDE_EBAP_Secchi.tif\n",
      "Processing file: SHP_EBAP_Turb.shp\n",
      "Selecting boundary: Estero Bay Aquatic Preserve\n",
      "Using search radius: 5000 m\n",
      "Generated kernel density map: KDE_EBAP_Turb.tif\n",
      "Processing file: SHP_EBAP_Sal.shp\n",
      "Selecting boundary: Estero Bay Aquatic Preserve\n",
      "Using search radius: 5000 m\n",
      "Generated kernel density map: KDE_EBAP_Sal.tif\n",
      "Processing file: SHP_EBAP_DO.shp\n",
      "Selecting boundary: Estero Bay Aquatic Preserve\n",
      "Using search radius: 5000 m\n",
      "Generated kernel density map: KDE_EBAP_DO.tif\n",
      "Total number of maps generated: 5\n"
     ]
    }
   ],
   "source": [
    "generate_kernel_density_maps(input_shp_EBAP, boundary_path, output_kde_EBAP, 5000)"
   ]
  },
  {
   "cell_type": "markdown",
   "metadata": {},
   "source": [
    "### 2.1.3 Big Bend <a class=\"anchor\" id=\"reg_result_shp_bb\"></a>"
   ]
  },
  {
   "cell_type": "code",
   "execution_count": 15,
   "metadata": {},
   "outputs": [],
   "source": [
    "delete_all_files(output_kde_BBSAP)"
   ]
  },
  {
   "cell_type": "code",
   "execution_count": 16,
   "metadata": {},
   "outputs": [
    {
     "name": "stdout",
     "output_type": "stream",
     "text": [
      "Processing file: SHP_BBSAP_Secchi.shp\n",
      "Selecting boundary: Big Bend Seagrasses Aquatic Preserve\n",
      "Using search radius: 10000 m\n",
      "Generated kernel density map: KDE_BBSAP_Secchi.tif\n",
      "Processing file: SHP_BBSAP_TN.shp\n",
      "Selecting boundary: Big Bend Seagrasses Aquatic Preserve\n",
      "Using search radius: 10000 m\n",
      "Generated kernel density map: KDE_BBSAP_TN.tif\n",
      "Processing file: SHP_BBSAP_Sal.shp\n",
      "Selecting boundary: Big Bend Seagrasses Aquatic Preserve\n",
      "Using search radius: 10000 m\n",
      "Generated kernel density map: KDE_BBSAP_Sal.tif\n",
      "Processing file: SHP_BBSAP_DO.shp\n",
      "Selecting boundary: Big Bend Seagrasses Aquatic Preserve\n",
      "Using search radius: 10000 m\n",
      "Generated kernel density map: KDE_BBSAP_DO.tif\n",
      "Processing file: SHP_BBSAP_Turb.shp\n",
      "Selecting boundary: Big Bend Seagrasses Aquatic Preserve\n",
      "Using search radius: 10000 m\n",
      "Generated kernel density map: KDE_BBSAP_Turb.tif\n",
      "Total number of maps generated: 5\n"
     ]
    }
   ],
   "source": [
    "generate_kernel_density_maps(input_shp_BBSAP, boundary_path, output_kde_BBSAP, 10000)"
   ]
  },
  {
   "cell_type": "markdown",
   "metadata": {},
   "source": [
    "### 2.1.4 Biscayne Bay <a class=\"anchor\" id=\"reg_result_kde_bbay\"></a>"
   ]
  },
  {
   "cell_type": "code",
   "execution_count": 17,
   "metadata": {},
   "outputs": [],
   "source": [
    "delete_all_files(output_kde_BBAP)"
   ]
  },
  {
   "cell_type": "code",
   "execution_count": 18,
   "metadata": {},
   "outputs": [
    {
     "name": "stdout",
     "output_type": "stream",
     "text": [
      "Processing file: SHP_BBAP_TN.shp\n",
      "Selecting boundary: Biscayne Bay Aquatic Preserve\n",
      "Using search radius: 5000 m\n",
      "Generated kernel density map: KDE_BBAP_TN.tif\n",
      "Processing file: SHP_BBAP_Turb.shp\n",
      "Selecting boundary: Biscayne Bay Aquatic Preserve\n",
      "Using search radius: 5000 m\n",
      "Generated kernel density map: KDE_BBAP_Turb.tif\n",
      "Processing file: SHP_BBAP_DO.shp\n",
      "Selecting boundary: Biscayne Bay Aquatic Preserve\n",
      "Using search radius: 5000 m\n",
      "Generated kernel density map: KDE_BBAP_DO.tif\n",
      "Processing file: SHP_BBAP_Secchi.shp\n",
      "Selecting boundary: Biscayne Bay Aquatic Preserve\n",
      "Using search radius: 5000 m\n",
      "Generated kernel density map: KDE_BBAP_Secchi.tif\n",
      "Processing file: SHP_BBAP_Sal.shp\n",
      "Selecting boundary: Biscayne Bay Aquatic Preserve\n",
      "Using search radius: 5000 m\n",
      "Generated kernel density map: KDE_BBAP_Sal.tif\n",
      "Total number of maps generated: 5\n"
     ]
    }
   ],
   "source": [
    "generate_kernel_density_maps(input_shp_BBAP, boundary_path, output_kde_BBAP, 5000)"
   ]
  },
  {
   "cell_type": "markdown",
   "metadata": {},
   "source": [
    "### 2.1.5 Guana Tolomato <a class=\"anchor\" id=\"reg_result_kde_gtm\"></a>"
   ]
  },
  {
   "cell_type": "code",
   "execution_count": 19,
   "metadata": {},
   "outputs": [],
   "source": [
    "delete_all_files(output_kde_GTMNERR)"
   ]
  },
  {
   "cell_type": "code",
   "execution_count": 20,
   "metadata": {
    "scrolled": true
   },
   "outputs": [
    {
     "name": "stdout",
     "output_type": "stream",
     "text": [
      "Processing file: SHP_GTMNERR_Secchi.shp\n",
      "Selecting boundary: Guana Tolomato Matanzas National Estuarine Research Reserve\n",
      "Using search radius: 5000 m\n",
      "Generated kernel density map: KDE_GTMNERR_Secchi.tif\n",
      "Processing file: SHP_GTMNERR_DO.shp\n",
      "Selecting boundary: Guana Tolomato Matanzas National Estuarine Research Reserve\n",
      "Using search radius: 5000 m\n",
      "Generated kernel density map: KDE_GTMNERR_DO.tif\n",
      "Processing file: SHP_GTMNERR_Turb.shp\n",
      "Selecting boundary: Guana Tolomato Matanzas National Estuarine Research Reserve\n",
      "Using search radius: 5000 m\n",
      "Generated kernel density map: KDE_GTMNERR_Turb.tif\n",
      "Processing file: SHP_GTMNERR_TN.shp\n",
      "Selecting boundary: Guana Tolomato Matanzas National Estuarine Research Reserve\n",
      "Using search radius: 5000 m\n",
      "Generated kernel density map: KDE_GTMNERR_TN.tif\n",
      "Processing file: SHP_GTMNERR_Sal.shp\n",
      "Selecting boundary: Guana Tolomato Matanzas National Estuarine Research Reserve\n",
      "Using search radius: 5000 m\n",
      "Generated kernel density map: KDE_GTMNERR_Sal.tif\n",
      "Total number of maps generated: 5\n"
     ]
    }
   ],
   "source": [
    "generate_kernel_density_maps(input_shp_GTMNERR, boundary_path, output_kde_GTMNERR, 5000)"
   ]
  },
  {
   "cell_type": "code",
   "execution_count": 21,
   "metadata": {},
   "outputs": [],
   "source": [
    "def merge_folders(folders, output_folder):\n",
    "    # Ensure the output folder exists\n",
    "    if not os.path.exists(output_folder):\n",
    "        os.makedirs(output_folder)\n",
    "\n",
    "    file_count = 0  # Initialize a counter for the files\n",
    "\n",
    "    for folder in folders:\n",
    "        # Check if the folder exists\n",
    "        if os.path.exists(folder):\n",
    "            # Walk through all files in the folder\n",
    "            for path, dirs, files in os.walk(folder):\n",
    "                for filename in files:\n",
    "                    # Increment the file counter\n",
    "                    file_count += 1\n",
    "                    # Construct the file's full path\n",
    "                    filepath = os.path.join(path, filename)\n",
    "                    # Construct the destination path\n",
    "                    destpath = os.path.join(output_folder, filepath.replace(folder + os.sep, ''))\n",
    "                    # Ensure the destination directory exists\n",
    "                    os.makedirs(os.path.dirname(destpath), exist_ok=True)\n",
    "                    # Copy the file\n",
    "                    shutil.copy2(filepath, destpath)\n",
    "        else:\n",
    "            print(f\"Folder {folder} does not exist and will be skipped.\")\n",
    "    \n",
    "    print(\"All files have been merged into one folder.\")\n",
    "    print(f\"A total of {file_count} files have been copied.\")  # Print the total file count"
   ]
  },
  {
   "cell_type": "code",
   "execution_count": 22,
   "metadata": {},
   "outputs": [],
   "source": [
    "folders = [output_kde_GSCHASP,output_kde_EBAP,output_kde_BBSAP,output_kde_BBAP,output_kde_GTMNERR ]\n",
    "delete_all_files(gap_kde_all)"
   ]
  },
  {
   "cell_type": "code",
   "execution_count": 23,
   "metadata": {},
   "outputs": [
    {
     "name": "stdout",
     "output_type": "stream",
     "text": [
      "All files have been merged into one folder.\n",
      "A total of 75 files have been copied.\n"
     ]
    }
   ],
   "source": [
    "merge_folders(folders, gap_kde_all)"
   ]
  },
  {
   "cell_type": "markdown",
   "metadata": {},
   "source": [
    "## 2.2 Generate KDE Maps for Each Season<a class=\"anchor\" id=\"kde_seasons\"></a>"
   ]
  },
  {
   "cell_type": "markdown",
   "metadata": {},
   "source": [
    "### 2.2.1 Charlotte Harbor KDE Maps by Seasons<a class=\"anchor\" id=\"kde_ch\"></a>"
   ]
  },
  {
   "cell_type": "code",
   "execution_count": 24,
   "metadata": {},
   "outputs": [],
   "source": [
    "delete_all_files(output_kde_GSCHASP_winter)\n",
    "delete_all_files(output_kde_GSCHASP_spring)\n",
    "delete_all_files(output_kde_GSCHASP_summer)\n",
    "delete_all_files(output_kde_GSCHASP_fall)"
   ]
  },
  {
   "cell_type": "code",
   "execution_count": 25,
   "metadata": {
    "scrolled": true
   },
   "outputs": [
    {
     "name": "stdout",
     "output_type": "stream",
     "text": [
      "Processing file: SHP_GSCHAP_Sal.shp\n",
      "Selecting boundary: Gasparilla Sound-Charlotte Harbor Aquatic Preserve\n",
      "Using search radius: 5000 m\n",
      "Generated kernel density map: KDE_GSCHAP_Sal.tif\n",
      "Processing file: SHP_GSCHAP_TN.shp\n",
      "Selecting boundary: Gasparilla Sound-Charlotte Harbor Aquatic Preserve\n",
      "Using search radius: 5000 m\n",
      "Generated kernel density map: KDE_GSCHAP_TN.tif\n",
      "Processing file: SHP_GSCHAP_Secchi.shp\n",
      "Selecting boundary: Gasparilla Sound-Charlotte Harbor Aquatic Preserve\n",
      "Using search radius: 5000 m\n",
      "Generated kernel density map: KDE_GSCHAP_Secchi.tif\n",
      "Processing file: SHP_GSCHAP_DO.shp\n",
      "Selecting boundary: Gasparilla Sound-Charlotte Harbor Aquatic Preserve\n",
      "Using search radius: 5000 m\n",
      "Generated kernel density map: KDE_GSCHAP_DO.tif\n",
      "Processing file: SHP_GSCHAP_Turb.shp\n",
      "Selecting boundary: Gasparilla Sound-Charlotte Harbor Aquatic Preserve\n",
      "Using search radius: 5000 m\n",
      "Generated kernel density map: KDE_GSCHAP_Turb.tif\n",
      "Total number of maps generated: 5\n"
     ]
    }
   ],
   "source": [
    "generate_kernel_density_maps(input_shp_GSCHASP_winter, boundary_path, output_kde_GSCHASP_winter, 5000)"
   ]
  },
  {
   "cell_type": "code",
   "execution_count": 26,
   "metadata": {},
   "outputs": [
    {
     "name": "stdout",
     "output_type": "stream",
     "text": [
      "Processing file: SHP_GSCHAP_Sal.shp\n",
      "Selecting boundary: Gasparilla Sound-Charlotte Harbor Aquatic Preserve\n",
      "Using search radius: 5000 m\n",
      "Generated kernel density map: KDE_GSCHAP_Sal.tif\n",
      "Processing file: SHP_GSCHAP_TN.shp\n",
      "Selecting boundary: Gasparilla Sound-Charlotte Harbor Aquatic Preserve\n",
      "Using search radius: 5000 m\n",
      "Generated kernel density map: KDE_GSCHAP_TN.tif\n",
      "Processing file: SHP_GSCHAP_Secchi.shp\n",
      "Selecting boundary: Gasparilla Sound-Charlotte Harbor Aquatic Preserve\n",
      "Using search radius: 5000 m\n",
      "Generated kernel density map: KDE_GSCHAP_Secchi.tif\n",
      "Processing file: SHP_GSCHAP_DO.shp\n",
      "Selecting boundary: Gasparilla Sound-Charlotte Harbor Aquatic Preserve\n",
      "Using search radius: 5000 m\n",
      "Generated kernel density map: KDE_GSCHAP_DO.tif\n",
      "Processing file: SHP_GSCHAP_Turb.shp\n",
      "Selecting boundary: Gasparilla Sound-Charlotte Harbor Aquatic Preserve\n",
      "Using search radius: 5000 m\n",
      "Generated kernel density map: KDE_GSCHAP_Turb.tif\n",
      "Total number of maps generated: 5\n"
     ]
    }
   ],
   "source": [
    "generate_kernel_density_maps(input_shp_GSCHASP_spring, boundary_path, output_kde_GSCHASP_spring, 5000)"
   ]
  },
  {
   "cell_type": "code",
   "execution_count": 27,
   "metadata": {
    "scrolled": true
   },
   "outputs": [
    {
     "name": "stdout",
     "output_type": "stream",
     "text": [
      "Processing file: SHP_GSCHAP_Sal.shp\n",
      "Selecting boundary: Gasparilla Sound-Charlotte Harbor Aquatic Preserve\n",
      "Using search radius: 5000 m\n",
      "Generated kernel density map: KDE_GSCHAP_Sal.tif\n",
      "Processing file: SHP_GSCHAP_TN.shp\n",
      "Selecting boundary: Gasparilla Sound-Charlotte Harbor Aquatic Preserve\n",
      "Using search radius: 5000 m\n",
      "Generated kernel density map: KDE_GSCHAP_TN.tif\n",
      "Processing file: SHP_GSCHAP_Secchi.shp\n",
      "Selecting boundary: Gasparilla Sound-Charlotte Harbor Aquatic Preserve\n",
      "Using search radius: 5000 m\n",
      "Generated kernel density map: KDE_GSCHAP_Secchi.tif\n",
      "Processing file: SHP_GSCHAP_DO.shp\n",
      "Selecting boundary: Gasparilla Sound-Charlotte Harbor Aquatic Preserve\n",
      "Using search radius: 5000 m\n",
      "Generated kernel density map: KDE_GSCHAP_DO.tif\n",
      "Processing file: SHP_GSCHAP_Turb.shp\n",
      "Selecting boundary: Gasparilla Sound-Charlotte Harbor Aquatic Preserve\n",
      "Using search radius: 5000 m\n",
      "Generated kernel density map: KDE_GSCHAP_Turb.tif\n",
      "Total number of maps generated: 5\n"
     ]
    }
   ],
   "source": [
    "generate_kernel_density_maps(input_shp_GSCHASP_summer, boundary_path, output_kde_GSCHASP_summer, 5000)"
   ]
  },
  {
   "cell_type": "code",
   "execution_count": 28,
   "metadata": {
    "scrolled": true
   },
   "outputs": [
    {
     "name": "stdout",
     "output_type": "stream",
     "text": [
      "Processing file: SHP_GSCHAP_Sal.shp\n",
      "Selecting boundary: Gasparilla Sound-Charlotte Harbor Aquatic Preserve\n",
      "Using search radius: 5000 m\n",
      "Generated kernel density map: KDE_GSCHAP_Sal.tif\n",
      "Processing file: SHP_GSCHAP_TN.shp\n",
      "Selecting boundary: Gasparilla Sound-Charlotte Harbor Aquatic Preserve\n",
      "Using search radius: 5000 m\n",
      "Generated kernel density map: KDE_GSCHAP_TN.tif\n",
      "Processing file: SHP_GSCHAP_Secchi.shp\n",
      "Selecting boundary: Gasparilla Sound-Charlotte Harbor Aquatic Preserve\n",
      "Using search radius: 5000 m\n",
      "Generated kernel density map: KDE_GSCHAP_Secchi.tif\n",
      "Processing file: SHP_GSCHAP_DO.shp\n",
      "Selecting boundary: Gasparilla Sound-Charlotte Harbor Aquatic Preserve\n",
      "Using search radius: 5000 m\n",
      "Generated kernel density map: KDE_GSCHAP_DO.tif\n",
      "Processing file: SHP_GSCHAP_Turb.shp\n",
      "Selecting boundary: Gasparilla Sound-Charlotte Harbor Aquatic Preserve\n",
      "Using search radius: 5000 m\n",
      "Generated kernel density map: KDE_GSCHAP_Turb.tif\n",
      "Total number of maps generated: 5\n"
     ]
    }
   ],
   "source": [
    "generate_kernel_density_maps(input_shp_GSCHASP_fall, boundary_path, output_kde_GSCHASP_fall, 5000)"
   ]
  },
  {
   "cell_type": "markdown",
   "metadata": {},
   "source": [
    "### 2.2.2 Estero Bay KDE Maps by Seasons<a class=\"anchor\" id=\"kde_eb\"></a>"
   ]
  },
  {
   "cell_type": "code",
   "execution_count": 29,
   "metadata": {},
   "outputs": [],
   "source": [
    "delete_all_files(output_kde_EBAP_winter)\n",
    "delete_all_files(output_kde_EBAP_spring)\n",
    "delete_all_files(output_kde_EBAP_summer)\n",
    "delete_all_files(output_kde_EBAP_fall)"
   ]
  },
  {
   "cell_type": "code",
   "execution_count": 30,
   "metadata": {},
   "outputs": [
    {
     "name": "stdout",
     "output_type": "stream",
     "text": [
      "Processing file: SHP_EBAP_TN.shp\n",
      "Selecting boundary: Estero Bay Aquatic Preserve\n",
      "Using search radius: 5000 m\n",
      "Generated kernel density map: KDE_EBAP_TN.tif\n",
      "Processing file: SHP_EBAP_Secchi.shp\n",
      "Selecting boundary: Estero Bay Aquatic Preserve\n",
      "Using search radius: 5000 m\n",
      "Generated kernel density map: KDE_EBAP_Secchi.tif\n",
      "Processing file: SHP_EBAP_Turb.shp\n",
      "Selecting boundary: Estero Bay Aquatic Preserve\n",
      "Using search radius: 5000 m\n",
      "Generated kernel density map: KDE_EBAP_Turb.tif\n",
      "Processing file: SHP_EBAP_Sal.shp\n",
      "Selecting boundary: Estero Bay Aquatic Preserve\n",
      "Using search radius: 5000 m\n",
      "Generated kernel density map: KDE_EBAP_Sal.tif\n",
      "Processing file: SHP_EBAP_DO.shp\n",
      "Selecting boundary: Estero Bay Aquatic Preserve\n",
      "Using search radius: 5000 m\n",
      "Generated kernel density map: KDE_EBAP_DO.tif\n",
      "Total number of maps generated: 5\n"
     ]
    }
   ],
   "source": [
    "generate_kernel_density_maps(input_shp_EBAP_winter, boundary_path, output_kde_EBAP_winter, 5000)"
   ]
  },
  {
   "cell_type": "code",
   "execution_count": 31,
   "metadata": {},
   "outputs": [
    {
     "name": "stdout",
     "output_type": "stream",
     "text": [
      "Processing file: SHP_EBAP_TN.shp\n",
      "Selecting boundary: Estero Bay Aquatic Preserve\n",
      "Using search radius: 5000 m\n",
      "Generated kernel density map: KDE_EBAP_TN.tif\n",
      "Processing file: SHP_EBAP_Secchi.shp\n",
      "Selecting boundary: Estero Bay Aquatic Preserve\n",
      "Using search radius: 5000 m\n",
      "Generated kernel density map: KDE_EBAP_Secchi.tif\n",
      "Processing file: SHP_EBAP_Turb.shp\n",
      "Selecting boundary: Estero Bay Aquatic Preserve\n",
      "Using search radius: 5000 m\n",
      "Generated kernel density map: KDE_EBAP_Turb.tif\n",
      "Processing file: SHP_EBAP_Sal.shp\n",
      "Selecting boundary: Estero Bay Aquatic Preserve\n",
      "Using search radius: 5000 m\n",
      "Generated kernel density map: KDE_EBAP_Sal.tif\n",
      "Processing file: SHP_EBAP_DO.shp\n",
      "Selecting boundary: Estero Bay Aquatic Preserve\n",
      "Using search radius: 5000 m\n",
      "Generated kernel density map: KDE_EBAP_DO.tif\n",
      "Total number of maps generated: 5\n"
     ]
    }
   ],
   "source": [
    "generate_kernel_density_maps(input_shp_EBAP_spring, boundary_path, output_kde_EBAP_spring, 5000)"
   ]
  },
  {
   "cell_type": "code",
   "execution_count": 32,
   "metadata": {},
   "outputs": [
    {
     "name": "stdout",
     "output_type": "stream",
     "text": [
      "Processing file: SHP_EBAP_TN.shp\n",
      "Selecting boundary: Estero Bay Aquatic Preserve\n",
      "Using search radius: 5000 m\n",
      "Generated kernel density map: KDE_EBAP_TN.tif\n",
      "Processing file: SHP_EBAP_Secchi.shp\n",
      "Selecting boundary: Estero Bay Aquatic Preserve\n",
      "Using search radius: 5000 m\n",
      "Generated kernel density map: KDE_EBAP_Secchi.tif\n",
      "Processing file: SHP_EBAP_Turb.shp\n",
      "Selecting boundary: Estero Bay Aquatic Preserve\n",
      "Using search radius: 5000 m\n",
      "Generated kernel density map: KDE_EBAP_Turb.tif\n",
      "Processing file: SHP_EBAP_Sal.shp\n",
      "Selecting boundary: Estero Bay Aquatic Preserve\n",
      "Using search radius: 5000 m\n",
      "Generated kernel density map: KDE_EBAP_Sal.tif\n",
      "Processing file: SHP_EBAP_DO.shp\n",
      "Selecting boundary: Estero Bay Aquatic Preserve\n",
      "Using search radius: 5000 m\n",
      "Generated kernel density map: KDE_EBAP_DO.tif\n",
      "Total number of maps generated: 5\n"
     ]
    }
   ],
   "source": [
    "generate_kernel_density_maps(input_shp_EBAP_summer, boundary_path, output_kde_EBAP_summer, 5000)"
   ]
  },
  {
   "cell_type": "code",
   "execution_count": 33,
   "metadata": {
    "scrolled": true
   },
   "outputs": [
    {
     "name": "stdout",
     "output_type": "stream",
     "text": [
      "Processing file: SHP_EBAP_TN.shp\n",
      "Selecting boundary: Estero Bay Aquatic Preserve\n",
      "Using search radius: 5000 m\n",
      "Generated kernel density map: KDE_EBAP_TN.tif\n",
      "Processing file: SHP_EBAP_Secchi.shp\n",
      "Selecting boundary: Estero Bay Aquatic Preserve\n",
      "Using search radius: 5000 m\n",
      "Generated kernel density map: KDE_EBAP_Secchi.tif\n",
      "Processing file: SHP_EBAP_Turb.shp\n",
      "Selecting boundary: Estero Bay Aquatic Preserve\n",
      "Using search radius: 5000 m\n",
      "Generated kernel density map: KDE_EBAP_Turb.tif\n",
      "Processing file: SHP_EBAP_Sal.shp\n",
      "Selecting boundary: Estero Bay Aquatic Preserve\n",
      "Using search radius: 5000 m\n",
      "Generated kernel density map: KDE_EBAP_Sal.tif\n",
      "Processing file: SHP_EBAP_DO.shp\n",
      "Selecting boundary: Estero Bay Aquatic Preserve\n",
      "Using search radius: 5000 m\n",
      "Generated kernel density map: KDE_EBAP_DO.tif\n",
      "Total number of maps generated: 5\n"
     ]
    }
   ],
   "source": [
    "generate_kernel_density_maps(input_shp_EBAP_fall, boundary_path, output_kde_EBAP_fall, 5000)"
   ]
  },
  {
   "cell_type": "markdown",
   "metadata": {},
   "source": [
    "### 2.2.3 Big Bend KDE Maps by Seasons<a class=\"anchor\" id=\"kde_bb\"></a>"
   ]
  },
  {
   "cell_type": "code",
   "execution_count": 34,
   "metadata": {},
   "outputs": [],
   "source": [
    "delete_all_files(output_kde_BBSAP_winter)\n",
    "delete_all_files(output_kde_BBSAP_spring)\n",
    "delete_all_files(output_kde_BBSAP_summer)\n",
    "delete_all_files(output_kde_BBSAP_fall)"
   ]
  },
  {
   "cell_type": "code",
   "execution_count": 35,
   "metadata": {},
   "outputs": [
    {
     "name": "stdout",
     "output_type": "stream",
     "text": [
      "Processing file: SHP_BBSAP_Secchi.shp\n",
      "Selecting boundary: Big Bend Seagrasses Aquatic Preserve\n",
      "Using search radius: 10000 m\n",
      "Generated kernel density map: KDE_BBSAP_Secchi.tif\n",
      "Processing file: SHP_BBSAP_TN.shp\n",
      "Selecting boundary: Big Bend Seagrasses Aquatic Preserve\n",
      "Using search radius: 10000 m\n",
      "Generated kernel density map: KDE_BBSAP_TN.tif\n",
      "Processing file: SHP_BBSAP_Sal.shp\n",
      "Selecting boundary: Big Bend Seagrasses Aquatic Preserve\n",
      "Using search radius: 10000 m\n",
      "Generated kernel density map: KDE_BBSAP_Sal.tif\n",
      "Processing file: SHP_BBSAP_DO.shp\n",
      "Selecting boundary: Big Bend Seagrasses Aquatic Preserve\n",
      "Using search radius: 10000 m\n",
      "Generated kernel density map: KDE_BBSAP_DO.tif\n",
      "Processing file: SHP_BBSAP_Turb.shp\n",
      "Selecting boundary: Big Bend Seagrasses Aquatic Preserve\n",
      "Using search radius: 10000 m\n",
      "Generated kernel density map: KDE_BBSAP_Turb.tif\n",
      "Total number of maps generated: 5\n"
     ]
    }
   ],
   "source": [
    "generate_kernel_density_maps(input_shp_BBSAP_winter, boundary_path, output_kde_BBSAP_winter, 10000)"
   ]
  },
  {
   "cell_type": "code",
   "execution_count": 36,
   "metadata": {},
   "outputs": [
    {
     "name": "stdout",
     "output_type": "stream",
     "text": [
      "Processing file: SHP_BBSAP_Secchi.shp\n",
      "Selecting boundary: Big Bend Seagrasses Aquatic Preserve\n",
      "Using search radius: 10000 m\n",
      "Generated kernel density map: KDE_BBSAP_Secchi.tif\n",
      "Processing file: SHP_BBSAP_TN.shp\n",
      "Selecting boundary: Big Bend Seagrasses Aquatic Preserve\n",
      "Using search radius: 10000 m\n",
      "Generated kernel density map: KDE_BBSAP_TN.tif\n",
      "Processing file: SHP_BBSAP_Sal.shp\n",
      "Selecting boundary: Big Bend Seagrasses Aquatic Preserve\n",
      "Using search radius: 10000 m\n",
      "Generated kernel density map: KDE_BBSAP_Sal.tif\n",
      "Processing file: SHP_BBSAP_DO.shp\n",
      "Selecting boundary: Big Bend Seagrasses Aquatic Preserve\n",
      "Using search radius: 10000 m\n",
      "Generated kernel density map: KDE_BBSAP_DO.tif\n",
      "Processing file: SHP_BBSAP_Turb.shp\n",
      "Selecting boundary: Big Bend Seagrasses Aquatic Preserve\n",
      "Using search radius: 10000 m\n",
      "Generated kernel density map: KDE_BBSAP_Turb.tif\n",
      "Total number of maps generated: 5\n"
     ]
    }
   ],
   "source": [
    "generate_kernel_density_maps(input_shp_BBSAP_spring, boundary_path, output_kde_BBSAP_spring, 10000)"
   ]
  },
  {
   "cell_type": "code",
   "execution_count": 37,
   "metadata": {},
   "outputs": [
    {
     "name": "stdout",
     "output_type": "stream",
     "text": [
      "Processing file: SHP_BBSAP_Secchi.shp\n",
      "Selecting boundary: Big Bend Seagrasses Aquatic Preserve\n",
      "Using search radius: 10000 m\n",
      "Generated kernel density map: KDE_BBSAP_Secchi.tif\n",
      "Processing file: SHP_BBSAP_TN.shp\n",
      "Selecting boundary: Big Bend Seagrasses Aquatic Preserve\n",
      "Using search radius: 10000 m\n",
      "Generated kernel density map: KDE_BBSAP_TN.tif\n",
      "Processing file: SHP_BBSAP_Sal.shp\n",
      "Selecting boundary: Big Bend Seagrasses Aquatic Preserve\n",
      "Using search radius: 10000 m\n",
      "Generated kernel density map: KDE_BBSAP_Sal.tif\n",
      "Processing file: SHP_BBSAP_DO.shp\n",
      "Selecting boundary: Big Bend Seagrasses Aquatic Preserve\n",
      "Using search radius: 10000 m\n",
      "Generated kernel density map: KDE_BBSAP_DO.tif\n",
      "Processing file: SHP_BBSAP_Turb.shp\n",
      "Selecting boundary: Big Bend Seagrasses Aquatic Preserve\n",
      "Using search radius: 10000 m\n",
      "Generated kernel density map: KDE_BBSAP_Turb.tif\n",
      "Total number of maps generated: 5\n"
     ]
    }
   ],
   "source": [
    "generate_kernel_density_maps(input_shp_BBSAP_summer, boundary_path, output_kde_BBSAP_summer, 10000)"
   ]
  },
  {
   "cell_type": "code",
   "execution_count": 38,
   "metadata": {},
   "outputs": [
    {
     "name": "stdout",
     "output_type": "stream",
     "text": [
      "Processing file: SHP_BBSAP_Secchi.shp\n",
      "Selecting boundary: Big Bend Seagrasses Aquatic Preserve\n",
      "Using search radius: 10000 m\n",
      "Generated kernel density map: KDE_BBSAP_Secchi.tif\n",
      "Processing file: SHP_BBSAP_TN.shp\n",
      "Selecting boundary: Big Bend Seagrasses Aquatic Preserve\n",
      "Using search radius: 10000 m\n",
      "Generated kernel density map: KDE_BBSAP_TN.tif\n",
      "Processing file: SHP_BBSAP_Sal.shp\n",
      "Selecting boundary: Big Bend Seagrasses Aquatic Preserve\n",
      "Using search radius: 10000 m\n",
      "Generated kernel density map: KDE_BBSAP_Sal.tif\n",
      "Processing file: SHP_BBSAP_DO.shp\n",
      "Selecting boundary: Big Bend Seagrasses Aquatic Preserve\n",
      "Using search radius: 10000 m\n",
      "Generated kernel density map: KDE_BBSAP_DO.tif\n",
      "Processing file: SHP_BBSAP_Turb.shp\n",
      "Selecting boundary: Big Bend Seagrasses Aquatic Preserve\n",
      "Using search radius: 10000 m\n",
      "Generated kernel density map: KDE_BBSAP_Turb.tif\n",
      "Total number of maps generated: 5\n"
     ]
    }
   ],
   "source": [
    "generate_kernel_density_maps(input_shp_BBSAP_fall, boundary_path, output_kde_BBSAP_fall, 10000)"
   ]
  },
  {
   "cell_type": "markdown",
   "metadata": {},
   "source": [
    "### 2.2.4 Biscayne Bay KDE Maps by Seasons<a class=\"anchor\" id=\"kde_bbay\"></a>"
   ]
  },
  {
   "cell_type": "code",
   "execution_count": 39,
   "metadata": {},
   "outputs": [],
   "source": [
    "delete_all_files(output_kde_BBAP_winter)\n",
    "delete_all_files(output_kde_BBAP_spring)\n",
    "delete_all_files(output_kde_BBAP_summer)\n",
    "delete_all_files(output_kde_BBAP_fall)"
   ]
  },
  {
   "cell_type": "code",
   "execution_count": 40,
   "metadata": {},
   "outputs": [
    {
     "name": "stdout",
     "output_type": "stream",
     "text": [
      "Processing file: SHP_BBAP_TN.shp\n",
      "Selecting boundary: Biscayne Bay Aquatic Preserve\n",
      "Using search radius: 5000 m\n",
      "Generated kernel density map: KDE_BBAP_TN.tif\n",
      "Processing file: SHP_BBAP_Turb.shp\n",
      "Selecting boundary: Biscayne Bay Aquatic Preserve\n",
      "Using search radius: 5000 m\n",
      "Generated kernel density map: KDE_BBAP_Turb.tif\n",
      "Processing file: SHP_BBAP_DO.shp\n",
      "Selecting boundary: Biscayne Bay Aquatic Preserve\n",
      "Using search radius: 5000 m\n",
      "Generated kernel density map: KDE_BBAP_DO.tif\n",
      "Processing file: SHP_BBAP_Secchi.shp\n",
      "Selecting boundary: Biscayne Bay Aquatic Preserve\n",
      "Using search radius: 5000 m\n",
      "Generated kernel density map: KDE_BBAP_Secchi.tif\n",
      "Processing file: SHP_BBAP_Sal.shp\n",
      "Selecting boundary: Biscayne Bay Aquatic Preserve\n",
      "Using search radius: 5000 m\n",
      "Generated kernel density map: KDE_BBAP_Sal.tif\n",
      "Total number of maps generated: 5\n"
     ]
    }
   ],
   "source": [
    "generate_kernel_density_maps(input_shp_BBAP_winter, boundary_path, output_kde_BBAP_winter, 5000)"
   ]
  },
  {
   "cell_type": "code",
   "execution_count": 41,
   "metadata": {},
   "outputs": [
    {
     "name": "stdout",
     "output_type": "stream",
     "text": [
      "Processing file: SHP_BBAP_TN.shp\n",
      "Selecting boundary: Biscayne Bay Aquatic Preserve\n",
      "Using search radius: 5000 m\n",
      "Generated kernel density map: KDE_BBAP_TN.tif\n",
      "Processing file: SHP_BBAP_Turb.shp\n",
      "Selecting boundary: Biscayne Bay Aquatic Preserve\n",
      "Using search radius: 5000 m\n",
      "Generated kernel density map: KDE_BBAP_Turb.tif\n",
      "Processing file: SHP_BBAP_DO.shp\n",
      "Selecting boundary: Biscayne Bay Aquatic Preserve\n",
      "Using search radius: 5000 m\n",
      "Generated kernel density map: KDE_BBAP_DO.tif\n",
      "Processing file: SHP_BBAP_Secchi.shp\n",
      "Selecting boundary: Biscayne Bay Aquatic Preserve\n",
      "Using search radius: 5000 m\n",
      "Generated kernel density map: KDE_BBAP_Secchi.tif\n",
      "Processing file: SHP_BBAP_Sal.shp\n",
      "Selecting boundary: Biscayne Bay Aquatic Preserve\n",
      "Using search radius: 5000 m\n",
      "Generated kernel density map: KDE_BBAP_Sal.tif\n",
      "Total number of maps generated: 5\n"
     ]
    }
   ],
   "source": [
    "generate_kernel_density_maps(input_shp_BBAP_spring, boundary_path, output_kde_BBAP_spring, 5000)"
   ]
  },
  {
   "cell_type": "code",
   "execution_count": 42,
   "metadata": {},
   "outputs": [
    {
     "name": "stdout",
     "output_type": "stream",
     "text": [
      "Processing file: SHP_BBAP_TN.shp\n",
      "Selecting boundary: Biscayne Bay Aquatic Preserve\n",
      "Using search radius: 5000 m\n",
      "Generated kernel density map: KDE_BBAP_TN.tif\n",
      "Processing file: SHP_BBAP_Turb.shp\n",
      "Selecting boundary: Biscayne Bay Aquatic Preserve\n",
      "Using search radius: 5000 m\n",
      "Generated kernel density map: KDE_BBAP_Turb.tif\n",
      "Processing file: SHP_BBAP_DO.shp\n",
      "Selecting boundary: Biscayne Bay Aquatic Preserve\n",
      "Using search radius: 5000 m\n",
      "Generated kernel density map: KDE_BBAP_DO.tif\n",
      "Processing file: SHP_BBAP_Secchi.shp\n",
      "Selecting boundary: Biscayne Bay Aquatic Preserve\n",
      "Using search radius: 5000 m\n",
      "Generated kernel density map: KDE_BBAP_Secchi.tif\n",
      "Processing file: SHP_BBAP_Sal.shp\n",
      "Selecting boundary: Biscayne Bay Aquatic Preserve\n",
      "Using search radius: 5000 m\n",
      "Generated kernel density map: KDE_BBAP_Sal.tif\n",
      "Total number of maps generated: 5\n"
     ]
    }
   ],
   "source": [
    "generate_kernel_density_maps(input_shp_BBAP_summer, boundary_path, output_kde_BBAP_summer, 5000)"
   ]
  },
  {
   "cell_type": "code",
   "execution_count": 43,
   "metadata": {},
   "outputs": [
    {
     "name": "stdout",
     "output_type": "stream",
     "text": [
      "Processing file: SHP_BBAP_TN.shp\n",
      "Selecting boundary: Biscayne Bay Aquatic Preserve\n",
      "Using search radius: 5000 m\n",
      "Generated kernel density map: KDE_BBAP_TN.tif\n",
      "Processing file: SHP_BBAP_Turb.shp\n",
      "Selecting boundary: Biscayne Bay Aquatic Preserve\n",
      "Using search radius: 5000 m\n",
      "Generated kernel density map: KDE_BBAP_Turb.tif\n",
      "Processing file: SHP_BBAP_DO.shp\n",
      "Selecting boundary: Biscayne Bay Aquatic Preserve\n",
      "Using search radius: 5000 m\n",
      "Generated kernel density map: KDE_BBAP_DO.tif\n",
      "Processing file: SHP_BBAP_Secchi.shp\n",
      "Selecting boundary: Biscayne Bay Aquatic Preserve\n",
      "Using search radius: 5000 m\n",
      "Generated kernel density map: KDE_BBAP_Secchi.tif\n",
      "Processing file: SHP_BBAP_Sal.shp\n",
      "Selecting boundary: Biscayne Bay Aquatic Preserve\n",
      "Using search radius: 5000 m\n",
      "Generated kernel density map: KDE_BBAP_Sal.tif\n",
      "Total number of maps generated: 5\n"
     ]
    }
   ],
   "source": [
    "generate_kernel_density_maps(input_shp_BBAP_fall, boundary_path, output_kde_BBAP_fall, 5000)"
   ]
  },
  {
   "cell_type": "markdown",
   "metadata": {},
   "source": [
    "### 2.2.5 Guana Tolomato KDE Maps by Seasons<a class=\"anchor\" id=\"kde_gtm\"></a>"
   ]
  },
  {
   "cell_type": "code",
   "execution_count": 44,
   "metadata": {},
   "outputs": [],
   "source": [
    "delete_all_files(output_kde_GTMNERR_winter)\n",
    "delete_all_files(output_kde_GTMNERR_spring)\n",
    "delete_all_files(output_kde_GTMNERR_summer)\n",
    "delete_all_files(output_kde_GTMNERR_fall)"
   ]
  },
  {
   "cell_type": "code",
   "execution_count": 45,
   "metadata": {},
   "outputs": [
    {
     "name": "stdout",
     "output_type": "stream",
     "text": [
      "Processing file: SHP_GTMNERR_Secchi.shp\n",
      "Selecting boundary: Guana Tolomato Matanzas National Estuarine Research Reserve\n",
      "Using search radius: 5000 m\n",
      "Generated kernel density map: KDE_GTMNERR_Secchi.tif\n",
      "Processing file: SHP_GTMNERR_DO.shp\n",
      "Selecting boundary: Guana Tolomato Matanzas National Estuarine Research Reserve\n",
      "Using search radius: 5000 m\n",
      "Generated kernel density map: KDE_GTMNERR_DO.tif\n",
      "Processing file: SHP_GTMNERR_Turb.shp\n",
      "Selecting boundary: Guana Tolomato Matanzas National Estuarine Research Reserve\n",
      "Using search radius: 5000 m\n",
      "Generated kernel density map: KDE_GTMNERR_Turb.tif\n",
      "Processing file: SHP_GTMNERR_TN.shp\n",
      "Selecting boundary: Guana Tolomato Matanzas National Estuarine Research Reserve\n",
      "Using search radius: 5000 m\n",
      "Generated kernel density map: KDE_GTMNERR_TN.tif\n",
      "Processing file: SHP_GTMNERR_Sal.shp\n",
      "Selecting boundary: Guana Tolomato Matanzas National Estuarine Research Reserve\n",
      "Using search radius: 5000 m\n",
      "Generated kernel density map: KDE_GTMNERR_Sal.tif\n",
      "Total number of maps generated: 5\n"
     ]
    }
   ],
   "source": [
    "generate_kernel_density_maps(input_shp_GTMNERR_winter, boundary_path, output_kde_GTMNERR_winter, 5000)"
   ]
  },
  {
   "cell_type": "code",
   "execution_count": 46,
   "metadata": {},
   "outputs": [
    {
     "name": "stdout",
     "output_type": "stream",
     "text": [
      "Processing file: SHP_GTMNERR_Secchi.shp\n",
      "Selecting boundary: Guana Tolomato Matanzas National Estuarine Research Reserve\n",
      "Using search radius: 5000 m\n",
      "Generated kernel density map: KDE_GTMNERR_Secchi.tif\n",
      "Processing file: SHP_GTMNERR_DO.shp\n",
      "Selecting boundary: Guana Tolomato Matanzas National Estuarine Research Reserve\n",
      "Using search radius: 5000 m\n",
      "Generated kernel density map: KDE_GTMNERR_DO.tif\n",
      "Processing file: SHP_GTMNERR_Turb.shp\n",
      "Selecting boundary: Guana Tolomato Matanzas National Estuarine Research Reserve\n",
      "Using search radius: 5000 m\n",
      "Generated kernel density map: KDE_GTMNERR_Turb.tif\n",
      "Processing file: SHP_GTMNERR_TN.shp\n",
      "Selecting boundary: Guana Tolomato Matanzas National Estuarine Research Reserve\n",
      "Using search radius: 5000 m\n",
      "Generated kernel density map: KDE_GTMNERR_TN.tif\n",
      "Processing file: SHP_GTMNERR_Sal.shp\n",
      "Selecting boundary: Guana Tolomato Matanzas National Estuarine Research Reserve\n",
      "Using search radius: 5000 m\n",
      "Generated kernel density map: KDE_GTMNERR_Sal.tif\n",
      "Total number of maps generated: 5\n"
     ]
    }
   ],
   "source": [
    "generate_kernel_density_maps(input_shp_GTMNERR_spring, boundary_path, output_kde_GTMNERR_spring, 5000)"
   ]
  },
  {
   "cell_type": "code",
   "execution_count": 47,
   "metadata": {},
   "outputs": [
    {
     "name": "stdout",
     "output_type": "stream",
     "text": [
      "Processing file: SHP_GTMNERR_Secchi.shp\n",
      "Selecting boundary: Guana Tolomato Matanzas National Estuarine Research Reserve\n",
      "Using search radius: 5000 m\n",
      "Generated kernel density map: KDE_GTMNERR_Secchi.tif\n",
      "Processing file: SHP_GTMNERR_DO.shp\n",
      "Selecting boundary: Guana Tolomato Matanzas National Estuarine Research Reserve\n",
      "Using search radius: 5000 m\n",
      "Generated kernel density map: KDE_GTMNERR_DO.tif\n",
      "Processing file: SHP_GTMNERR_Turb.shp\n",
      "Selecting boundary: Guana Tolomato Matanzas National Estuarine Research Reserve\n",
      "Using search radius: 5000 m\n",
      "Generated kernel density map: KDE_GTMNERR_Turb.tif\n",
      "Processing file: SHP_GTMNERR_TN.shp\n",
      "Selecting boundary: Guana Tolomato Matanzas National Estuarine Research Reserve\n",
      "Using search radius: 5000 m\n",
      "Generated kernel density map: KDE_GTMNERR_TN.tif\n",
      "Processing file: SHP_GTMNERR_Sal.shp\n",
      "Selecting boundary: Guana Tolomato Matanzas National Estuarine Research Reserve\n",
      "Using search radius: 5000 m\n",
      "Generated kernel density map: KDE_GTMNERR_Sal.tif\n",
      "Total number of maps generated: 5\n"
     ]
    }
   ],
   "source": [
    "generate_kernel_density_maps(input_shp_GTMNERR_summer, boundary_path, output_kde_GTMNERR_summer, 5000)"
   ]
  },
  {
   "cell_type": "code",
   "execution_count": 48,
   "metadata": {
    "scrolled": true
   },
   "outputs": [
    {
     "name": "stdout",
     "output_type": "stream",
     "text": [
      "Processing file: SHP_GTMNERR_Secchi.shp\n",
      "Selecting boundary: Guana Tolomato Matanzas National Estuarine Research Reserve\n",
      "Using search radius: 5000 m\n",
      "Generated kernel density map: KDE_GTMNERR_Secchi.tif\n",
      "Processing file: SHP_GTMNERR_DO.shp\n",
      "Selecting boundary: Guana Tolomato Matanzas National Estuarine Research Reserve\n",
      "Using search radius: 5000 m\n",
      "Generated kernel density map: KDE_GTMNERR_DO.tif\n",
      "Processing file: SHP_GTMNERR_Turb.shp\n",
      "Selecting boundary: Guana Tolomato Matanzas National Estuarine Research Reserve\n",
      "Using search radius: 5000 m\n",
      "Generated kernel density map: KDE_GTMNERR_Turb.tif\n",
      "Processing file: SHP_GTMNERR_TN.shp\n",
      "Selecting boundary: Guana Tolomato Matanzas National Estuarine Research Reserve\n",
      "Using search radius: 5000 m\n",
      "Generated kernel density map: KDE_GTMNERR_TN.tif\n",
      "Processing file: SHP_GTMNERR_Sal.shp\n",
      "Selecting boundary: Guana Tolomato Matanzas National Estuarine Research Reserve\n",
      "Using search radius: 5000 m\n",
      "Generated kernel density map: KDE_GTMNERR_Sal.tif\n",
      "Total number of maps generated: 5\n"
     ]
    }
   ],
   "source": [
    "generate_kernel_density_maps(input_shp_GTMNERR_fall, boundary_path, output_kde_GTMNERR_fall, 5000)"
   ]
  },
  {
   "cell_type": "code",
   "execution_count": 49,
   "metadata": {},
   "outputs": [],
   "source": [
    "def copy_folders_to_target(source_folders, target_folder):\n",
    "    # Check if the target folder exists, create it if not\n",
    "    if not os.path.exists(target_folder):\n",
    "        os.makedirs(target_folder)\n",
    "\n",
    "    # Iterate over the source folder list\n",
    "    for folder_path in source_folders:\n",
    "        # Iterate over each file in the source folder\n",
    "        for file_name in os.listdir(folder_path):\n",
    "            # Get the full path of the source file\n",
    "            source_file_path = os.path.join(folder_path, file_name)\n",
    "\n",
    "            # Check if the source path is a file (not a directory)\n",
    "            if os.path.isfile(source_file_path):\n",
    "                # Get the full path of the target file\n",
    "                target_file_path = os.path.join(target_folder, file_name)\n",
    "                \n",
    "                # Copy the file to the target folder\n",
    "                shutil.copy2(source_file_path, target_file_path)\n",
    "\n",
    "        print(f\"All files in the folder {folder_path} have been copied.\")"
   ]
  },
  {
   "cell_type": "code",
   "execution_count": 50,
   "metadata": {},
   "outputs": [],
   "source": [
    "source_folders_winter = [output_kde_GSCHASP_winter, output_kde_EBAP_winter, \n",
    "                  output_kde_BBSAP_winter,output_kde_BBAP_winter,\n",
    "                  output_kde_GTMNERR_winter]\n",
    "\n",
    "delete_all_files(kde_all_winter)"
   ]
  },
  {
   "cell_type": "code",
   "execution_count": 51,
   "metadata": {},
   "outputs": [
    {
     "name": "stdout",
     "output_type": "stream",
     "text": [
      "All files in the folder \\\\Mac\\Home\\Documents\\WaterQuality\\SEACAR_WQ_Pilot-selected\\GIS_data\\Gap_analysis\\Gap_KDE_All_Seasons_byAreas\\Gap_KDE_GSCHAP_Winter have been copied.\n",
      "All files in the folder \\\\Mac\\Home\\Documents\\WaterQuality\\SEACAR_WQ_Pilot-selected\\GIS_data\\Gap_analysis\\Gap_KDE_All_Seasons_byAreas\\Gap_KDE_EBAP_Winter have been copied.\n",
      "All files in the folder \\\\Mac\\Home\\Documents\\WaterQuality\\SEACAR_WQ_Pilot-selected\\GIS_data\\Gap_analysis\\Gap_KDE_All_Seasons_byAreas\\Gap_KDE_BBSAP_Winter have been copied.\n",
      "All files in the folder \\\\Mac\\Home\\Documents\\WaterQuality\\SEACAR_WQ_Pilot-selected\\GIS_data\\Gap_analysis\\Gap_KDE_All_Seasons_byAreas\\Gap_KDE_BBAP_Winter have been copied.\n",
      "All files in the folder \\\\Mac\\Home\\Documents\\WaterQuality\\SEACAR_WQ_Pilot-selected\\GIS_data\\Gap_analysis\\Gap_KDE_All_Seasons_byAreas\\Gap_KDE_GTMNERR_Winter have been copied.\n"
     ]
    }
   ],
   "source": [
    "# Combine all winter KDE in one folder\n",
    "copy_folders_to_target(source_folders_winter, kde_all_winter)"
   ]
  },
  {
   "cell_type": "code",
   "execution_count": 52,
   "metadata": {},
   "outputs": [],
   "source": [
    "source_folders_spring = [output_kde_GSCHASP_spring, output_kde_EBAP_spring, \n",
    "                  output_kde_BBSAP_spring,output_kde_BBAP_spring,\n",
    "                  output_kde_GTMNERR_spring]\n",
    "\n",
    "delete_all_files(kde_all_spring)"
   ]
  },
  {
   "cell_type": "code",
   "execution_count": 53,
   "metadata": {},
   "outputs": [
    {
     "name": "stdout",
     "output_type": "stream",
     "text": [
      "All files in the folder \\\\Mac\\Home\\Documents\\WaterQuality\\SEACAR_WQ_Pilot-selected\\GIS_data\\Gap_analysis\\Gap_KDE_All_Seasons_byAreas\\Gap_KDE_GSCHAP_Spring have been copied.\n",
      "All files in the folder \\\\Mac\\Home\\Documents\\WaterQuality\\SEACAR_WQ_Pilot-selected\\GIS_data\\Gap_analysis\\Gap_KDE_All_Seasons_byAreas\\Gap_KDE_EBAP_Spring have been copied.\n",
      "All files in the folder \\\\Mac\\Home\\Documents\\WaterQuality\\SEACAR_WQ_Pilot-selected\\GIS_data\\Gap_analysis\\Gap_KDE_All_Seasons_byAreas\\Gap_KDE_BBSAP_Spring have been copied.\n",
      "All files in the folder \\\\Mac\\Home\\Documents\\WaterQuality\\SEACAR_WQ_Pilot-selected\\GIS_data\\Gap_analysis\\Gap_KDE_All_Seasons_byAreas\\Gap_KDE_BBAP_Spring have been copied.\n",
      "All files in the folder \\\\Mac\\Home\\Documents\\WaterQuality\\SEACAR_WQ_Pilot-selected\\GIS_data\\Gap_analysis\\Gap_KDE_All_Seasons_byAreas\\Gap_KDE_GTMNERR_Spring have been copied.\n"
     ]
    }
   ],
   "source": [
    "# Combine all spring KDE in one folder\n",
    "copy_folders_to_target(source_folders_spring, kde_all_spring)"
   ]
  },
  {
   "cell_type": "code",
   "execution_count": 54,
   "metadata": {},
   "outputs": [],
   "source": [
    "source_folders_summer = [output_kde_GSCHASP_summer, output_kde_EBAP_summer, \n",
    "                  output_kde_BBSAP_summer,output_kde_BBAP_summer,\n",
    "                  output_kde_GTMNERR_summer]\n",
    "\n",
    "delete_all_files(kde_all_summer)"
   ]
  },
  {
   "cell_type": "code",
   "execution_count": 55,
   "metadata": {},
   "outputs": [
    {
     "name": "stdout",
     "output_type": "stream",
     "text": [
      "All files in the folder \\\\Mac\\Home\\Documents\\WaterQuality\\SEACAR_WQ_Pilot-selected\\GIS_data\\Gap_analysis\\Gap_KDE_All_Seasons_byAreas\\Gap_KDE_GSCHAP_Summer have been copied.\n",
      "All files in the folder \\\\Mac\\Home\\Documents\\WaterQuality\\SEACAR_WQ_Pilot-selected\\GIS_data\\Gap_analysis\\Gap_KDE_All_Seasons_byAreas\\Gap_KDE_EBAP_Summer have been copied.\n",
      "All files in the folder \\\\Mac\\Home\\Documents\\WaterQuality\\SEACAR_WQ_Pilot-selected\\GIS_data\\Gap_analysis\\Gap_KDE_All_Seasons_byAreas\\Gap_KDE_BBSAP_Summer have been copied.\n",
      "All files in the folder \\\\Mac\\Home\\Documents\\WaterQuality\\SEACAR_WQ_Pilot-selected\\GIS_data\\Gap_analysis\\Gap_KDE_All_Seasons_byAreas\\Gap_KDE_BBAP_Summer have been copied.\n",
      "All files in the folder \\\\Mac\\Home\\Documents\\WaterQuality\\SEACAR_WQ_Pilot-selected\\GIS_data\\Gap_analysis\\Gap_KDE_All_Seasons_byAreas\\Gap_KDE_GTMNERR_Summer have been copied.\n"
     ]
    }
   ],
   "source": [
    "# Combine all summer KDE in one folder\n",
    "copy_folders_to_target(source_folders_summer, kde_all_summer)"
   ]
  },
  {
   "cell_type": "code",
   "execution_count": 56,
   "metadata": {},
   "outputs": [],
   "source": [
    "source_folders_fall = [output_kde_GSCHASP_fall, output_kde_EBAP_fall, \n",
    "                  output_kde_BBSAP_fall,output_kde_BBAP_fall,\n",
    "                  output_kde_GTMNERR_fall]\n",
    "\n",
    "delete_all_files(kde_all_fall)"
   ]
  },
  {
   "cell_type": "code",
   "execution_count": 57,
   "metadata": {},
   "outputs": [
    {
     "name": "stdout",
     "output_type": "stream",
     "text": [
      "All files in the folder \\\\Mac\\Home\\Documents\\WaterQuality\\SEACAR_WQ_Pilot-selected\\GIS_data\\Gap_analysis\\Gap_KDE_All_Seasons_byAreas\\Gap_KDE_GSCHAP_Fall have been copied.\n",
      "All files in the folder \\\\Mac\\Home\\Documents\\WaterQuality\\SEACAR_WQ_Pilot-selected\\GIS_data\\Gap_analysis\\Gap_KDE_All_Seasons_byAreas\\Gap_KDE_EBAP_Fall have been copied.\n",
      "All files in the folder \\\\Mac\\Home\\Documents\\WaterQuality\\SEACAR_WQ_Pilot-selected\\GIS_data\\Gap_analysis\\Gap_KDE_All_Seasons_byAreas\\Gap_KDE_BBSAP_Fall have been copied.\n",
      "All files in the folder \\\\Mac\\Home\\Documents\\WaterQuality\\SEACAR_WQ_Pilot-selected\\GIS_data\\Gap_analysis\\Gap_KDE_All_Seasons_byAreas\\Gap_KDE_BBAP_Fall have been copied.\n",
      "All files in the folder \\\\Mac\\Home\\Documents\\WaterQuality\\SEACAR_WQ_Pilot-selected\\GIS_data\\Gap_analysis\\Gap_KDE_All_Seasons_byAreas\\Gap_KDE_GTMNERR_Fall have been copied.\n"
     ]
    }
   ],
   "source": [
    "# Combine all fall KDE in one folder\n",
    "copy_folders_to_target(source_folders_fall, kde_all_fall)"
   ]
  }
 ],
 "metadata": {
  "kernelspec": {
   "display_name": "Python 3",
   "language": "python",
   "name": "python3"
  },
  "language_info": {
   "codemirror_mode": {
    "name": "ipython",
    "version": 3
   },
   "file_extension": ".py",
   "mimetype": "text/x-python",
   "name": "python",
   "nbconvert_exporter": "python",
   "pygments_lexer": "ipython3",
   "version": "3.7.11"
  }
 },
 "nbformat": 4,
 "nbformat_minor": 4
}
