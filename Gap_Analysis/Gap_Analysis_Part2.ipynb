{
 "cells": [
  {
   "cell_type": "markdown",
   "id": "1e1b6e78",
   "metadata": {},
   "source": [
    "# Gap Analysis Part 2 (Seasonal maps)\n",
    "\n",
    "This document includes Python codes that conduct kernel density analysis and standard error prediction on water quality parameters **with seasonality**, including Total Nitrogen, Salinity, Dissolved Oxygen, Turbidity, and Secchi Depth.\n",
    "\n",
    "The analysis is conducted in the separate managed areas of Charlotte Harbor, Estero Bay, Big Bend, Biscayne Bay, and Guana Tolomato.\n",
    "\n",
    "Tasks:  \n",
    "\n",
    "\n",
    "1. Create Kernel Density Maps for both continuous and discrete data points.  \n",
    "    - For data, without seasonality (Part 1):\n",
    "        * Get all data from 2015 to 2019.  \n",
    "        * Create shapefiles for each managed area and water parameters.    \n",
    "        * Using Arcpy Kernel Density to create maps (KDE_Arcpy in arcgispro-py3 environment).<br><br>\n",
    "    - **For data, with seasonality (Part 2):**  \n",
    "        * Get all data from 2015 to 2019.  \n",
    "        * Assign season according to season table.\n",
    "        * Extract different four seasons, generate shapefiles in four folders.\n",
    "        * Use the previously defined Generate Kernel Density method (Arcpy) to generate maps.\n",
    "        * Add a season suffix to distinguish the generated .shp season files, and save them to one folder. <br><br>\n",
    "    - Show KDE and SEP maps w/o seasons in pairs. <br><br>  \n",
    "2. Calculate the average of rescaled SEP rasters in each managed area and parameter.  \n",
    "    - For data, without seasonality (Part 1):  \n",
    "        * Rescale the SEP raster from data from 2015 to 2019.  \n",
    "        * Calculate and Plot Average Rescaled SEP.<br><br>\n",
    "    - **For data, with seasonality (Part 2):**  \n",
    "        * Using the rescaled SEP from Part 1.\n",
    "        * Calculate and plot average rescaled SEP by season.<br><br>  \n",
    "    - Show KDE and SEP maps w/o seasons in pairs.<br><br>\n",
    "\n",
    "**Part 2 Tasks**\n",
    "* [1.Data Preprocess](#preprocessing)\n",
    "    * [1.1 Preset Parameters](#preset)\n",
    "    * [1.2 Assign Season](#reg_as_season)\n",
    "* [2. Create Shapefile](#reg_create_shp)\n",
    "    * [2.1 Create Shapefiles for Winter](#reg_create_shp_winter)\n",
    "    * [2.2 Create Shapefiles for Spring](#reg_create_shp_spring)\n",
    "    * [2.3 Create Shapefiles for Summer](#reg_create_shp_summer)\n",
    "    * [2.4 Create Shapefiles for Fall](#reg_create_shp_fall)\n",
    "* [3. Calculate Average Rescaled SEP by Season](#reg_calculate_average_season)\n",
    "    * [3.1 Charlotte Harbor](#reg_avg_rescale_sep_season_ch)\n",
    "    * [3.2 Estero Bay](#reg_avg_rescale_sep_season_eb)\n",
    "    * [3.3 Big Bend](#reg_avg_rescale_sep_season_bb)\n",
    "    * [3.4 Biscayne Bay Aquatic Preserve](#reg_avg_rescale_sep_season_bbay)\n",
    "    * [3.5 Guana Tolomato](#reg_avg_rescale_sep_season_gtm)\n",
    "* [4. Plot Kernel Density Map & Standard Error Prediction Map (Season)](#reg_kde_sep)\n",
    "    * [4.1 Charlotte Harbor](#reg_plot_pair_ch)\n",
    "    * [4.2 Estero Bay](#reg_plot_pair_eb)\n",
    "    * [4.3 Big Bend](#reg_plot_pair_bb)\n",
    "    * [4.4 Biscayne Bay Aquatic Preserve](#reg_plot_pair_bbay)\n",
    "    * [4.5 Guana Tolomato](#reg_plot_pair_gtm)"
   ]
  },
  {
   "cell_type": "code",
   "execution_count": null,
   "id": "3a940c18",
   "metadata": {},
   "outputs": [],
   "source": [
    "import pandas as pd\n",
    "import geopandas as gpd\n",
    "import os\n",
    "from collections import defaultdict\n",
    "import rasterio\n",
    "import numpy as np\n",
    "import warnings\n",
    "warnings.filterwarnings('ignore')\n",
    "import numpy.ma as ma\n",
    "import matplotlib.pyplot as plt\n",
    "import contextily as cx\n",
    "from mpl_toolkits.axes_grid1 import make_axes_locatable\n",
    "import rasterio.plot\n",
    "from shapely.geometry import Point\n",
    "import shutil\n",
    "import glob\n",
    "import matplotlib.gridspec as gridspec\n",
    "import importlib\n",
    "\n",
    "import sys\n",
    "sys.path.insert(0, '/Users/cong/Downloads/WaterQualityProject/SEACAR_WQ_Pilot-selected/git/misc')\n",
    "import GapAnalysis\n",
    "warnings.filterwarnings(action='once')\n",
    "importlib.reload(GapAnalysis) # reload the GapAnalysis module after edit"
   ]
  },
  {
   "cell_type": "markdown",
   "id": "72433e66",
   "metadata": {},
   "source": [
    "# 1. Data Preprocessing <a class=\"anchor\" id=\"preprocessing\"></a>\n",
    "Define the water quality parameter folders"
   ]
  },
  {
   "cell_type": "code",
   "execution_count": null,
   "id": "0464610e",
   "metadata": {},
   "outputs": [],
   "source": [
    "# For kernel density estimation\n",
    "gis_path = '/Users/cong/Downloads/WaterQualityProject/SEACAR_WQ_Pilot-selected/GIS_data/'\n",
    "dfAll_orig = pd.read_csv(gis_path + r\"all_0214.csv\", low_memory=False)\n",
    "\n",
    "season_table = pd.read_csv(gis_path + r\"OEATUSF_Geospatial_TempSeasons_update_0611.csv\", low_memory=False)\n",
    "boundary = gpd.read_file(gis_path + r\"ORCP_Managed_Areas_Oct2021.shp\")\n",
    "\n",
    "\n",
    "# All shapefile folder for each season\n",
    "gap_path = gis_path +'Gap_analysis/'\n",
    "\n",
    "# Water quality data with assiged season attribute\n",
    "dfAll_orig_season = gap_path + r'WQ_Season.csv'\n",
    "\n",
    "shp_winter = gap_path + r\"Gap_SHP_Winter\"\n",
    "shp_spring = gap_path + r\"Gap_SHP_Spring\"\n",
    "shp_summer = gap_path + r\"Gap_SHP_Summer\"\n",
    "shp_fall = gap_path + r\"Gap_SHP_Fall\"\n",
    "shp_all = gap_path + r\"Gap_SHP_All_Seasons\"\n",
    "\n",
    "# All KDE maps folder for each season generated by Arcpy KDE function\n",
    "\n",
    "kde_seasons = gap_path + r'Gap_KDE_Each_Season/'\n",
    "kde_winter = kde_seasons + r\"Gap_KDE_Winter\"\n",
    "kde_spring = kde_seasons + r\"Gap_KDE_Spring\"\n",
    "kde_summer = kde_seasons + r\"Gap_KDE_Summer\"\n",
    "kde_fall = kde_seasons + r\"Gap_KDE_Fall\"\n",
    "\n",
    "# All kde maps with seasonality\n",
    "kde_all = gap_path + r\"Gap_KDE_AllSeasons\"\n",
    "\n",
    "# Store both KDE and SEP maps\n",
    "kde_sep_files_season = gap_path + r\"KDE_SEP_TIF_Season\""
   ]
  },
  {
   "cell_type": "code",
   "execution_count": null,
   "id": "fde8f3bc",
   "metadata": {},
   "outputs": [],
   "source": [
    "# For standard error prediction\n",
    "\n",
    "eps_path = gap_path + 'standard_error_prediction/'\n",
    "rescale_path_GSCHAP = eps_path + r\"Rescaled_CharlotteHarbor\"\n",
    "rescale_path_EBAP = eps_path + r\"Rescaled_EsteroBay\"\n",
    "rescale_path_BBSAP = eps_path + r\"Rescaled_BigBend\"\n",
    "rescale_path_BBAP = eps_path + r\"Rescaled_BiscayneBay\"\n",
    "rescale_path_GTMNERR = eps_path + r\"Rescaled_GTMReserve\"\n",
    "\n",
    "boundary_path = gis_path + r\"ORCP_Managed_Areas_Oct2021.shp\"\n",
    "\n",
    "#Store average tif files in Charlotte Harbor by seasons\n",
    "avg_tif_GSCHAP_Season = eps_path + r\"AVG_SEP_GSCHAP_Season\"\n",
    "avg_tif_EBAP_Season = eps_path + r\"AVG_SEP_EBAP_Season\"\n",
    "avg_tif_BBSAP_Season = eps_path + r\"AVG_SEP_BBSAP_Season\"\n",
    "avg_tif_BBAP_Season = eps_path + r\"AVG_SEP_BBAP_Season\"\n",
    "avg_tif_GTMNERR_Season = eps_path + r\"AVG_SEP_GTMNERR_Season\""
   ]
  },
  {
   "cell_type": "code",
   "execution_count": null,
   "id": "90f76783",
   "metadata": {},
   "outputs": [],
   "source": [
    "# Select the year between 2015 to 2019 and needed  managed areas\n",
    "managed_areas = [\n",
    "    'Gasparilla Sound-Charlotte Harbor Aquatic Preserve',\n",
    "    'Estero Bay Aquatic Preserve',\n",
    "    'Big Bend Seagrasses Aquatic Preserve',\n",
    "    'Biscayne Bay Aquatic Preserve',\n",
    "    'Guana Tolomato Matanzas National Estuarine Research Reserve'\n",
    "]\n",
    "\n",
    "selected_dfAll_orig = dfAll_orig[(dfAll_orig['Year'] >= 2015) & \n",
    "                                 (dfAll_orig['Year'] <= 2019) & \n",
    "                                 (dfAll_orig['ManagedAreaName'].isin(managed_areas))]"
   ]
  },
  {
   "cell_type": "markdown",
   "id": "c00bc537",
   "metadata": {},
   "source": [
    "## 1.2 Assign Season <a class=\"anchor\" id=\"reg_as_season\"></a>"
   ]
  },
  {
   "cell_type": "code",
   "execution_count": null,
   "id": "e2dcf511",
   "metadata": {},
   "outputs": [],
   "source": [
    "# GapAnalysis.assign_season(selected_dfAll_orig, selected_season_table, dfAll_orig_season)"
   ]
  },
  {
   "cell_type": "code",
   "execution_count": null,
   "id": "638d8306",
   "metadata": {},
   "outputs": [],
   "source": [
    "selected_dfAll_orig_season = pd.read_csv(dfAll_orig_season)\n",
    "selected_dfAll_orig_season.head()"
   ]
  },
  {
   "cell_type": "markdown",
   "id": "2f18415f",
   "metadata": {},
   "source": [
    "Select the data for the four seasons"
   ]
  },
  {
   "cell_type": "code",
   "execution_count": null,
   "id": "634a7f43",
   "metadata": {},
   "outputs": [],
   "source": [
    "selected_dfAll_orig_winter = selected_dfAll_orig_season[(selected_dfAll_orig_season['season'] =='Winter')]\n",
    "\n",
    "selected_dfAll_orig_spring = selected_dfAll_orig_season[(selected_dfAll_orig_season['season'] =='Spring')]\n",
    "\n",
    "selected_dfAll_orig_summer = selected_dfAll_orig_season[(selected_dfAll_orig_season['season'] =='Summer')]\n",
    "\n",
    "selected_dfAll_orig_fall = selected_dfAll_orig_season[(selected_dfAll_orig_season['season'] =='Fall')]"
   ]
  },
  {
   "cell_type": "markdown",
   "id": "0ea0770b",
   "metadata": {},
   "source": [
    "# 2. Create Shapefile <a class=\"anchor\" id=\"reg_create_shp\"></a>"
   ]
  },
  {
   "cell_type": "code",
   "execution_count": null,
   "id": "c9f4a3de",
   "metadata": {},
   "outputs": [],
   "source": [
    "managed_area_names = [\n",
    "    'Gasparilla Sound-Charlotte Harbor Aquatic Preserve',\n",
    "    'Estero Bay Aquatic Preserve',\n",
    "    'Big Bend Seagrasses Aquatic Preserve',\n",
    "    'Biscayne Bay Aquatic Preserve',\n",
    "    'Guana Tolomato Matanzas National Estuarine Research Reserve'\n",
    "]\n",
    "\n",
    "parameter_names = ['Salinity', 'Total Nitrogen', 'Dissolved Oxygen', 'Turbidity', 'Secchi Depth']"
   ]
  },
  {
   "cell_type": "markdown",
   "id": "d0844453",
   "metadata": {},
   "source": [
    "## 2.1 Create Shapefiles for Winter<a class=\"anchor\" id=\"reg_create_shp_winter\"></a>"
   ]
  },
  {
   "cell_type": "code",
   "execution_count": null,
   "id": "df4077d7",
   "metadata": {},
   "outputs": [],
   "source": [
    "GapAnalysis.delete_all_files(shp_winter)"
   ]
  },
  {
   "cell_type": "code",
   "execution_count": null,
   "id": "98fdfec6",
   "metadata": {},
   "outputs": [],
   "source": [
    "# Create shapefiles for winter\n",
    "GapAnalysis.create_shp_season(selected_dfAll_orig_winter, managed_area_names, parameter_names, shp_winter)"
   ]
  },
  {
   "cell_type": "markdown",
   "id": "c915217d",
   "metadata": {},
   "source": [
    "## 2.2 Create Shapefiles for Spring<a class=\"anchor\" id=\"reg_create_shp_spring\"></a>"
   ]
  },
  {
   "cell_type": "code",
   "execution_count": null,
   "id": "481155af",
   "metadata": {},
   "outputs": [],
   "source": [
    "GapAnalysis.delete_all_files(shp_spring)"
   ]
  },
  {
   "cell_type": "code",
   "execution_count": null,
   "id": "1838c0d8",
   "metadata": {},
   "outputs": [],
   "source": [
    "# Create shapefiles for spring\n",
    "GapAnalysis.create_shp_season(selected_dfAll_orig_spring, managed_area_names, parameter_names, shp_spring)"
   ]
  },
  {
   "cell_type": "markdown",
   "id": "f5ba30c8",
   "metadata": {},
   "source": [
    "## 2.3 Create Shapefiles for Summer<a class=\"anchor\" id=\"reg_create_shp_summer\"></a>"
   ]
  },
  {
   "cell_type": "code",
   "execution_count": null,
   "id": "2230d301",
   "metadata": {},
   "outputs": [],
   "source": [
    "GapAnalysis.delete_all_files(shp_summer)"
   ]
  },
  {
   "cell_type": "code",
   "execution_count": null,
   "id": "ae7a0a6e",
   "metadata": {},
   "outputs": [],
   "source": [
    "# Create shapefiles for summer\n",
    "GapAnalysis.create_shp_season(selected_dfAll_orig_summer, managed_area_names, parameter_names, shp_summer)"
   ]
  },
  {
   "cell_type": "markdown",
   "id": "13fc0991",
   "metadata": {},
   "source": [
    "## 2.4 Create Shapefiles for Fall<a class=\"anchor\" id=\"reg_create_shp_fall\"></a>"
   ]
  },
  {
   "cell_type": "code",
   "execution_count": null,
   "id": "a2d4692e",
   "metadata": {},
   "outputs": [],
   "source": [
    "GapAnalysis.delete_all_files(shp_fall)"
   ]
  },
  {
   "cell_type": "code",
   "execution_count": null,
   "id": "a8baa2a4",
   "metadata": {},
   "outputs": [],
   "source": [
    "# Create shapefiles for fall\n",
    "GapAnalysis.create_shp_season(selected_dfAll_orig_fall, managed_area_names, parameter_names, shp_fall)"
   ]
  },
  {
   "cell_type": "markdown",
   "id": "a24ae37b",
   "metadata": {},
   "source": [
    "# 3. Calculate and Plot Average Rescaled SEP by Season <a class=\"anchor\" id=\"reg_calculate_average_season\"></a>"
   ]
  },
  {
   "cell_type": "markdown",
   "id": "798a7187",
   "metadata": {},
   "source": [
    "## 3.1 Charlotte Harbor <a class=\"anchor\" id=\"reg_avg_rescale_sep_season_ch\"></a>"
   ]
  },
  {
   "cell_type": "code",
   "execution_count": null,
   "id": "8c24486a",
   "metadata": {},
   "outputs": [],
   "source": [
    "GapAnalysis.delete_all_files(avg_tif_GSCHAP_Season)"
   ]
  },
  {
   "cell_type": "code",
   "execution_count": null,
   "id": "d2c07c79",
   "metadata": {},
   "outputs": [],
   "source": [
    "GapAnalysis.calculate_average_tif_season(rescale_path_GSCHAP, avg_tif_GSCHAP_Season)"
   ]
  },
  {
   "cell_type": "markdown",
   "id": "d1197c42",
   "metadata": {},
   "source": [
    "## 3.2 Estero Bay  <a class=\"anchor\" id=\"reg_avg_rescale_sep_season_eb\"></a>"
   ]
  },
  {
   "cell_type": "code",
   "execution_count": null,
   "id": "18ffc6dc",
   "metadata": {},
   "outputs": [],
   "source": [
    "GapAnalysis.delete_all_files(avg_tif_EBAP_Season)"
   ]
  },
  {
   "cell_type": "code",
   "execution_count": null,
   "id": "5c437544",
   "metadata": {},
   "outputs": [],
   "source": [
    "GapAnalysis.calculate_average_tif_season(rescale_path_EBAP, avg_tif_EBAP_Season)"
   ]
  },
  {
   "cell_type": "markdown",
   "id": "cd64a215",
   "metadata": {},
   "source": [
    "##  3.3 Big Bend <a class=\"anchor\" id=\"reg_avg_rescale_sep_season_bb\"></a>"
   ]
  },
  {
   "cell_type": "code",
   "execution_count": null,
   "id": "c079cd46",
   "metadata": {},
   "outputs": [],
   "source": [
    "GapAnalysis.delete_all_files(avg_tif_BBSAP_Season)"
   ]
  },
  {
   "cell_type": "code",
   "execution_count": null,
   "id": "32a6d92b",
   "metadata": {},
   "outputs": [],
   "source": [
    "GapAnalysis.calculate_average_tif_season(rescale_path_BBSAP, avg_tif_BBSAP_Season)"
   ]
  },
  {
   "cell_type": "markdown",
   "id": "855a8efb",
   "metadata": {},
   "source": [
    "## 3.4 Biscayne Bay <a class=\"anchor\" id=\"reg_avg_rescale_sep_season_bbay\"></a>"
   ]
  },
  {
   "cell_type": "code",
   "execution_count": null,
   "id": "4803df52",
   "metadata": {},
   "outputs": [],
   "source": [
    "GapAnalysis.delete_all_files(avg_tif_BBAP_Season)"
   ]
  },
  {
   "cell_type": "code",
   "execution_count": null,
   "id": "64cbb470",
   "metadata": {},
   "outputs": [],
   "source": [
    "GapAnalysis.calculate_average_tif_season(rescale_path_BBAP, avg_tif_BBAP_Season)"
   ]
  },
  {
   "cell_type": "markdown",
   "id": "cc63516d",
   "metadata": {},
   "source": [
    "## 3.5 Guana Tolomato <a class=\"anchor\" id=\"reg_avg_rescale_sep_season_gtm\"></a>"
   ]
  },
  {
   "cell_type": "code",
   "execution_count": null,
   "id": "40235961",
   "metadata": {},
   "outputs": [],
   "source": [
    "GapAnalysis.delete_all_files(avg_tif_GTMNERR_Season)"
   ]
  },
  {
   "cell_type": "code",
   "execution_count": null,
   "id": "68c47058",
   "metadata": {},
   "outputs": [],
   "source": [
    "GapAnalysis.calculate_average_tif_season(rescale_path_GTMNERR, avg_tif_GTMNERR_Season)"
   ]
  },
  {
   "cell_type": "markdown",
   "id": "b01761ad",
   "metadata": {},
   "source": [
    "# 4. Kernel Density Map & Standard Error Prediction Map (Season) <a class=\"anchor\" id=\"reg_kde_sep\"></a>"
   ]
  },
  {
   "cell_type": "markdown",
   "id": "63c13ffe",
   "metadata": {},
   "source": [
    "Function to merge all KDE and rescaled average SEP tif files into one folder to plot together"
   ]
  },
  {
   "cell_type": "code",
   "execution_count": null,
   "id": "649eaa3c",
   "metadata": {},
   "outputs": [],
   "source": [
    "folders = [kde_all, avg_tif_GSCHAP_Season, avg_tif_EBAP_Season, avg_tif_BBSAP_Season, avg_tif_BBAP_Season, avg_tif_GTMNERR_Season]"
   ]
  },
  {
   "cell_type": "code",
   "execution_count": null,
   "id": "830d7f97",
   "metadata": {},
   "outputs": [],
   "source": [
    "GapAnalysis.delete_all_files(kde_sep_files_season)"
   ]
  },
  {
   "cell_type": "code",
   "execution_count": null,
   "id": "11bd10ba",
   "metadata": {},
   "outputs": [],
   "source": [
    "GapAnalysis.merge_folders(folders, kde_sep_files_season)"
   ]
  },
  {
   "cell_type": "markdown",
   "id": "51e3640e",
   "metadata": {},
   "source": [
    "## 4.1 Charlotte Harbor <a class=\"anchor\" id=\"reg_avg_rescale_sep_ch\"></a>"
   ]
  },
  {
   "cell_type": "code",
   "execution_count": null,
   "id": "cd4b19ad",
   "metadata": {},
   "outputs": [],
   "source": [
    "GapAnalysis.plot_pairs_season(kde_sep_files_season, 'Gasparilla Sound-Charlotte Harbor Aquatic Preserve', boundary, 50, 25)"
   ]
  },
  {
   "cell_type": "markdown",
   "id": "57c39288",
   "metadata": {},
   "source": [
    "## 4.2 Estero Bay  <a class=\"anchor\" id=\"reg_avg_rescale_sep_eb\"></a>"
   ]
  },
  {
   "cell_type": "code",
   "execution_count": null,
   "id": "3e717555",
   "metadata": {},
   "outputs": [],
   "source": [
    "GapAnalysis.plot_pairs_season(kde_sep_files_season, 'Estero Bay Aquatic Preserve', boundary, 50, 25)"
   ]
  },
  {
   "cell_type": "markdown",
   "id": "e02f28d6",
   "metadata": {},
   "source": [
    "##  4.3 Big Bend <a class=\"anchor\" id=\"reg_avg_rescale_sep_bb\"></a>"
   ]
  },
  {
   "cell_type": "code",
   "execution_count": null,
   "id": "26199561",
   "metadata": {},
   "outputs": [],
   "source": [
    "GapAnalysis.plot_pairs_season(kde_sep_files_season, 'Big Bend Seagrasses Aquatic Preserve', boundary, 65, 30)"
   ]
  },
  {
   "cell_type": "markdown",
   "id": "52d8f6a4",
   "metadata": {},
   "source": [
    "## 4.4 Biscayne Bay <a class=\"anchor\" id=\"reg_plot_pair_bbay\"></a>"
   ]
  },
  {
   "cell_type": "code",
   "execution_count": null,
   "id": "0a267952",
   "metadata": {},
   "outputs": [],
   "source": [
    "GapAnalysis.plot_pairs_season(kde_sep_files_season, 'Biscayne Bay Aquatic Preserve', boundary, 60, 70)"
   ]
  },
  {
   "cell_type": "markdown",
   "id": "00470543",
   "metadata": {},
   "source": [
    "## 4.5 Guana Tolomato <a class=\"anchor\" id=\"reg_plot_pair_gtm\"></a>"
   ]
  },
  {
   "cell_type": "code",
   "execution_count": null,
   "id": "f8090ade",
   "metadata": {},
   "outputs": [],
   "source": [
    "GapAnalysis.plot_pairs_season(kde_sep_files_season, 'Guana Tolomato Matanzas National Estuarine Research Reserve', boundary, 60, 70)"
   ]
  }
 ],
 "metadata": {
  "kernelspec": {
   "display_name": "Python 3 (ipykernel)",
   "language": "python",
   "name": "python3"
  },
  "language_info": {
   "codemirror_mode": {
    "name": "ipython",
    "version": 3
   },
   "file_extension": ".py",
   "mimetype": "text/x-python",
   "name": "python",
   "nbconvert_exporter": "python",
   "pygments_lexer": "ipython3",
   "version": "3.9.16"
  }
 },
 "nbformat": 4,
 "nbformat_minor": 5
}
